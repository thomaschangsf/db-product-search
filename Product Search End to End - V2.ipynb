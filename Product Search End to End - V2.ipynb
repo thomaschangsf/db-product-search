{
 "cells": [
  {
   "cell_type": "markdown",
   "id": "850862a2",
   "metadata": {},
   "source": [
    "# 0 Background\n",
    "- Notebook showcases semantic search for Wayfair's WAND product data set\n",
    "- Leverages\n",
    "    1. *SetenceTransformer* to get embedding\n",
    "    2. *Langchain* integration to vector ChromaDB\n",
    "    3. *PySpark* data processing\n",
    "    4. *MLFlow* experimentation and model deployment workflow\n",
    "    \n",
    "- [source github](https://github.com/thomaschangsf/db-product-search)"
   ]
  },
  {
   "cell_type": "code",
   "execution_count": null,
   "id": "c8bab9e2",
   "metadata": {},
   "outputs": [],
   "source": []
  },
  {
   "cell_type": "markdown",
   "id": "19dbc88e",
   "metadata": {},
   "source": [
    "# 1 Setup\n",
    "- Installed pyspark dependencies: [spark ref](https://spark.apache.org/docs/latest/api/python/getting_started/install.html)\n",
    "\n",
    "- start notebook via terminal cmd: pyspark "
   ]
  },
  {
   "cell_type": "code",
   "execution_count": 3,
   "id": "f624f62d",
   "metadata": {},
   "outputs": [
    {
     "name": "stdout",
     "output_type": "stream",
     "text": [
      "23/05/05 09:11:05 WARN SparkSession: Using an existing Spark session; only runtime SQL configurations will take effect.\n"
     ]
    },
    {
     "data": {
      "text/html": [
       "\n",
       "            <div>\n",
       "                <p><b>SparkSession - hive</b></p>\n",
       "                \n",
       "        <div>\n",
       "            <p><b>SparkContext</b></p>\n",
       "\n",
       "            <p><a href=\"http://localhost:4040\">Spark UI</a></p>\n",
       "\n",
       "            <dl>\n",
       "              <dt>Version</dt>\n",
       "                <dd><code>v3.3.1</code></dd>\n",
       "              <dt>Master</dt>\n",
       "                <dd><code>local[*]</code></dd>\n",
       "              <dt>AppName</dt>\n",
       "                <dd><code>PySparkShell</code></dd>\n",
       "            </dl>\n",
       "        </div>\n",
       "        \n",
       "            </div>\n",
       "        "
      ],
      "text/plain": [
       "<pyspark.sql.session.SparkSession at 0x109d05790>"
      ]
     },
     "execution_count": 3,
     "metadata": {},
     "output_type": "execute_result"
    }
   ],
   "source": [
    "# Create SparkSession from builder\n",
    "import pyspark\n",
    "from pyspark.sql import SparkSession\n",
    "spark = SparkSession.builder.master(\"local[1]\") \\\n",
    "                    .appName('Scalling_ml_with_spark') \\\n",
    "                    .getOrCreate()\n",
    "\n",
    "from pyspark.sql.types import *\n",
    "import pyspark.sql.functions as fn\n",
    "\n",
    "import os\n",
    "\n",
    "spark"
   ]
  },
  {
   "cell_type": "code",
   "execution_count": 4,
   "id": "a3ca9a86",
   "metadata": {},
   "outputs": [
    {
     "name": "stdout",
     "output_type": "stream",
     "text": [
      "23/05/05 09:11:09 WARN ObjectStore: Failed to get database global_temp, returning NoSuchObjectException\n"
     ]
    },
    {
     "data": {
      "text/plain": [
       "DataFrame[namespace: string, tableName: string, isTemporary: boolean]"
      ]
     },
     "execution_count": 4,
     "metadata": {},
     "output_type": "execute_result"
    }
   ],
   "source": [
    "spark.sql(\"SHOW TABLES;\")"
   ]
  },
  {
   "cell_type": "markdown",
   "id": "fe19fe1b",
   "metadata": {},
   "source": [
    "# 2 Intro and Config.py\n",
    "- Based on 00_Introl_and_Config.py"
   ]
  },
  {
   "cell_type": "code",
   "execution_count": 31,
   "id": "245549b5",
   "metadata": {},
   "outputs": [
    {
     "name": "stdout",
     "output_type": "stream",
     "text": [
      "/Users/thomaschang/git/thomaschangsf/db-product-search\n"
     ]
    }
   ],
   "source": [
    "%cd .."
   ]
  },
  {
   "cell_type": "code",
   "execution_count": 32,
   "id": "5f190ad5",
   "metadata": {},
   "outputs": [
    {
     "name": "stdout",
     "output_type": "stream",
     "text": [
      "/Users/thomaschang/git/thomaschangsf/db-product-search\r\n"
     ]
    }
   ],
   "source": [
    "!echo {os.getcwd()}"
   ]
  },
  {
   "cell_type": "code",
   "execution_count": 4,
   "id": "12746d84",
   "metadata": {},
   "outputs": [
    {
     "data": {
      "text/plain": [
       "'/Users/thomaschang/git/thomaschangsf/db-product-search'"
      ]
     },
     "execution_count": 4,
     "metadata": {},
     "output_type": "execute_result"
    }
   ],
   "source": [
    "os.getcwd()"
   ]
  },
  {
   "cell_type": "code",
   "execution_count": 5,
   "id": "42a07a32",
   "metadata": {},
   "outputs": [
    {
     "name": "stdout",
     "output_type": "stream",
     "text": [
      "WORKDIR=/Users/thomaschang/git/thomaschangsf/db-product-search/work-dir\n"
     ]
    },
    {
     "data": {
      "text/plain": [
       "{'database': 'wands',\n",
       " 'dbfs_path': '/Users/thomaschang/git/thomaschangsf/db-product-search/work-dir/wands',\n",
       " 'WANDS_DOWNLOADS_PATH': '/Users/thomaschang/git/thomaschangsf/db-product-search/work-dir/wands/downloads',\n",
       " 'WANDS_WAREHOUSE_PATH': '/Users/thomaschang/git/thomaschangsf/db-product-search/spark-warehouse/wands.db',\n",
       " 'WANDS_MODEL_PATH': '/Users/thomaschang/git/thomaschangsf/db-product-search/work-dir/models',\n",
       " 'basic_model_name': 'wands_basic_search',\n",
       " 'tuned_model_name': 'wands_tuned_search',\n",
       " 'mlflow_path': '/Users/thomaschang/git/thomaschangsf/db-product-search/work-dir/mlflow/experiments/'}"
      ]
     },
     "execution_count": 5,
     "metadata": {},
     "output_type": "execute_result"
    }
   ],
   "source": [
    "\n",
    "if 'config' not in locals().keys():\n",
    "  config = {}\n",
    "\n",
    "config['database'] = 'wands'\n",
    "\n",
    "# create database if not exists\n",
    "_ = spark.sql('create database if not exists {0}'.format(config['database']))\n",
    "\n",
    "# set current datebase context\n",
    "_ = spark.catalog.setCurrentDatabase(config['database'])\n",
    "\n",
    "\n",
    "# use this if we started notebook via venv/bin/pyspark\n",
    "WORKDIR=f\"{os.getcwd()}/work-dir\"\n",
    "print(f\"WORKDIR={WORKDIR}\")\n",
    "\n",
    "\n",
    "# below is only true if we run from docker\n",
    "# os.getenv('HOME') is /home/jovyan bc jupyter started with this command\n",
    "# docker run -it --memory=\"28g\" --memory-swap=\"30g\"  -p 8888:8888 --mount type=bind,source=$(pwd),target=/home/jovyan adipolak/ml-with-apache-spark\n",
    "# WORKDIR=f\"{os.getenv('HOME')}/db-product-search/work-dir\"\n",
    "\n",
    "\n",
    "# DB\n",
    "config['dbfs_path'] = f'{WORKDIR}/wands'\n",
    "config['WANDS_DOWNLOADS_PATH'] = config['dbfs_path'] + '/downloads'\n",
    "# SPARK-WAREHOUSE\n",
    "SPARK_WAREHOUSE_DIR=f\"{os.getcwd()}/spark-warehouse/wands.db\"\n",
    "config['WANDS_WAREHOUSE_PATH'] = SPARK_WAREHOUSE_DIR\n",
    "\n",
    "\n",
    "# Models\n",
    "config['WANDS_MODEL_PATH'] = WORKDIR + '/models'\n",
    "config['basic_model_name'] = 'wands_basic_search'\n",
    "config['tuned_model_name'] = 'wands_tuned_search'\n",
    "\n",
    "# MFLOW\n",
    "import mlflow\n",
    "config['mlflow_path'] = f\"{WORKDIR}/mlflow/experiments/\"\n",
    "mlflow.set_experiment(config['mlflow_path'])\n",
    "\n",
    "\n",
    "config\n",
    "\n"
   ]
  },
  {
   "cell_type": "markdown",
   "id": "1f46743e",
   "metadata": {},
   "source": [
    "# 3 Data Prep\n",
    "- Based on 01_data_Prep.py"
   ]
  },
  {
   "cell_type": "markdown",
   "id": "33cb0a50",
   "metadata": {},
   "source": [
    "### 3.1 Download raw data \n",
    "- to config[WANDS_DOWNLOADS_PATH]"
   ]
  },
  {
   "cell_type": "code",
   "execution_count": 8,
   "id": "cbb2fb34",
   "metadata": {},
   "outputs": [
    {
     "name": "stdout",
     "output_type": "stream",
     "text": [
      "~/git/thomaschangsf/db-product-search/work-dir/wands/downloads ~/git/thomaschangsf/db-product-search\r\n"
     ]
    },
    {
     "data": {
      "text/plain": [
       "{'database': 'wands',\n",
       " 'dbfs_path': '/Users/thomaschang/git/thomaschangsf/db-product-search/work-dir/wands',\n",
       " 'WANDS_DOWNLOADS_PATH': '/Users/thomaschang/git/thomaschangsf/db-product-search/work-dir/wands/downloads',\n",
       " 'WANDS_MODEL_PATH': '/Users/thomaschang/git/thomaschangsf/db-product-search/work-dir/models',\n",
       " 'basic_model_name': 'wands_basic_search',\n",
       " 'tuned_model_name': 'wands_tuned_search',\n",
       " 'mlflow_path': '/Users/thomaschang/git/thomaschangsf/db-product-search/work-dir/mlflow/experiments/'}"
      ]
     },
     "execution_count": 8,
     "metadata": {},
     "output_type": "execute_result"
    }
   ],
   "source": [
    "!rm -rf {config['WANDS_DOWNLOADS_PATH']}\n",
    "!mkdir -p {config['WANDS_DOWNLOADS_PATH']}\n",
    "!pushd {config['WANDS_DOWNLOADS_PATH']}\n",
    "\n",
    "config"
   ]
  },
  {
   "cell_type": "code",
   "execution_count": 11,
   "id": "c28d4f9e",
   "metadata": {},
   "outputs": [
    {
     "name": "stdout",
     "output_type": "stream",
     "text": [
      "/Users/thomaschang/git/thomaschangsf/db-product-search/work-dir/wands/downloads\n",
      "Download label.csv\n",
      "Download product\n",
      "Download query\n"
     ]
    }
   ],
   "source": [
    "%cd {config['WANDS_DOWNLOADS_PATH']}\n",
    "\n",
    "!echo \"Download label.csv\"\n",
    "!wget -q https://raw.githubusercontent.com/wayfair/WANDS/main/dataset/label.csv\n",
    "\n",
    "!echo \"Download product\"\n",
    "!wget -q https://raw.githubusercontent.com/wayfair/WANDS/main/dataset/product.csv\n",
    "\n",
    "!echo \"Download query\"\n",
    "!wget -q https://raw.githubusercontent.com/wayfair/WANDS/main/dataset/query.csv\n",
    "\n",
    "%popd"
   ]
  },
  {
   "cell_type": "markdown",
   "id": "c6a1cde0",
   "metadata": {},
   "source": [
    "### 3.2 Read into spark"
   ]
  },
  {
   "cell_type": "code",
   "execution_count": 12,
   "id": "6e5f62fb",
   "metadata": {},
   "outputs": [],
   "source": [
    "from pyspark.sql.types import *\n",
    "import pyspark.sql.functions as fn\n",
    "\n",
    "import os"
   ]
  },
  {
   "cell_type": "markdown",
   "id": "a3017647",
   "metadata": {},
   "source": [
    "#### Clean all previous tables"
   ]
  },
  {
   "cell_type": "code",
   "execution_count": 34,
   "id": "5a9e70f1",
   "metadata": {},
   "outputs": [
    {
     "name": "stdout",
     "output_type": "stream",
     "text": [
      "\u001b[34mlabels\u001b[m\u001b[m   \u001b[34mproducts\u001b[m\u001b[m \u001b[34mqueries\u001b[m\u001b[m\r\n"
     ]
    }
   ],
   "source": [
    "!ls {config['WANDS_WAREHOUSE_PATH']}"
   ]
  },
  {
   "cell_type": "code",
   "execution_count": 22,
   "id": "4b01ace0",
   "metadata": {},
   "outputs": [],
   "source": [
    "!rm -rf {os.getcwd()}/spark-warehouse/wands.db/*"
   ]
  },
  {
   "cell_type": "markdown",
   "id": "89bbb428",
   "metadata": {},
   "source": [
    "#### Process Product\n",
    "- saves to spark-warehouse/wands.db/products/*.parquet"
   ]
  },
  {
   "cell_type": "code",
   "execution_count": 9,
   "id": "63948b90",
   "metadata": {},
   "outputs": [
    {
     "name": "stderr",
     "output_type": "stream",
     "text": [
      "\r",
      "[Stage 0:>                                                        (0 + 16) / 16]\r"
     ]
    },
    {
     "name": "stdout",
     "output_type": "stream",
     "text": [
      "23/05/05 09:12:12 WARN MemoryManager: Total allocation exceeds 95.00% (1,020,054,720 bytes) of heap memory\n",
      "Scaling row group sizes to 95.00% for 8 writers\n",
      "23/05/05 09:12:12 WARN MemoryManager: Total allocation exceeds 95.00% (1,020,054,720 bytes) of heap memory\n",
      "Scaling row group sizes to 84.44% for 9 writers\n",
      "23/05/05 09:12:12 WARN MemoryManager: Total allocation exceeds 95.00% (1,020,054,720 bytes) of heap memory\n",
      "Scaling row group sizes to 76.00% for 10 writers\n",
      "23/05/05 09:12:12 WARN MemoryManager: Total allocation exceeds 95.00% (1,020,054,720 bytes) of heap memory\n",
      "Scaling row group sizes to 69.09% for 11 writers\n",
      "23/05/05 09:12:12 WARN MemoryManager: Total allocation exceeds 95.00% (1,020,054,720 bytes) of heap memory\n",
      "Scaling row group sizes to 63.33% for 12 writers\n",
      "23/05/05 09:12:12 WARN MemoryManager: Total allocation exceeds 95.00% (1,020,054,720 bytes) of heap memory\n",
      "Scaling row group sizes to 58.46% for 13 writers\n",
      "23/05/05 09:12:12 WARN MemoryManager: Total allocation exceeds 95.00% (1,020,054,720 bytes) of heap memory\n",
      "Scaling row group sizes to 54.29% for 14 writers\n",
      "23/05/05 09:12:12 WARN MemoryManager: Total allocation exceeds 95.00% (1,020,054,720 bytes) of heap memory\n",
      "Scaling row group sizes to 50.67% for 15 writers\n",
      "23/05/05 09:12:12 WARN MemoryManager: Total allocation exceeds 95.00% (1,020,054,720 bytes) of heap memory\n",
      "Scaling row group sizes to 47.50% for 16 writers\n",
      "23/05/05 09:12:12 WARN CSVHeaderChecker: CSV header does not conform to the schema.\n",
      " Header: product_id, product_name, product_class, category hierarchy, product_description, product_features, rating_count, average_rating, review_count\n",
      " Schema: product_id, product_name, product_class, category_hierarchy, product_description, product_features, rating_count, average_rating, review_count\n",
      "Expected: category_hierarchy but found: category hierarchy\n",
      "CSV file: file:///Users/thomaschang/git/thomaschangsf/db-product-search/work-dir/wands/downloads/product.csv\n",
      "23/05/05 09:12:13 WARN MemoryManager: Total allocation exceeds 95.00% (1,020,054,720 bytes) of heap memory\n",
      "Scaling row group sizes to 50.67% for 15 writers\n",
      "23/05/05 09:12:13 WARN MemoryManager: Total allocation exceeds 95.00% (1,020,054,720 bytes) of heap memory\n",
      "Scaling row group sizes to 54.29% for 14 writers\n",
      "23/05/05 09:12:13 WARN MemoryManager: Total allocation exceeds 95.00% (1,020,054,720 bytes) of heap memory\n",
      "Scaling row group sizes to 58.46% for 13 writers\n",
      "23/05/05 09:12:13 WARN MemoryManager: Total allocation exceeds 95.00% (1,020,054,720 bytes) of heap memory\n",
      "Scaling row group sizes to 63.33% for 12 writers\n",
      "23/05/05 09:12:13 WARN MemoryManager: Total allocation exceeds 95.00% (1,020,054,720 bytes) of heap memory\n",
      "Scaling row group sizes to 69.09% for 11 writers\n",
      "23/05/05 09:12:13 WARN MemoryManager: Total allocation exceeds 95.00% (1,020,054,720 bytes) of heap memory\n",
      "Scaling row group sizes to 76.00% for 10 writers\n",
      "23/05/05 09:12:13 WARN MemoryManager: Total allocation exceeds 95.00% (1,020,054,720 bytes) of heap memory\n",
      "Scaling row group sizes to 84.44% for 9 writers\n",
      "23/05/05 09:12:13 WARN MemoryManager: Total allocation exceeds 95.00% (1,020,054,720 bytes) of heap memory\n",
      "Scaling row group sizes to 95.00% for 8 writers\n"
     ]
    },
    {
     "name": "stderr",
     "output_type": "stream",
     "text": [
      "\r",
      "                                                                                \r"
     ]
    },
    {
     "name": "stdout",
     "output_type": "stream",
     "text": [
      "23/05/05 09:12:14 WARN SessionState: METASTORE_FILTER_HOOK will be ignored, since hive.security.authorization.manager is set to instance of HiveAuthorizerFactory.\n",
      "23/05/05 09:12:14 WARN HiveConf: HiveConf of name hive.internal.ss.authz.settings.applied.marker does not exist\n",
      "23/05/05 09:12:14 WARN HiveConf: HiveConf of name hive.stats.jdbc.timeout does not exist\n",
      "23/05/05 09:12:14 WARN HiveConf: HiveConf of name hive.stats.retries.wait does not exist\n"
     ]
    },
    {
     "data": {
      "text/plain": [
       "DataFrame[product_id: int, product_name: string, product_class: string, category_hierarchy: string, product_description: string, product_features: string, rating_count: float, average_rating: float, review_count: float]"
      ]
     },
     "metadata": {},
     "output_type": "display_data"
    }
   ],
   "source": [
    "products_schema = StructType([\n",
    "  StructField('product_id', IntegerType()),\n",
    "  StructField('product_name', StringType()),\n",
    "  StructField('product_class', StringType()),\n",
    "  StructField('category_hierarchy', StringType()),\n",
    "  StructField('product_description', StringType()),\n",
    "  StructField('product_features', StringType()),\n",
    "  StructField('rating_count', FloatType()),\n",
    "  StructField('average_rating', FloatType()),\n",
    "  StructField('review_count', FloatType())\n",
    "  ])\n",
    "\n",
    "_ = (\n",
    "  spark\n",
    "    .read\n",
    "      .csv(\n",
    "        path=f\"{config['WANDS_DOWNLOADS_PATH']}/product.csv\",\n",
    "        sep='\\t',\n",
    "        header=True,\n",
    "        schema=products_schema\n",
    "        )\n",
    "    .write\n",
    "      .format('parquet')\n",
    "      #.format('delta')\n",
    "      .mode('overwrite')\n",
    "      .option('overwriteSchema','true')\n",
    "      .saveAsTable('products')\n",
    "  )\n",
    "\n",
    "display(spark.table('products'))\n"
   ]
  },
  {
   "cell_type": "markdown",
   "id": "9652e185",
   "metadata": {},
   "source": [
    "#### Process Query"
   ]
  },
  {
   "cell_type": "code",
   "execution_count": 10,
   "id": "dff201d0",
   "metadata": {},
   "outputs": [
    {
     "data": {
      "text/plain": [
       "DataFrame[query_id: int, query: string, query_class: string]"
      ]
     },
     "metadata": {},
     "output_type": "display_data"
    }
   ],
   "source": [
    "queries_schema = StructType([\n",
    "  StructField('query_id', IntegerType()),\n",
    "  StructField('query', StringType()),\n",
    "  StructField('query_class', StringType())\n",
    "  ])\n",
    "\n",
    "_ = (\n",
    "  spark\n",
    "    .read\n",
    "    .csv(\n",
    "      path=f\"{config['WANDS_DOWNLOADS_PATH']}/query.csv\",\n",
    "      sep='\\t',\n",
    "      header=True,\n",
    "      schema=queries_schema\n",
    "      )\n",
    "    .write\n",
    "      .format('parquet')\n",
    "      .mode('overwrite')\n",
    "      .option('overwriteSchema','true')\n",
    "      .saveAsTable('queries')\n",
    "  )\n",
    "\n",
    "display(\n",
    "  spark.table('queries')\n",
    "  )"
   ]
  },
  {
   "cell_type": "markdown",
   "id": "e6439625",
   "metadata": {},
   "source": [
    "#### Process Labels"
   ]
  },
  {
   "cell_type": "code",
   "execution_count": 11,
   "id": "231b1034",
   "metadata": {},
   "outputs": [
    {
     "data": {
      "text/plain": [
       "DataFrame[id: int, query_id: int, product_id: int, label: string]"
      ]
     },
     "metadata": {},
     "output_type": "display_data"
    }
   ],
   "source": [
    "labels_schema = StructType([\n",
    "  StructField('id', IntegerType()),\n",
    "  StructField('query_id', IntegerType()),\n",
    "  StructField('product_id', IntegerType()),\n",
    "  StructField('label', StringType())\n",
    "  ])\n",
    "\n",
    "_ = (\n",
    "  spark\n",
    "    .read\n",
    "    .csv(\n",
    "      path=f\"{config['WANDS_DOWNLOADS_PATH']}/label.csv\",\n",
    "      sep='\\t',\n",
    "      header=True,\n",
    "      schema=labels_schema\n",
    "      )\n",
    "    .write\n",
    "      .format('parquet')\n",
    "      .mode('overwrite')\n",
    "      .option('overwriteSchema','true')\n",
    "      .saveAsTable('labels')\n",
    "  )\n",
    "\n",
    "display(spark.table('labels'))"
   ]
  },
  {
   "cell_type": "code",
   "execution_count": 12,
   "id": "c9e7e4c3",
   "metadata": {},
   "outputs": [
    {
     "name": "stdout",
     "output_type": "stream",
     "text": [
      "+---+--------+----------+----------+\n",
      "| id|query_id|product_id|     label|\n",
      "+---+--------+----------+----------+\n",
      "|  0|       0|     25434|     Exact|\n",
      "|  1|       0|     12088|Irrelevant|\n",
      "+---+--------+----------+----------+\n",
      "only showing top 2 rows\n",
      "\n"
     ]
    }
   ],
   "source": [
    "spark.table('labels').show(2)\n"
   ]
  },
  {
   "cell_type": "code",
   "execution_count": 13,
   "id": "f76ccebf",
   "metadata": {},
   "outputs": [
    {
     "name": "stdout",
     "output_type": "stream",
     "text": [
      "+---+--------+----------+----------+-----------+\n",
      "| id|query_id|product_id|     label|label_score|\n",
      "+---+--------+----------+----------+-----------+\n",
      "|  0|       0|     25434|     Exact|       null|\n",
      "|  1|       0|     12088|Irrelevant|       null|\n",
      "+---+--------+----------+----------+-----------+\n",
      "only showing top 2 rows\n",
      "\n"
     ]
    }
   ],
   "source": [
    "if 'label_score' not in spark.table('labels').columns:\n",
    "  _ = spark.sql('ALTER TABLE labels ADD COLUMN label_score FLOAT')\n",
    "\n",
    "df_label = spark.table('labels')\n",
    "df_label.show(2)"
   ]
  },
  {
   "cell_type": "code",
   "execution_count": 14,
   "id": "8e1165ff",
   "metadata": {},
   "outputs": [
    {
     "name": "stdout",
     "output_type": "stream",
     "text": [
      "+---+--------+----------+----------+-----------+\n",
      "| id|query_id|product_id|     label|label_score|\n",
      "+---+--------+----------+----------+-----------+\n",
      "|  0|       0|     25434|     Exact|        1.0|\n",
      "|  1|       0|     12088|Irrelevant|        0.0|\n",
      "+---+--------+----------+----------+-----------+\n",
      "only showing top 2 rows\n",
      "\n"
     ]
    }
   ],
   "source": [
    "from pyspark.sql.functions import when,col\n",
    "\n",
    "\n",
    "### Sql update does not work because it needs delta lake\n",
    "#spark.sql(\"\"\"\n",
    "#UPDATE labels\n",
    "#SET label_score = \n",
    "#  CASE lower(label)\n",
    "#        WHEN 'Exact' THEN 1.0\n",
    "#        WHEN 'Partial' THEN 0.75\n",
    "#        WHEN 'Irrelevant' THEN 0.0\n",
    "#        ELSE NULL\n",
    "#        END;\n",
    "#\"\"\")\n",
    "\n",
    "df_label = df_label.withColumn(\"label_score\", when(df_label.label == \"Exact\", 1.0)\\\n",
    "                                               .when(df_label.label == \"Partial\", 0.75)\\\n",
    "                                               .when(df_label.label == \"Irrelevant\", 0.0)\\\n",
    "                                               .when(df_label.label == \"Exact\", 1.0)\\\n",
    "                                               .otherwise(col(\"label_score\")))\n",
    "\n",
    "df_label.show(2)"
   ]
  },
  {
   "cell_type": "code",
   "execution_count": null,
   "id": "58121bdd",
   "metadata": {},
   "outputs": [],
   "source": []
  },
  {
   "cell_type": "markdown",
   "id": "ad2f5f3a",
   "metadata": {},
   "source": [
    "# 4 Define Basic Search\n",
    "- based on 02_Define_Basic_Searc.py\n",
    "\n",
    "\n",
    "1. Create DF that joins product columns\n",
    "2. Use sentence transformer to create embedding\n",
    "3. Use langChain vector db connector to load\n",
    "4. Analysis: correlation(cosine similarity, label score)"
   ]
  },
  {
   "cell_type": "markdown",
   "id": "b2aa50b1",
   "metadata": {},
   "source": [
    "## 4.0 Load libraries"
   ]
  },
  {
   "cell_type": "code",
   "execution_count": 35,
   "id": "6d3acdc9",
   "metadata": {},
   "outputs": [
    {
     "name": "stdout",
     "output_type": "stream",
     "text": [
      "Looking in indexes: https://pypi.org/simple, https://pypi.ngc.nvidia.com\n",
      "Collecting langchain\n",
      "  Downloading langchain-0.0.157-py3-none-any.whl (727 kB)\n",
      "\u001b[2K     \u001b[38;2;114;156;31m━━━━━━━━━━━━━━━━━━━━━━━━━━━━━━━━━━━━━━━\u001b[0m \u001b[32m727.6/727.6 kB\u001b[0m \u001b[31m1.9 MB/s\u001b[0m eta \u001b[36m0:00:00\u001b[0m MB/s\u001b[0m eta \u001b[36m0:00:01\u001b[0m:01\u001b[0m\n",
      "\u001b[?25hCollecting chromadb\n",
      "  Downloading chromadb-0.3.21-py3-none-any.whl (46 kB)\n",
      "\u001b[2K     \u001b[38;2;114;156;31m━━━━━━━━━━━━━━━━━━━━━━━━━━━━━━━━━━━━━━━━\u001b[0m \u001b[32m46.4/46.4 kB\u001b[0m \u001b[31m2.6 MB/s\u001b[0m eta \u001b[36m0:00:00\u001b[0m\n",
      "\u001b[?25hRequirement already satisfied: PyYAML>=5.4.1 in /Users/thomaschang/git/venv/lib/python3.9/site-packages (from langchain) (6.0)\n",
      "Requirement already satisfied: SQLAlchemy<3,>=1.3 in /Users/thomaschang/git/venv/lib/python3.9/site-packages (from langchain) (2.0.12)\n",
      "Collecting aiohttp<4.0.0,>=3.8.3 (from langchain)\n",
      "  Downloading aiohttp-3.8.4-cp39-cp39-macosx_10_9_x86_64.whl (360 kB)\n",
      "\u001b[2K     \u001b[38;2;114;156;31m━━━━━━━━━━━━━━━━━━━━━━━━━━━━━━━━━━━━━━━\u001b[0m \u001b[32m360.3/360.3 kB\u001b[0m \u001b[31m2.2 MB/s\u001b[0m eta \u001b[36m0:00:00\u001b[0m MB/s\u001b[0m eta \u001b[36m0:00:01\u001b[0m:01\u001b[0m\n",
      "\u001b[?25hCollecting async-timeout<5.0.0,>=4.0.0 (from langchain)\n",
      "  Downloading async_timeout-4.0.2-py3-none-any.whl (5.8 kB)\n",
      "Collecting dataclasses-json<0.6.0,>=0.5.7 (from langchain)\n",
      "  Downloading dataclasses_json-0.5.7-py3-none-any.whl (25 kB)\n",
      "Collecting numexpr<3.0.0,>=2.8.4 (from langchain)\n",
      "  Downloading numexpr-2.8.4-cp39-cp39-macosx_10_9_x86_64.whl (99 kB)\n",
      "\u001b[2K     \u001b[38;2;114;156;31m━━━━━━━━━━━━━━━━━━━━━━━━━━━━━━━━━━━━━━━━\u001b[0m \u001b[32m99.9/99.9 kB\u001b[0m \u001b[31m2.2 MB/s\u001b[0m eta \u001b[36m0:00:00\u001b[0m[31m2.0 MB/s\u001b[0m eta \u001b[36m0:00:01\u001b[0m\n",
      "\u001b[?25hRequirement already satisfied: numpy<2,>=1 in /Users/thomaschang/git/venv/lib/python3.9/site-packages (from langchain) (1.24.3)\n",
      "Collecting openapi-schema-pydantic<2.0,>=1.2 (from langchain)\n",
      "  Downloading openapi_schema_pydantic-1.2.4-py3-none-any.whl (90 kB)\n",
      "\u001b[2K     \u001b[38;2;114;156;31m━━━━━━━━━━━━━━━━━━━━━━━━━━━━━━━━━━━━━━━━\u001b[0m \u001b[32m90.0/90.0 kB\u001b[0m \u001b[31m1.8 MB/s\u001b[0m eta \u001b[36m0:00:00\u001b[0m MB/s\u001b[0m eta \u001b[36m0:00:01\u001b[0m\n",
      "\u001b[?25hCollecting pydantic<2,>=1 (from langchain)\n",
      "  Downloading pydantic-1.10.7-cp39-cp39-macosx_10_9_x86_64.whl (2.9 MB)\n",
      "\u001b[2K     \u001b[38;2;114;156;31m━━━━━━━━━━━━━━━━━━━━━━━━━━━━━━━━━━━━━━━━\u001b[0m \u001b[32m2.9/2.9 MB\u001b[0m \u001b[31m1.6 MB/s\u001b[0m eta \u001b[36m0:00:00\u001b[0m[36m0:00:01\u001b[0mm eta \u001b[36m0:00:01\u001b[0m0m\n",
      "\u001b[?25hRequirement already satisfied: requests<3,>=2 in /Users/thomaschang/git/venv/lib/python3.9/site-packages (from langchain) (2.29.0)\n",
      "Collecting tenacity<9.0.0,>=8.1.0 (from langchain)\n",
      "  Downloading tenacity-8.2.2-py3-none-any.whl (24 kB)\n",
      "Collecting tqdm>=4.48.0 (from langchain)\n",
      "  Downloading tqdm-4.65.0-py3-none-any.whl (77 kB)\n",
      "\u001b[2K     \u001b[38;2;114;156;31m━━━━━━━━━━━━━━━━━━━━━━━━━━━━━━━━━━━━━━━━\u001b[0m \u001b[32m77.1/77.1 kB\u001b[0m \u001b[31m2.2 MB/s\u001b[0m eta \u001b[36m0:00:00\u001b[0m MB/s\u001b[0m eta \u001b[36m0:00:01\u001b[0m\n",
      "\u001b[?25hRequirement already satisfied: pandas>=1.3 in /Users/thomaschang/git/venv/lib/python3.9/site-packages (from chromadb) (2.0.1)\n",
      "Collecting hnswlib>=0.7 (from chromadb)\n",
      "  Downloading hnswlib-0.7.0.tar.gz (33 kB)\n",
      "  Installing build dependencies ... \u001b[?25ldone\n",
      "\u001b[?25h  Getting requirements to build wheel ... \u001b[?25ldone\n",
      "\u001b[?25h  Preparing metadata (pyproject.toml) ... \u001b[?25ldone\n",
      "\u001b[?25hCollecting clickhouse-connect>=0.5.7 (from chromadb)\n",
      "  Downloading clickhouse_connect-0.5.23-cp39-cp39-macosx_10_9_x86_64.whl (236 kB)\n",
      "\u001b[2K     \u001b[38;2;114;156;31m━━━━━━━━━━━━━━━━━━━━━━━━━━━━━━━━━━━━━━━\u001b[0m \u001b[32m236.5/236.5 kB\u001b[0m \u001b[31m1.7 MB/s\u001b[0m eta \u001b[36m0:00:00\u001b[0m[31m1.8 MB/s\u001b[0m eta \u001b[36m0:00:01\u001b[0m\n",
      "\u001b[?25hCollecting sentence-transformers>=2.2.2 (from chromadb)\n",
      "  Downloading sentence-transformers-2.2.2.tar.gz (85 kB)\n",
      "\u001b[2K     \u001b[38;2;114;156;31m━━━━━━━━━━━━━━━━━━━━━━━━━━━━━━━━━━━━━━━━\u001b[0m \u001b[32m86.0/86.0 kB\u001b[0m \u001b[31m1.6 MB/s\u001b[0m eta \u001b[36m0:00:00\u001b[0m[31m1.8 MB/s\u001b[0m eta \u001b[36m0:00:01\u001b[0m\n",
      "\u001b[?25h  Installing build dependencies ... \u001b[?25ldone\n",
      "\u001b[?25h  Getting requirements to build wheel ... \u001b[?25ldone\n",
      "\u001b[?25h  Preparing metadata (pyproject.toml) ... \u001b[?25ldone\n",
      "\u001b[?25hCollecting duckdb>=0.7.1 (from chromadb)\n",
      "  Downloading duckdb-0.7.1-cp39-cp39-macosx_10_9_x86_64.whl (14.6 MB)\n",
      "\u001b[2K     \u001b[38;2;114;156;31m━━━━━━━━━━━━━━━━━━━━━━━━━━━━━━━━━━━━━━━\u001b[0m \u001b[32m14.6/14.6 MB\u001b[0m \u001b[31m787.4 kB/s\u001b[0m eta \u001b[36m0:00:00\u001b[0mm eta \u001b[36m0:00:01\u001b[0m[36m0:00:01\u001b[0m\n",
      "\u001b[?25hCollecting fastapi>=0.85.1 (from chromadb)\n",
      "  Downloading fastapi-0.95.1-py3-none-any.whl (56 kB)\n",
      "\u001b[2K     \u001b[38;2;114;156;31m━━━━━━━━━━━━━━━━━━━━━━━━━━━━━━━━━━━━━━━━\u001b[0m \u001b[32m57.0/57.0 kB\u001b[0m \u001b[31m2.1 MB/s\u001b[0m eta \u001b[36m0:00:00\u001b[0m0m eta \u001b[36m-:--:--\u001b[0m\n",
      "\u001b[?25hCollecting uvicorn[standard]>=0.18.3 (from chromadb)\n",
      "  Downloading uvicorn-0.22.0-py3-none-any.whl (58 kB)\n",
      "\u001b[2K     \u001b[38;2;114;156;31m━━━━━━━━━━━━━━━━━━━━━━━━━━━━━━━━━━━━━━━━\u001b[0m \u001b[32m58.3/58.3 kB\u001b[0m \u001b[31m2.6 MB/s\u001b[0m eta \u001b[36m0:00:00\u001b[0m\n",
      "\u001b[?25hCollecting posthog>=2.4.0 (from chromadb)\n",
      "  Downloading posthog-3.0.1-py2.py3-none-any.whl (37 kB)\n",
      "Requirement already satisfied: attrs>=17.3.0 in /Users/thomaschang/git/venv/lib/python3.9/site-packages (from aiohttp<4.0.0,>=3.8.3->langchain) (23.1.0)\n",
      "Requirement already satisfied: charset-normalizer<4.0,>=2.0 in /Users/thomaschang/git/venv/lib/python3.9/site-packages (from aiohttp<4.0.0,>=3.8.3->langchain) (3.1.0)\n",
      "Collecting multidict<7.0,>=4.5 (from aiohttp<4.0.0,>=3.8.3->langchain)\n",
      "  Downloading multidict-6.0.4-cp39-cp39-macosx_10_9_x86_64.whl (29 kB)\n",
      "Collecting yarl<2.0,>=1.0 (from aiohttp<4.0.0,>=3.8.3->langchain)\n",
      "  Downloading yarl-1.9.2-cp39-cp39-macosx_10_9_x86_64.whl (65 kB)\n",
      "\u001b[2K     \u001b[38;2;114;156;31m━━━━━━━━━━━━━━━━━━━━━━━━━━━━━━━━━━━━━━━\u001b[0m \u001b[32m65.9/65.9 kB\u001b[0m \u001b[31m446.8 kB/s\u001b[0m eta \u001b[36m0:00:00\u001b[0m kB/s\u001b[0m eta \u001b[36m0:00:01\u001b[0m\n",
      "\u001b[?25hCollecting frozenlist>=1.1.1 (from aiohttp<4.0.0,>=3.8.3->langchain)\n",
      "  Downloading frozenlist-1.3.3-cp39-cp39-macosx_10_9_x86_64.whl (36 kB)\n",
      "Collecting aiosignal>=1.1.2 (from aiohttp<4.0.0,>=3.8.3->langchain)\n",
      "  Downloading aiosignal-1.3.1-py3-none-any.whl (7.6 kB)\n",
      "Requirement already satisfied: certifi in /Users/thomaschang/git/venv/lib/python3.9/site-packages (from clickhouse-connect>=0.5.7->chromadb) (2022.12.7)\n",
      "Requirement already satisfied: urllib3>=1.26 in /Users/thomaschang/git/venv/lib/python3.9/site-packages (from clickhouse-connect>=0.5.7->chromadb) (1.26.15)\n",
      "Requirement already satisfied: pytz in /Users/thomaschang/git/venv/lib/python3.9/site-packages (from clickhouse-connect>=0.5.7->chromadb) (2023.3)\n",
      "Collecting zstandard (from clickhouse-connect>=0.5.7->chromadb)\n",
      "  Downloading zstandard-0.21.0-cp39-cp39-macosx_10_9_x86_64.whl (473 kB)\n",
      "\u001b[2K     \u001b[38;2;114;156;31m━━━━━━━━━━━━━━━━━━━━━━━━━━━━━━━━━━━━━━━\u001b[0m \u001b[32m473.8/473.8 kB\u001b[0m \u001b[31m2.0 MB/s\u001b[0m eta \u001b[36m0:00:00\u001b[0m MB/s\u001b[0m eta \u001b[36m0:00:01\u001b[0m:01\u001b[0m\n",
      "\u001b[?25hCollecting lz4 (from clickhouse-connect>=0.5.7->chromadb)\n",
      "  Downloading lz4-4.3.2-cp39-cp39-macosx_10_9_x86_64.whl (254 kB)\n",
      "\u001b[2K     \u001b[38;2;114;156;31m━━━━━━━━━━━━━━━━━━━━━━━━━━━━━━━━━━━━━━━\u001b[0m \u001b[32m254.1/254.1 kB\u001b[0m \u001b[31m1.9 MB/s\u001b[0m eta \u001b[36m0:00:00\u001b[0m[31m1.9 MB/s\u001b[0m eta \u001b[36m0:00:01\u001b[0m\n",
      "\u001b[?25hCollecting marshmallow<4.0.0,>=3.3.0 (from dataclasses-json<0.6.0,>=0.5.7->langchain)\n",
      "  Downloading marshmallow-3.19.0-py3-none-any.whl (49 kB)\n",
      "\u001b[2K     \u001b[38;2;114;156;31m━━━━━━━━━━━━━━━━━━━━━━━━━━━━━━━━━━━━━━━━\u001b[0m \u001b[32m49.1/49.1 kB\u001b[0m \u001b[31m2.6 MB/s\u001b[0m eta \u001b[36m0:00:00\u001b[0m\n",
      "\u001b[?25hCollecting marshmallow-enum<2.0.0,>=1.5.1 (from dataclasses-json<0.6.0,>=0.5.7->langchain)\n",
      "  Downloading marshmallow_enum-1.5.1-py2.py3-none-any.whl (4.2 kB)\n",
      "Collecting typing-inspect>=0.4.0 (from dataclasses-json<0.6.0,>=0.5.7->langchain)\n",
      "  Downloading typing_inspect-0.8.0-py3-none-any.whl (8.7 kB)\n",
      "Collecting starlette<0.27.0,>=0.26.1 (from fastapi>=0.85.1->chromadb)\n",
      "  Downloading starlette-0.26.1-py3-none-any.whl (66 kB)\n",
      "\u001b[2K     \u001b[38;2;114;156;31m━━━━━━━━━━━━━━━━━━━━━━━━━━━━━━━━━━━━━━━━\u001b[0m \u001b[32m66.9/66.9 kB\u001b[0m \u001b[31m2.1 MB/s\u001b[0m eta \u001b[36m0:00:00\u001b[0m\n",
      "\u001b[?25hRequirement already satisfied: python-dateutil>=2.8.2 in /Users/thomaschang/git/venv/lib/python3.9/site-packages (from pandas>=1.3->chromadb) (2.8.2)\n",
      "Requirement already satisfied: tzdata>=2022.1 in /Users/thomaschang/git/venv/lib/python3.9/site-packages (from pandas>=1.3->chromadb) (2023.3)\n",
      "Requirement already satisfied: six>=1.5 in /Users/thomaschang/git/venv/lib/python3.9/site-packages (from posthog>=2.4.0->chromadb) (1.16.0)\n"
     ]
    },
    {
     "name": "stdout",
     "output_type": "stream",
     "text": [
      "Collecting monotonic>=1.5 (from posthog>=2.4.0->chromadb)\n",
      "  Downloading monotonic-1.6-py2.py3-none-any.whl (8.2 kB)\n",
      "Collecting backoff>=1.10.0 (from posthog>=2.4.0->chromadb)\n",
      "  Downloading backoff-2.2.1-py3-none-any.whl (15 kB)\n",
      "Requirement already satisfied: typing-extensions>=4.2.0 in /Users/thomaschang/git/venv/lib/python3.9/site-packages (from pydantic<2,>=1->langchain) (4.5.0)\n",
      "Requirement already satisfied: idna<4,>=2.5 in /Users/thomaschang/git/venv/lib/python3.9/site-packages (from requests<3,>=2->langchain) (3.4)\n",
      "Collecting transformers<5.0.0,>=4.6.0 (from sentence-transformers>=2.2.2->chromadb)\n",
      "  Downloading transformers-4.28.1-py3-none-any.whl (7.0 MB)\n",
      "\u001b[2K     \u001b[38;2;114;156;31m━━━━━━━━━━━━━━━━━━━━━━━━━━━━━━━━━━━━━━━━\u001b[0m \u001b[32m7.0/7.0 MB\u001b[0m \u001b[31m1.0 MB/s\u001b[0m eta \u001b[36m0:00:00\u001b[0m[0m eta \u001b[36m0:00:01\u001b[0m[36m0:00:01\u001b[0m\n",
      "\u001b[?25hCollecting torch>=1.6.0 (from sentence-transformers>=2.2.2->chromadb)\n",
      "  Downloading torch-2.0.0-cp39-none-macosx_10_9_x86_64.whl (139.8 MB)\n",
      "\u001b[2K     \u001b[38;2;114;156;31m━━━━━━━━━━━━━━━━━━━━━━━━━━━━━━━━━━━━━━━\u001b[0m \u001b[32m139.8/139.8 MB\u001b[0m \u001b[31m2.1 MB/s\u001b[0m eta \u001b[36m0:00:00\u001b[0mm eta \u001b[36m0:00:01\u001b[0m[36m0:00:02\u001b[0m\n",
      "\u001b[?25hCollecting torchvision (from sentence-transformers>=2.2.2->chromadb)\n",
      "  Downloading torchvision-0.15.1-cp39-cp39-macosx_10_9_x86_64.whl (1.5 MB)\n",
      "\u001b[2K     \u001b[38;2;114;156;31m━━━━━━━━━━━━━━━━━━━━━━━━━━━━━━━━━━━━━━━━\u001b[0m \u001b[32m1.5/1.5 MB\u001b[0m \u001b[31m2.0 MB/s\u001b[0m eta \u001b[36m0:00:00\u001b[0m[31m2.0 MB/s\u001b[0m eta \u001b[36m0:00:01\u001b[0m\n",
      "\u001b[?25hRequirement already satisfied: scikit-learn in /Users/thomaschang/git/venv/lib/python3.9/site-packages (from sentence-transformers>=2.2.2->chromadb) (1.2.2)\n",
      "Requirement already satisfied: scipy in /Users/thomaschang/git/venv/lib/python3.9/site-packages (from sentence-transformers>=2.2.2->chromadb) (1.10.1)\n",
      "Collecting nltk (from sentence-transformers>=2.2.2->chromadb)\n",
      "  Downloading nltk-3.8.1-py3-none-any.whl (1.5 MB)\n",
      "\u001b[2K     \u001b[38;2;114;156;31m━━━━━━━━━━━━━━━━━━━━━━━━━━━━━━━━━━━━━━━━\u001b[0m \u001b[32m1.5/1.5 MB\u001b[0m \u001b[31m1.9 MB/s\u001b[0m eta \u001b[36m0:00:00\u001b[0m[31m1.9 MB/s\u001b[0m eta \u001b[36m0:00:01\u001b[0m\n",
      "\u001b[?25hCollecting sentencepiece (from sentence-transformers>=2.2.2->chromadb)\n",
      "  Downloading sentencepiece-0.1.99-cp39-cp39-macosx_10_9_x86_64.whl (1.2 MB)\n",
      "\u001b[2K     \u001b[38;2;114;156;31m━━━━━━━━━━━━━━━━━━━━━━━━━━━━━━━━━━━━━━━━\u001b[0m \u001b[32m1.2/1.2 MB\u001b[0m \u001b[31m2.2 MB/s\u001b[0m eta \u001b[36m0:00:00\u001b[0m MB/s\u001b[0m eta \u001b[36m0:00:01\u001b[0m:01\u001b[0m\n",
      "\u001b[?25hCollecting huggingface-hub>=0.4.0 (from sentence-transformers>=2.2.2->chromadb)\n",
      "  Downloading huggingface_hub-0.14.1-py3-none-any.whl (224 kB)\n",
      "\u001b[2K     \u001b[38;2;114;156;31m━━━━━━━━━━━━━━━━━━━━━━━━━━━━━━━━━━━━━━━\u001b[0m \u001b[32m224.5/224.5 kB\u001b[0m \u001b[31m2.3 MB/s\u001b[0m eta \u001b[36m0:00:00\u001b[0m[31m2.3 MB/s\u001b[0m eta \u001b[36m0:00:01\u001b[0m\n",
      "\u001b[?25hRequirement already satisfied: greenlet!=0.4.17 in /Users/thomaschang/git/venv/lib/python3.9/site-packages (from SQLAlchemy<3,>=1.3->langchain) (2.0.2)\n",
      "Requirement already satisfied: click>=7.0 in /Users/thomaschang/git/venv/lib/python3.9/site-packages (from uvicorn[standard]>=0.18.3->chromadb) (8.1.3)\n",
      "Collecting h11>=0.8 (from uvicorn[standard]>=0.18.3->chromadb)\n",
      "  Downloading h11-0.14.0-py3-none-any.whl (58 kB)\n",
      "\u001b[2K     \u001b[38;2;114;156;31m━━━━━━━━━━━━━━━━━━━━━━━━━━━━━━━━━━━━━━━━\u001b[0m \u001b[32m58.3/58.3 kB\u001b[0m \u001b[31m1.8 MB/s\u001b[0m eta \u001b[36m0:00:00\u001b[0m\n",
      "\u001b[?25hCollecting httptools>=0.5.0 (from uvicorn[standard]>=0.18.3->chromadb)\n",
      "  Downloading httptools-0.5.0-cp39-cp39-macosx_10_9_x86_64.whl (161 kB)\n",
      "\u001b[2K     \u001b[38;2;114;156;31m━━━━━━━━━━━━━━━━━━━━━━━━━━━━━━━━━━━━━━━\u001b[0m \u001b[32m161.5/161.5 kB\u001b[0m \u001b[31m2.0 MB/s\u001b[0m eta \u001b[36m0:00:00\u001b[0m[31m2.0 MB/s\u001b[0m eta \u001b[36m0:00:01\u001b[0m\n",
      "\u001b[?25hCollecting python-dotenv>=0.13 (from uvicorn[standard]>=0.18.3->chromadb)\n",
      "  Downloading python_dotenv-1.0.0-py3-none-any.whl (19 kB)\n",
      "Collecting uvloop!=0.15.0,!=0.15.1,>=0.14.0 (from uvicorn[standard]>=0.18.3->chromadb)\n",
      "  Downloading uvloop-0.17.0-cp39-cp39-macosx_10_9_x86_64.whl (1.5 MB)\n",
      "\u001b[2K     \u001b[38;2;114;156;31m━━━━━━━━━━━━━━━━━━━━━━━━━━━━━━━━━━━━━━━━\u001b[0m \u001b[32m1.5/1.5 MB\u001b[0m \u001b[31m2.3 MB/s\u001b[0m eta \u001b[36m0:00:00\u001b[0m[31m2.3 MB/s\u001b[0m eta \u001b[36m0:00:01\u001b[0m\n",
      "\u001b[?25hCollecting watchfiles>=0.13 (from uvicorn[standard]>=0.18.3->chromadb)\n",
      "  Downloading watchfiles-0.19.0-cp37-abi3-macosx_10_7_x86_64.whl (405 kB)\n",
      "\u001b[2K     \u001b[38;2;114;156;31m━━━━━━━━━━━━━━━━━━━━━━━━━━━━━━━━━━━━━━━\u001b[0m \u001b[32m406.0/406.0 kB\u001b[0m \u001b[31m2.1 MB/s\u001b[0m eta \u001b[36m0:00:00\u001b[0m MB/s\u001b[0m eta \u001b[36m0:00:01\u001b[0m:01\u001b[0m\n",
      "\u001b[?25hCollecting websockets>=10.4 (from uvicorn[standard]>=0.18.3->chromadb)\n",
      "  Downloading websockets-11.0.2-cp39-cp39-macosx_10_9_x86_64.whl (120 kB)\n",
      "\u001b[2K     \u001b[38;2;114;156;31m━━━━━━━━━━━━━━━━━━━━━━━━━━━━━━━━━━━━━━━\u001b[0m \u001b[32m120.9/120.9 kB\u001b[0m \u001b[31m2.2 MB/s\u001b[0m eta \u001b[36m0:00:00\u001b[0m[31m1.9 MB/s\u001b[0m eta \u001b[36m0:00:01\u001b[0m\n",
      "\u001b[?25hCollecting filelock (from huggingface-hub>=0.4.0->sentence-transformers>=2.2.2->chromadb)\n",
      "  Downloading filelock-3.12.0-py3-none-any.whl (10 kB)\n",
      "Collecting fsspec (from huggingface-hub>=0.4.0->sentence-transformers>=2.2.2->chromadb)\n",
      "  Downloading fsspec-2023.4.0-py3-none-any.whl (153 kB)\n",
      "\u001b[2K     \u001b[38;2;114;156;31m━━━━━━━━━━━━━━━━━━━━━━━━━━━━━━━━━━━━━━━\u001b[0m \u001b[32m154.0/154.0 kB\u001b[0m \u001b[31m2.5 MB/s\u001b[0m eta \u001b[36m0:00:00\u001b[0m[31m2.1 MB/s\u001b[0m eta \u001b[36m0:00:01\u001b[0m\n",
      "\u001b[?25hRequirement already satisfied: packaging>=20.9 in /Users/thomaschang/git/venv/lib/python3.9/site-packages (from huggingface-hub>=0.4.0->sentence-transformers>=2.2.2->chromadb) (23.1)\n",
      "Requirement already satisfied: anyio<5,>=3.4.0 in /Users/thomaschang/git/venv/lib/python3.9/site-packages (from starlette<0.27.0,>=0.26.1->fastapi>=0.85.1->chromadb) (3.6.2)\n",
      "Collecting sympy (from torch>=1.6.0->sentence-transformers>=2.2.2->chromadb)\n",
      "  Downloading sympy-1.11.1-py3-none-any.whl (6.5 MB)\n",
      "\u001b[2K     \u001b[38;2;114;156;31m━━━━━━━━━━━━━━━━━━━━━━━━━━━━━━━━━━━━━━━━\u001b[0m \u001b[32m6.5/6.5 MB\u001b[0m \u001b[31m1.8 MB/s\u001b[0m eta \u001b[36m0:00:00\u001b[0mm eta \u001b[36m0:00:01\u001b[0m[36m0:00:01\u001b[0m\n",
      "\u001b[?25hCollecting networkx (from torch>=1.6.0->sentence-transformers>=2.2.2->chromadb)\n",
      "  Downloading networkx-3.1-py3-none-any.whl (2.1 MB)\n",
      "\u001b[2K     \u001b[38;2;114;156;31m━━━━━━━━━━━━━━━━━━━━━━━━━━━━━━━━━━━━━━━━\u001b[0m \u001b[32m2.1/2.1 MB\u001b[0m \u001b[31m2.2 MB/s\u001b[0m eta \u001b[36m0:00:00\u001b[0m[36m0:00:01\u001b[0mm eta \u001b[36m0:00:01\u001b[0m\n",
      "\u001b[?25hRequirement already satisfied: jinja2 in /Users/thomaschang/git/venv/lib/python3.9/site-packages (from torch>=1.6.0->sentence-transformers>=2.2.2->chromadb) (3.1.2)\n",
      "Collecting regex!=2019.12.17 (from transformers<5.0.0,>=4.6.0->sentence-transformers>=2.2.2->chromadb)\n",
      "  Downloading regex-2023.5.5-cp39-cp39-macosx_10_9_x86_64.whl (294 kB)\n",
      "\u001b[2K     \u001b[38;2;114;156;31m━━━━━━━━━━━━━━━━━━━━━━━━━━━━━━━━━━━━━━━\u001b[0m \u001b[32m294.4/294.4 kB\u001b[0m \u001b[31m1.8 MB/s\u001b[0m eta \u001b[36m0:00:00\u001b[0m[31m1.8 MB/s\u001b[0m eta \u001b[36m0:00:01\u001b[0m\n",
      "\u001b[?25hCollecting tokenizers!=0.11.3,<0.14,>=0.11.1 (from transformers<5.0.0,>=4.6.0->sentence-transformers>=2.2.2->chromadb)\n",
      "  Downloading tokenizers-0.13.3-cp39-cp39-macosx_10_11_x86_64.whl (4.0 MB)\n",
      "\u001b[2K     \u001b[38;2;114;156;31m━━━━━━━━━━━━━━━━━━━━━━━━━━━━━━━━━━━━━━━━\u001b[0m \u001b[32m4.0/4.0 MB\u001b[0m \u001b[31m979.0 kB/s\u001b[0m eta \u001b[36m0:00:00\u001b[0m[36m0:00:01\u001b[0m[36m0:00:01\u001b[0m:01\u001b[0m\n",
      "\u001b[?25hCollecting mypy-extensions>=0.3.0 (from typing-inspect>=0.4.0->dataclasses-json<0.6.0,>=0.5.7->langchain)\n",
      "  Downloading mypy_extensions-1.0.0-py3-none-any.whl (4.7 kB)\n",
      "Requirement already satisfied: joblib in /Users/thomaschang/git/venv/lib/python3.9/site-packages (from nltk->sentence-transformers>=2.2.2->chromadb) (1.2.0)\n",
      "Requirement already satisfied: threadpoolctl>=2.0.0 in /Users/thomaschang/git/venv/lib/python3.9/site-packages (from scikit-learn->sentence-transformers>=2.2.2->chromadb) (3.1.0)\n",
      "Requirement already satisfied: pillow!=8.3.*,>=5.3.0 in /Users/thomaschang/git/venv/lib/python3.9/site-packages (from torchvision->sentence-transformers>=2.2.2->chromadb) (9.5.0)\n",
      "Requirement already satisfied: sniffio>=1.1 in /Users/thomaschang/git/venv/lib/python3.9/site-packages (from anyio<5,>=3.4.0->starlette<0.27.0,>=0.26.1->fastapi>=0.85.1->chromadb) (1.3.0)\n",
      "Requirement already satisfied: MarkupSafe>=2.0 in /Users/thomaschang/git/venv/lib/python3.9/site-packages (from jinja2->torch>=1.6.0->sentence-transformers>=2.2.2->chromadb) (2.1.2)\n",
      "Collecting mpmath>=0.19 (from sympy->torch>=1.6.0->sentence-transformers>=2.2.2->chromadb)\n",
      "  Downloading mpmath-1.3.0-py3-none-any.whl (536 kB)\n"
     ]
    },
    {
     "name": "stdout",
     "output_type": "stream",
     "text": [
      "\u001b[2K     \u001b[38;2;114;156;31m━━━━━━━━━━━━━━━━━━━━━━━━━━━━━━━━━━━━━\u001b[0m \u001b[32m536.2/536.2 kB\u001b[0m \u001b[31m967.1 kB/s\u001b[0m eta \u001b[36m0:00:00\u001b[0m1m927.3 kB/s\u001b[0m eta \u001b[36m0:00:01\u001b[0m\n",
      "\u001b[?25hBuilding wheels for collected packages: hnswlib, sentence-transformers\n",
      "  Building wheel for hnswlib (pyproject.toml) ... \u001b[?25lerror\n",
      "  \u001b[1;31merror\u001b[0m: \u001b[1msubprocess-exited-with-error\u001b[0m\n",
      "  \n",
      "  \u001b[31m×\u001b[0m \u001b[32mBuilding wheel for hnswlib \u001b[0m\u001b[1;32m(\u001b[0m\u001b[32mpyproject.toml\u001b[0m\u001b[1;32m)\u001b[0m did not run successfully.\n",
      "  \u001b[31m│\u001b[0m exit code: \u001b[1;36m1\u001b[0m\n",
      "  \u001b[31m╰─>\u001b[0m \u001b[31m[17 lines of output]\u001b[0m\n",
      "  \u001b[31m   \u001b[0m running bdist_wheel\n",
      "  \u001b[31m   \u001b[0m running build\n",
      "  \u001b[31m   \u001b[0m running build_ext\n",
      "  \u001b[31m   \u001b[0m creating var\n",
      "  \u001b[31m   \u001b[0m creating var/folders\n",
      "  \u001b[31m   \u001b[0m creating var/folders/gj\n",
      "  \u001b[31m   \u001b[0m creating var/folders/gj/mkq_sr7n3l3bvwj7xpp9flwc0000gp\n",
      "  \u001b[31m   \u001b[0m creating var/folders/gj/mkq_sr7n3l3bvwj7xpp9flwc0000gp/T\n",
      "  \u001b[31m   \u001b[0m clang -Wno-unused-result -Wsign-compare -Wunreachable-code -fno-common -dynamic -DNDEBUG -g -fwrapv -O3 -Wall -iwithsysroot/System/Library/Frameworks/System.framework/PrivateHeaders -iwithsysroot/Applications/Xcode.app/Contents/Developer/Library/Frameworks/Python3.framework/Versions/3.9/Headers -arch arm64 -arch x86_64 -Werror=implicit-function-declaration -Wno-error=unreachable-code -I/Users/thomaschang/git/venv/include -I/Library/Developer/CommandLineTools/Library/Frameworks/Python3.framework/Versions/3.9/include/python3.9 -c /var/folders/gj/mkq_sr7n3l3bvwj7xpp9flwc0000gp/T/tmp_vy_s7mh.cpp -o var/folders/gj/mkq_sr7n3l3bvwj7xpp9flwc0000gp/T/tmp_vy_s7mh.o -std=c++14\n",
      "  \u001b[31m   \u001b[0m clang -Wno-unused-result -Wsign-compare -Wunreachable-code -fno-common -dynamic -DNDEBUG -g -fwrapv -O3 -Wall -iwithsysroot/System/Library/Frameworks/System.framework/PrivateHeaders -iwithsysroot/Applications/Xcode.app/Contents/Developer/Library/Frameworks/Python3.framework/Versions/3.9/Headers -arch arm64 -arch x86_64 -Werror=implicit-function-declaration -Wno-error=unreachable-code -I/Users/thomaschang/git/venv/include -I/Library/Developer/CommandLineTools/Library/Frameworks/Python3.framework/Versions/3.9/include/python3.9 -c /var/folders/gj/mkq_sr7n3l3bvwj7xpp9flwc0000gp/T/tmpf5cd7c70.cpp -o var/folders/gj/mkq_sr7n3l3bvwj7xpp9flwc0000gp/T/tmpf5cd7c70.o -fvisibility=hidden\n",
      "  \u001b[31m   \u001b[0m building 'hnswlib' extension\n",
      "  \u001b[31m   \u001b[0m creating build\n",
      "  \u001b[31m   \u001b[0m creating build/temp.macosx-10.9-universal2-cpython-39\n",
      "  \u001b[31m   \u001b[0m creating build/temp.macosx-10.9-universal2-cpython-39/python_bindings\n",
      "  \u001b[31m   \u001b[0m clang -Wno-unused-result -Wsign-compare -Wunreachable-code -fno-common -dynamic -DNDEBUG -g -fwrapv -O3 -Wall -iwithsysroot/System/Library/Frameworks/System.framework/PrivateHeaders -iwithsysroot/Applications/Xcode.app/Contents/Developer/Library/Frameworks/Python3.framework/Versions/3.9/Headers -arch arm64 -arch x86_64 -Werror=implicit-function-declaration -Wno-error=unreachable-code -I/private/var/folders/gj/mkq_sr7n3l3bvwj7xpp9flwc0000gp/T/pip-build-env-8xywhz7p/overlay/lib/python3.9/site-packages/pybind11/include -I/private/var/folders/gj/mkq_sr7n3l3bvwj7xpp9flwc0000gp/T/pip-build-env-8xywhz7p/overlay/lib/python3.9/site-packages/numpy/core/include -I./hnswlib/ -I/Users/thomaschang/git/venv/include -I/Library/Developer/CommandLineTools/Library/Frameworks/Python3.framework/Versions/3.9/include/python3.9 -c ./python_bindings/bindings.cpp -o build/temp.macosx-10.9-universal2-cpython-39/./python_bindings/bindings.o -O3 -march=native -stdlib=libc++ -mmacosx-version-min=10.7 -DVERSION_INFO=\\\"0.7.0\\\" -std=c++14 -fvisibility=hidden\n",
      "  \u001b[31m   \u001b[0m clang: error: the clang compiler does not support '-march=native'\n",
      "  \u001b[31m   \u001b[0m error: command '/usr/bin/clang' failed with exit code 1\n",
      "  \u001b[31m   \u001b[0m \u001b[31m[end of output]\u001b[0m\n",
      "  \n",
      "  \u001b[1;35mnote\u001b[0m: This error originates from a subprocess, and is likely not a problem with pip.\n",
      "\u001b[31m  ERROR: Failed building wheel for hnswlib\u001b[0m\u001b[31m\n",
      "\u001b[0m\u001b[?25h  Building wheel for sentence-transformers (pyproject.toml) ... \u001b[?25ldone\n",
      "\u001b[?25h  Created wheel for sentence-transformers: filename=sentence_transformers-2.2.2-py3-none-any.whl size=125926 sha256=f64b349549a9941be922b3eb3b80b6217d0be4c3219ed90145fc9c94a6f4e6f3\n",
      "  Stored in directory: /private/var/folders/gj/mkq_sr7n3l3bvwj7xpp9flwc0000gp/T/pip-ephem-wheel-cache-37ydvg93/wheels/71/67/06/162a3760c40d74dd40bc855d527008d26341c2b0ecf3e8e11f\n",
      "Successfully built sentence-transformers\n",
      "Failed to build hnswlib\n",
      "\u001b[31mERROR: Could not build wheels for hnswlib, which is required to install pyproject.toml-based projects\u001b[0m\u001b[31m\n",
      "\u001b[0mNote: you may need to restart the kernel to use updated packages.\n"
     ]
    }
   ],
   "source": [
    "%pip install sentence-transformers langchain chromadb\n"
   ]
  },
  {
   "cell_type": "code",
   "execution_count": 6,
   "id": "4ab7663d",
   "metadata": {},
   "outputs": [
    {
     "name": "stdout",
     "output_type": "stream",
     "text": [
      "DONE\n"
     ]
    }
   ],
   "source": [
    "from sentence_transformers import SentenceTransformer\n",
    "\n",
    "from langchain.document_loaders import DataFrameLoader\n",
    "from langchain.embeddings import HuggingFaceEmbeddings\n",
    "from langchain.vectorstores import Chroma\n",
    "\n",
    "import mlflow\n",
    "\n",
    "import pandas as pd\n",
    "print('DONE')"
   ]
  },
  {
   "cell_type": "markdown",
   "id": "1660655b",
   "metadata": {},
   "source": [
    "## 4.1 Aggregate Data"
   ]
  },
  {
   "cell_type": "code",
   "execution_count": 31,
   "id": "fa297ac1",
   "metadata": {},
   "outputs": [
    {
     "data": {
      "text/html": [
       "<div>\n",
       "<style scoped>\n",
       "    .dataframe tbody tr th:only-of-type {\n",
       "        vertical-align: middle;\n",
       "    }\n",
       "\n",
       "    .dataframe tbody tr th {\n",
       "        vertical-align: top;\n",
       "    }\n",
       "\n",
       "    .dataframe thead th {\n",
       "        text-align: right;\n",
       "    }\n",
       "</style>\n",
       "<table border=\"1\" class=\"dataframe\">\n",
       "  <thead>\n",
       "    <tr style=\"text-align: right;\">\n",
       "      <th></th>\n",
       "      <th>product_id</th>\n",
       "      <th>product_name</th>\n",
       "      <th>product_text</th>\n",
       "    </tr>\n",
       "  </thead>\n",
       "  <tbody>\n",
       "    <tr>\n",
       "      <th>0</th>\n",
       "      <td>0</td>\n",
       "      <td>solid wood platform bed</td>\n",
       "      <td>good , deep sleep can be quite difficult to ha...</td>\n",
       "    </tr>\n",
       "    <tr>\n",
       "      <th>1</th>\n",
       "      <td>1</td>\n",
       "      <td>all-clad 7 qt . slow cooker</td>\n",
       "      <td>create delicious slow-cooked meals , from tend...</td>\n",
       "    </tr>\n",
       "    <tr>\n",
       "      <th>2</th>\n",
       "      <td>2</td>\n",
       "      <td>all-clad electrics 6.5 qt . slow cooker</td>\n",
       "      <td>prepare home-cooked meals on any schedule with...</td>\n",
       "    </tr>\n",
       "    <tr>\n",
       "      <th>3</th>\n",
       "      <td>3</td>\n",
       "      <td>all-clad all professional tools pizza cutter</td>\n",
       "      <td>this original stainless tool was designed to c...</td>\n",
       "    </tr>\n",
       "    <tr>\n",
       "      <th>4</th>\n",
       "      <td>4</td>\n",
       "      <td>baldwin prestige alcott passage knob with roun...</td>\n",
       "      <td>the hardware has a rich heritage of delivering...</td>\n",
       "    </tr>\n",
       "    <tr>\n",
       "      <th>...</th>\n",
       "      <td>...</td>\n",
       "      <td>...</td>\n",
       "      <td>...</td>\n",
       "    </tr>\n",
       "    <tr>\n",
       "      <th>42989</th>\n",
       "      <td>42989</td>\n",
       "      <td>malibu pressure balanced diverter fixed shower...</td>\n",
       "      <td>the malibu pressure balanced diverter fixed sh...</td>\n",
       "    </tr>\n",
       "    <tr>\n",
       "      <th>42990</th>\n",
       "      <td>42990</td>\n",
       "      <td>emmeline 5 piece breakfast dining set</td>\n",
       "      <td>emmeline 5 piece breakfast dining set</td>\n",
       "    </tr>\n",
       "    <tr>\n",
       "      <th>42991</th>\n",
       "      <td>42991</td>\n",
       "      <td>maloney 3 piece pub table set</td>\n",
       "      <td>this pub table set includes 1 counter height t...</td>\n",
       "    </tr>\n",
       "    <tr>\n",
       "      <th>42992</th>\n",
       "      <td>42992</td>\n",
       "      <td>fletcher 27.5 '' wide polyester armchair</td>\n",
       "      <td>bring iconic , modern style to your space in a...</td>\n",
       "    </tr>\n",
       "    <tr>\n",
       "      <th>42993</th>\n",
       "      <td>42993</td>\n",
       "      <td>griffin 29 '' bar stool</td>\n",
       "      <td>this set of two barstools features a minimalis...</td>\n",
       "    </tr>\n",
       "  </tbody>\n",
       "</table>\n",
       "<p>42994 rows × 3 columns</p>\n",
       "</div>"
      ],
      "text/plain": [
       "       product_id                                       product_name   \n",
       "0               0                            solid wood platform bed  \\\n",
       "1               1                        all-clad 7 qt . slow cooker   \n",
       "2               2            all-clad electrics 6.5 qt . slow cooker   \n",
       "3               3       all-clad all professional tools pizza cutter   \n",
       "4               4  baldwin prestige alcott passage knob with roun...   \n",
       "...           ...                                                ...   \n",
       "42989       42989  malibu pressure balanced diverter fixed shower...   \n",
       "42990       42990              emmeline 5 piece breakfast dining set   \n",
       "42991       42991                      maloney 3 piece pub table set   \n",
       "42992       42992           fletcher 27.5 '' wide polyester armchair   \n",
       "42993       42993                            griffin 29 '' bar stool   \n",
       "\n",
       "                                            product_text  \n",
       "0      good , deep sleep can be quite difficult to ha...  \n",
       "1      create delicious slow-cooked meals , from tend...  \n",
       "2      prepare home-cooked meals on any schedule with...  \n",
       "3      this original stainless tool was designed to c...  \n",
       "4      the hardware has a rich heritage of delivering...  \n",
       "...                                                  ...  \n",
       "42989  the malibu pressure balanced diverter fixed sh...  \n",
       "42990              emmeline 5 piece breakfast dining set  \n",
       "42991  this pub table set includes 1 counter height t...  \n",
       "42992  bring iconic , modern style to your space in a...  \n",
       "42993  this set of two barstools features a minimalis...  \n",
       "\n",
       "[42994 rows x 3 columns]"
      ]
     },
     "metadata": {},
     "output_type": "display_data"
    }
   ],
   "source": [
    "product_text_pd = (\n",
    "  spark\n",
    "    .table('products')\n",
    "    .selectExpr(\n",
    "      'product_id',\n",
    "      'product_name',\n",
    "      'COALESCE(product_description, product_name) as product_text' # use product description if available, otherwise name\n",
    "      )\n",
    "  ).toPandas()\n",
    "\n",
    "display(product_text_pd)"
   ]
  },
  {
   "cell_type": "markdown",
   "id": "5fa44b44",
   "metadata": {},
   "source": [
    "## 4.2 Convert product_text into embeddings\n",
    "- We will now convert our product text into embeddings.  The instructions for converting text into an embedding is captured in a language model.  The [*all-MiniLM-L12-v2* model](https://huggingface.co/sentence-transformers/all-MiniLM-L12-v2) is a *mini language model* (in contrast to a large language model) which has been trained on a large, well-rounded corpus of input text for good, balanced performance in a variety of document search scenarios.  The benefit of the *mini* language model as compared to a *large* language is that the *mini* model generates a more succinct embedding structure that facilitates faster search and lower overall resource utilization.  Given the limited breadth of the content in a product catalog, this is the best option of our needs:"
   ]
  },
  {
   "cell_type": "code",
   "execution_count": 33,
   "id": "f39f15cb",
   "metadata": {},
   "outputs": [
    {
     "data": {
      "application/vnd.jupyter.widget-view+json": {
       "model_id": "cd91bac3890c4389b3468b87c9f7764d",
       "version_major": 2,
       "version_minor": 0
      },
      "text/plain": [
       "Downloading (…)5dded/.gitattributes:   0%|          | 0.00/1.18k [00:00<?, ?B/s]"
      ]
     },
     "metadata": {},
     "output_type": "display_data"
    },
    {
     "data": {
      "application/vnd.jupyter.widget-view+json": {
       "model_id": "738f6189a22a42ebaa9e0d47ce8ccd9a",
       "version_major": 2,
       "version_minor": 0
      },
      "text/plain": [
       "Downloading (…)_Pooling/config.json:   0%|          | 0.00/190 [00:00<?, ?B/s]"
      ]
     },
     "metadata": {},
     "output_type": "display_data"
    },
    {
     "data": {
      "application/vnd.jupyter.widget-view+json": {
       "model_id": "ecd65e2d478e4b9b90dd13d7864cf7cf",
       "version_major": 2,
       "version_minor": 0
      },
      "text/plain": [
       "Downloading (…)4d81d5dded/README.md:   0%|          | 0.00/10.6k [00:00<?, ?B/s]"
      ]
     },
     "metadata": {},
     "output_type": "display_data"
    },
    {
     "data": {
      "application/vnd.jupyter.widget-view+json": {
       "model_id": "46a7122af46e41328a32404026a5141f",
       "version_major": 2,
       "version_minor": 0
      },
      "text/plain": [
       "Downloading (…)81d5dded/config.json:   0%|          | 0.00/573 [00:00<?, ?B/s]"
      ]
     },
     "metadata": {},
     "output_type": "display_data"
    },
    {
     "data": {
      "application/vnd.jupyter.widget-view+json": {
       "model_id": "51d7a7cdca0d4508aa3fcb90e7462015",
       "version_major": 2,
       "version_minor": 0
      },
      "text/plain": [
       "Downloading (…)ce_transformers.json:   0%|          | 0.00/116 [00:00<?, ?B/s]"
      ]
     },
     "metadata": {},
     "output_type": "display_data"
    },
    {
     "data": {
      "application/vnd.jupyter.widget-view+json": {
       "model_id": "2feab315097e49d983a8517e714361aa",
       "version_major": 2,
       "version_minor": 0
      },
      "text/plain": [
       "Downloading (…)ded/data_config.json:   0%|          | 0.00/39.3k [00:00<?, ?B/s]"
      ]
     },
     "metadata": {},
     "output_type": "display_data"
    },
    {
     "data": {
      "application/vnd.jupyter.widget-view+json": {
       "model_id": "78a2a69f2e454ccbbf64fb99461ece09",
       "version_major": 2,
       "version_minor": 0
      },
      "text/plain": [
       "Downloading pytorch_model.bin:   0%|          | 0.00/134M [00:00<?, ?B/s]"
      ]
     },
     "metadata": {},
     "output_type": "display_data"
    },
    {
     "data": {
      "application/vnd.jupyter.widget-view+json": {
       "model_id": "66c221c9a4b945998cdc5206c656bffd",
       "version_major": 2,
       "version_minor": 0
      },
      "text/plain": [
       "Downloading (…)nce_bert_config.json:   0%|          | 0.00/53.0 [00:00<?, ?B/s]"
      ]
     },
     "metadata": {},
     "output_type": "display_data"
    },
    {
     "data": {
      "application/vnd.jupyter.widget-view+json": {
       "model_id": "5c241c6b16254574aeab0efa31bd5c53",
       "version_major": 2,
       "version_minor": 0
      },
      "text/plain": [
       "Downloading (…)cial_tokens_map.json:   0%|          | 0.00/112 [00:00<?, ?B/s]"
      ]
     },
     "metadata": {},
     "output_type": "display_data"
    },
    {
     "data": {
      "application/vnd.jupyter.widget-view+json": {
       "model_id": "8f64dbf698de40aaa770c6fef393b9f3",
       "version_major": 2,
       "version_minor": 0
      },
      "text/plain": [
       "Downloading (…)5dded/tokenizer.json:   0%|          | 0.00/466k [00:00<?, ?B/s]"
      ]
     },
     "metadata": {},
     "output_type": "display_data"
    },
    {
     "data": {
      "application/vnd.jupyter.widget-view+json": {
       "model_id": "5cfff87e495241bba567a4a7539abf18",
       "version_major": 2,
       "version_minor": 0
      },
      "text/plain": [
       "Downloading (…)okenizer_config.json:   0%|          | 0.00/352 [00:00<?, ?B/s]"
      ]
     },
     "metadata": {},
     "output_type": "display_data"
    },
    {
     "data": {
      "application/vnd.jupyter.widget-view+json": {
       "model_id": "59e2b9f962ce4ce3bf9a699e307c67cd",
       "version_major": 2,
       "version_minor": 0
      },
      "text/plain": [
       "Downloading (…)dded/train_script.py:   0%|          | 0.00/13.2k [00:00<?, ?B/s]"
      ]
     },
     "metadata": {},
     "output_type": "display_data"
    },
    {
     "data": {
      "application/vnd.jupyter.widget-view+json": {
       "model_id": "41e6c6277e1e4684bed72f180b1b8841",
       "version_major": 2,
       "version_minor": 0
      },
      "text/plain": [
       "Downloading (…)4d81d5dded/vocab.txt:   0%|          | 0.00/232k [00:00<?, ?B/s]"
      ]
     },
     "metadata": {},
     "output_type": "display_data"
    },
    {
     "data": {
      "application/vnd.jupyter.widget-view+json": {
       "model_id": "c300bafdbf344e128d52f88d22fe7876",
       "version_major": 2,
       "version_minor": 0
      },
      "text/plain": [
       "Downloading (…)1d5dded/modules.json:   0%|          | 0.00/349 [00:00<?, ?B/s]"
      ]
     },
     "metadata": {},
     "output_type": "display_data"
    }
   ],
   "source": [
    "original_model = SentenceTransformer('all-MiniLM-L12-v2')\n"
   ]
  },
  {
   "cell_type": "code",
   "execution_count": 54,
   "id": "132a50f4",
   "metadata": {},
   "outputs": [
    {
     "name": "stdout",
     "output_type": "stream",
     "text": [
      "embedding_model_path=/Users/chang/Documents/dev/git/gratia/03_system/datapipeilne/scaling-machine-learning-course/db-product-search/work-dir/models/embedding_model\n"
     ]
    }
   ],
   "source": [
    "embedding_model_path = f\"{config['WANDS_MODEL_PATH']}/embedding_model\"\n",
    "print(f'embedding_model_path={embedding_model_path}')\n",
    "\n",
    "#!rm -rf {embedding_model_path}/*\n",
    "#!mkdir -p {embedding_model_path}\n",
    "\n",
    "original_model.save(embedding_model_path)\n"
   ]
  },
  {
   "cell_type": "markdown",
   "id": "4dd01079",
   "metadata": {},
   "source": [
    "## 4.3 Ingest into Vector DB"
   ]
  },
  {
   "cell_type": "markdown",
   "id": "242b9a2a",
   "metadata": {},
   "source": [
    "#### Reload the orignal sentence transformer using langchain wrapper"
   ]
  },
  {
   "cell_type": "code",
   "execution_count": 55,
   "id": "134723ed",
   "metadata": {},
   "outputs": [],
   "source": [
    "embedding_model = HuggingFaceEmbeddings(model_name=embedding_model_path)\n"
   ]
  },
  {
   "cell_type": "code",
   "execution_count": 60,
   "id": "a1ed7fcb",
   "metadata": {},
   "outputs": [
    {
     "data": {
      "text/plain": [
       "'/Users/chang/Documents/dev/git/gratia/03_system/datapipeilne/scaling-machine-learning-course/db-product-search/work-dir/wands/chromadb'"
      ]
     },
     "execution_count": 60,
     "metadata": {},
     "output_type": "execute_result"
    }
   ],
   "source": [
    "chromadb_path = f\"{config['dbfs_path']}/chromadb\"\n",
    "!mkdir -p {chromadb_path}\n",
    "chromadb_path"
   ]
  },
  {
   "cell_type": "code",
   "execution_count": 65,
   "id": "4bc16fde",
   "metadata": {},
   "outputs": [],
   "source": [
    "# Creat langcahin DataFrameLoader object\n",
    "documents = (\n",
    "  DataFrameLoader( #langchain.document_loaders.dataframe.DataFrameLoader\n",
    "    product_text_pd,\n",
    "    page_content_column='product_text'\n",
    "    )\n",
    "    .load()\n",
    "  )"
   ]
  },
  {
   "cell_type": "code",
   "execution_count": 66,
   "id": "ee897f92",
   "metadata": {},
   "outputs": [
    {
     "name": "stderr",
     "output_type": "stream",
     "text": [
      "WARNING:chromadb:Using embedded DuckDB with persistence: data will be stored in: /Users/chang/Documents/dev/git/gratia/03_system/datapipeilne/scaling-machine-learning-course/db-product-search/work-dir/wands/chromadb\n",
      "WARNING:chromadb.api.models.Collection:No embedding_function provided, using default embedding function: SentenceTransformerEmbeddingFunction\n"
     ]
    },
    {
     "data": {
      "application/vnd.jupyter.widget-view+json": {
       "model_id": "bcf78ac6ac544e93912edea05b9069c3",
       "version_major": 2,
       "version_minor": 0
      },
      "text/plain": [
       "Downloading (…)e9125/.gitattributes:   0%|          | 0.00/1.18k [00:00<?, ?B/s]"
      ]
     },
     "metadata": {},
     "output_type": "display_data"
    },
    {
     "data": {
      "application/vnd.jupyter.widget-view+json": {
       "model_id": "c8ec4bac7d3b41b18d431d6e23539314",
       "version_major": 2,
       "version_minor": 0
      },
      "text/plain": [
       "Downloading (…)_Pooling/config.json:   0%|          | 0.00/190 [00:00<?, ?B/s]"
      ]
     },
     "metadata": {},
     "output_type": "display_data"
    },
    {
     "data": {
      "application/vnd.jupyter.widget-view+json": {
       "model_id": "e006f5896f2e4cfa980b2809de8a1aad",
       "version_major": 2,
       "version_minor": 0
      },
      "text/plain": [
       "Downloading (…)7e55de9125/README.md:   0%|          | 0.00/10.6k [00:00<?, ?B/s]"
      ]
     },
     "metadata": {},
     "output_type": "display_data"
    },
    {
     "data": {
      "application/vnd.jupyter.widget-view+json": {
       "model_id": "568f0ef64e784ceaae3853420fd2edd0",
       "version_major": 2,
       "version_minor": 0
      },
      "text/plain": [
       "Downloading (…)55de9125/config.json:   0%|          | 0.00/612 [00:00<?, ?B/s]"
      ]
     },
     "metadata": {},
     "output_type": "display_data"
    },
    {
     "data": {
      "application/vnd.jupyter.widget-view+json": {
       "model_id": "a3ad5e9d53474e94a4180e1557bef8a6",
       "version_major": 2,
       "version_minor": 0
      },
      "text/plain": [
       "Downloading (…)ce_transformers.json:   0%|          | 0.00/116 [00:00<?, ?B/s]"
      ]
     },
     "metadata": {},
     "output_type": "display_data"
    },
    {
     "data": {
      "application/vnd.jupyter.widget-view+json": {
       "model_id": "2c8579f7dc4e4d8e9721fa4ba62c84d5",
       "version_major": 2,
       "version_minor": 0
      },
      "text/plain": [
       "Downloading (…)125/data_config.json:   0%|          | 0.00/39.3k [00:00<?, ?B/s]"
      ]
     },
     "metadata": {},
     "output_type": "display_data"
    },
    {
     "data": {
      "application/vnd.jupyter.widget-view+json": {
       "model_id": "d7d2ef944fa147078b130d76ad227da9",
       "version_major": 2,
       "version_minor": 0
      },
      "text/plain": [
       "Downloading pytorch_model.bin:   0%|          | 0.00/90.9M [00:00<?, ?B/s]"
      ]
     },
     "metadata": {},
     "output_type": "display_data"
    },
    {
     "data": {
      "application/vnd.jupyter.widget-view+json": {
       "model_id": "9cd971f72078406dbea60179e566c70f",
       "version_major": 2,
       "version_minor": 0
      },
      "text/plain": [
       "Downloading (…)nce_bert_config.json:   0%|          | 0.00/53.0 [00:00<?, ?B/s]"
      ]
     },
     "metadata": {},
     "output_type": "display_data"
    },
    {
     "data": {
      "application/vnd.jupyter.widget-view+json": {
       "model_id": "8a0fa55224f146dd9364afe9d72e99bb",
       "version_major": 2,
       "version_minor": 0
      },
      "text/plain": [
       "Downloading (…)cial_tokens_map.json:   0%|          | 0.00/112 [00:00<?, ?B/s]"
      ]
     },
     "metadata": {},
     "output_type": "display_data"
    },
    {
     "data": {
      "application/vnd.jupyter.widget-view+json": {
       "model_id": "b6c791bead6b41a78725accfea8de189",
       "version_major": 2,
       "version_minor": 0
      },
      "text/plain": [
       "Downloading (…)e9125/tokenizer.json:   0%|          | 0.00/466k [00:00<?, ?B/s]"
      ]
     },
     "metadata": {},
     "output_type": "display_data"
    },
    {
     "data": {
      "application/vnd.jupyter.widget-view+json": {
       "model_id": "f4f2cefeb2f041618baa60354495ccb5",
       "version_major": 2,
       "version_minor": 0
      },
      "text/plain": [
       "Downloading (…)okenizer_config.json:   0%|          | 0.00/350 [00:00<?, ?B/s]"
      ]
     },
     "metadata": {},
     "output_type": "display_data"
    },
    {
     "data": {
      "application/vnd.jupyter.widget-view+json": {
       "model_id": "5272a359875047639a96152c134738fd",
       "version_major": 2,
       "version_minor": 0
      },
      "text/plain": [
       "Downloading (…)9125/train_script.py:   0%|          | 0.00/13.2k [00:00<?, ?B/s]"
      ]
     },
     "metadata": {},
     "output_type": "display_data"
    },
    {
     "data": {
      "application/vnd.jupyter.widget-view+json": {
       "model_id": "3292221e200c41298d8a6ffeb986db7f",
       "version_major": 2,
       "version_minor": 0
      },
      "text/plain": [
       "Downloading (…)7e55de9125/vocab.txt:   0%|          | 0.00/232k [00:00<?, ?B/s]"
      ]
     },
     "metadata": {},
     "output_type": "display_data"
    },
    {
     "data": {
      "application/vnd.jupyter.widget-view+json": {
       "model_id": "d216842e0bdb4a2b8f68ac970f0f1b48",
       "version_major": 2,
       "version_minor": 0
      },
      "text/plain": [
       "Downloading (…)5de9125/modules.json:   0%|          | 0.00/349 [00:00<?, ?B/s]"
      ]
     },
     "metadata": {},
     "output_type": "display_data"
    }
   ],
   "source": [
    "# Generate Embeddings from Product Info\n",
    "# define logic for embeddings storage\n",
    "vectordb = Chroma.from_documents(\n",
    "  documents=documents, \n",
    "  embedding_model=embedding_model, \n",
    "  persist_directory=chromadb_path\n",
    "  )\n"
   ]
  },
  {
   "cell_type": "code",
   "execution_count": null,
   "id": "82b27770",
   "metadata": {},
   "outputs": [],
   "source": []
  },
  {
   "cell_type": "code",
   "execution_count": 67,
   "id": "8d17d0a1",
   "metadata": {},
   "outputs": [
    {
     "data": {
      "application/vnd.jupyter.widget-view+json": {
       "model_id": "692a0be8ec5945d694fae6a576a09392",
       "version_major": 2,
       "version_minor": 0
      },
      "text/plain": [
       "FloatProgress(value=0.0, layout=Layout(width='100%'), style=ProgressStyle(bar_color='black'))"
      ]
     },
     "metadata": {},
     "output_type": "display_data"
    },
    {
     "data": {
      "text/plain": [
       "42994"
      ]
     },
     "execution_count": 67,
     "metadata": {},
     "output_type": "execute_result"
    }
   ],
   "source": [
    "# persist vector db to storage\n",
    "# creates 2 parquet file; before we just had an index folder\n",
    "vectordb.persist()\n",
    "\n",
    "# DBTITLE 1,Count Items in Vector DB\n",
    "vectordb._collection.count()"
   ]
  },
  {
   "cell_type": "code",
   "execution_count": 68,
   "id": "7b950961",
   "metadata": {},
   "outputs": [
    {
     "name": "stdout",
     "output_type": "stream",
     "text": [
      "Metadatas:   [{'product_id': 41976, 'product_name': 'bradleigh 2 - drawer end table'}]\n",
      "Documents:   ['large countertops , clear storage : spacious countertops for everyday ornaments , cups , books , etc . thick and stable load plate : made of durable and durable plates , the load is more secure . firmly edge-sealing , carefully built : edge-sealing fit , not easy to lift , creating a rich home atmosphere . lifting table : creative design , change if you want , you can also use it as a desk , read books , play games , extraordinary experience . bring four wheels : move freely , save effort , and go wherever you want .']\n",
      "ids:         ['c2d0edc4-e9d1-11ed-a6bb-1e00d20ee484']\n",
      "embeddings:  [[-0.0447920486330986, 0.008601327426731586, -0.018501171842217445, 0.02558579109609127, -0.047929875552654266, -0.022731784731149673, 0.00840948149561882, 0.07353478670120239, 0.012087791226804256, 0.052916303277015686, -0.0822484940290451, -0.027594074606895447, -0.02226649969816208, 0.027811164036393166, -0.03621983900666237, -0.0614473931491375, 0.029041975736618042, -0.040896132588386536, 0.013593398965895176, 0.05129982903599739, 0.01811254769563675, -0.04356937110424042, 0.044909484684467316, -0.007932079024612904, 0.026058414950966835, 0.08857745677232742, -0.11833725869655609, 0.08540748804807663, 0.09297975897789001, -0.04759269952774048, 0.03171306103467941, -0.0358053520321846, -0.020945832133293152, -0.0018150944961234927, -0.028294924646615982, 0.04589180648326874, 0.03559399023652077, -0.0030388678424060345, -0.017530549317598343, -0.03687107935547829, -0.04297393187880516, -0.015060330741107464, 0.07241582125425339, 0.06825152784585953, -0.04553942382335663, 0.025569098070263863, -0.0188909862190485, 0.00641419505700469, -0.04165436699986458, -0.05177130177617073, 0.0903220921754837, 0.023348242044448853, 0.01091865636408329, -0.010444825515151024, -0.042401544749736786, 0.07573667168617249, 0.03655552491545677, -0.04931234195828438, -0.006966628599911928, 0.029056845232844353, 0.02485947124660015, 0.026445696130394936, 0.036941174417734146, 0.003654129570350051, -0.013335979543626308, 0.05392725020647049, -0.10113972425460815, 0.012791786342859268, -0.03073008358478546, 0.06007213145494461, 0.049957748502492905, -0.010735108517110348, -0.0335586778819561, 0.02005387470126152, -0.026675216853618622, -0.16254575550556183, -0.01083954144269228, -0.12915468215942383, -0.08296818286180496, 0.02302008680999279, -0.02878594771027565, 0.04098008573055267, -0.00014643989561591297, 0.0043644956313073635, -0.09838452935218811, -0.03416765481233597, -0.000592192227486521, -0.060663703829050064, -0.05625710263848305, -0.017957285046577454, 0.11425240337848663, 0.04616390913724899, -0.017858203500509262, 0.044048987329006195, -0.05863115191459656, 0.03198365494608879, -0.006316863000392914, 0.017243217676877975, -0.015146289020776749, 0.015239409171044827, 0.018275920301675797, 0.06901827454566956, 0.09536255896091461, 0.09673700481653214, -0.10422473400831223, -0.026054585352540016, 0.009260755963623524, -0.02831215411424637, -0.0481339767575264, -0.03290466591715813, -0.03393162041902542, -0.047585710883140564, -0.10512636601924896, 0.004848796874284744, -0.0986395925283432, -0.04897354170680046, -0.029403701424598694, -0.04786955192685127, 0.002221198519691825, -0.01674194261431694, 0.022573865950107574, -0.023515447974205017, -0.026094086468219757, -0.01169615238904953, 0.00028421645401977, 0.039709679782390594, 0.0831127017736435, -1.553297867834586e-33, -0.06039169803261757, 0.033636145293712616, -0.021872445940971375, 0.060978543013334274, 0.03532020375132561, -0.002247340977191925, 0.10250268876552582, 0.07686536014080048, -0.01903080940246582, 0.10902737826108932, 0.02946638874709606, 0.015997912734746933, -0.05186532065272331, 0.10303177684545517, 0.05693160742521286, 0.08605881035327911, -0.0182057972997427, 0.041982658207416534, -0.02979629673063755, -0.06394137442111969, -0.006252314895391464, 0.0020925106946378946, 0.07074077427387238, 0.03532944992184639, 0.03623431175947189, -0.07678450644016266, 0.011007634922862053, 0.04752996936440468, -0.011100894771516323, -0.006689735688269138, 0.06677883863449097, -0.03921718895435333, -0.0043732961639761925, -0.06530462950468063, -0.0306292325258255, 0.018032072111964226, -0.06799907237291336, -0.06988219916820526, 0.07258060574531555, -0.046005330979824066, -0.042424000799655914, 0.04598875716328621, 0.042076170444488525, 0.07917039096355438, 0.01974606141448021, 0.0010603879345580935, 0.055339328944683075, 0.011563846841454506, -0.10677609592676163, -0.026836883276700974, 0.0244442131370306, -0.008425205945968628, -0.022271696478128433, 0.048748552799224854, 0.0044486080296337605, -0.04746367037296295, -0.009819270111620426, -0.03540000692009926, 0.021978212520480156, 0.025774534791707993, 0.06585627049207687, 0.008560162037611008, -0.04881958290934563, 0.01982157677412033, 0.031114961951971054, 0.047807615250349045, 0.021563207730650902, 0.034551337361335754, 0.025248486548662186, -0.010167887434363365, -0.021370580419898033, -0.08822479099035263, 0.025414587929844856, 0.037232354283332825, 0.024609066545963287, 0.024762606248259544, -0.07495268434286118, -0.09958536922931671, -0.044639844447374344, -0.029923534020781517, 0.013014866039156914, 0.0023107430897653103, -0.05338166654109955, -0.023436088114976883, -0.037700995802879333, 0.00967228040099144, 0.05345696210861206, -0.08425769209861755, 0.05964917317032814, 0.018186036497354507, -0.008905057795345783, -0.02120952308177948, 0.03188583627343178, -0.004393585026264191, -0.12124133110046387, -5.424947295840647e-34, 0.020918186753988266, 0.022792404517531395, -0.10230254381895065, 0.012346316128969193, 0.028923841193318367, -0.013031317852437496, -0.09083829075098038, -0.0605795755982399, -0.022036070004105568, -0.00934950914233923, -0.051260195672512054, -0.015130573883652687, 0.03729495406150818, -0.02356952242553234, 0.0048279170878231525, -0.03478693589568138, 0.005810198839753866, 0.0019081317586824298, -0.0427684485912323, 0.005531316623091698, 0.089229516685009, 0.007456837687641382, -0.11891895532608032, 0.070212721824646, -0.03292492777109146, -0.040750619024038315, -0.14078779518604279, -0.08671752363443375, 0.08335106819868088, 0.09255523234605789, -0.107950858771801, -0.11391893029212952, 0.08147095888853073, 0.04537082463502884, -0.005167640279978514, -0.012114944867789745, 0.0326809287071228, 0.02687608264386654, 0.03159169480204582, 0.01604303903877735, 0.01072196289896965, 0.03472033143043518, 0.01226877048611641, 0.04097679257392883, 0.007799236103892326, -0.01361873373389244, -0.0717901661992073, 0.10934244841337204, 0.005010584834963083, -0.05082302540540695, 0.019039317965507507, 0.014711214229464531, 0.0062443953938782215, -0.014502312056720257, 0.07546519488096237, -0.005644344724714756, -0.005929637234658003, -0.04067445918917656, 0.02329985983669758, 0.0019292498473078012, -0.025160804390907288, 0.022731905803084373, 0.00662694126367569, 0.0735354796051979, 0.022618014365434647, -0.044044964015483856, -0.014836806803941727, -0.03407752886414528, -0.11731113493442535, 0.007040469907224178, -0.1333552747964859, -0.039674218744039536, 0.044981274753808975, 0.01932598277926445, -0.07075746357440948, 0.0026940021198242903, 0.018805619329214096, -0.03404820337891579, -0.024413160979747772, 0.04087011143565178, -0.03285977616906166, -0.05762190371751785, 0.07141005992889404, -0.0367216058075428, 0.01712700165808201, 0.08865606784820557, -0.030654342845082283, -0.015346839092671871, -0.01375417597591877, 0.0495745874941349, 0.031128033995628357, -0.0016256892122328281, -0.03295304253697395, 0.01811460591852665, 0.0228533074259758, -4.315868551429958e-08, 0.03282894939184189, -0.02372795157134533, 0.05800439044833183, -0.10380823165178299, -0.07240741699934006, -0.05224037542939186, 0.1121133416891098, 0.0729546844959259, 0.04499392211437225, 0.013626099564135075, 0.004061538726091385, 0.042783789336681366, -0.014430093578994274, 0.025270327925682068, 0.002795236650854349, 0.1105150356888771, -0.020920656621456146, 0.0517386756837368, -0.008957315236330032, 0.001399543252773583, 0.03785300999879837, -0.04815144091844559, 0.06842415034770966, -0.02565126307308674, -0.000727397738955915, -0.00864720344543457, -0.061319347470998764, 0.022198742255568504, 0.011092100292444229, 0.05813971534371376, 0.06447380781173706, -0.007354201283305883, 0.10503073036670685, 0.030971363186836243, 0.11390630900859833, 0.09707041084766388, -0.07673858851194382, -0.047730039805173874, -0.022430505603551865, -0.015038334764540195, -0.015508998185396194, 0.0002945900778286159, -0.08763395994901657, 0.006340084131807089, 0.04956900328397751, 0.009832292795181274, -0.08229230344295502, 0.06003464013338089, -0.05290452018380165, 0.05212012305855751, -0.04328659921884537, -0.07345481216907501, 0.011079434305429459, 0.023155605420470238, 0.023881101980805397, 0.0818895772099495, -0.024157730862498283, -0.027856452390551567, 0.06083265691995621, 0.07187563180923462, 0.09574208408594131, 0.006859058514237404, -0.009719045832753181, 0.035894595086574554]]\n"
     ]
    }
   ],
   "source": [
    "# Examine a Vector DB record\n",
    "rec= vectordb._collection.peek(1)\n",
    "\n",
    "print('Metadatas:  ', rec['metadatas'])\n",
    "print('Documents:  ', rec['documents'])\n",
    "print('ids:        ', rec['ids'])\n",
    "print('embeddings: ', rec['embeddings'])"
   ]
  },
  {
   "cell_type": "code",
   "execution_count": 69,
   "id": "640999eb",
   "metadata": {},
   "outputs": [
    {
     "data": {
      "text/plain": [
       "[(Document(page_content=\"children 's nylon educational and play area rug .\", metadata={'product_id': 42543, 'product_name': 'hartland abc barnyard power loomed green/red area rug'}),\n",
       "  0.4518544673919678),\n",
       " (Document(page_content='this modern and convenient rug combines contemporary colors , an elegant medallion pattern , a wood floor safe backing , and durable construction . the kid and pet safe materials easy to spot clean , making these rugs ideal for a busy family .', metadata={'product_id': 41810, 'product_name': 'nile tarifa bohemian medallion red area rug'}),\n",
       "  0.5379310846328735),\n",
       " (Document(page_content='this modern and convenient rug combines contemporary colors , an elegant medallion pattern , a wood floor safe backing , and durable construction . the kid and pet safe materials easy to spot clean , making these rugs ideal for a busy family .', metadata={'product_id': 41811, 'product_name': 'nile tarifa bohemian medallion yellow area rug'}),\n",
       "  0.5379310846328735),\n",
       " (Document(page_content='this modern and convenient rug combines contemporary colors , an elegant medallion pattern , a wood floor safe backing , and durable construction . the kid and pet safe materials are easy to spot clean , making these rugs ideal for a busy family .', metadata={'product_id': 41813, 'product_name': 'nile tarifa bohemian medallion gray area rug'}),\n",
       "  0.5403841733932495)]"
      ]
     },
     "execution_count": 69,
     "metadata": {},
     "output_type": "execute_result"
    }
   ],
   "source": [
    "# Perform Simple Search\n",
    "vectordb.similarity_search_with_score(\"kid-proof rug\")"
   ]
  },
  {
   "cell_type": "code",
   "execution_count": 70,
   "id": "289f630a",
   "metadata": {},
   "outputs": [
    {
     "data": {
      "text/plain": [
       "[(Document(page_content='decorative motorcycle', metadata={'product_id': 17819, 'product_name': 'decorative motorcycle'}),\n",
       "  1.1318777799606323),\n",
       " (Document(page_content=\"minimalist design that 's almost invisible features : smart , simple cycle storage for all bike styles . ideal for all bikes : children 's , ladies ' , gents ' and tandems . versatile - store bikes horizontally in left or right orientations . facility to lock the bike in place . perfect for the home , office or retail display . make efficient use of space with a tiered installation . suitable for clipless or platform pedals . discreet wheel rests protect walls from dirt and damage .\", metadata={'product_id': 8767, 'product_name': 'hero bicycle wall mount bike rack'}),\n",
       "  1.1497584581375122),\n",
       " (Document(page_content=\"minimalist design that 's almost invisible features : smart , simple cycle storage for all bike styles versatile - store bikes horizontally in left or right orientations . perfect for the home , office or retail display . make efficient use of space with a tiered installation . suitable for speedplay , look , and spd . compatible with speedplay zero , ultra light , pave and syzr . compatible with most clipless road and mtb pedals . not recommended for use with eggbeater pedals . discreet wheel rests protect walls from dirt and damage .\", metadata={'product_id': 8768, 'product_name': 'super hero bicycle wall mount bike rack'}),\n",
       "  1.1759713888168335),\n",
       " (Document(page_content=\"dirt bike rider on his bike getting ready to take off ! one of our many hobbies related ornaments perfect for kids and adults who enjoy different activities both indoor and outside ! do n't forget to customize with a name and the year !\", metadata={'product_id': 19136, 'product_name': 'dirt bike hanging figurine ornament'}),\n",
       "  1.2028961181640625)]"
      ]
     },
     "execution_count": 70,
     "metadata": {},
     "output_type": "execute_result"
    }
   ],
   "source": [
    "vectordb.similarity_search_with_score(\"bicyclist\")"
   ]
  },
  {
   "cell_type": "markdown",
   "id": "a4971c5f",
   "metadata": {},
   "source": [
    "## 4.4 Deploy Model Via MLFlow"
   ]
  },
  {
   "cell_type": "markdown",
   "id": "d9be6c0e",
   "metadata": {},
   "source": [
    "#### Define Environment Requirements\n"
   ]
  },
  {
   "cell_type": "code",
   "execution_count": 71,
   "id": "8d204720",
   "metadata": {},
   "outputs": [
    {
     "name": "stdout",
     "output_type": "stream",
     "text": [
      "{'name': 'mlflow-env', 'channels': ['conda-forge'], 'dependencies': ['python=3.8.3', 'pip<=23.1.2', {'pip': ['mlflow', 'cloudpickle==2.2.1', 'pandas==2.0.1', 'langchain==0.0.157', 'chromadb==0.3.21']}]}\n"
     ]
    }
   ],
   "source": [
    "import pandas\n",
    "import langchain\n",
    "import chromadb\n",
    "\n",
    "# get base environment configuration\n",
    "conda_env = mlflow.pyfunc.get_default_conda_env()\n",
    "\n",
    "# define packages required by model\n",
    "packages = [\n",
    "  f'pandas=={pandas.__version__}',\n",
    "  f'langchain=={langchain.__version__}',\n",
    "  f'chromadb=={chromadb.__version__}'\n",
    "  ]\n",
    "\n",
    "# add required packages to environment configuration\n",
    "conda_env['dependencies'][-1]['pip'] += packages\n",
    "\n",
    "print(\n",
    "  conda_env\n",
    "  )"
   ]
  },
  {
   "cell_type": "markdown",
   "id": "e2fadd99",
   "metadata": {},
   "source": [
    "#### Define artifacts\n",
    "1. Artifacts are assets stored with the model as it is logged with MLflow.  Using keys assigned to these artifacts, those assets can be retrieved for utilization at various points in the model's logic. \n",
    "\n",
    "2. The two artifacts needed for our model are the path to the saved model and the Chroma database, both of which were persisted to storage in previous steps.  Please note that these objects were saved to the *Databricks Filesystem* which MLflow understands how to reference.  As a result, we need to alter the paths to these items by replacing the local */dbfs* to *dbfs:*"
   ]
  },
  {
   "cell_type": "code",
   "execution_count": 72,
   "id": "aa26398b",
   "metadata": {},
   "outputs": [
    {
     "name": "stdout",
     "output_type": "stream",
     "text": [
      "{'embedding_model': '/Users/chang/Documents/dev/git/gratia/03_system/datapipeilne/scaling-machine-learning-course/db-product-search/work-dir/models/embedding_model', 'chromadb': '/Users/chang/Documents/dev/git/gratia/03_system/datapipeilne/scaling-machine-learning-course/db-product-search/work-dir/wands/chromadb'}\n"
     ]
    }
   ],
   "source": [
    "#Identify Model Artifacts\n",
    "artifacts = {\n",
    "  'embedding_model': embedding_model_path,#.replace('/dbfs','dbfs:'), \n",
    "  'chromadb': chromadb_path#.replace('/dbfs','dbfs:')\n",
    "  }\n",
    "\n",
    "print(\n",
    "  artifacts\n",
    "  )"
   ]
  },
  {
   "cell_type": "markdown",
   "id": "ea67a897",
   "metadata": {},
   "source": [
    "#### Define Model Wrapper class\n",
    "- In the Databricks environment, deployment typically takes place using [MLflow](https://www.databricks.com/product/managed-mlflow), which has the ability to build a containerized service from our model as one of its deployment patterns.  Generic Python models deployed with MLflow typically support a standard API with a *predict* method that's called for inference.  We will need to write a custom wrapper to map a standard interface to our model as follows:"
   ]
  },
  {
   "cell_type": "code",
   "execution_count": 73,
   "id": "1890a791",
   "metadata": {},
   "outputs": [],
   "source": [
    "class ProductSearchWrapper(mlflow.pyfunc.PythonModel):\n",
    "\n",
    "  # define steps to initialize model\n",
    "  # addresses the steps that need to take place at model initialization. Two of those steps make reference to artifacts within the model's context.\n",
    "  def load_context(self, context):\n",
    "\n",
    "    # import required libraries\n",
    "    import pandas as pd\n",
    "    from langchain.embeddings import HuggingFaceEmbeddings\n",
    "    from langchain.vectorstores import Chroma\n",
    "\n",
    "    # retrieve embedding model\n",
    "    embedding_model = HuggingFaceEmbeddings(model_name=context.artifacts['embedding_model'])\n",
    "\n",
    "    # retrieve vectordb contents\n",
    "    self._vectordb = Chroma(\n",
    "      persist_directory=context.artifacts['chromadb'],\n",
    "      embedding_function=embedding_model\n",
    "      )\n",
    "\n",
    "    # set number of results to return\n",
    "    self._max_results = 5\n",
    "\n",
    "\n",
    "  # define steps to generate results\n",
    "  # note: query_df expects only one query\n",
    "  def predict(self, context, query_df):\n",
    "\n",
    "    # import required libraries\n",
    "    import pandas as pd \n",
    "\n",
    "    # perform search on embeddings\n",
    "    raw_results = self._vectordb.similarity_search_with_score(\n",
    "      query_df['query'].values[0], # only expecting one value at a time \n",
    "      k=self._max_results\n",
    "      )\n",
    "\n",
    "    # get lists of of scores, descriptions and ids from raw results\n",
    "    scores, descriptions, names, ids = zip(\n",
    "      *[(r[1], r[0].page_content, r[0].metadata['product_name'], r[0].metadata['product_id']) for r in raw_results]\n",
    "      )\n",
    "\n",
    "    # reorganized results as a pandas df, sorted on score\n",
    "    results_pd = pd.DataFrame({\n",
    "      'product_id':ids,\n",
    "      'product_name':names,\n",
    "      'product_description':descriptions,\n",
    "      'score':scores\n",
    "      }).sort_values(axis=0, by='score', ascending=True)\n",
    "    \n",
    "    # set return value\n",
    "    return results_pd\n"
   ]
  },
  {
   "cell_type": "markdown",
   "id": "97fb92aa",
   "metadata": {},
   "source": [
    "#### Persist Model to MLFlow\n",
    "1. Notice that in this scenario, our embedding model and Chroma database are being loaded as artifacts and that our *python_model* is just the class definition that provides the logic for hydrating a model from those artifacts:\n",
    "\n",
    "2. If we use the experiments UI (accessible by clicking the flask icon in the right-hand navigation of your workspace), we can access the details surrounding the model we just logged.  By expanding the folder structure behind the model, we can see the model and vector store assets loaded into MLflow:\n",
    "\n"
   ]
  },
  {
   "cell_type": "code",
   "execution_count": null,
   "id": "7e9df3fc",
   "metadata": {},
   "outputs": [],
   "source": []
  },
  {
   "cell_type": "code",
   "execution_count": 78,
   "id": "d8a4d17f",
   "metadata": {},
   "outputs": [
    {
     "name": "stderr",
     "output_type": "stream",
     "text": [
      "Registered model 'wands_basic_search' already exists. Creating a new version of this model...\n",
      "2023/05/03 10:34:58 INFO mlflow.tracking._model_registry.client: Waiting up to 300 seconds for model version to finish creation. Model name: wands_basic_search, version 3\n",
      "Created version '3' of model 'wands_basic_search'.\n"
     ]
    }
   ],
   "source": [
    "# serialize the model to mlruns/models/version_*\n",
    "#.   each time I run the cmd below, it will create a new wands_basic_search versopm\n",
    "with mlflow.start_run() as run:\n",
    "\n",
    "    mlflow.pyfunc.log_model(\n",
    "        artifact_path='model',\n",
    "        python_model=ProductSearchWrapper(),\n",
    "        conda_env=conda_env,\n",
    "        artifacts=artifacts, # items at artifact path will be loaded into mlflow repository\n",
    "        registered_model_name=config['basic_model_name']\n",
    "    )"
   ]
  },
  {
   "cell_type": "code",
   "execution_count": 55,
   "id": "a6c17396",
   "metadata": {},
   "outputs": [
    {
     "data": {
      "text/plain": [
       "<RunInfo: artifact_uri='file:///Users/thomaschang/git/thomaschangsf/db-product-search/mlruns/126008453708962408/a666e11f719349ea95b39ed252cd4f6e/artifacts', end_time=None, experiment_id='126008453708962408', lifecycle_stage='active', run_id='a666e11f719349ea95b39ed252cd4f6e', run_name='dashing-ray-168', run_uuid='a666e11f719349ea95b39ed252cd4f6e', start_time=1683321621993, status='RUNNING', user_id='thomaschang'>"
      ]
     },
     "execution_count": 55,
     "metadata": {},
     "output_type": "execute_result"
    }
   ],
   "source": [
    "run.info"
   ]
  },
  {
   "cell_type": "markdown",
   "id": "c8dc6d4d",
   "metadata": {},
   "source": [
    "#### Elevate to production\n",
    "- In mlruns/models/wands_basic_search/version-*/meta.yaml. \n",
    "```\n",
    "    current_stage: None | Production\n",
    "```\n",
    "    * the models directory appears to be the \"model\" repository\n",
    "- The next command will update this meta.yaml file's stage to production\n",
    "\n",
    "- Loading our model, we can perform a simple test to see results from a sample search. \n",
    "\n"
   ]
  },
  {
   "cell_type": "code",
   "execution_count": 94,
   "id": "130efbf9",
   "metadata": {},
   "outputs": [
    {
     "data": {
      "text/plain": [
       "<ModelVersion: aliases=[], creation_timestamp=1683135298551, current_stage='Production', description=None, last_updated_timestamp=1683136187082, name='wands_basic_search', run_id='4602daae68fc4f7fa4a86a0397f40dcf', run_link=None, source='file:///Users/chang/Documents/dev/git/gratia/03_system/datapipeilne/scaling-machine-learning-course/db-product-search/mlruns/625849527336453425/4602daae68fc4f7fa4a86a0397f40dcf/artifacts/model', status='READY', status_message=None, tags={}, user_id=None, version=3>"
      ]
     },
     "execution_count": 94,
     "metadata": {},
     "output_type": "execute_result"
    }
   ],
   "source": [
    "client = mlflow.MlflowClient()\n",
    "\n",
    "latest_version = client.get_latest_versions(config['basic_model_name'], stages=['None'])[0].version\n",
    "\n",
    "client.transition_model_version_stage(\n",
    "    name=config['basic_model_name'],\n",
    "    version=latest_version,\n",
    "    stage='Production',\n",
    "    archive_existing_versions=True\n",
    ")\n"
   ]
  },
  {
   "cell_type": "markdown",
   "id": "40f5b686",
   "metadata": {},
   "source": [
    "#### Retrieve model from registry\n"
   ]
  },
  {
   "cell_type": "code",
   "execution_count": 95,
   "id": "86cf650e",
   "metadata": {},
   "outputs": [
    {
     "name": "stderr",
     "output_type": "stream",
     "text": [
      "WARNING:chromadb:Using embedded DuckDB with persistence: data will be stored in: /Users/chang/Documents/dev/git/gratia/03_system/datapipeilne/scaling-machine-learning-course/db-product-search/mlruns/625849527336453425/4602daae68fc4f7fa4a86a0397f40dcf/artifacts/model/artifacts/chromadb\n"
     ]
    }
   ],
   "source": [
    "# appears load_model has a context directory of your current experiment, probably set by mlflow.pyfunc.log_model\n",
    "model = mlflow.pyfunc.load_model(f\"models:/{config['basic_model_name']}/Production\")\n"
   ]
  },
  {
   "cell_type": "code",
   "execution_count": 96,
   "id": "22e1a347",
   "metadata": {},
   "outputs": [
    {
     "data": {
      "text/html": [
       "<div>\n",
       "<style scoped>\n",
       "    .dataframe tbody tr th:only-of-type {\n",
       "        vertical-align: middle;\n",
       "    }\n",
       "\n",
       "    .dataframe tbody tr th {\n",
       "        vertical-align: top;\n",
       "    }\n",
       "\n",
       "    .dataframe thead th {\n",
       "        text-align: right;\n",
       "    }\n",
       "</style>\n",
       "<table border=\"1\" class=\"dataframe\">\n",
       "  <thead>\n",
       "    <tr style=\"text-align: right;\">\n",
       "      <th></th>\n",
       "      <th>product_id</th>\n",
       "      <th>product_name</th>\n",
       "      <th>product_description</th>\n",
       "      <th>score</th>\n",
       "    </tr>\n",
       "  </thead>\n",
       "  <tbody>\n",
       "    <tr>\n",
       "      <th>0</th>\n",
       "      <td>14562</td>\n",
       "      <td>rustic dining table</td>\n",
       "      <td>rustic dining table</td>\n",
       "      <td>1.022571</td>\n",
       "    </tr>\n",
       "    <tr>\n",
       "      <th>1</th>\n",
       "      <td>14783</td>\n",
       "      <td>industrial solid wood dining table</td>\n",
       "      <td>gather family and friends for good food and go...</td>\n",
       "      <td>1.030153</td>\n",
       "    </tr>\n",
       "    <tr>\n",
       "      <th>2</th>\n",
       "      <td>22297</td>\n",
       "      <td>norman dining table</td>\n",
       "      <td>norman dining table</td>\n",
       "      <td>1.064149</td>\n",
       "    </tr>\n",
       "    <tr>\n",
       "      <th>3</th>\n",
       "      <td>23646</td>\n",
       "      <td>lockard extendable dining table</td>\n",
       "      <td>anchor your dining room in modern farmhouse st...</td>\n",
       "      <td>1.092422</td>\n",
       "    </tr>\n",
       "    <tr>\n",
       "      <th>4</th>\n",
       "      <td>13935</td>\n",
       "      <td>marceline 40 '' console table</td>\n",
       "      <td>farmhouse inspired design will add a charming ...</td>\n",
       "      <td>1.094104</td>\n",
       "    </tr>\n",
       "  </tbody>\n",
       "</table>\n",
       "</div>"
      ],
      "text/plain": [
       "   product_id                        product_name   \n",
       "0       14562                 rustic dining table  \\\n",
       "1       14783  industrial solid wood dining table   \n",
       "2       22297                 norman dining table   \n",
       "3       23646     lockard extendable dining table   \n",
       "4       13935       marceline 40 '' console table   \n",
       "\n",
       "                                 product_description     score  \n",
       "0                                rustic dining table  1.022571  \n",
       "1  gather family and friends for good food and go...  1.030153  \n",
       "2                                norman dining table  1.064149  \n",
       "3  anchor your dining room in modern farmhouse st...  1.092422  \n",
       "4  farmhouse inspired design will add a charming ...  1.094104  "
      ]
     },
     "metadata": {},
     "output_type": "display_data"
    }
   ],
   "source": [
    "# Test Persisted Model with Sample Search\n",
    "search = pd.DataFrame({'query':['farmhouse dining room table']})\n",
    "\n",
    "# call model\n",
    "display(model.predict(search))"
   ]
  },
  {
   "cell_type": "code",
   "execution_count": null,
   "id": "b98520e7",
   "metadata": {},
   "outputs": [],
   "source": []
  },
  {
   "cell_type": "markdown",
   "id": "98ab9dd4",
   "metadata": {},
   "source": [
    "# 5 Fine Tune\n",
    "- Based on 03_Fine_Tune_Model.py\n",
    "- Having demonstrated the basics of assembling a model and supporting data to enable a semantic search, we will now focus on fine-tuning the model.  During fine-tuning, the model is fit against a set of data specific to a particular domain, such as our product catalog.  The original knowledge accumulated by our model from its pre-training remains intact but is supplemented with information gleaned from the additional data provided.  Once the model has been tuned to our satisfaction, it is packaged and persisted just like as before."
   ]
  },
  {
   "cell_type": "code",
   "execution_count": 43,
   "id": "05c4e9da",
   "metadata": {},
   "outputs": [
    {
     "name": "stdout",
     "output_type": "stream",
     "text": [
      "Looking in indexes: https://pypi.org/simple, https://pypi.ngc.nvidia.com\n",
      "Collecting langchain\n",
      "  Downloading langchain-0.0.157-py3-none-any.whl (727 kB)\n",
      "\u001b[2K     \u001b[38;2;114;156;31m━━━━━━━━━━━━━━━━━━━━━━━━━━━━━━━━━━━━━━━\u001b[0m \u001b[32m727.6/727.6 kB\u001b[0m \u001b[31m1.4 MB/s\u001b[0m eta \u001b[36m0:00:00\u001b[0m MB/s\u001b[0m eta \u001b[36m0:00:01\u001b[0m:01\u001b[0m\n",
      "\u001b[?25hRequirement already satisfied: PyYAML>=5.4.1 in /Users/thomaschang/git/venv/lib/python3.9/site-packages (from langchain) (6.0)\n",
      "Requirement already satisfied: SQLAlchemy<3,>=1.3 in /Users/thomaschang/git/venv/lib/python3.9/site-packages (from langchain) (2.0.12)\n",
      "Collecting aiohttp<4.0.0,>=3.8.3 (from langchain)\n",
      "  Downloading aiohttp-3.8.4-cp39-cp39-macosx_10_9_x86_64.whl (360 kB)\n",
      "\u001b[2K     \u001b[38;2;114;156;31m━━━━━━━━━━━━━━━━━━━━━━━━━━━━━━━━━━━━━━━\u001b[0m \u001b[32m360.3/360.3 kB\u001b[0m \u001b[31m1.8 MB/s\u001b[0m eta \u001b[36m0:00:00\u001b[0m MB/s\u001b[0m eta \u001b[36m0:00:01\u001b[0m:01\u001b[0m\n",
      "\u001b[?25hCollecting async-timeout<5.0.0,>=4.0.0 (from langchain)\n",
      "  Downloading async_timeout-4.0.2-py3-none-any.whl (5.8 kB)\n",
      "Collecting dataclasses-json<0.6.0,>=0.5.7 (from langchain)\n",
      "  Downloading dataclasses_json-0.5.7-py3-none-any.whl (25 kB)\n",
      "Collecting numexpr<3.0.0,>=2.8.4 (from langchain)\n",
      "  Downloading numexpr-2.8.4-cp39-cp39-macosx_10_9_x86_64.whl (99 kB)\n",
      "\u001b[2K     \u001b[38;2;114;156;31m━━━━━━━━━━━━━━━━━━━━━━━━━━━━━━━━━━━━━━━━\u001b[0m \u001b[32m99.9/99.9 kB\u001b[0m \u001b[31m2.3 MB/s\u001b[0m eta \u001b[36m0:00:00\u001b[0m[31m1.9 MB/s\u001b[0m eta \u001b[36m0:00:01\u001b[0m\n",
      "\u001b[?25hRequirement already satisfied: numpy<2,>=1 in /Users/thomaschang/git/venv/lib/python3.9/site-packages (from langchain) (1.24.3)\n",
      "Collecting openapi-schema-pydantic<2.0,>=1.2 (from langchain)\n",
      "  Downloading openapi_schema_pydantic-1.2.4-py3-none-any.whl (90 kB)\n",
      "\u001b[2K     \u001b[38;2;114;156;31m━━━━━━━━━━━━━━━━━━━━━━━━━━━━━━━━━━━━━━━━\u001b[0m \u001b[32m90.0/90.0 kB\u001b[0m \u001b[31m2.2 MB/s\u001b[0m eta \u001b[36m0:00:00\u001b[0m\n",
      "\u001b[?25hCollecting pydantic<2,>=1 (from langchain)\n",
      "  Downloading pydantic-1.10.7-cp39-cp39-macosx_10_9_x86_64.whl (2.9 MB)\n",
      "\u001b[2K     \u001b[38;2;114;156;31m━━━━━━━━━━━━━━━━━━━━━━━━━━━━━━━━━━━━━━━━\u001b[0m \u001b[32m2.9/2.9 MB\u001b[0m \u001b[31m2.0 MB/s\u001b[0m eta \u001b[36m0:00:00\u001b[0m[31m2.0 MB/s\u001b[0m eta \u001b[36m0:00:01\u001b[0m\n",
      "\u001b[?25hRequirement already satisfied: requests<3,>=2 in /Users/thomaschang/git/venv/lib/python3.9/site-packages (from langchain) (2.29.0)\n",
      "Collecting tenacity<9.0.0,>=8.1.0 (from langchain)\n",
      "  Downloading tenacity-8.2.2-py3-none-any.whl (24 kB)\n",
      "Requirement already satisfied: tqdm>=4.48.0 in /Users/thomaschang/git/venv/lib/python3.9/site-packages (from langchain) (4.65.0)\n",
      "Requirement already satisfied: attrs>=17.3.0 in /Users/thomaschang/git/venv/lib/python3.9/site-packages (from aiohttp<4.0.0,>=3.8.3->langchain) (23.1.0)\n",
      "Requirement already satisfied: charset-normalizer<4.0,>=2.0 in /Users/thomaschang/git/venv/lib/python3.9/site-packages (from aiohttp<4.0.0,>=3.8.3->langchain) (3.1.0)\n",
      "Collecting multidict<7.0,>=4.5 (from aiohttp<4.0.0,>=3.8.3->langchain)\n",
      "  Downloading multidict-6.0.4-cp39-cp39-macosx_10_9_x86_64.whl (29 kB)\n",
      "Collecting yarl<2.0,>=1.0 (from aiohttp<4.0.0,>=3.8.3->langchain)\n",
      "  Downloading yarl-1.9.2-cp39-cp39-macosx_10_9_x86_64.whl (65 kB)\n",
      "\u001b[2K     \u001b[38;2;114;156;31m━━━━━━━━━━━━━━━━━━━━━━━━━━━━━━━━━━━━━━━━\u001b[0m \u001b[32m65.9/65.9 kB\u001b[0m \u001b[31m2.3 MB/s\u001b[0m eta \u001b[36m0:00:00\u001b[0m\n",
      "\u001b[?25hCollecting frozenlist>=1.1.1 (from aiohttp<4.0.0,>=3.8.3->langchain)\n",
      "  Downloading frozenlist-1.3.3-cp39-cp39-macosx_10_9_x86_64.whl (36 kB)\n",
      "Collecting aiosignal>=1.1.2 (from aiohttp<4.0.0,>=3.8.3->langchain)\n",
      "  Downloading aiosignal-1.3.1-py3-none-any.whl (7.6 kB)\n",
      "Collecting marshmallow<4.0.0,>=3.3.0 (from dataclasses-json<0.6.0,>=0.5.7->langchain)\n",
      "  Downloading marshmallow-3.19.0-py3-none-any.whl (49 kB)\n",
      "\u001b[2K     \u001b[38;2;114;156;31m━━━━━━━━━━━━━━━━━━━━━━━━━━━━━━━━━━━━━━━━\u001b[0m \u001b[32m49.1/49.1 kB\u001b[0m \u001b[31m2.1 MB/s\u001b[0m eta \u001b[36m0:00:00\u001b[0m\n",
      "\u001b[?25hCollecting marshmallow-enum<2.0.0,>=1.5.1 (from dataclasses-json<0.6.0,>=0.5.7->langchain)\n",
      "  Downloading marshmallow_enum-1.5.1-py2.py3-none-any.whl (4.2 kB)\n",
      "Collecting typing-inspect>=0.4.0 (from dataclasses-json<0.6.0,>=0.5.7->langchain)\n",
      "  Downloading typing_inspect-0.8.0-py3-none-any.whl (8.7 kB)\n",
      "Requirement already satisfied: typing-extensions>=4.2.0 in /Users/thomaschang/git/venv/lib/python3.9/site-packages (from pydantic<2,>=1->langchain) (4.5.0)\n",
      "Requirement already satisfied: idna<4,>=2.5 in /Users/thomaschang/git/venv/lib/python3.9/site-packages (from requests<3,>=2->langchain) (3.4)\n",
      "Requirement already satisfied: urllib3<1.27,>=1.21.1 in /Users/thomaschang/git/venv/lib/python3.9/site-packages (from requests<3,>=2->langchain) (1.26.15)\n",
      "Requirement already satisfied: certifi>=2017.4.17 in /Users/thomaschang/git/venv/lib/python3.9/site-packages (from requests<3,>=2->langchain) (2022.12.7)\n",
      "Requirement already satisfied: greenlet!=0.4.17 in /Users/thomaschang/git/venv/lib/python3.9/site-packages (from SQLAlchemy<3,>=1.3->langchain) (2.0.2)\n",
      "Requirement already satisfied: packaging>=17.0 in /Users/thomaschang/git/venv/lib/python3.9/site-packages (from marshmallow<4.0.0,>=3.3.0->dataclasses-json<0.6.0,>=0.5.7->langchain) (23.1)\n",
      "Collecting mypy-extensions>=0.3.0 (from typing-inspect>=0.4.0->dataclasses-json<0.6.0,>=0.5.7->langchain)\n",
      "  Downloading mypy_extensions-1.0.0-py3-none-any.whl (4.7 kB)\n",
      "Installing collected packages: tenacity, pydantic, numexpr, mypy-extensions, multidict, marshmallow, frozenlist, async-timeout, yarl, typing-inspect, openapi-schema-pydantic, marshmallow-enum, aiosignal, dataclasses-json, aiohttp, langchain\n",
      "Successfully installed aiohttp-3.8.4 aiosignal-1.3.1 async-timeout-4.0.2 dataclasses-json-0.5.7 frozenlist-1.3.3 langchain-0.0.157 marshmallow-3.19.0 marshmallow-enum-1.5.1 multidict-6.0.4 mypy-extensions-1.0.0 numexpr-2.8.4 openapi-schema-pydantic-1.2.4 pydantic-1.10.7 tenacity-8.2.2 typing-inspect-0.8.0 yarl-1.9.2\n",
      "Note: you may need to restart the kernel to use updated packages.\n"
     ]
    }
   ],
   "source": [
    "%pip install langchain"
   ]
  },
  {
   "cell_type": "code",
   "execution_count": 15,
   "id": "67842c00",
   "metadata": {},
   "outputs": [],
   "source": [
    "from sentence_transformers import SentenceTransformer, util, InputExample, losses, evaluation\n",
    "import torch\n",
    "from torch.utils.data import DataLoader\n",
    "\n",
    "from langchain.document_loaders import DataFrameLoader\n",
    "from langchain.embeddings import HuggingFaceEmbeddings\n",
    "from langchain.vectorstores import Chroma\n",
    "\n",
    "import numpy as np\n",
    "import pandas as pd\n",
    "\n",
    "import mlflow"
   ]
  },
  {
   "cell_type": "markdown",
   "id": "201b561c",
   "metadata": {},
   "source": [
    "## 5.1 Aggregate product, labels, and query"
   ]
  },
  {
   "cell_type": "code",
   "execution_count": 16,
   "id": "355865ec",
   "metadata": {},
   "outputs": [
    {
     "data": {
      "text/html": [
       "<div>\n",
       "<style scoped>\n",
       "    .dataframe tbody tr th:only-of-type {\n",
       "        vertical-align: middle;\n",
       "    }\n",
       "\n",
       "    .dataframe tbody tr th {\n",
       "        vertical-align: top;\n",
       "    }\n",
       "\n",
       "    .dataframe thead th {\n",
       "        text-align: right;\n",
       "    }\n",
       "</style>\n",
       "<table border=\"1\" class=\"dataframe\">\n",
       "  <thead>\n",
       "    <tr style=\"text-align: right;\">\n",
       "      <th></th>\n",
       "      <th>query</th>\n",
       "      <th>product_text</th>\n",
       "      <th>score</th>\n",
       "    </tr>\n",
       "  </thead>\n",
       "  <tbody>\n",
       "    <tr>\n",
       "      <th>0</th>\n",
       "      <td>parsons chairs</td>\n",
       "      <td>the executive chair features stylish chrome ac...</td>\n",
       "      <td>0.75</td>\n",
       "    </tr>\n",
       "    <tr>\n",
       "      <th>1</th>\n",
       "      <td>ergonomic chair</td>\n",
       "      <td>the executive chair features stylish chrome ac...</td>\n",
       "      <td>1.00</td>\n",
       "    </tr>\n",
       "    <tr>\n",
       "      <th>2</th>\n",
       "      <td>teal chair</td>\n",
       "      <td>the executive chair features stylish chrome ac...</td>\n",
       "      <td>0.75</td>\n",
       "    </tr>\n",
       "    <tr>\n",
       "      <th>3</th>\n",
       "      <td>togo chair</td>\n",
       "      <td>the executive chair features stylish chrome ac...</td>\n",
       "      <td>0.75</td>\n",
       "    </tr>\n",
       "    <tr>\n",
       "      <th>4</th>\n",
       "      <td>ruckus chair</td>\n",
       "      <td>the executive chair features stylish chrome ac...</td>\n",
       "      <td>0.00</td>\n",
       "    </tr>\n",
       "    <tr>\n",
       "      <th>...</th>\n",
       "      <td>...</td>\n",
       "      <td>...</td>\n",
       "      <td>...</td>\n",
       "    </tr>\n",
       "    <tr>\n",
       "      <th>233443</th>\n",
       "      <td>wood bar stools</td>\n",
       "      <td>this set of two barstools features a minimalis...</td>\n",
       "      <td>0.75</td>\n",
       "    </tr>\n",
       "    <tr>\n",
       "      <th>233444</th>\n",
       "      <td>wine bar</td>\n",
       "      <td>this set of two barstools features a minimalis...</td>\n",
       "      <td>0.00</td>\n",
       "    </tr>\n",
       "    <tr>\n",
       "      <th>233445</th>\n",
       "      <td>bar stool 24 inches height</td>\n",
       "      <td>this set of two barstools features a minimalis...</td>\n",
       "      <td>0.75</td>\n",
       "    </tr>\n",
       "    <tr>\n",
       "      <th>233446</th>\n",
       "      <td>bar stool with backrest</td>\n",
       "      <td>this set of two barstools features a minimalis...</td>\n",
       "      <td>0.75</td>\n",
       "    </tr>\n",
       "    <tr>\n",
       "      <th>233447</th>\n",
       "      <td>overstreet rustic pub stools</td>\n",
       "      <td>this set of two barstools features a minimalis...</td>\n",
       "      <td>0.75</td>\n",
       "    </tr>\n",
       "  </tbody>\n",
       "</table>\n",
       "<p>233448 rows × 3 columns</p>\n",
       "</div>"
      ],
      "text/plain": [
       "                               query   \n",
       "0                     parsons chairs  \\\n",
       "1                    ergonomic chair   \n",
       "2                         teal chair   \n",
       "3                         togo chair   \n",
       "4                       ruckus chair   \n",
       "...                              ...   \n",
       "233443               wood bar stools   \n",
       "233444                      wine bar   \n",
       "233445    bar stool 24 inches height   \n",
       "233446       bar stool with backrest   \n",
       "233447  overstreet rustic pub stools   \n",
       "\n",
       "                                             product_text  score  \n",
       "0       the executive chair features stylish chrome ac...   0.75  \n",
       "1       the executive chair features stylish chrome ac...   1.00  \n",
       "2       the executive chair features stylish chrome ac...   0.75  \n",
       "3       the executive chair features stylish chrome ac...   0.75  \n",
       "4       the executive chair features stylish chrome ac...   0.00  \n",
       "...                                                   ...    ...  \n",
       "233443  this set of two barstools features a minimalis...   0.75  \n",
       "233444  this set of two barstools features a minimalis...   0.00  \n",
       "233445  this set of two barstools features a minimalis...   0.75  \n",
       "233446  this set of two barstools features a minimalis...   0.75  \n",
       "233447  this set of two barstools features a minimalis...   0.75  \n",
       "\n",
       "[233448 rows x 3 columns]"
      ]
     },
     "metadata": {},
     "output_type": "display_data"
    }
   ],
   "source": [
    "search_pd = (\n",
    "  spark   \n",
    "    .table('products')\n",
    "    .selectExpr(\n",
    "      'product_id',\n",
    "      'product_name',\n",
    "      'COALESCE(product_description, product_name) as product_text' # use product description if available, otherwise name\n",
    "      )\n",
    "    .join(\n",
    "        df_label, #spark.table('labels'),\n",
    "        on='product_id'\n",
    "      )\n",
    "    .join(\n",
    "      spark\n",
    "        .table('queries'),\n",
    "        on='query_id'\n",
    "      )\n",
    "      .selectExpr('query','product_text','label_score as score')\n",
    "  ).toPandas()\n",
    "\n",
    "display(search_pd)"
   ]
  },
  {
   "cell_type": "markdown",
   "id": "bc6aa7d9",
   "metadata": {},
   "source": [
    "## 5.2 Embed product, query, and label"
   ]
  },
  {
   "cell_type": "code",
   "execution_count": 17,
   "id": "5cb83c85",
   "metadata": {},
   "outputs": [],
   "source": [
    "original_model = SentenceTransformer('all-MiniLM-L12-v2')\n",
    "\n",
    "\n"
   ]
  },
  {
   "cell_type": "code",
   "execution_count": 47,
   "id": "80a05751",
   "metadata": {},
   "outputs": [
    {
     "name": "stdout",
     "output_type": "stream",
     "text": [
      "DONE\n"
     ]
    }
   ],
   "source": [
    "query_embeddings = (\n",
    "  original_model\n",
    "    .encode(\n",
    "      search_pd['query'].tolist()\n",
    "      )\n",
    "  )\n",
    "print('DONE')"
   ]
  },
  {
   "cell_type": "code",
   "execution_count": 48,
   "id": "f43917b8",
   "metadata": {},
   "outputs": [
    {
     "name": "stdout",
     "output_type": "stream",
     "text": [
      "DONE\n"
     ]
    }
   ],
   "source": [
    "product_embeddings = (\n",
    "  original_model\n",
    "    .encode(\n",
    "      search_pd['product_text'].tolist()\n",
    "      )\n",
    "  )\n",
    "print('DONE')"
   ]
  },
  {
   "cell_type": "markdown",
   "id": "893a680b",
   "metadata": {},
   "source": [
    "#### Calculate cosine similarity between Queries and Products"
   ]
  },
  {
   "cell_type": "code",
   "execution_count": 50,
   "id": "f2aedebb",
   "metadata": {},
   "outputs": [
    {
     "name": "stdout",
     "output_type": "stream",
     "text": [
      "tensor([0.3665, 0.6709, 0.4955,  ..., 0.5241, 0.5641, 0.6809])\n"
     ]
    }
   ],
   "source": [
    "original_cos_sim_scores = (\n",
    "  util.pairwise_cos_sim(\n",
    "    query_embeddings, \n",
    "    product_embeddings\n",
    "    )\n",
    "  )\n",
    "print(original_cos_sim_scores)\n"
   ]
  },
  {
   "cell_type": "markdown",
   "id": "2bf8ff64",
   "metadata": {},
   "source": [
    "#### Analyze correlation between cosine similarity and human relevancy score"
   ]
  },
  {
   "cell_type": "code",
   "execution_count": 51,
   "id": "12e4e2a7",
   "metadata": {},
   "outputs": [
    {
     "name": "stdout",
     "output_type": "stream",
     "text": [
      "0.432595382706685\n"
     ]
    }
   ],
   "source": [
    "original_corr_coef_score = (\n",
    "  np.corrcoef(\n",
    "    original_cos_sim_scores,\n",
    "    search_pd['score'].values\n",
    "  )[0][1]\n",
    ") \n",
    "# print results\n",
    "print(original_corr_coef_score)"
   ]
  },
  {
   "cell_type": "code",
   "execution_count": null,
   "id": "0233d979",
   "metadata": {},
   "outputs": [],
   "source": []
  },
  {
   "cell_type": "markdown",
   "id": "8093a039",
   "metadata": {},
   "source": [
    "## 5.3 Fine Tune Model\n",
    "- With a baseline measurement of the original model's performance in-hand, we can now fine-tune it using our annotated search result data.  We will start by restructuring our query results into a list of inputs as required by the model:"
   ]
  },
  {
   "cell_type": "markdown",
   "id": "2f5a86c2",
   "metadata": {},
   "source": [
    "#### Restructure Data for Model Input"
   ]
  },
  {
   "cell_type": "code",
   "execution_count": 24,
   "id": "491c917c",
   "metadata": {},
   "outputs": [
    {
     "data": {
      "text/plain": [
       "<bound method DataFrame.count of                                query   \n",
       "0                     parsons chairs  \\\n",
       "1                    ergonomic chair   \n",
       "2                         teal chair   \n",
       "3                         togo chair   \n",
       "4                       ruckus chair   \n",
       "...                              ...   \n",
       "233443               wood bar stools   \n",
       "233444                      wine bar   \n",
       "233445    bar stool 24 inches height   \n",
       "233446       bar stool with backrest   \n",
       "233447  overstreet rustic pub stools   \n",
       "\n",
       "                                             product_text  score  \n",
       "0       the executive chair features stylish chrome ac...   0.75  \n",
       "1       the executive chair features stylish chrome ac...   1.00  \n",
       "2       the executive chair features stylish chrome ac...   0.75  \n",
       "3       the executive chair features stylish chrome ac...   0.75  \n",
       "4       the executive chair features stylish chrome ac...   0.00  \n",
       "...                                                   ...    ...  \n",
       "233443  this set of two barstools features a minimalis...   0.75  \n",
       "233444  this set of two barstools features a minimalis...   0.00  \n",
       "233445  this set of two barstools features a minimalis...   0.75  \n",
       "233446  this set of two barstools features a minimalis...   0.75  \n",
       "233447  this set of two barstools features a minimalis...   0.75  \n",
       "\n",
       "[233448 rows x 3 columns]>"
      ]
     },
     "execution_count": 24,
     "metadata": {},
     "output_type": "execute_result"
    }
   ],
   "source": [
    "# 233448\n",
    "search_pd.count"
   ]
  },
  {
   "cell_type": "code",
   "execution_count": 26,
   "id": "7dcea675",
   "metadata": {},
   "outputs": [
    {
     "data": {
      "text/plain": [
       "<bound method DataFrame.count of                                            query   \n",
       "36139                          bathroom lighting  \\\n",
       "125119                      home sweet home sign   \n",
       "41237                                 card table   \n",
       "26554                             entrance table   \n",
       "67036                            turquoise chair   \n",
       "...                                          ...   \n",
       "163066  48 inch bathroom vanity with trough sink   \n",
       "125658                   cloud modular sectional   \n",
       "9235                               rooster decor   \n",
       "195967                 memory foam rug galveston   \n",
       "166549                             hardwood beds   \n",
       "\n",
       "                                             product_text  score  \n",
       "36139   lenora 's duke 's collection conveys the elega...   0.00  \n",
       "125119  this welcome sign for the front door will add ...   0.75  \n",
       "41237   linearity and comfort are in no way opposites ...   0.75  \n",
       "26554   anchor your seating ensemble with this contemp...   0.00  \n",
       "67036                     chiara upholstered dining chair   0.75  \n",
       "...                                                   ...    ...  \n",
       "163066  the porcelain undermount sink is made from tru...   0.75  \n",
       "125658  let your living room be a sanctuary with this ...   0.75  \n",
       "9235    adorn your living or working space with this n...   0.00  \n",
       "195967  feel like you are in a spa every time you step...   0.75  \n",
       "166549  the bed comes with support slats . the entire ...   0.75  \n",
       "\n",
       "[2334 rows x 3 columns]>"
      ]
     },
     "execution_count": 26,
     "metadata": {},
     "output_type": "execute_result"
    }
   ],
   "source": [
    "search_pd_small = search_pd.sample(2334)\n",
    "search_pd_small.count"
   ]
  },
  {
   "cell_type": "code",
   "execution_count": 28,
   "id": "e189b894",
   "metadata": {},
   "outputs": [
    {
     "name": "stdout",
     "output_type": "stream",
     "text": [
      "DONE\n"
     ]
    }
   ],
   "source": [
    "# define function to assemble an input\n",
    "def create_input(doc1, doc2, score):\n",
    "  return InputExample(texts=[doc1, doc2], label=score)\n",
    "\n",
    "# convert each search result into an input\n",
    "# !!! Use smaller dataset; not search_pd\n",
    "inputs = search_pd_small.apply(\n",
    "  lambda s: create_input(s['query'], s['product_text'], s['score']), axis=1\n",
    "  ).to_list()\n",
    "\n",
    "inputs\n",
    "\n",
    "print('DONE')"
   ]
  },
  {
   "cell_type": "markdown",
   "id": "16c193cd",
   "metadata": {},
   "source": [
    "#### Train and tune a new model\n",
    "- During model fitting, you will notice we are setting the model to perform just one pass (epoch) over the data.  We will actually see pretty sizeable improvements from this process, but we may wish to increase that value to get multiple passes if we want to explore getting more.  The setting for *warmup_steps* is just a common one used in this space.  Feel free to experiment with other values or take the default."
   ]
  },
  {
   "cell_type": "code",
   "execution_count": 30,
   "id": "060727e8",
   "metadata": {
    "scrolled": true
   },
   "outputs": [
    {
     "data": {
      "application/vnd.jupyter.widget-view+json": {
       "model_id": "d05df4f060254d9581e05e8b6c9a41b7",
       "version_major": 2,
       "version_minor": 0
      },
      "text/plain": [
       "Epoch:   0%|          | 0/1 [00:00<?, ?it/s]"
      ]
     },
     "metadata": {},
     "output_type": "display_data"
    },
    {
     "data": {
      "application/vnd.jupyter.widget-view+json": {
       "model_id": "981f9f3a2d8a42f6b0528c28cd7aeccd",
       "version_major": 2,
       "version_minor": 0
      },
      "text/plain": [
       "Iteration:   0%|          | 0/146 [00:00<?, ?it/s]"
      ]
     },
     "metadata": {},
     "output_type": "display_data"
    }
   ],
   "source": [
    "tuned_model = SentenceTransformer('all-MiniLM-L12-v2')\n",
    "\n",
    "# define instructions for feeding inputs to model\n",
    "input_dataloader = DataLoader(inputs, shuffle=True, batch_size=16) # feed 16 records at a time to the model\n",
    "\n",
    "# define loss metric to optimize for\n",
    "loss = losses.CosineSimilarityLoss(tuned_model)\n",
    "\n",
    "# tune the model on the input data\n",
    "tuned_model.fit(\n",
    "  train_objectives=[(input_dataloader, loss)],\n",
    "  epochs=1, # just make 1 pass over data\n",
    "  warmup_steps=5 # 100 orig; controls how many steps over which learning rate increases to max before descending back to zero\n",
    "  )\n"
   ]
  },
  {
   "cell_type": "markdown",
   "id": "dffaeea1",
   "metadata": {},
   "source": [
    "#### Estimate Tune Model Performance"
   ]
  },
  {
   "cell_type": "code",
   "execution_count": 31,
   "id": "3cafb704",
   "metadata": {},
   "outputs": [
    {
     "name": "stdout",
     "output_type": "stream",
     "text": [
      "DONE\n"
     ]
    }
   ],
   "source": [
    "query_embeddings = (\n",
    "  tuned_model\n",
    "    .encode(\n",
    "      search_pd['query'].tolist()\n",
    "      )\n",
    "  )\n",
    "print('DONE')"
   ]
  },
  {
   "cell_type": "code",
   "execution_count": 32,
   "id": "ba3c567a",
   "metadata": {},
   "outputs": [
    {
     "name": "stdout",
     "output_type": "stream",
     "text": [
      "DONE\n"
     ]
    }
   ],
   "source": [
    "product_embeddings = (\n",
    "  tuned_model\n",
    "    .encode(\n",
    "      search_pd['product_text'].tolist()\n",
    "      )\n",
    "  )\n",
    "print('DONE')\n"
   ]
  },
  {
   "cell_type": "code",
   "execution_count": 33,
   "id": "d6484909",
   "metadata": {},
   "outputs": [
    {
     "ename": "NameError",
     "evalue": "name 'original_cos_sim_score' is not defined",
     "output_type": "error",
     "traceback": [
      "\u001b[0;31m---------------------------------------------------------------------------\u001b[0m",
      "\u001b[0;31mNameError\u001b[0m                                 Traceback (most recent call last)",
      "Cell \u001b[0;32mIn[33], line 12\u001b[0m\n\u001b[1;32m      9\u001b[0m tuned_cos_sim_score \u001b[38;5;241m=\u001b[39m torch\u001b[38;5;241m.\u001b[39mmean(tuned_cos_sim_scores)\u001b[38;5;241m.\u001b[39mitem()\n\u001b[1;32m     11\u001b[0m \u001b[38;5;66;03m# display result\u001b[39;00m\n\u001b[0;32m---> 12\u001b[0m \u001b[38;5;28mprint\u001b[39m(\u001b[38;5;124mf\u001b[39m\u001b[38;5;124m\"\u001b[39m\u001b[38;5;124mWith tuning, avg cosine similarity went from \u001b[39m\u001b[38;5;132;01m{\u001b[39;00moriginal_cos_sim_score\u001b[38;5;132;01m}\u001b[39;00m\u001b[38;5;124m to \u001b[39m\u001b[38;5;132;01m{\u001b[39;00mtuned_cos_sim_score\u001b[38;5;132;01m}\u001b[39;00m\u001b[38;5;124m\"\u001b[39m)\n",
      "\u001b[0;31mNameError\u001b[0m: name 'original_cos_sim_score' is not defined"
     ]
    }
   ],
   "source": [
    "\n",
    "\n",
    "# determine cosine similarity for each query-product pair\n",
    "tuned_cos_sim_scores = (\n",
    "  util.pairwise_cos_sim(\n",
    "    query_embeddings, \n",
    "    product_embeddings\n",
    "    )\n",
    "  )\n",
    "\n",
    "tuned_cos_sim_score = torch.mean(tuned_cos_sim_scores).item()\n",
    "\n",
    "# display result\n",
    "print(f\"With tuning, avg cosine similarity went from {original_cos_sim_score} to {tuned_cos_sim_score}\")\n"
   ]
  },
  {
   "cell_type": "markdown",
   "id": "bc2b9259",
   "metadata": {},
   "source": [
    "## 5.4 Deploy Fine Tuned Model"
   ]
  },
  {
   "cell_type": "markdown",
   "id": "9405c64e",
   "metadata": {},
   "source": [
    "### 5.4.1 Ingest into Vector DB"
   ]
  },
  {
   "cell_type": "markdown",
   "id": "41e63585",
   "metadata": {},
   "source": [
    "#### Serialize fined tuned model"
   ]
  },
  {
   "cell_type": "code",
   "execution_count": 34,
   "id": "cc2b8157",
   "metadata": {},
   "outputs": [
    {
     "name": "stdout",
     "output_type": "stream",
     "text": [
      "embedding_model_path=//Users/thomaschang/git/thomaschangsf/db-product-search/work-dir/models/tuned_model\n"
     ]
    }
   ],
   "source": [
    "# encoder path\n",
    "embedding_model_path = f\"/{config['WANDS_MODEL_PATH']}/tuned_model\"\n",
    "print(f'embedding_model_path={embedding_model_path}')\n",
    "\n",
    "# make sure path is clear\n",
    "# !rm -rf {embedding_model_path}\n",
    "# !mkdir -p {embedding_model_path}\n",
    "\n",
    "# reload model using langchain wrapper\n",
    "tuned_model.save(embedding_model_path)\n",
    "embedding_model = HuggingFaceEmbeddings(model_name=embedding_model_path)\n"
   ]
  },
  {
   "cell_type": "markdown",
   "id": "53d8a9fd",
   "metadata": {},
   "source": [
    "#### Get Product Text to Search"
   ]
  },
  {
   "cell_type": "code",
   "execution_count": 35,
   "id": "0cbadabb",
   "metadata": {},
   "outputs": [],
   "source": [
    "product_text_pd = (\n",
    "  spark\n",
    "    .table('products')\n",
    "    .selectExpr(\n",
    "      'product_id',\n",
    "      'product_name',\n",
    "      'COALESCE(product_description, product_name) as product_text' # use product description if available, otherwise name\n",
    "      )\n",
    "  ).toPandas()\n",
    "\n",
    "product_text_pd.count"
   ]
  },
  {
   "cell_type": "markdown",
   "id": "0e35d384",
   "metadata": {},
   "source": [
    "#### Persist product vector to Chroma DB"
   ]
  },
  {
   "cell_type": "markdown",
   "id": "cd1bb2e4",
   "metadata": {},
   "source": [
    "##### Side note on chromadb and mac intel x86 architectures\n",
    "- install chromadb on mac with intel 86 architectures\n",
    "\t- chromadb uses hnswlib, which is built natively to support mac arm architectures\n",
    "\t- Since my work laptop is the x86 intel architecture, the following commands are necessary \n",
    "```\n",
    "terminal: arch -x86_64 zsh\n",
    "export HNSWLIB_NO_NATIVE=1\n",
    "venv/bin/install chromadb\n",
    "```"
   ]
  },
  {
   "cell_type": "code",
   "execution_count": 41,
   "id": "ebf2954c",
   "metadata": {},
   "outputs": [
    {
     "data": {
      "text/plain": [
       "[Document(page_content='the executive chair features stylish chrome accents and black faux leather trimming that you can sit , work and relax in comfort . stylish chrome arms and a rolling base put forward a professional , crisp air of sophistication . adjust the height , tilt , and swivel for ultimate personalization of your comfortable work-space . seat and back tilt-angles are adjustable , with tension control and tilt lock . the seat swivels 360 degrees . the padded back and seat of this executive chair provide built-in lower back and head support .', metadata={'product_id': 5555, 'product_name': 'amiracle executive chair'}),\n",
       " Document(page_content='the executive chair features stylish chrome accents and black faux leather trimming that you can sit , work and relax in comfort . stylish chrome arms and a rolling base put forward a professional , crisp air of sophistication . adjust the height , tilt , and swivel for ultimate personalization of your comfortable work-space . seat and back tilt-angles are adjustable , with tension control and tilt lock . the seat swivels 360 degrees . the padded back and seat of this executive chair provide built-in lower back and head support .', metadata={'product_id': 5556, 'product_name': 'amiraka executive chair'}),\n",
       " Document(page_content='the executive chair features stylish chrome accents and black faux leather trimming that you can sit , work and relax in comfort . stylish chrome arms and a rolling base put forward a professional , crisp air of sophistication . adjust the height , tilt , and swivel for ultimate personalization of your comfortable work-space . seat and back tilt-angles are adjustable , with tension control and tilt lock . the seat swivels 360 degrees . the padded back and seat of this executive chair provide built-in lower back and head support .', metadata={'product_id': 5557, 'product_name': 'amirali executive chair'}),\n",
       " Document(page_content='incorporating classic lines with a streamlined silhouette , this reversible sectional sofa is the perfect combination of traditional design with a mid-century modern flair . luxurious velvet upholstery provides an elegant look . a single-seat cushion with a modern block-style tufting and two comfortably designed back cushions are perfectly complemented by two round bolster pillows . the tapered walnut-stained conical legs provide ample support while adding style and sophistication . its versatility is amazing . no longer do you have to choose . no longer do you have to pick aside . no longer are you tied down ?', metadata={'product_id': 5558, 'product_name': \"kasey 84 '' wide reversible sofa & chaise\"}),\n",
       " Document(page_content='perfect for pulling up to a pub table in the entertaining ensemble or when stationed around the kitchen island , stools are always a stylish seat . take this one for example : crafted from metal , the streamlined frame gives this piece a raised construction . the bucket seat comes upholstered in foam-filled faux leather for an inviting feel , while on-trend stitched detailing is sure to stand out in any contemporary setting .', metadata={'product_id': 5559, 'product_name': 'jaxson bar & counter stool'}),\n",
       " Document(page_content='whether useful during a family feast or when you ’ re short a seat playing a hand of cards , extra chairs are always a good thing to have around the house . take this one for example : crafted from metal , the streamlined frame rests atop sled legs that are capped with protective glides to keep this chair from marking up floors . the bucket seat comes upholstered in foam-filled faux leather for an inviting feel , while on-trend stitched detailing is sure to stand out in any contemporary setting . plus , it arrives in a set of two .', metadata={'product_id': 5560, 'product_name': 'jaxson faux leather upholstered side chair'}),\n",
       " Document(page_content='be it a stage to display flowers or a place to stash the remote control , coffee tables are always a useful addition . take this one for example : crafted from solid and manufactured wood , this piece is perched atop a pedestal-inspired base and showcases striking lines that allow it to work well in any contemporary setting . showcasing a round silhouette , the melamine top boasts that blend easily in a variety of color schemes .', metadata={'product_id': 5561, 'product_name': 'castello 3 legs coffee table'}),\n",
       " Document(page_content='whether using it as the perfect perch for your morning mug of coffee or as the universal remote control hub , end tables are a staple in our homes . take this one for example : crafted from solid and manufactured wood , this piece is perched atop a pedestal-inspired base and showcases striking lines that allow it to work well in any contemporary setting . showcasing a round silhouette , the top boasts hues of white and gray that blend easily in a variety of color schemes .', metadata={'product_id': 5562, 'product_name': 'castello 3 legs end table'}),\n",
       " Document(page_content='evoking an air of elegance and sophistication while maintaining true functionality , this coffee table is not just a place for your drink , remote , or laptop . it is the focal point of your room . its sturdy , solid wood base is perfectly contrasted by a faux marble laminate top .', metadata={'product_id': 5563, 'product_name': 'evelyn faux marble coffee table'}),\n",
       " Document(page_content=\"every sweet dream starts with a good bed , and if you ’ re still looking for the right one , this piece is here to help . crafted from solid and manufactured wood , this piece is perched atop tapered legs so it 's easy to slip a vacuum underneath . clean lines allow it to work in any contemporary aesthetic , while its foam-filled polyester upholstery gives it an inviting feel . plus , it arrives with center support legs included , so you can save a trip to the store .\", metadata={'product_id': 5564, 'product_name': 'platt upholstered low profile platform bed'}),\n",
       " Document(page_content='incorporating quintessential mid-century design with elements of rustic modern style , this dining chair is the perfect piece for your dining room , whether it leans more modern farmhouse or industrial . this chair showcases a molded seat and back , which are padded with foam and upholstered in faux leather with a vintage , solid hue . down below , four slender , tapered metal legs support the design . plus , it arrives in a set of two .', metadata={'product_id': 5565, 'product_name': 'katelyn upholstered side chair'}),\n",
       " Document(page_content='round out your dining room by pulling up this katelynn side chair around your table . upholstered in faux leather for a rustic modern vibe , it has the look of leather but is easy to clean with a damp cloth . this dining chair ’ s seat and back are padded with foam for an inviting look , and its back curves around to the front of the chair to envelop whoever ’ s sitting in it . slim , tapered black metal legs support this design , which arrives in a set of two .', metadata={'product_id': 5566, 'product_name': 'katelynn upholstered dining chair'}),\n",
       " Document(page_content='classic styling with a modern-day twist perfectly describes these side chairs . its slender , high-back shell has been padded for added comfort and is upholstered in luxurious velvet fabric . the sturdy metal frame has been powder coated with a black matte finish which perfectly complements the contoured shell . the tapered legs are finished with non-skid , non-marking foot caps for ease and safety . chairs are sold in increments of 2 per carton and require minimal assembly .', metadata={'product_id': 5567, 'product_name': 'aisha velvet upholstered side chair'}),\n",
       " Document(page_content='incorporating classic lines with a streamlined silhouette , the genuine leather chair is the perfect combination of traditional design with a mid-century modern flair . the comfortable seat and back cushions are enhanced with two round bolster pillows . the tapered walnut-stained conical legs provide ample support while adding style and sophistication . pairs perfectly with the sofa and the sofa reversible sectional .', metadata={'product_id': 5568, 'product_name': \"hailee 41.5 '' wide tufted cowhide armchair\"}),\n",
       " Document(page_content='incorporating classic lines with a streamlined silhouette , the chair is the perfect combination of traditional design with a mid-century modern flair . the comfortable seat and back cushions are enhanced with two round bolster pillows . the tapered walnut-stained conical legs provide ample support while adding style and sophistication . luxurious upholstery provides an elegant touch .', metadata={'product_id': 5569, 'product_name': \"lark 41.5 '' wide tufted velvet armchair\"}),\n",
       " Document(page_content=\"our 39.5 '' round table offers a clean , simple aesthetic that is both stylish and functional . its sturdy solid wood frame and legs are perfectly complemented by a beautiful veneer top . with hints of scandinavian design and a mid-century modern feel , this table is perfectly suited for your urban apartment , your suburban breakfast , or if space allows , place this table in your entryway topped with a vase of fresh flowers to add an elegant touch to your home .\", metadata={'product_id': 5570, 'product_name': 'thorson dining table'}),\n",
       " Document(page_content=\"these dining chairs have a classic mid-century modern silhouette that adds eye-catching retro style to your dining table . they 're made from solid rubberwood in a dark neutral finish , and feature an open design with four flared legs and a curving half-moon-shaped backrest . the curved seats are upholstered in faux leather with a minimal foam filling for just the right amount of cushion where you need it . these chairs are sold in sets of four and require simple assembly .\", metadata={'product_id': 5571, 'product_name': 'brenton upholstered solid wood side chair'}),\n",
       " Document(page_content='the analise 6-drawer chest features a smooth surface , solid frame and stylish cut-out handles . it has 6 spacious drawers for storing belongings and a wide top surface for displaying items . its clean lines and sturdy 4-legged base is a classic design ideal for contemporary bedroom furniture .', metadata={'product_id': 5572, 'product_name': 'gilley clara 6 drawer double dresser'}),\n",
       " Document(page_content=\"this set of two side chairs adds more seating options in your living room , or for your dining room when you have extra guests at the table . these chairs have a black solid beech frame with angled , tapered legs . the open back curves to your body 's shape as you lean back in conversation or after a fulfilling meal . we especially love the paper cord seat that 's been updated in a black finish like the frame — rounding out this mid-century modern design and mixing well with other styles in your home . best of all ? there 's no assembly required .\", metadata={'product_id': 5573, 'product_name': 'burchfield solid wood side chair in black'}),\n",
       " Document(page_content='mixing angles and curves for an updated on-trend look , these chairs offer quality solid beech wood construction painted a yellow finish and an iconic paper cord seat . best of all , these chairs ship fully assembled . just open the box , and you are ready to enjoy your new chairs .', metadata={'product_id': 5574, 'product_name': 'forney dining chair in natural wood'}),\n",
       " Document(page_content=\"this 2-piece stool set has chic channel tufting and a clean-lined design that adds modern style to your kitchen island or dining table . each stool stands on a cantilever base made from steel with a black finish , and they have a built-in stretcher bar to help support your feet . the square back and seat are upholstered in velvet fabric with your choice of jewel tone . they 're also filled with foam for lots of support while you eat or sip a cold drink during happy hour . plus , these stools feature plastic glides that protect your floors .\", metadata={'product_id': 5575, 'product_name': 'marisol stool'}),\n",
       " Document(page_content=\"utilizing natural elements , these stools exude a clean , sleek modern touch that transcends a variety of design styles . natural finish crafted on a solid beech wood frame that is complemented by a natural cane seat and back creating an open , spacious feel without compromising support . best of all , these chairs arrive fully assembled . just un-box , sit back and admire . it 's that simple .\", metadata={'product_id': 5576, 'product_name': 'barnhill solid wood and natural cane stool'}),\n",
       " Document(page_content='our hand-hammered butterfly chair blurs the line between global- and deco-inspired design . each chair directly improves the life of the artisan who makes it . made of genuine leather , has been designed for full relaxation . this classic butterfly chair has been features a gently curving backrest and seat , which ensures that your body is sufficiently supported in the utmost comfort . this durable retro butterfly chair is completely out of genuine cow hide leather . the powder-coated metal frame adds to its stability and durability . the chair is lightweight and comfortable .', metadata={'product_id': 5577, 'product_name': \"ludgera 31.5 '' wide cowhide butterfly chair\"}),\n",
       " Document(page_content='transient drum coffee table', metadata={'product_id': 5578, 'product_name': 'transient drum coffee table'}),\n",
       " Document(page_content='outstanding quality handcrafted hurricane candle sconce . this hurricane sconce made from solid brass and available in four finishes . the back of the hurricane sconce has an openwork design with elegant patterns . this candle sconce has a hand-blown glass chimney and antiqued or lacquered solid brass rim .', metadata={'product_id': 5579, 'product_name': \"22 '' brass wall tabletop wall sconce\"}),\n",
       " Document(page_content='supportive , graceful , and handsome , this chair offers a retro look with plenty of glamour . the winged shape is supportive and eye-catching , lending interest and durability to any space .', metadata={'product_id': 5580, 'product_name': \"31.5 '' wide butterfly chair\"}),\n",
       " Document(page_content=\"crackle 8.5 '' melamine salad plate\", metadata={'product_id': 5581, 'product_name': \"crackle 8.5 '' melamine salad plate\"}),\n",
       " Document(page_content='this planter is reminiscent of an english estate garden is perfect for trees or large plants , it is constructed of a blend of natural stone , resin & fiberglass . the planter is lightweight , watertight & weather resistant , the crushed natural outer stone surface ages to a beautiful time worn , old world hue .', metadata={'product_id': 5582, 'product_name': 'farmington pot planter'}),\n",
       " Document(page_content='this stately planter is reminiscent of an english estate garden is perfect for trees or large plants . it is constructed of a blend of natural stone , resin , and fiberglass . the planter is lightweight , watertight & weather resistant , the crushed natural outer stone surface ages to a beautiful time worn , old world hue .', metadata={'product_id': 5583, 'product_name': \"happy planter planter , 12 '' x 12 '' x 11.2 '' , antique beige\"}),\n",
       " Document(page_content='cast using a blend of natural stone , plastic resin , and fiberglass . durable and lightweight . weather resistant - both uv protected and frost resistant . with the premium finish to give a rustic artisan look .', metadata={'product_id': 5584, 'product_name': \"happy planter planter , 29.3 '' x 12.6 '' x 17.5 '' , vintage stone\"}),\n",
       " Document(page_content='this stately planter is reminiscent of an english estate garden is perfect for trees or large plants . it is constructed of a blend of natural stone , resin , and fiberglass . the planter is lightweight , watertight & weather resistant , the crushed natural outer stone surface ages to a beautiful time worn , old world hue .', metadata={'product_id': 5585, 'product_name': \"happy planter planter , 11 '' x 11 '' x 10.8 '' , pigeon grey\"}),\n",
       " Document(page_content='this stately planter is reminiscent of an english estate garden is perfect for trees or large plants . it is constructed of a blend of natural stone , resin , and fiberglass . the planter is lightweight , watertight & weather resistant , the crushed natural outer stone surface ages to a beautiful time worn , old world hue .', metadata={'product_id': 5586, 'product_name': 'fiberglass planter box'}),\n",
       " Document(page_content='this stately planter is reminiscent of an english estate garden is perfect for trees or large plants . it is constructed of a blend of natural stone , resin , and fiberglass . the planter is lightweight , watertight & weather resistant , the crushed natural outer stone surface ages to a beautiful time worn , old world hue .', metadata={'product_id': 5587, 'product_name': \"happy planter planter , 11 '' x 11 '' x 10.2 '' , pigeon white\"}),\n",
       " Document(page_content='cast using a blend of natural stone , plastic resin , and fiberglass . durable and lightweight . weather resistant - both uv protected and frost resistant . with a premium finish to give a rustic artisan look .', metadata={'product_id': 5588, 'product_name': 'happy planter planter , set of 3 ( large , med , small ) , pigeon grey'}),\n",
       " Document(page_content='this stately planter is reminiscent of an english estate garden is perfect for trees or large plants . it is constructed of a blend of natural stone , resin , and fiberglass . the planter is lightweight , watertight & weather resistant , the crushed natural outer stone surface ages to a beautiful time worn , old world hue .', metadata={'product_id': 5589, 'product_name': \"happy planter planter , 13.2 '' x 13.2 '' x 14 '' , mahogany\"}),\n",
       " Document(page_content='this stately planter is reminiscent of an english estate garden is perfect for trees or large plants . it is constructed of a blend of natural stone , resin , and fiberglass . the planter is lightweight , watertight & weather resistant , the crushed natural outer stone surface ages to a beautiful time worn , old world hue .', metadata={'product_id': 5590, 'product_name': \"happy planter planter , 15 '' x 15 '' x 13.2 '' , continental grey\"}),\n",
       " Document(page_content='this stately planter is reminiscent of an english estate garden is perfect for trees or large plants . it is constructed of a blend of natural stone , resin , and fiberglass . the planter is lightweight , watertight & weather resistant , the crushed natural outer stone surface ages to a beautiful time worn , old world hue .', metadata={'product_id': 5591, 'product_name': \"happy planter planter , 17.3 '' x 17.3 '' x 15 '' , sparking white\"}),\n",
       " Document(page_content='this stately planter is reminiscent of an english estate garden is perfect for trees or large plants . it is constructed of a blend of natural stone , resin , and fiberglass . the planter is lightweight , watertight & weather resistant , the crushed natural outer stone surface ages to a beautiful time worn , old world hue .', metadata={'product_id': 5592, 'product_name': \"happy planter planter , 14.3 '' x 14 '' x 9.4 '' , sparking white\"}),\n",
       " Document(page_content='cast using a blend of natural stone , plastic resin , and fiberglass . durable and lightweight . weather resistant - both uv protected and frost resistant . with a premium finish to give a rustic artisan look .', metadata={'product_id': 5593, 'product_name': 'happy planter planter , set of 2 ( large , medium ) , mahogany'}),\n",
       " Document(page_content='this stately planter is reminiscent of an english estate garden is perfect for trees or large plants . it is constructed of a blend of natural stone , resin , and fiberglass . the planter is lightweight , watertight & weather resistant , the crushed natural outer stone surface ages to a beautiful time worn , old world hue .', metadata={'product_id': 5594, 'product_name': 'happy planter planter , set of 2 ( large , medium ) , cedar'}),\n",
       " Document(page_content='this stately planter is reminiscent of an english estate garden is perfect for trees or large plants . it is constructed of a blend of natural stone , resin , and fiberglass . the planter is lightweight , watertight & weather resistant , the crushed natural outer stone surface ages to a beautiful time worn , old world hue .', metadata={'product_id': 5595, 'product_name': \"happy planter planter , 13.2 '' x 13.2 '' x 14 '' , cedar\"}),\n",
       " Document(page_content='this stately planter is reminiscent of an english estate garden is perfect for trees or large plants . it is constructed of a blend of natural stone , resin , and fiberglass . the planter is lightweight , watertight & weather resistant , the crushed natural outer stone surface ages to a beautiful time worn , old world hue .', metadata={'product_id': 5596, 'product_name': \"happy planter planter , 13 '' x 13 '' x 17.9 '' , cedar\"}),\n",
       " Document(page_content='this stately planter is reminiscent of an english estate garden is perfect for trees or large plants . it is constructed of a blend of natural stone , resin , and fiberglass . the planter is lightweight , watertight & weather resistant , the crushed natural outer stone surface ages to a beautiful time worn , old world hue .', metadata={'product_id': 5597, 'product_name': \"happy planter planter , 23.8 '' x 13 '' x 14 '' , grey wood\"}),\n",
       " Document(page_content='this stately planter is reminiscent of an english estate garden is perfect for trees or large plants . it is constructed of a blend of natural stone , resin , and fiberglass . the planter is lightweight , watertight & weather resistant , the crushed natural outer stone surface ages to a beautiful time worn , old world hue .', metadata={'product_id': 5598, 'product_name': \"happy planter planter , 13 '' x 13 '' x 17.9 '' , grey wood\"}),\n",
       " Document(page_content='cast using a blend of natural stone , plastic resin , and fiberglass . durable and lightweight . weather resistant - both uv protected and frost resistant . with a premium finish to give a rustic artisan look .', metadata={'product_id': 5599, 'product_name': '2 - piece fiberglass barrel planter set'}),\n",
       " Document(page_content='this planter is a cast using a blend of natural stone , plastic resin , and fiberglass . durable and lightweight . weather resistant - both uv protected and frost resistant . with a premium finish to give a rustic artisan look .', metadata={'product_id': 5600, 'product_name': 'happy planter planter , set of 3 ( large , med , small ) , continental grey'}),\n",
       " Document(page_content='this planter is a cast using a blend of natural stone , plastic resin , and fiberglass . durable and lightweight . weather resistant - both uv protected and frost resistant . with a premium finish to give a rustic artisan look .', metadata={'product_id': 5601, 'product_name': 'happy planter , natural stone , plastic resin and fiberglass , size - size in inches - large : 16.7 x 16.7 x 17.3 ; medium : 13.2 x 13.2 x 14.6 ; small : 11 x 11 x 13.6 , color - country white , set of 3'}),\n",
       " Document(page_content='this stately planter is reminiscent of an english estate garden is perfect for trees or large plants . it is constructed of a blend of natural stone , resin , and fiberglass . the planter is lightweight , watertight & weather resistant , the crushed natural outer stone surface ages to a beautiful time worn , old world hue .', metadata={'product_id': 5602, 'product_name': \"happy planter planter , 14 '' x 14 '' x 13.6 '' , smokey cream\"}),\n",
       " Document(page_content='this stately planter is reminiscent of an english estate garden is perfect for trees or large plants . it is constructed of a blend of natural stone , resin , and fiberglass . the planter is lightweight , watertight & weather resistant , the crushed natural outer stone surface ages to a beautiful time worn , old world hue .', metadata={'product_id': 5603, 'product_name': \"happy planter planter , 14 '' x 14 '' x 13.6 '' , continental grey\"}),\n",
       " Document(page_content='this stately planter is reminiscent of an english estate garden is perfect for trees or large plants . it is constructed of a blend of natural stone , resin , and fiberglass . the planter is lightweight , watertight & weather resistant , the crushed natural outer stone surface ages to a beautiful time worn , old world hue .', metadata={'product_id': 5604, 'product_name': \"happy planter planter , 14 '' x 14 '' x 13.6 '' , continental gray\"}),\n",
       " Document(page_content='strong durable hangers can hold clothes up to 10 pounds .', metadata={'product_id': 5605, 'product_name': 'zen closet dry wet clothes amphibious light weight abs hangers with non-slip shoulder design , steel swivel hooks , value pack - set of 120 , green'}),\n",
       " Document(page_content='a luxurious masterpiece set in an antique finish , this elegantly carved and designed dresser brings a level of sophistication . french dovetail drawers with antique gold hardware add functionality and style to this beautiful bedroom piece .', metadata={'product_id': 5606, 'product_name': 'fuselier 12 drawer double dresser'}),\n",
       " Document(page_content='this well crafted classic sectional sofa is designed to fit comfortably in your home with its ability to arrange in any way you prefer . not only it provides a relaxing space for you to enjoy your favorite tv show with your family , but it also has just the right amount of room to invite your friends over to have a chill evening .', metadata={'product_id': 5607, 'product_name': \"linlithgow 86 '' wide symmetrical modular sofa & chaise\"}),\n",
       " Document(page_content='urbanski 7 drawer dresser', metadata={'product_id': 5608, 'product_name': 'urbanski 7 drawer dresser'}),\n",
       " Document(page_content='this executive chair classic style will blend masterfully in your home . highly decorative details , button-tufted backrest with nail-head trim , and its decorative moldings are complemented which gives this piece an elegant and sleek appeal .', metadata={'product_id': 5609, 'product_name': 'tigranuh executive chair'}),\n",
       " Document(page_content='this executive chair classic style will blend masterfully in your home . highly decorative details , button-tufted backrest with nail-head trim , and its decorative moldings are complemented which gives this piece an elegant and sleek appeal .', metadata={'product_id': 5610, 'product_name': 'zastarskis executive chair'}),\n",
       " Document(page_content='this bersally 5 drawer dresser is crafted in wood with antique platinum , and also include regal features such as ample storage , beveled mirror , felt lined drawers , and antique platinum finish hardware . the carved details and antique platinum finish give a royal look to your bedroom space .', metadata={'product_id': 5611, 'product_name': 'bersally 5 drawer dresser'}),\n",
       " Document(page_content='the richy mirror is exclusively designed and filled with romantic spirit . expertly detailed , this arched mirror is crafted with elaborate carvings and raised-scrolled floral molding trim on its wood frame . add glamorous french provincial charm with this uniquely designed collection that will make a statement in any bedroom', metadata={'product_id': 5612, 'product_name': 'richy mirror'}),\n",
       " Document(page_content='combining classic style and the durability of solid pacific coast maple , the willamette collection is a triumphant return back to basics . softly-tapered legs , simple lines , and a beautiful natural finish come together in a truly timeless masterpiece .', metadata={'product_id': 5613, 'product_name': '6 drawer standard dresser'}),\n",
       " Document(page_content='this collection with velvet & antique platinum finish will create you an elegant , warm and traditional taste in your living room.the sofa set reflects highly decorative base with scrolled feet , and the upholstered seats with the deep button tufted and nail head trim accents add classic character and represent luxurious detailing.the collection is your perfect choice for your living room .', metadata={'product_id': 5614, 'product_name': 'bersailles living room collection'}),\n",
       " Document(page_content='with a bold , contemporary design , this three-piece writing desk set amplifies the style of a home office or library . finishes of black and silver pleasingly complement each other for a funky , modern aesthetic . its l shape tucks neatly into a corner to help you save space . a clear , tempered glass top adds sturdiness and shine , while a small corner shelf offers maximum functionality . constructed from steel , mdf , and engineered veneer , this desk is a durable and stylish addition to any modern home .', metadata={'product_id': 5615, 'product_name': 'amy-mae l-shape desk'}),\n",
       " Document(page_content='encourage proper ergonomics and reduce fatigue with this cushioned standing mat . beveled edge lays flat on the floor to reduce trip hazards . rubber and vinyl construction ensures long-lasting resiliency and cushioning . ideal for use at sit-to-stand workstations , service counters , breakrooms , or wherever standing is required . easy to clean surface with a molded grid pattern to catch dirt and spills .', metadata={'product_id': 5616, 'product_name': 'kanode hard floor beveled edge chair mat'}),\n",
       " Document(page_content='casters and glides included', metadata={'product_id': 5617, 'product_name': 'lu leather back stackable chair'}),\n",
       " Document(page_content=\"show off your display of delicious delicacies with this stylish cake stand ! crafted from stainless steel , it boasts an eye-catching glossy coat on its solid finish for a standout look . plus , it ’ s turned silhouette and mirrored surface make it the perfect pick when paired with any classic or glam-inspired design aesthetic . when it ’ s time for a refresh , we recommend hand washing this piece only . measures 7 '' h x 12 '' w x 12 '' d .\", metadata={'product_id': 5618, 'product_name': 'wymer cake stand'}),\n",
       " Document(page_content='show off your display of delicious delicacies with this stylish cake stand set ! crafted from stainless steel , each piece boasts an eye-catching polished metallic finish and showcases a mirrored surface for a look that complements any classic or glam-inspired space . when it ’ s time for a refresh , we recommend hand washing this piece only . with three pieces included , you can display three cakes or stack them to create one grand presentation .', metadata={'product_id': 5619, 'product_name': 'wyoming mirror top 3 piece cake stand set'}),\n",
       " Document(page_content='the simple elegance of the metal surface plates paired with dazzling hand-strung glass crystals makes it perfect for showcasing your favorite desserts and cupcakes at any wedding , birthday party , event , baby shower , anniversary , afternoon tea , or any special occasion . stunning and versatile , this mcgaughey 3 piece cake stand set has the ability to stand out at any upscale occasion effortlessly . with 3 different width and height options to choose from when it comes to size , these cake stands can hold most small and standard sized cakes and delicacies . the design features metal plate surface tops and an ornate hand-crafted steel frame . the metal frame is draped and decorated with authentic glass crystal dangles and beads . the base of the stand is weighted and comes with a felted bottom to ensure sturdiness when displaying . the paint is powder-coated . all materials used are 100 % food safe so that you can serve cheese , appetizers , and other food items .', metadata={'product_id': 5620, 'product_name': 'mcgaughey 3 piece cake stand set'}),\n",
       " Document(page_content='this 3-piece metal and glass candy jar set are perfect to showcase your favorite cookies , penny candy , party snacks , sweet treat , cotton candy in any candy buffet , wedding dessert table , and at any event or special occasion . these apothecary bottles also work great around the home to hold sugar , pasta , and kitchen accessories ; nick-knacks , bath bombs , cotton , cotton swabs , in the bathroom and vanity ; as a bar , party or snack jar . you can also use a pot as a wedding or honeymoon fund jar . the metal lids have a lip are decorated with a crystal ball accent , making them sturdy and break-resistant . the pedestal base of each big jar is weighted and come with a felted bottom to ensure sturdiness when displaying . these transparent jars with lids are feature metal bases and caps which are powder-coated giving the pots a luxurious shine . the paint is 100 % food safe .', metadata={'product_id': 5621, 'product_name': '3 piece 4.2 qt . apothecary jar set'}),\n",
       " Document(page_content='this beautiful plateau cake stand will stand out at any event , party , or a wedding the elegant design of the metal frame decorated with crystal rhinestone accents . for cleaning , use a wet cloth to wipe the surface when needed . the paint is finished with a semi-gloss look , giving it a classy feel . all materials used are 100 % food-safe so that you can serve cheese , appetizers , and other food items .', metadata={'product_id': 5622, 'product_name': 'bucareli wedding cake stand'}),\n",
       " Document(page_content=\"imagine a cake stand that can take you from serving cakes and desserts at your most posh event to holding your trinkets and candles in your living room . simple and versatile , our jocelyn collection cake pedestal will stand out at an upscale party or work effortlessly against your everyday decor . this cake stand will transform any wedding , birthday party , baby shower , anniversary , quinceanera , afternoon tea , and any event into a full-blown celebration . at 8-inches wide with this clean design , this cake stand can hold a variety of sized cakes , cupcakes , desserts , pastries , or even decor pieces . the design features a sturdy hand-crafted steel frame and base . the base of the stand is weighted and comes with a non-slip felted bottom , so you do n't have to worry about it toppling over . the frame is painted in a semi-matte finish . all materials used are 100 % food-safe quality , so you can also use them to serve food , appetizers , cheese , etc . the stand comes in two easy to assemble pieces , which minimizes the space needed for storing , handling , and transporting . when assembling , simply screw on the tray top to the base and it is ready to display . not dishwasher , oven , or microwave safe\", metadata={'product_id': 5623, 'product_name': 'buyse cake stand'}),\n",
       " Document(page_content='jewelry organizer . the accessories in this series are perfect for creating a natural , calming mood in your bathroom . these accessories are made out of sandstone , which lends them a beautiful and wholly natural color . the polished structure of the coating means the products are water resistant and makes them unexpectedly smooth to the touch . with their compact , round shape , the accessories are simultaneously rugged and subtle . this beauty box as a cheerful , round shape and its lid are finished off with a leather loop handle . this beauty box is handy for storing small items such as hairgrips or cotton wool .', metadata={'product_id': 5624, 'product_name': 'eder jewelry organizer'}),\n",
       " Document(page_content='this laundry hamper is really sturdy and trendy looking the square laundry bin is made from high-quality material and is perfect for use in dry areas such as the bedroom . it has strong handles and there is the text written on the side .', metadata={'product_id': 5625, 'product_name': 'laundry basket'}),\n",
       " Document(page_content='add design flair to any space with this cino black woven rattan hamper laundry basket with leather carry handles . this contemporary style hamper has been expertly crafted from rattan materials .', metadata={'product_id': 5626, 'product_name': 'cino hamper laundry basket'}),\n",
       " Document(page_content='a real eye-catcher for storing your laundry . the rustic design , based on the structure of a willow , provides your home with a touch of luxury . this laundry basket is also furnished with metal handles and a removable laundry bag made of 100 % polyester .', metadata={'product_id': 5627, 'product_name': 'gisla greige hamper laundry basket'}),\n",
       " Document(page_content='created to bring everlasting beauty . this stylish hook is designed to increase the level of elegance in your bathroom .', metadata={'product_id': 5628, 'product_name': 'roesch wall mounted robe hook'}),\n",
       " Document(page_content='made of brass . created to bring everlasting beauty . this stylish towel holder/rack is designed to increase the level of elegance in your bathroom .', metadata={'product_id': 5629, 'product_name': 'lanz brass wall mounted robe hook'}),\n",
       " Document(page_content='created to bring everlasting beauty . this stylish towel holder hook is designed to increase the level of elegance in your bathroom .', metadata={'product_id': 5630, 'product_name': 'lapan wall mounted robe hook'}),\n",
       " Document(page_content='made of brass . created to bring everlasting beauty . this stylish towel holder/rack is designed to increase the level of elegance in your bathroom .', metadata={'product_id': 5631, 'product_name': 'patrice brass wall mounted robe hook'}),\n",
       " Document(page_content='dwba rolling hamper round laundry basket with removable washable laundy bag . high end quality laundry basket . very elegant and sleek designed to increase the level of elegance in the laundry room . created to offer everlasting beauty with its unique quality and look , material : brass , nylon , type : floor standing , shape : square , nylon laundry bag , removable and washable , lockable rolls .', metadata={'product_id': 5632, 'product_name': 'rolling hamper round laundry basket'}),\n",
       " Document(page_content='brass launry basket hamper with out cover , towel basket . high end quality laundry basket . very elegant and sleek designed to increase the level of elegance in the laundry room . created to offer everlasting beauty with its unique quality and look .', metadata={'product_id': 5633, 'product_name': 'hamper laundry towel basket without cover'}),\n",
       " Document(page_content='dwba cross stainless steel hamper laundry basket with removable bag . created to bring everlasting beauty ; this unique laundry basket is designed to increase the level of elegance in your bathroom or spa.- designed in : germany- material : stainless steel- color : gray- type : floor standing- shape : rectangular- foldable , nylon laundry bag removable- washable- impermeable- dimensions : 23 w x 12.6 d x 32.3 h in .', metadata={'product_id': 5634, 'product_name': 'dwba cross stainless steel hamper laundry basket with removable bag'}),\n",
       " Document(page_content='it features a oval shape . this undermount sink set is designed to be installed as a undermount undermount sink set . it is constructed with ceramic . this undermount sink set comes with a enamel glaze finish in white color . this transitional undermount sink set product is csa certified . it is designed for a 1 hole faucet .', metadata={'product_id': 5635, 'product_name': \"18.25 '' w csa oval undermount sink set\"}),\n",
       " Document(page_content='dress up your outdoor space with this beautiful garden armchair . perfect for showcasing your favorite potted plants or vines this garden chair will add character to any outdoor area . display inside your home to add a whimsical touch to your bedroom or other living space .', metadata={'product_id': 5636, 'product_name': \"darcy 24 '' wide armchair\"}),\n",
       " Document(page_content='vintage red truck perfect for any man-cave , garage , or boys room . real working wheels and handcrafted wooden details .', metadata={'product_id': 5637, 'product_name': 'legros metal and wood truck'}),\n",
       " Document(page_content=\"the goodwin industrial coffee table offers a unique spin on the traditional contemporary design . this modern table boasts an impressive industrial grey metal frame and stylish round pine wood top . the goodwin 's novel appearance can be attributed to the table ’ s unique four leg base . the base includes a mechanism for adjusting the table ’ s height as well as floor protectors , assuring that the goodwin will not damage hardwood or tile floors when moved . the intriguing goodwin is perfect for the living room , but practical enough for any room of the house . pair the goodwin coffee table with your choice of any armen living industrial chair set to create a cohesive home furnishing experience .\", metadata={'product_id': 5638, 'product_name': 'goodwin coffee table'}),\n",
       " Document(page_content='the alwina mid-century modern dining accent side chairs are an epitome of artistic beauty . this mid-century chair ’ s stylish curved back and attractive fabric upholstery make it a standout piece in the modern home . do not overlook the details of this elegant side chair , the durable wood frame , covered in plush fabric upholstery makes the alwina exceptionally inviting . this simple but unique design that you can play up or down in any room in your home . it is the perfect size for small spaces such as dorm rooms or apartment or it can be used to entertain large gatherings in style . the high cushion back is ideal for posture alignment and an unmatched support for days on end . the foundation of the product is supported by solid ash wood for a sturdy and stylish look without comprising practicality and functionality of this item . this item is a versatile piece that can be ideal for dining , kitchen or even home office desk chairs . this product ships in one box with easy and quick set up . we stand by the quality , the craftsmanship and the integrity of our product by offer 1-year for all our products . the robin dining chair is available in gray upholstery and comes in a set of 2 .', metadata={'product_id': 5639, 'product_name': 'maston mid-century side chair in gray'}),\n",
       " Document(page_content='mix mid-century modern style into your entertainment ensemble with this pair of dining chairs . founded atop four flared legs in a warm walnut finish , each piece is crafted with solid ash wood and plywood frame that can support up to 250 lbs . polyester fill and gray polyester-blend upholstery provide cushioning as you take a seat . subtly winged sides and channel tufting round out the look and help to highlight each chair ’ s clean lines .', metadata={'product_id': 5640, 'product_name': 'eljah mid-century side chair in gray'}),\n",
       " Document(page_content='the chelcea contemporary swivel barstool is an excellent choice for the contemporary household . the chelcea ’ s original sleek appearance is made possible by the combination of durable brushed stainless steel and stylish black faux leather upholstery . the chelcea ’ s upholstered seat features a 360-degree swivel that allows for a wide range of movement and easy socialization . the straight legs are accented by the inclusion of a convenient footrest and tipped with floor protectors , assuring that the chelcea will not damage hardwood or tile floors when moved . the chelcea barstool is available in black or grey faux leather upholstery ; both color options come in two industry-standard sizes ; a 26 inch counter and a 30-inch bar height .', metadata={'product_id': 5641, 'product_name': 'chelcea bar & counter stool'}),\n",
       " Document(page_content=\"the barstool is an ideal addition to the modern kitchen or bar . this beautiful barstool features a thick foam padded seat set upon a sleek brushed stainless-steel frame . the frame comes complete with a footrest for added comfort , while the seat is padded with faux leather upholstery and accented by a walnut wood back . this wonderful combination of materials endows with beauty without detracting from the barstool 's exceptional degree of comfort . this product ships in one box with easy and quick set up . we stand by the quality , the craftsmanship , and the integrity of our product by offer 1-year for all our products . we want our customers to enjoy our product and we will always be there to help with our top-notch customer service support . excellent addition to the home .\", metadata={'product_id': 5642, 'product_name': 'ginn bar & counter stool'}),\n",
       " Document(page_content='the todi contemporary dining accent chair is a sleek and stylish addition to the modern household . this beautiful dining accent chair sports a brushed stainless-steel frame upholstered with stylish diamond stitched fabric upholstery . the stylized diamond stitching makes this chair a standout without compromising on the durability of the product . this is simple but sophisticated design that you can play up or down in any room in your home . the high cushion back is ideal for posture alignment and an unmatched support for days on end . the smooth and soft upholstery will keep you at ease all day with the high back to help keep your back in the upright posture . the foundation of the product is supported by solid stainless steel for a sturdy and modern look without comprising practicality and functionality of this item . this item is a versatile piece that can be ideal for dining , kitchen or even home office desk chairs . this product ships in one box with easy and quick set up . we stand by the quality , the craftsmanship and the integrity of our product by offer 1-year for all our products . the todi dining accent chairs is sold in a set of 2 .', metadata={'product_id': 5643, 'product_name': 'todi upholstered parsons chair in gray'}),\n",
       " Document(page_content=\"this contemporary barstool is a gorgeous piece to have in any modern household . this elegant barstool boasts a durable frame accompanied by sleek vintage faux leather upholstery . this exquisite combination endows the stool with a truly unique contemporary style without compromising on durability . the low upholstered back is designed to hug the user , providing excellent lumbar support . the rounded upholstered seat features a 360-degree swivel function , allowing for enhanced mobility while seated . practical leg design features a convenient ringed footrest and floor protectors , assuring that the barstool will not damage hardwood or tile floors when moved . this wonderful combination of materials endows the adelita with beauty without detracting from the barstool 's exceptional degree of comfort . this product ships in one box with an easy and quick setup . we stand by the quality , the craftsmanship , and the integrity of our product by offer 1-year for all our products . we want our customers to enjoy our product and we will always be there to help with our top-notch customer service support . available in 26 '' counter height and 30 '' bar height . also available are multiple color options ; vintage black , vintage coffee , vintage gray , with black finish , or vintage black , vintage gray in brushed stainless steel .\", metadata={'product_id': 5644, 'product_name': 'adelita swivel bar & counter stool'}),\n",
       " Document(page_content=\"unwind on your backyard patio or deck while lying down on this 74.41 '' long outdoor chaise lounge . it 's made from rust-resistant aluminum in a powder-coated finish that 's uv-resistant and water-repellent . this chaise lounge adjusts to four different positions , whether you recline with your morning cup of coffee or lie back and soak up the sun . one dark gray olefin cushion stretches over the entire surface of this lounge , with a foam fill for additional support . the cushion cover is removable with a zipper closure for easier upkeep . best of all , this chaise arrives fully assembled .\", metadata={'product_id': 5645, 'product_name': 'alexandra outdoor reclining chaise lounge with cushion'}),\n",
       " Document(page_content=\"this 90 '' wide sofa gives you three extra seats for your backyard patio , or alongside the pool . it has a metal frame that 's weather-resistant , with teak wood accents in the armrests . six dark gray olefin seat and back cushions come with this sofa , filled with foam for additional support when relaxing outside with family or friends . the cushion covers are removable with a zipper closure and machine-washable for easier upkeep . best of all , this outdoor sofa arrives fully assembled .\", metadata={'product_id': 5646, 'product_name': 'abston outdoor teak patio sofa with cushions'}),\n",
       " Document(page_content='enhance the comfort of your outdoor space with the addition of this living outdoor sectional with dark frames and cushions . the sectional sofa features neutrally toned , 100-percent uv-resistant fabric upholstery for a natural aesthetic , and the set offers comfort and durability for years to come . the living collection features outdoor dining chairs , dining , and occasional tables and is available in a cosmos finish .', metadata={'product_id': 5647, 'product_name': 'alp patio sectional with cushions'}),\n",
       " Document(page_content='the beautiful dinesha arm accent chair brings classic style and modern comfort together as one . the chesterfield style tufting is met with a modern frame and tuxedo style arm that breathes new life into this timeless design . the dinesha ’ s reclining function makes this chair the best seat in the house after a long day or before a long night of lounging in comfort . use the dinesha chairs in your living room , bedroom , or home office . the dinesha collection also features a sofa and is available in your choice of chestnut or dove grey genuine leather and constructed from quality materials that will last for many years to come . we want our customers to enjoy our product and we will always be there to help with our top-notch customer service support .', metadata={'product_id': 5648, 'product_name': \"dinesha 34.62 '' wide tufted top grain leather armchair\"}),\n",
       " Document(page_content=\"this bar stool has luxe details that make it a perfect complement to a glam at-home bar or counter . it has a seat height of 26 '' high , and has a modern , sleek frame made of steel . we love the bucket shape support : it has a low back that wraps around , for a hint of mid-century modern style , and support for eating meals or having drinks together at the counter . the chic neutral faux leather upholstery is foam-filled and features channel paneling .\", metadata={'product_id': 5649, 'product_name': \"kamryn 26 '' counter stool\"}),\n",
       " Document(page_content='schell swivel adjustable height bar stool', metadata={'product_id': 5650, 'product_name': 'schell swivel adjustable height bar stool'}),\n",
       " Document(page_content='the abitton collection showcases an artist ’ s deft brushstroke wetted from an earthy palette . art . the painted canvas . a splatter of art isn ’ t just for your wall . you can lay our rugs on any floorspace to get the same vibe . abstract . geometrical . collaged . quatrefoil . weathered . striated . a dab of diversity for everyone . some of our rugs are nuanced and complex , others are simple and modest . . . all are unique . put art on your floor , not just on your walls . pet owners and parents rejoice : since our rugs are stain resistant , you can spend less time worrying and more time living . please spot clean only and have professionally cleaned when required .', metadata={'product_id': 5651, 'product_name': 'abitton gray and black fading abstract'}),\n",
       " Document(page_content=\"arwen 18 '' table lamp\", metadata={'product_id': 5652, 'product_name': \"arwen 18 '' table lamp\"}),\n",
       " Document(page_content='this manufacturer is dedicated to offering a wide assortment of attractive andll-priced portable lamps , kitchen pendants , vanity wall fixtures , outdoor lighting fixtures , lamp shades , and lamp accessories . they have in-house designers that follow current trends and develop cool new products to meet those trends .', metadata={'product_id': 5653, 'product_name': \"5 '' h x 4 '' w linen empire candelabra shade ( clip on )\"}),\n",
       " Document(page_content='this manufacturer is dedicated to offering a wide assortment of attractive and priced portable lamps , kitchen pendants , vanity wall fixtures , outdoor lighting fixtures , lamp shades , and lamp accessories . they have in-house designers that follow current trends and develop cool new products to meet those trends . bent tip style bulbs not recommended ( not included ) .', metadata={'product_id': 5654, 'product_name': \"5 '' h x 4 '' w linen empire candelabra shade ( clip on ) in white\"}),\n",
       " Document(page_content='the brand is dedicated to offering a wide assortment of attractive and well-priced portable lamps , kitchen pendants , vanity wall fixtures , outdoor lighting fixtures , lampshades , and lamp accessories . we have in-house designers that follow current trends and develop cool new products to meet those trends . the brand offers a one-pack ceramic table lamp , a transitional design in white finish . it includes a hardback empire-shaped lamp shade made with silk fabric in white with light blue trim on top and bottom . the lampshade size is 8 inch top , 13-inch bottom , and 10-1/2 inch slant height . our hardback shades use virgin styrene backing board to produce a warm , natural & smooth light – more appealing than shades made with recycled styrene board that can crack & yellows over time . the lamp has an on/off switch and uses a medium base light bulb , 100-watt max ( light bulb not included ) . the lamp is ul listed . applications - living room lighting and family room lighting , as well as bedrooms and offices .', metadata={'product_id': 5655, 'product_name': \"fayzan 23 '' white table lamp\"}),\n",
       " Document(page_content='using handcrafted and hand-painted metal , each one is an original , make your house unique in the world . let your neighbors and guests feel elegant taste .', metadata={'product_id': 5656, 'product_name': 'sunflower welcome metal wall décor'}),\n",
       " Document(page_content='ziggy 3 - drawer nightstand', metadata={'product_id': 5657, 'product_name': 'ziggy 3 - drawer nightstand'}),\n",
       " Document(page_content='ziggy tufted standard bed', metadata={'product_id': 5658, 'product_name': 'ziggy tufted standard bed'}),\n",
       " Document(page_content='enjoy the style and beauty of this nightstand . the nightstand has a double fast-charging usb charging port in the back and an led nightlight at the bottom .', metadata={'product_id': 5659, 'product_name': 'amedeo 2 - drawer solid wood nightstand in brown'}),\n",
       " Document(page_content='the beautiful traditional elegance of provides style and function to grace your vanity needs . constructed of poplar solids with birch veneers on front and sides and oak veneers on case tops with solid wood edges . the collection tops are finished in weathered oak and the bases in a rub-through white allowing its design to be combined using many popular color schemes . additional pieces offered are an armoire , floor mirror , and media chest whose features include equipment shelving and four spacious storage drawers . eye-catching antique bronze hardware adorns drawers , while arches , scrolls , carved keystones , canted fluted corners all serve to enhance the experience of this sophisticated look .', metadata={'product_id': 5660, 'product_name': 'norvell solid wood vanity'}),\n",
       " Document(page_content='gather around this new dining set ! your choice of rectangular dining table or a more casual round gathering table . this is made of solid pine along with your choice of two finishes options . you have the option of a two-tone distressed gray over a weather distressed black , or a two-tone antique gray over a distressed french gray finish . these colors will accent your dining decor ! the dining table has a plank top and large turned style legs . the round gathering table has large turned legs with extra storage on the two shelves . the dining chairs and gathering chairs have shaped seating and an upholstered seat to sit in comfort with dining . there is also an accent dining bench that sits perfectly with the dining table . the storage server comes with four drawers , shelves behind two doors , a stemware holder , a bottle rack , and an open display shelf .', metadata={'product_id': 5661, 'product_name': \"lily 42 '' pine solid wood dining table\"}),\n",
       " Document(page_content='the desk pad is a customizable calendar that can be used to mimic a standard calendar or used to count days in a project or long-term plan . there are 5 weeks available to be filled in per sheet and a large note section on the bottom keeps thoughts organized . the paper desk pad has corner pockets to protect the 36 easy-tear pages from dog-earing and documents can be tucked below to hold them in place . the desk pad also protects your desktop surface from scratches and stains . use this pad to keep track of events , workouts , projects , vacations or daily events in your office or home .', metadata={'product_id': 5662, 'product_name': 'ecker undated calendar desk pad'}),\n",
       " Document(page_content='protect your mattress while transforming your bed in a luxurious retreat with our light and lofty mattress pad . this impeccably crafted mattress pad gives your bed that extra lavish layer you crave . it provides a warm , snuggly feeling that offers cozy and ideal sleeping comfort . its quilted top is stuffed with down-alternative fill for extra softness . this mattress pad can be machine washed and tumble dried for fuss-free upkeep . fits up to a 15 inch mattress .', metadata={'product_id': 5663, 'product_name': 'lite and lofty down alternative mattress pad'}),\n",
       " Document(page_content='everyone loves a cozy pillow to cuddle up to . our leopard print fleece body pillow cover will help punch up the aesthetic of your room and bedding in one easy step . it will add a bit of elegance to your bed while protecting your pillow from dust and stains with this body pillow cover . this cover stays secure with zipper closure . crafted from machine-washable fleece that makes it easy and convenient to clean .', metadata={'product_id': 5664, 'product_name': 'newfane leopard animal print fleece pillowcase'}),\n",
       " Document(page_content='sleep right with comfort and style using our cream microfiber body pillow cover . ventilated design for enhanced airflow and a cool-to-the-touch cover offers soothing comfort . it prolongs the longevity of your body pillow by protecting it from stains , dirt , and so on . it also makes it easier to keep the pillow clean , because you can just wash it easily and allows you to customize the hand feel of the body pillow to your preferences .', metadata={'product_id': 5665, 'product_name': 'pridemore pillowcase'}),\n",
       " Document(page_content='this 4 person traditional steam sauna brings all the luxury and health benefits of a traditional sauna experience at a more accessible price point . improve your mental and physical well-being from the privacy of your home , on your own time , through regular sauna use . unwind after a long day of work and loosen up tight , post-workout muscles -- the benefits are limitless . the advantages of periodic 4 person traditional steam sauna use manifest in all areas of life . enjoy deeper , more restful sleep , improved circulation , increased metabolism , less fatigue , cleansed and nourished skin , and reduced stress and anxiety . due to the particular ability to flush toxins from the body , saunas also expedite the process of healing from colds and flu . this delightful design is both chic and functional-constructed to provide the most usable interior space while minimizing excess cubic feet , this 4 person traditional steam sauna heats the air quickly and efficiently . its entrance features a tempered glass door with a beautiful wooden handle . the tempered glass not only contributes to a quiet , relaxing environment but is built to remain unphased by changes in temperature . this 4 person traditional steam sauna is powered by an electric heater with heated rocks , which adds a touch of whimsy to the experience . with the included bucket and scoop , pour water over the hot stones to boost atmospheric temperature and humidity . this beautiful indoor 4 person traditional steam sauna can be the perfect complement to any living space-transform any room into a luxurious spa . canadian cedar , known for its beauty and enchanting aroma , is sure to be a pleasing addition to your home . your sauna can be set up and used in just a few hours by following the step-by-step guide . each 4 person traditional steam sauna kit includes a 4.5 kw heater and stones , a touchscreen control panel , interior lamps , hygrothermograph , a tempered glass door with a wooden handle , heater fence and a wooden bucket and scoop . this sauna has 2 bench levels . due to the nature of the 220v-240v hardwired heater unit , an electrician is recommended upon installation .', metadata={'product_id': 5666, 'product_name': '4 - person indoor steam sauna'}),\n",
       " Document(page_content='this motorized 12 ft. w x 10 ft. d retractable patio awning is the motor-operated awning model extends out a full 10 feet from your house , giving you up to 120 square feet more coverage and protection . it opens and closes easily in less than a minute using the motor that is included . create a fresh atmosphere outside of your home with this motorized retractable patio awning boasting an included motor . to save on electricity and for economical purposes , easily use the hand crank . made of 100 % polyester , the fabric provides coverage and protection from the elements . assembly required . excellent sun and rain protection , the motor makes it easier to operate , and after all this awning will make your home look better and provide you with a shade or rain cover as you need .', metadata={'product_id': 5667, 'product_name': 'motorized 12 ft. w x 10 ft. d fabric retractable standard patio awning'}),\n",
       " Document(page_content='this retractable patio awning will liven up your outdoor living space and let you enjoy the outdoors in any season . this easy to use awning can be opened and closed in less than one minute . simply rotate the hand crank to extend and retract the awning without the use of electricity . made of 100 % polyester , this high-quality awning will protect you from the elements for many years to come . comes with a one year warranty . assembly required .', metadata={'product_id': 5668, 'product_name': 'fabric retractable standard patio awning'}),\n",
       " Document(page_content='outsmart the weather with aleko ’ s motorized retractable awnings . this awning delivers the perfect amount of shade for your patio or balcony , and efficiently protects your home or business from sun damage or light rain . built with a sleek black frame , this modern design shows less dirt and debris than more common white frames . the fabric offers up to 160 square feet of coverage and is made from 100 % polyester to best protect you from the elements and keep the inside of your home cool on hot days . included is an electric motor that easily opens or closes the awning within a minute . for economical purposes or in the case of no electricity , a simple hand crank is provided for manual retraction of the awning . assembly is required . one-year warranty included .', metadata={'product_id': 5669, 'product_name': 'aleko motorized retraction slope patio awning'}),\n",
       " Document(page_content='outsmart the weather with patio awnings . this awning delivers the perfect amount of shade for your patio or balcony , and efficiently protects your home or business from sun damage or light rain . built with a sleek black frame , this modern design shows less dirt and debris than more common white frames . the fabric offers up to 119 square feet of coverage depends on the chosen size and is made from 100 % polyester to best protect you from the elements and keep the inside of your home cool on hot days . included is a simple hand crank that opens or closes the awning within a minute , and requires no electricity . assembly is required . one-year warranty included .', metadata={'product_id': 5670, 'product_name': \"aleko 118 '' w x 96 '' d fabric manual retraction slope patio awning\"}),\n",
       " Document(page_content='outsmart the weather with aleko ’ s retractable patio awnings . this awning delivers the perfect amount of shade for your patio or balcony , and efficiently protects your home or business from sun damage or light rain . built with a sleek black frame , this modern design shows less dirt and debris than more common white frames . the fabric offers up to 76 square feet of coverage and is made from 100 % polyester to best protect you from the elements and keep the inside of your home cool on hot days . included is a simple hand crank which opens or closes the awning within a minute , and requires no electricity . assembly is required . one-year warranty included .', metadata={'product_id': 5671, 'product_name': 'aleko fabric retractable standard patio awning'}),\n",
       " Document(page_content='restore your body and soothe your mind with the 4 person traditional steam sauna . these saunas are crafted to bring all the luxury and health benefits of a traditional sauna experience at a more accessible price point . benefits potentially include , but are not limited to , deeper , more restful sleep , improved circulation , increased metabolism , less fatigue , cleansed and nourished skin , increased removal of toxins , and reduced stress and anxiety . constructed with white pine wood , and designed to provide the most usable interior space while minimizing excess cubic feet , this sauna heats the air quickly and efficiently . the barrel sauna features a front porch canopy that maximizes seating space by utilizing opposing benches that run the full length of the room . its entrance features a tempered glass door with a beautiful wooden handle . the tempered glass not only contributes to a quiet , relaxing environment but is built to remain unphased by changes in temperature . this sauna is powered by an electric heater with heated rocks , adding a touch of whimsy to the experience . with the included bucket and scoop , pour water over the hot stones to boost atmospheric temperature and humidity . a simple-to-operate led screen panel allows for easy access and comfortable control to your heater . assembly is required , though your sauna can be set up and used in just a few hours by following the step-by-step guide provided with each purchase . furthermore , our sauna comes partially pre-assembled with built-in venting holes for easy installation . each hole comes with a rat-proof cover for longevity . each sauna kit is complete with everything you need , including a 9 kw heater and stones , a touch screen control panel , lamps , hygrothermograph , a tempered glass door with a wooden handle , and a wooden bucket and scoop .', metadata={'product_id': 5672, 'product_name': '4 - person outdoor traditional steam sauna'}),\n",
       " Document(page_content='restore your body and soothe your mind with the 8 person traditional steam sauna . these saunas are crafted to bring all the luxury and health benefits of a traditional sauna experience at a more accessible price point . benefits potentially include , but are not limited to , deeper , more restful sleep , improved circulation , increased metabolism , less fatigue , cleansed and nourished skin , increased removal of toxins , and reduced stress and anxiety . constructed with white pine wood , and designed to provide the most usable interior space while minimizing excess cubic feet , this sauna heats the air quickly and efficiently . the barrel sauna features a front porch canopy that maximizes seating space by utilizing opposing benches that run the full length of the room . its entrance features a tempered glass door with a beautiful wooden handle . the tempered glass not only contributes to a quiet , relaxing environment but is built to remain unphased by changes in temperature . this sauna is powered by an electric heater with heated rocks , adding a touch of whimsy to the experience . with the included bucket and scoop , pour water over the hot stones to boost atmospheric temperature and humidity . a simple-to-operate led screen panel allows for easy access and comfortable control to your heater . assembly is required , though your sauna can be set up and used in just a few hours by following the step-by-step guide provided with each purchase . furthermore , our sauna comes partially pre-assembled with built-in venting holes for easy installation . each hole comes with a rat-proof cover for longevity . each sauna kit is complete with everything you need , including a 9 kw heater and stones , a touch screen control panel , lamps , hygrothermograph , a tempered glass door with a wooden handle , and a wooden bucket and scoop .', metadata={'product_id': 5673, 'product_name': '8 person traditional steam sauna'}),\n",
       " Document(page_content='transform the look and define the value of your outdoor living space with our product . an elegant and relaxed statement piece for outdoor dining and entertaining , this pergola can be enjoyed on your terrace , patio , pool , backyard , garden , and more . made from high-strength russian pine wood , this pergola comes pre-cut , and pre-drilled for straightforward assembly . the sculptured beams criss-cross in both directions for added strength and flair . the classic archway design creates an airy and sturdy cover . it also allows filtered natural light to seep through , making it perfect for planted grapevines or climbing flowers . with a headroom of 8 feet , this pergola guarantees plenty of room for your patio furniture underneath . the 8.5 ft. interior height also provides plenty of space for hanging lights or even a chandelier . providing 65 square feet of coverage , this spacious pergola accommodates several guests at a time . all fittings , parts , and comprehensive instructions are included for an easy , 2-person installation .', metadata={'product_id': 5674, 'product_name': 'solid wood pergola'}),\n",
       " Document(page_content='half motorized led luxury retractable awning delivers the perfect amount of shade for your patio or balcony , and efficiently protects your home or business from sun damage or light rain . the half cassette frame is designed to provide better fabric protection and longevity , and the modern color will show less dirt than more common white frames . the motor encases led lights which cast the perfect amount of illumination for the evenings . efficient heat dissipation ensures stable performance while prolonging the usability of your led lights . serving as great decorative and functional lighting , the led lights seamlessly attach to the motor and plug straight into an outlet . easily control the brightness of the lights via the included remote . featuring three light settings , simply adjust your lighting to suit your environment . the sleek , minimalistic remote also provides 1-click control to either expand , retract , or stop your awning . when not in use , the awning retracts into the frame ’ s metal cover , which will preserve the color and durability of the fabric . included is an electric motor that easily opens or closes the awning within a minute . for economical purposes or in the case of no electricity , a simple hand crank is provided for manual retraction of the awning .', metadata={'product_id': 5675, 'product_name': 'motorized retractable slope patio awning'}),\n",
       " Document(page_content='this cart features 3 spacious basket shelf for your detergent , towels and folded laundry . this rolling cart comes with bonus removable heavy duty polyester bags ( total 2 bags ) for easy sorting and excess laundry . a perfect addition to any home and bathroom .', metadata={'product_id': 5676, 'product_name': 'rolling laundry cart'}),\n",
       " Document(page_content='sign dirt biking framed graphic art', metadata={'product_id': 5677, 'product_name': 'sign dirt biking framed graphic art'}),\n",
       " Document(page_content='composed of high resolution acid-free uv-protected paper , 12-color pigment ink , glass , wooden frame , black craft paper backing , metal sawtooth hangers .', metadata={'product_id': 5678, 'product_name': 'eiffel tower framed graphic art print'}),\n",
       " Document(page_content='the perfect focal point for any bedroom , this upholstered platform bed sets the stage in modern and traditional sleeping chambers alike . its 100 % linen upholstery is accented by a gridded pattern for a stylish accent and finished off with understated sideboards and a footboard . crafted from a wooden frame , its included slats provide the perfect foundation for a mattress of your choice : no box spring required . plus , a trundle bed is included to easily accommodate overnight guests !', metadata={'product_id': 5679, 'product_name': 'thornton full/double tufted upholstered platform bed'}),\n",
       " Document(page_content='create a living space with this stylish coffee table made from bonded leather . it comes with 2 drawers and the top has tempered glass .', metadata={'product_id': 5680, 'product_name': 'coffee table with storage'}),\n",
       " Document(page_content='blondell counter height dining table with shelf', metadata={'product_id': 5681, 'product_name': 'blondell counter height dining table with shelf'}),\n",
       " Document(page_content='this dining set is the perfect addition for your home , from quiet sunday dinners with the family to hosting dinner parties with friends . it includes one bench , two chairs , and one table . one side of the table features a three tiered shelf unit for storing extra dining essentials . crafted from a combination of solid and manufactured wood , with beige linen upholstery in the seats and bench , this set is perfectly at home in modern and contemporary aesthetics .', metadata={'product_id': 5682, 'product_name': 'derrick 4 piece counter height dining set'}),\n",
       " Document(page_content='vong upholstered bench', metadata={'product_id': 5683, 'product_name': 'vong upholstered bench'}),\n",
       " Document(page_content='norwich tufted upholstered low profile storage platform bed', metadata={'product_id': 5684, 'product_name': 'norwich tufted upholstered low profile storage platform bed'}),\n",
       " Document(page_content='vernon upholstered standard bed', metadata={'product_id': 5685, 'product_name': 'vernon upholstered standard bed'}),\n",
       " Document(page_content='vick full/queen upholstered panel headboard', metadata={'product_id': 5686, 'product_name': 'vick full/queen upholstered panel headboard'}),\n",
       " Document(page_content='marlinton 5 drawer chest', metadata={'product_id': 5687, 'product_name': 'marlinton 5 drawer chest'}),\n",
       " Document(page_content='butera upholstered storage platform bed', metadata={'product_id': 5688, 'product_name': 'butera upholstered storage platform bed'}),\n",
       " Document(page_content='grise tufted upholstered storage platform bed', metadata={'product_id': 5689, 'product_name': 'grise tufted upholstered storage platform bed'}),\n",
       " Document(page_content='colne 2 piece coffee table set', metadata={'product_id': 5690, 'product_name': 'colne 2 piece coffee table set'}),\n",
       " Document(page_content='avabelle tufted upholstered low profile standard bed', metadata={'product_id': 5691, 'product_name': 'avabelle tufted upholstered low profile standard bed'}),\n",
       " Document(page_content='ahjah tufted linen upholstered side chair counter height', metadata={'product_id': 5692, 'product_name': 'ahjah tufted linen upholstered side chair counter height'}),\n",
       " Document(page_content='swineford tufted upholstered low profile storage platform bed', metadata={'product_id': 5693, 'product_name': 'swineford tufted upholstered low profile storage platform bed'}),\n",
       " Document(page_content='thorgund tufted upholstered low profile storage platform bed', metadata={'product_id': 5694, 'product_name': 'thorgund tufted upholstered low profile storage platform bed'}),\n",
       " Document(page_content='ronning patio sofa with cushions', metadata={'product_id': 5695, 'product_name': 'ronning patio sofa with cushions'}),\n",
       " Document(page_content='sleek mid-century modern design is complemented by rustic elements to create the ever timeless jones tables . natural finished reclaimed fir adds history and time-worn character , while black iron hairpin legs add an industrial component . this set of 3 includes one coffee table and two end tables . instantly bring cohesiveness to one room by using all 3 tables together or divide them up amongst different rooms . the sturdy hairpin legs fold to allow for easy portability . each tabletop is lacquer finished for long-lasting protection and durability .', metadata={'product_id': 5696, 'product_name': 'stuber 3 piece coffee table set'}),\n",
       " Document(page_content=\"the stukes rotating coffee table offers a clear late 60 's vibe to any room it is placed in . with a rotating top this table is multi-functional and unique .\", metadata={'product_id': 5697, 'product_name': 'stukes coffee table'}),\n",
       " Document(page_content='simone 1 - drawer nightstand in brown', metadata={'product_id': 5698, 'product_name': 'simone 1 - drawer nightstand in brown'}),\n",
       " Document(page_content='define your space with the help of this bar stool , a perfect pick for bringing a modern aspect to the kitchen island or home bar . standing atop tapered feet , it features a frame crafted from solid wood and a bucket-style seat wrapped in polyester blend upholstery for a crisp look that ’ s fade- and stain-resistant . a walnut finish on the legs ropes in a little bit of natural appeal', metadata={'product_id': 5699, 'product_name': 'cassity upholstered bar & counter stool'}),\n",
       " Document(page_content='fit the whole family for movie marathons and board game nights alike with this clean-lined sectional , offering seating for seven . made with a solid and manufactured wood frame , this budget-friendly piece is filled with foam and supported by a mix of a pocket and sinuous spring . polyester upholstery in a solid hue envelops the design , giving it the versatility to blend with your existing arrangement , while tapered wooden legs below sport a dark brown finish for even more understated appeal . assembly is required .', metadata={'product_id': 5700, 'product_name': \"swick 107.5 '' wide reversible modular sectional\"}),\n",
       " Document(page_content='this swider lounge chair is handcrafted by artisans on the beautiful island of bali , the wires are expertly shaped from iron to create a chair with a wide seat and comfortable angled back . the armrests are made from reclaimed boat wood that was originally used on balinese fishing boats and has been stained in a weatherproof lacquer . rubber feet are affixed to each chair leg to protect floors and to keep the chair from sliding . the metal is finished in a weatherproof blue paint that can withstand covered patio outdoor conditions and is easy to maintain .', metadata={'product_id': 5701, 'product_name': 'swider patio chair'}),\n",
       " Document(page_content='emiliyana floating shelf', metadata={'product_id': 5702, 'product_name': 'emiliyana floating shelf'}),\n",
       " Document(page_content='with case goods featuring unique 3d surfaces , this white lacquered finish set will enhance the look of bedrooms of different sizes and colors . the leatherette headboard provides elegance as well as a classic look to the bedroom set . whether choosing the entire set , its individual platform bed , or any of the case goods , you can rest assured that this quality furniture is meant to last . their case goods are equipped with full extension glides .', metadata={'product_id': 5703, 'product_name': 'baldree 5 drawer chest'}),\n",
       " Document(page_content=\"anchor your bedroom in ultramodern style with this eye-catching platform bed . crafted of manufactured wood with , the headboard showcases two offset rectangular panels – one with black and gray lacquered veneers , the other lighted with integrated led strips controlled by a simple switch . a low-profile footboard , side rails , and a series of slats accommodate your preferred mattress ( up to 10 '' h ) without the need for a bulky box spring or bunkie board , while a closed-off base leans into sleek and chic style .\", metadata={'product_id': 5704, 'product_name': 'durante platform bed'}),\n",
       " Document(page_content='this inspiring design is sure to give uniqueness to your bedroom , along with a modern vibe .', metadata={'product_id': 5705, 'product_name': 'durante 2 drawer nightstand'}),\n",
       " Document(page_content='godin bedroom from brayden studio® offers alluring designs and colors of the modern bedroom . furniture presented in these collections will perfectly compliment bedrooms of any size and color theme . you can buy a complete bedroom set as well as individual items shown in the setting . brayden studio® uses mdf and wood veneer throughout their bedroom products , no rainforests are harmed . the drawers on the case goods feature old-world construction with dovetailed joints front and back . you can rest assured that this furniture is meant to last .', metadata={'product_id': 5706, 'product_name': 'godin platform bed'}),\n",
       " Document(page_content=\"bring streamlined industrial style to any pub table or kitchen island with this handcrafted bar stool . made from solid mango wood , the 1 '' thick seat strikes a square silhouette a rich , honey brown stain to showcase the wood 's exotic grain , unique knots , and variations , while subtle contouring lends added comfort and support . showcasing a rustic black finish , the stool ’ s clean-lined sled base is made from iron tubing and includes an integrated footrest .\", metadata={'product_id': 5707, 'product_name': 'cassius solid wood counter stool'}),\n",
       " Document(page_content='bingeing that latest show , settling in for an afternoon of gaming , or just catching the news : whatever you use it for , your tv is a centerpiece in your home , so give it the perfect perch with a piece like this ! this manufactured wood stand features two spacious media storage areas , and four drawers down below for dvds and games . a neutral finish allows it to blend in with any color palette , while streamlined hardware adds a modern touch .', metadata={'product_id': 5708, 'product_name': \"maner tv stand for tvs up to 70 ''\"}),\n",
       " Document(page_content='effortlessly transform your dining room set with a set of chairs that brings handsome sophistication to your home while also keeping it classy and simple . featuring a stunning slipper chair structure , smooth upholstered seating , and lovely tapered legs , this charming dining chair set uses a mix of materials to emphasize the overall contemporary style of the piece . our refined dining chairs complement any dining table with its straightforward design , making this the perfect balance of stunning style and convenient functionality .', metadata={'product_id': 5709, 'product_name': 'caverly upholstered dining chair'}),\n",
       " Document(page_content='the comet premium bedroom features a minimalistic , yet classy design which looks striking in any decor . the bed comes in a warm brownish-gray wood veneer , which complements the low-profile aesthetics . the case goods are also in a brown wood veneer with light gray high gloss accents .', metadata={'product_id': 5710, 'product_name': 'lorelai platform bed'}),\n",
       " Document(page_content='handcrafted to perfection by skilled artisans using the latest state of the art technology as well as years of experience ; these bedrooms are the pinnacle of artistry in furniture manufacturing . the case goods come equipped with soft closing tracks , a world-renowned german manufacturer that sets the standards for the finest quality furniture hardware .', metadata={'product_id': 5711, 'product_name': 'cretys 6 drawer chest'}),\n",
       " Document(page_content='anchor your master suite in wow-worthy style with this wingback panel bed , made from pine wood in the united states . wrapped in linen upholstery , this bed is outfitted with a distinctive geometric motif in black and white for a bold pop of pattern . a foam fill gives this bed an extra layer of padding , while a pine wood frame offers the design support . this bed is available in an array of size options to fit your space .', metadata={'product_id': 5712, 'product_name': 'thaxton wingback upholstered standard bed'}),\n",
       " Document(page_content=\"when it comes to rounding out your seating ensemble , nothing beats a coffee table for its ability to deliver handy surface area and on-trend style all in one package . take this one , for example : crafted from a blend of solid and manufactured wood , it 's perfect for a modern accent in your home thanks to its solid-hued finish and eye-catching silhouette . this piece is a great option for larger seating ensembles .\", metadata={'product_id': 5713, 'product_name': 'weber coffee table'}),\n",
       " Document(page_content='small spaces shouldn ’ t have to sacrifice storage , which is why this coffee table is the whole package . sporting that must-have mixed-material style , this modern design is totally on-trend . its made from engineered wood with solid oak veneers . finished half in brown and half with a gray gloss , this piece sits on a silver base for a touch of contrast . best of all , it opens to reveal 4 cubbies with ample space to keep blankets , tv remotes , and much more close at hand .', metadata={'product_id': 5714, 'product_name': 'hansen extendable coffee table'}),\n",
       " Document(page_content='crafted of solid and manufactured wood in a matte walnut veneer , this ultramodern tv stand strikes a wide , open rectangular silhouette . two extra-wide drawers offer out-of-sight storage for dvds , blu-ray discs , video games , and other a/v accessories , while the open upper shelf is ideal for housing your cable box and entertainment consoles .', metadata={'product_id': 5715, 'product_name': \"ahl tv stand for tvs up to 65 ''\"}),\n",
       " Document(page_content='turner cross legs coffee table', metadata={'product_id': 5716, 'product_name': 'turner cross legs coffee table'}),\n",
       " Document(page_content=\"anchor your dining space in contemporary style with this pub table set . crafted of manufactured wood with warm oak veneers , the pub table features a “ floating ” tabletop , while its clean-lined trestle base is made from powder-coated metal . rounding out the set , four matching stools showcase contoured saddle seats and matching metal trestle bases . measuring 29 '' h x 16 '' w x 14 '' d , each stool has a 300 lbs . weight capacity . measuring 41 '' h x 48 '' l x 24 '' w overall , the table comfortably seats four .\", metadata={'product_id': 5717, 'product_name': 'mcgonigal bar height dining set'}),\n",
       " Document(page_content='these fixtures come with candle-like shapes that add considerable light , warmth , and charm to any room .', metadata={'product_id': 5718, 'product_name': 'ota 1-light wall sconce'}),\n",
       " Document(page_content='conovan 1-light wall sconce', metadata={'product_id': 5719, 'product_name': 'conovan 1-light wall sconce'}),\n",
       " Document(page_content='an elegant , modern design by their styling of boxy shades covering the light source . this wall sconce is rated for the outdoors and will fit incredibly on the exterior of a modern-style home , particularly with its sleek matte black finish . this 10-inch fixture provides a warm , glowing light for your outdoor space . led bulb included 360 lumens at a temperature of 3000 kelvin .', metadata={'product_id': 5720, 'product_name': 'devonte led 2 - light outdoor flush mount'}),\n",
       " Document(page_content='searching for the perfect armchair to complement your patio furniture ? the teak patio chair with cushion is the perfect piece to fill up a corner while serving as a comfortable place to sit and enjoy the day al fresco . carefully crafted gray cushions and an aluminum frame with synthetic teak wood panels provide sturdy support while conveniently weather-resistant therefore ensuring years of reliable use .', metadata={'product_id': 5721, 'product_name': 'twining outdoor lounge chair with cushion'}),\n",
       " Document(page_content=\"whether you 're trying to center your back patio seating group or simply setting the stage for casual dinner gatherings by the pool , this understated and essential coffee table makes a subtle statement in any ensemble . featuring a clean-lined aluminum frame coated in a crisp white finish , this coffee table makes a neutral addition to your aesthetic , while its planked teak wood top and warm brown finish adds an earthy and warm touch to your environment . utilize its weather-resistant design by setting it on the back porch under a shade market umbrella , then pull up all-weather wicker chairs around to create a cozy seating group in your al fresco space .\", metadata={'product_id': 5722, 'product_name': 'oluna solid wood coffee table'}),\n",
       " Document(page_content='perfect geometry . this gorgeous dining table with its smooth round marble-like top , rests on an architecturally inspired steel base for a look that is timeless . its modern open air design is perfect for small spaces . the substantial surface with a slightly tapered base will seat four comfortably .', metadata={'product_id': 5723, 'product_name': 'francesca dining table'}),\n",
       " Document(page_content='this modern loveseat is perfect for rounding out your living room or den with its clean-lined look . its frame is crafted in the united states from a mix of solid and engineered wood , and it features block feet in a dark walnut finish . its low-profile design is wrapped in polyester upholstery in a stylish neutral gray hue that works well with any color palette . and the back and seat cushions are stuffed with a foam and fiber blend for a sink-into feel . plus , we love that this sofa comes with two toss pillows , giving your space a pop of pattern .', metadata={'product_id': 5724, 'product_name': \"ainsley 67 '' loveseat with reversible cushions\"}),\n",
       " Document(page_content='antique gold wall decor', metadata={'product_id': 5725, 'product_name': 'antique gold wall decor'}),\n",
       " Document(page_content='this sofa is crafted from solid teak wood and showcases a weather-resistant design , making it the perfect fit for your patio or sunroom arrangement . it showcases a clean-lined silhouette and open arms and slatted back for a breezy look . outfitting this sofa is a natural finish for a touch of style . a removable foam-filled sunbrella cushion , in white , adds an extra layer of padding to the sofa .', metadata={'product_id': 5726, 'product_name': 'constance teak patio sofa with cushions'}),\n",
       " Document(page_content='forget about watering and weeding ! you can still enjoy a touch of natural style in your home without the upkeep with this faux succulent plant . made in the usa , this green plastic piece sits within a round gray stone pot for a dash of industrial influence . this versatile design is the perfect size to sit atop a console table , desk , or mantel .', metadata={'product_id': 5727, 'product_name': 'concrete succulent plant in pot'}),\n",
       " Document(page_content=\"ready to stand up to high foot traffic no matter the weather waiting beyond the front door , this doormat is a must-have for keeping your entryway looking sharp . made in the usa , it is constructed from anti-static polypropylene and features a non-skid rubber backing made from 25 % recycled rubber for eco-friendly appeal . plus , it lends style as well with an eye-catching honeycomb design in a neutral solid hue . measures 24 '' w x 36 '' l overall .\", metadata={'product_id': 5728, 'product_name': 'markel honeycomb 36 in . x 24 in . non-slip outdoor door mat'}),\n",
       " Document(page_content='coppin 5 drawer chest', metadata={'product_id': 5729, 'product_name': 'coppin 5 drawer chest'}),\n",
       " Document(page_content='embodying a sense of incomparable vibrancy infused with elements of truly dazzling design , this collection will surely fashion an utterly flawless look from room to room within any home décor . with a series of upbeat images splashed across a divine canvas , these perfect pieces will surely add a sense of captivating charm to your space .', metadata={'product_id': 5730, 'product_name': 'bridgeton geometric hand hooked teal/dark brown indoor / outdoor area rug'}),\n",
       " Document(page_content='this birds choice 3 qt . the feeder uses a stainless steel screen tube , attractive acrylic top , and bottom , and has attached 6 steel perches , great for cardinals .', metadata={'product_id': 5731, 'product_name': 'forever 3 quart sunflower nyjer/thistle feeder'}),\n",
       " Document(page_content='the mid rail plank barnwood knotty alder barn door is made of knotty alder wood that has enhanced distressed markings for an authentic weathered barnwood look . all hardware including the sliding track and handles are sold separately .', metadata={'product_id': 5732, 'product_name': 'paneled wood finish barnwood barn door without installation hardware kit'}),\n",
       " Document(page_content='natural looking phalaenopsis orchid arrangement is lush with lifelike detail and designed with colors inspired by nature . the orchid is accented with bamboo and moss and potted in a gray fiber stone pot . floral will compliment any room in your home or office .', metadata={'product_id': 5733, 'product_name': 'phalaenopsis orchids floral arrangement in pot'}),\n",
       " Document(page_content='this beautiful spring arrangement of heather is accented with lilac and daisies and arranged in a glass vase with realistic looking acrylic water . this lifelike floral piece is full and lush without any watering needed . nestle it in your home or office for a touch of color .', metadata={'product_id': 5734, 'product_name': 'lilacs and daisies mixed floral arrangement in glass vase'}),\n",
       " Document(page_content='created with unique artistic designs , our white phalaenopsis orchid arrangement is planted with a mix of moss and river rocks and arranged in a glass cylinder vase . lush with lifelike detail and designed with colors inspired by nature our arrangement will bring natural beauty to your home or office', metadata={'product_id': 5735, 'product_name': 'phalaenopsis orchid arrangement in vase'}),\n",
       " Document(page_content='3-light led under cabinet puck light', metadata={'product_id': 5736, 'product_name': '3-light led under cabinet puck light'}),\n",
       " Document(page_content='the led gives off a warm white glow . the light is less than 1 in . thick . press the tap lens to turn the light on/off . the light bar mounts with screws or adhesive tape ( both are included ) . the light operates on 3 aa batteries ( not included ) and has a run time of over 100 hours . the runtime is 4 times longer than other lights .', metadata={'product_id': 5737, 'product_name': \"4-light 8.5 '' led under cabinet light bar\"}),\n",
       " Document(page_content=\"4-light led 9.75 '' under cabinet light bar\", metadata={'product_id': 5738, 'product_name': \"4-light led 9.75 '' under cabinet light bar\"}),\n",
       " Document(page_content='this product mounts with screws or adhesive tape ( both are included ) . use the remote to turn the puck lights on/off up to 15 ft. away . control up to 12 puck lights with one remote . there is an optional timer that will automatically turn the lights off in 30 or 60 minutes .', metadata={'product_id': 5739, 'product_name': 'wireless 6-light led under cabinet puck light'}),\n",
       " Document(page_content='the product are super bright at 80 lumens . the leds are 3000k and give off a warm white glow . use the remote to turn the under cabinet light on/off up to 15 ft. away . control up to 12 under cabinet lights with one remote . there is also an on/off tap lens . set the brightness to 50 % or 100 % with the preset dimmer buttons or use the - or + buttons to select the exact level of brightness . there is an optional timer that will automatically turn the lights off in 15 , 30 , 60 , or 120-minute . the under cabinet light mounts with screws or adhesive tape ( both are included ) . the light operates on 3 aa batteries ( not included ) and has a run time of over 100-hour . the run time is four times longer than other operated under cabinet lights .', metadata={'product_id': 5740, 'product_name': \"4 - light led 9.3 '' under cabinet light bar\"}),\n",
       " Document(page_content=\"bring a touch of rustic flair to your entertaining areas , indoors or outdoors with these aged galvanized nesting trays . crafted of the highest quality , aged galvanized steel , the sleek and durable trays lasts longer and is more sustainable than the plastic variety , plus it 's coated with a clear gloss finish to protect it from the elements . hand-painted accents and durable drop-down handles allow for easy portability of this decorative piece .\", metadata={'product_id': 5741, 'product_name': 'home nesting 2 piece serving tray set'}),\n",
       " Document(page_content='sleep well in this premium fiber mattress bed , provides lofty warmth and soothing comfort throughout the night . features a gusseted sidewalls with mitered border . polyester knit skirt .', metadata={'product_id': 5742, 'product_name': '233 thread count top fiber mattress pad'}),\n",
       " Document(page_content='the specially crafted upholstered kids cotton rocking chair sized with growing toddler ’ s in mind is sure to be a hit with toddlers and parents alike ! upholstered in high quality , fun , kid-friendly fabrics they are easy to clean and look great in any room of the house .', metadata={'product_id': 5743, 'product_name': 'kids cotton rocking chair'}),\n",
       " Document(page_content='the specially crafted upholstered kids cotton rocking chair sized with growing toddler ’ s in mind is sure to be a hit with toddlers and parents alike ! upholstered in high quality , fun , kid friendly fabrics they are easy to clean and look great in any room of the house .', metadata={'product_id': 5744, 'product_name': 'mickie kids chair'}),\n",
       " Document(page_content='this holenice pineapple glass 338.14 oz . beverage dispenser decorative and ornately etched it will have guests milling around it at busy parties or buffets refreshing themselves effortlessly with cold drinks . this glass pineapple shaped piece with its matching gold spout and cap is not only functional but is an impressive asset to the buffet or table setting .', metadata={'product_id': 5745, 'product_name': 'holenice pineapple glass 338 oz . beverage dispenser'}),\n",
       " Document(page_content='this chaise features a contemporary sleek design with clean lines , a curved seat , and arched back . enhance your home decor with this unique chaise lounge chair . a unique piece of furniture has inviting curves . chaise assembles easily to instantly create the perfect relaxation area in the living room or bedroom .', metadata={'product_id': 5746, 'product_name': 'chaise lounge leisure chair rest sofa chaise lounge couch for indoor living room'}),\n",
       " Document(page_content='this product is a fully integrated range hood system with a 250 cfm fan designed to fit flush with the bottom of a cabinet or custom hood installation . select this silver-finished blower with muti-speed controls to provide quiet , effective performance . incandescent lighting complements the beauty of a fully enclosed bottom containing dishwasher-safe filters to make cleaning easy . recommended custom liners include broan models ld30 , lb36 , lt30 , and lt36 .', metadata={'product_id': 5747, 'product_name': \"21 '' pm250 series 250 cfm convertible insert range hood\"}),\n",
       " Document(page_content='bulb heaters are a great source for energy-saving warmth and instant comfort – without ever having to touch your central thermostat . perfect for smaller spaces or rooms where you already have independent ventilation near the shower , but want some extra warmth in the dressing area .', metadata={'product_id': 5748, 'product_name': '500w light bulb'}),\n",
       " Document(page_content=\"broan 's round transition can maximize the air and sound performance of your ventilation fan or range hood . provides a bridge between a duct and round duct and is compatible with most ducts .\", metadata={'product_id': 5749, 'product_name': \"range hood 10 '' round vent\"}),\n",
       " Document(page_content='the broan vent hood duct transition provides a connection between a rectangular duct and a round duct to facilitate outdoor venting . it is made from 30-gauge galvanized steel for long life . used for outdoor venting applications .', metadata={'product_id': 5750, 'product_name': \"14 '' hood duct vent\"}),\n",
       " Document(page_content='resin water fountain with light', metadata={'product_id': 5751, 'product_name': 'resin water fountain with light'}),\n",
       " Document(page_content='louis resin fountain with light', metadata={'product_id': 5752, 'product_name': 'louis resin fountain with light'}),\n",
       " Document(page_content='a simple change can make a huge impact on the look and feel of any room . change out your old socket plates and give any room a brand new feel . experience the look of a quality liberty hardware socket plate .', metadata={'product_id': 5753, 'product_name': 'arboresque 1-gang toggle light switch wall plate'}),\n",
       " Document(page_content='paisley 2-gang toggle light switch wall plate', metadata={'product_id': 5754, 'product_name': 'paisley 2-gang toggle light switch wall plate'}),\n",
       " Document(page_content='a simple change can make a huge impact on the look and feel of any room . change out your old wall plates and give any room a brand new feel . experience the look of a quality liberty hardware wall plate .', metadata={'product_id': 5755, 'product_name': 'pineapple 2-gang toggle light switch wall plate'}),\n",
       " Document(page_content='a simple change can make a huge impact on the look and feel of any room . change out your old wall plates and give any room a brand new feel . experience the look of a quality liberty hardware wall plate .', metadata={'product_id': 5756, 'product_name': 'pineapple 1-gang duplex outlet wall plate'}),\n",
       " Document(page_content='a simple change can make a huge impact on the look and feel of any room . change out your old wall plates and give any room a brand new feel . experience the look of a quality liberty hardware wall plate .', metadata={'product_id': 5757, 'product_name': 'pineapple 1-gang rocker wall plate'}),\n",
       " Document(page_content='change the wall plates of your home with this pineapple 1-gang toggle switch wall plate . a simple change of this switch plate can create a huge impact on the look and feel of any room . fashioned with an intricate borderline , this switch plate helps create a dramatic effect . engineered using high-quality materials , this single switch plate is strong and sturdy . this pineapple 1-gang toggle switch wall plate by brainerd is available in multiple finishes and looks splendid . the single switch requires installation upon arrival . simply wipe this switch with a clean cloth and it will look new for years to come .', metadata={'product_id': 5758, 'product_name': 'pineapple 1-gang toggle light switch wall plate'}),\n",
       " Document(page_content='a simple change can make a huge impact on the look and feel of any room . change out your old wall plates and give any room a brand new feel . experience the look of a quality liberty hardware wall plate .', metadata={'product_id': 5759, 'product_name': 'architectural 2-gang toggle light switch wall plate'}),\n",
       " Document(page_content=\"when you 're remodeling a room or switching out paint colors , do n't forget the details ; this essential wall plate makes a stylish capstone for any thoughtfully decorated space .\", metadata={'product_id': 5760, 'product_name': 'architectural 1-gang toggle light switch wall plate'}),\n",
       " Document(page_content='paisley 1-gang toggle light switch wall plate', metadata={'product_id': 5761, 'product_name': 'paisley 1-gang toggle light switch wall plate'}),\n",
       " Document(page_content='paisley 3-gang toggle light switch wall plate', metadata={'product_id': 5762, 'product_name': 'paisley 3-gang toggle light switch wall plate'}),\n",
       " Document(page_content='the liberty die-cast zinc coat and hat hook holds a maximum of 35 lb . when mounted to solid wood or a stud . the hook is great for bathrooms , bedrooms and closets .', metadata={'product_id': 5763, 'product_name': 'decorative coat and hat hook'}),\n",
       " Document(page_content='wall mounted robe hook', metadata={'product_id': 5764, 'product_name': 'wall mounted robe hook'}),\n",
       " Document(page_content='this die-cast zinc double robe hook features durable construction and a double-prong design to offer optimal mounted storage for your room . this decorative item supports up to 35 pounds . mounting hardware included for easy installation .', metadata={'product_id': 5765, 'product_name': 'wall mounted decorative double prong robe hook'}),\n",
       " Document(page_content='proudly display your thriving house plant or a fresh floral arrangement on the bamboo plant stand . this stand features a simplistic design that ensures all of your attention falls on the decorative pieces you decide to display on its spacious surface .', metadata={'product_id': 5766, 'product_name': 'taranto multi-tiered plant stand'}),\n",
       " Document(page_content='proudly display your thriving house plant or a fresh floral arrangement on the bamboo plant stand . this stand features a simplistic design that ensures all of your attention falls on the decorative pieces you decide to display on its spacious surface .', metadata={'product_id': 5767, 'product_name': 'taranto multi-tiered plant stand'}),\n",
       " Document(page_content='brand new and high-quality chaise lounge cushion . it must be comfortable to sit on hard chairs in cold winter , so it is your ideal choice to buy a soft and warm cushion . this cushion could also be used as decoration for its beautiful color . you could apply it on an outdoor bench or indoor chair because the angle could be freely adjusted to adapt to the chair .', metadata={'product_id': 5768, 'product_name': 'patio indoor/outdoor chaise lounge cushion'}),\n",
       " Document(page_content='simple yet stylish , is perfect for pairing with your sofa set in the living room . it can also be effectively used in the study room , home library , or bedroom according to your convenience . featuring a typical contemporary style , this chair is best suited for casual and modern decors , a great addition to a living room , office , bedroom , hotel , reception room . frame covered in fabric linen .', metadata={'product_id': 5769, 'product_name': \"powell 31.5 '' wide polyester armchair\"}),\n",
       " Document(page_content='enjoy a comfy seat in your bar area or dining space with this stool . with footrest , a stretcher adds stability and extra comfort . padded seats and backrests ensure your guests are seated in high style and comfort . a lift handle allows this stool to go from counter to bar height .', metadata={'product_id': 5770, 'product_name': 'marrow swivel adjustable height bar stool'}),\n",
       " Document(page_content='this set of 2 modern barstools is sure to be the envy of all your friends . sip your drink in style perched on a faux-tufted , chair-style seat with all-over foam cushioning . the comfy chair is supported by a chrome-finished , adjustable base that is easily raised and lowered with a lever under the seat . the leatherette material is easy to wipe clean of spills and is a classy addition to your dining room or living room .', metadata={'product_id': 5771, 'product_name': 'marte swivel adjustable height bar stool'}),\n",
       " Document(page_content='you can set this light to the color of your choice , or choose one of the color-changing options - which have to be seen to be appreciated . with the gradual color change option , this light will blend from one color to another , creating a surreal atmosphere .', metadata={'product_id': 5772, 'product_name': 'ball plug-in led outdoor floating light'}),\n",
       " Document(page_content='you can set this light to the color of your choice , or choose one of the color-changing options - which have to be seen to be appreciated . with the gradual color change option , this light will blend from one color to another , creating a surreal atmosphere .', metadata={'product_id': 5773, 'product_name': \"16 '' h x 16 '' w x 16 '' d cube white chargeable led outdoor floating light\"}),\n",
       " Document(page_content='you can set this light to the color of your choice , or choose one of the color-changing options - which have to be seen to be appreciated . with the gradual color change option , this light will blend from one color to another , creating a surreal atmosphere .', metadata={'product_id': 5774, 'product_name': 'chair white plug-in led outdoor floating light'}),\n",
       " Document(page_content='you can set this light to the color of your choice , or choose one of the color-changing options - which have to be seen to be appreciated . with the gradual color change option , this light will blend from one color to another , creating a surreal atmosphere .', metadata={'product_id': 5775, 'product_name': 'tray white plug-in led outdoor floating light'}),\n",
       " Document(page_content=\"this 5 '' thick folding foam bed is designed all high-quality foam covered by the solid color fabric . you can save more space . use it as a chair or simply unfold it into a medium-firm mattress . you love to use it for taking naps , reading a book , or tv time . you could place this foldable chair foam bed in the living room , guest room , patio , family room , studio , rv trailer , mobile home , boat , minivan , truck .\", metadata={'product_id': 5776, 'product_name': \"elsinore 23 '' armless sleeper\"}),\n",
       " Document(page_content=\"this 5 '' thick folding foam bed is designed all high-quality foam covered by the solid color fabric . you can save more space use it as a chair or simply unfold it into a super plush mattress . you love to use it for taking naps , reading a book , or tv time . you could place this foldable chair foam bed in the living room , guest room , patio , family room , studio , rv trailer , mobile home , boat , minivan , truck . use it as a chair , or simply unfold it into a super plush mattress .\", metadata={'product_id': 5777, 'product_name': \"rochers 36 '' rolled arm sleeper\"}),\n",
       " Document(page_content=\"this 5 '' thick folding foam bed is designed all high quality foam covered by the solid color fabric . you can save more space . use it as a chair or simply unfold it into a medium-firm mattress . you love to use it for taking naps , reading a book , or tv time . you could place this foldable chair foam bed in the living room , guest room , patio , family room , studio , rv trailer , mobile home , boat , minivan , truck . use it as a chair , or simply unfold it into a medium-firm mattress .\", metadata={'product_id': 5778, 'product_name': \"fabrice 46 '' rolled arm sleeper\"}),\n",
       " Document(page_content='designed for comfort and increased productivity while accomplishing your tasks at work or at home . our chair features a luxuriously upholstered seat and the mid-back for an upscale look and feels , making it a smart and stylish solution for any application . the soft fabric back and seat are designed to provide total body support . the chair offers simple and intuitive controls such as pneumatic seat height adjustment and 360-degree swivel for added customizability and comfort . the padded armrests provide additional upper body support for when you take a break . each well thought through feature brings versatility and durable construction you can count on to get you through your busy day .', metadata={'product_id': 5779, 'product_name': 'rachita task chair'}),\n",
       " Document(page_content='whether working on your next great novel or simply need a platform to craft diy masterpieces , this writing desk is an ideal anchor for your home office . this two-piece set includes both a writing desk and chair .', metadata={'product_id': 5780, 'product_name': 'clintonville solid wood writing desk with chair set'}),\n",
       " Document(page_content='if you are looking for a plant stand that looks elegant and serves a purpose , this plant stand is the one for you . simple and classic , this table fits beautifully in any surrounding . place it in any corner of your room to add a touch of utility without compromising on style . this plant stand is constructed out of stained solid birch wood making it strong and durable . this square stand has a smooth brown finish , which enhances its vintage design .', metadata={'product_id': 5781, 'product_name': 'mastandrea square multi-tiered plant stand'}),\n",
       " Document(page_content='this chair offers a sophisticated seating solution for any professional environment . cushioned bonded leather upholstery provides exceptional comfort with an upscale appearance that looks right at home in a private office or open workspace . the high back design limits strain on the upper back , shoulders , and neck to reduce fatigue and improve productivity during a long workday and ergonomically contoured armrests are made with durable polypropylene and include softly padded upholstery , and the seat has a waterfall style edge that puts less pressure on the back of the legs for maximum comfort .', metadata={'product_id': 5782, 'product_name': 'lowellville patacas ergonomic executive chair'}),\n",
       " Document(page_content='this chair offers a sophisticated seating solution for any professional environment . cushioned bonded leather upholstery provides exceptional comfort with an upscale appearance that looks right at home in a private office or open workspace . the high back design limits strain on the upper back , shoulders , and neck to reduce fatigue and improve productivity during a long workday and ergonomically contoured armrests are made with durable polypropylene and include softly padded upholstery , and the seat has a waterfall style edge that puts less pressure on the back of the legs for maximum comfort .', metadata={'product_id': 5783, 'product_name': 'oxfield toscanelli ergonomic gaming chair'}),\n",
       " Document(page_content='futuristic design and novel colors correspond to visual aesthetics . the sculptural and exquisite appearance is treated with polymer jewelry , providing perfect visual enjoyment . a perfect seat for the kitchen , studio , bar , patio or restaurant cafe , the round ball chair enlightens any space with its circular eclectic design and contemporary modern style .', metadata={'product_id': 5784, 'product_name': 'keeva round ball patio chair'}),\n",
       " Document(page_content='add this portable travel picnic table to your family ’ s collection to make setup , transport , and storage a breeze . it folds down to the size of a suitcase so it ’ s a snap to bring it with you on the go . it ’ s handy for any activity , whether you ’ re out camping , spending a day together at the park , or catching a bite to eat outdoors . it even makes a great game or craft table for the kids . when you ’ re finished , the table simply folds back together into that compact suitcase carrying case so it ’ s easy to pack away until your next fun activity or event .', metadata={'product_id': 5785, 'product_name': \"35.5 '' rectangular fold-in-half portable folding table with 2 chairs\"}),\n",
       " Document(page_content=\"this bar table is crafted exquisitely to match the elegance of your stylish dining room , kitchen , bar , or patio . the sleek design gives you the flexibility to move around easily . with simple gas hydraulics this table can be adjusted from 27.5 '' - 35.7 '' to accommodate either seated or standing guests depending on need or setting , while the convenient 360 degrees top swivel adds even more function to already fashionable form .\", metadata={'product_id': 5786, 'product_name': 'nakano counter height dining table'}),\n",
       " Document(page_content='durable and functional , the brentwood 8-quart slow cooker is an excellent addition to any kitchen . made from aluminum , the cooker is sturdy and durable . this cooker has a tempered glass lid , which allows you to see the food while it is cooking . it has three heat settings for different cooking needs . the round shape of the cooker is easy to use and features cool touch handles that makes it portable . the eight quart capacity is enough to cook meal for an entire family . it features a led power indicator that makes cooking easy . the 8-quart slow cooker by brentwood offers versatile usage options . it is cul listed .', metadata={'product_id': 5787, 'product_name': 'brentwood appliances 8-quart slow cooker'}),\n",
       " Document(page_content=\"watch your little one tear up the sidewalk with this cool battery-powered best ride-on cars honda crf250r kids 6-volt toy dirt bike . made for riders ages 2 to 5 years old who weigh less than 55 pounds , this mini dirt bike is the perfect size for young kids . the awesome stylings include authentic details like working horn and engine start sound . the decoration authentically matches the honda crf250r dirt bike and is an officially licensed honda product . the battery-powered , 6-volt motor travels 1 to 3 miles per hour , making this dirt bike safe and fun for toddlers . as they ride , your little rider can jam out to music from the built-in music box . younger riders can join in the fun with the included training wheels . this motorcycle toy encourages the development of gross motor skills , especially coordination , for young children . satisfy your kid 's need for speed with the best ride-on cars honda crf250r kids 6-volt toy dirt bike .\", metadata={'product_id': 5788, 'product_name': 'best ride on cars honda crf250r toddler kids electric 6 volt toy dirt bike , red'}),\n",
       " Document(page_content='keep keys organized and secured with the key cabinet with electronic lock . this safe features 48 numbered hooks and colored key tags that can be labeled to make key identification quick and easy . the digital keypad of this key safe retains 1 pin code ( 3-8 digits ) and can also be accessed with the included barrel keys . users who do not have access to the key safe can return keys using the key return drop slot located on the side of the safe . the digital wall key safe features solid steel construction and two solid-steel locking deadbolts for added security .', metadata={'product_id': 5789, 'product_name': 'key cabinet with electronic lock'}),\n",
       " Document(page_content='keep your handgun securely stored and at the ready with the quick access safe with electronic lock . this innovative security solution features a compact design that allows you to discretely store your handgun within reach and out of sight . the quick-access biometric fingerprint scanner ensures that the user can quickly and reliably access their firearm at the touch of a finger .', metadata={'product_id': 5790, 'product_name': 'quick access safe with electronic lock'}),\n",
       " Document(page_content=\"the large biometric rifle safe from barska is a great way to keep rifles and other firearms securely stored while allowing only select users access to the contents in seconds without the need for a combination or a key . the advanced biometric fingerprint identification system features an optical scanner that analyzes the scanned fingerprint and compares it to unique characteristics of those stored in the safe 's 120 fingerprint memory . the large biometric rifle safe includes an adjustable 12 position rifle rack and 3 removable shelves that can be positioned to the user 's liking .\", metadata={'product_id': 5791, 'product_name': 'extra large safe biometric lock'}),\n",
       " Document(page_content=\"ayaana luxury pillowcases most comfortable and healthy option for your hair . pillowcases are the one thing that come in contact with your hair the most , and ayaana recognizes the importance of a silk 's quality to the health of one 's hair . the high quality charmeuse silk that is used in ayaana pillowcases contain a naturally occurring protein and 18 amino acids that help rejuvenate your hair while you sleep . also , the smooth nature of charmeuse silk allows hair to gently glide over the surface of the pillowcase , reducing unnecessary damage from constant rubbing and friction . the high quality ayaana charmeuse silk features hypoallergenic properties as well . the small areas between the individual silk threads prevent allergens from collecting in the silk sheet , which in turn prevents the allergens from coming in contact with the skin , nose , or eyes . the natural breathe-ability of the charmeuse silk sheets allow warmth to be retained during the cold winter months , and offers a cool soothing temperature during the warm summer months . 100 % mulberry silk-19 momma ( unit of silk weight ) . 100 % silk charmeuse- refers to a weaving style that results in a reflective lustrous finish\", metadata={'product_id': 5792, 'product_name': 'ayaana pillowcase'}),\n",
       " Document(page_content='the barska large biometric wall safe ( cream ) is a secure storage solution that is designed to house important items such as medical supplies or personal valuables . the safe can store up to 120 fingerprints in its biometric memory system , providing the option of allowing multiple users access to the safe . inside the safe is an extra locked compartment for more sensitive items and also features an led light and fold down tray for extra convenience . some users may want to have one or more other people who can open the safe in case a need arises in their absence , which is especially important in a business environment . this wall-mounted safe is a great option for securing medicines and other valuables while allowing access to multiple registered users . if the contents must be accessed quickly , the touch of a finger in the correct position against the locking mechanism will open the two solid steel locking bolts and provide immediate access . with the pre-drilled holes it easily mounts within a wall using existing wall studs . backed by a one year limited warranty . includes removable shelf , protective floor mat , plastic separator , six aa batteries , set of back-up keys , set of interior back-up keys and mounting hardware', metadata={'product_id': 5793, 'product_name': 'large biometric lock safe'}),\n",
       " Document(page_content='featuring advanced biosecure technology , the easy-to-use biometric home safe promises secure , compact storage for firearm aficionados , parents , grandparents , and hotels . lock in your valuables and handguns behind solid steel walls and enjoy reliable , 2.5-second quick access for home defense and emergencies .', metadata={'product_id': 5794, 'product_name': 'safe biometric lock'}),\n",
       " Document(page_content='the compact , all-steel biometric rifle safe keeps your firearms within near-instant reach . its advanced biometric module scans fingerprints in just 2.5 sec for reliable quick access , trusted firearm security , and upgraded home defense .', metadata={'product_id': 5795, 'product_name': 'biometric lock safe 2.60 cuft'}),\n",
       " Document(page_content='traditional design gets a contemporary update in this three-light chandelier . finished in classic oil-rubbed bronze , this design ’ s steel frame features an overlapping oval pattern that casts shadows on a clean-lined drum shade within . versatile and adjustable , this piece comes with five feet of chain to hang it from multiple heights , and a removable frosted glass diffuser for a softer incandescent glow . install this light in your open concept eat-in kitchen to brighten up weekend brunches and dinner parties with friends . for a dining arrangement designed to entertain , roll out a bright , overdyed area rug in the middle of the room before pulling tufted linen chairs with tapered legs up to around , rustic , reclaimed wood table . before guests arrive , deck out the table with a geometric runner , textured cotton placemats , and a metallic vase of freshly-cut peonies for a pop of botanical brilliance .', metadata={'product_id': 5796, 'product_name': 'tadwick 3 - light unique drum chandelier'}),\n",
       " Document(page_content='with a clean , minimalistic style , this collection is designed for modern sensibilities . the set is made of hardwood solids with quarter cut ash veneer construction .', metadata={'product_id': 5797, 'product_name': 'maust extendable dining table'}),\n",
       " Document(page_content='this dining table features a unique and modern style . the table is crafted from hardwood solids with primavera veneers and boasts a hand-applied espresso glaze finish .', metadata={'product_id': 5798, 'product_name': 'mattos extendable dining table'}),\n",
       " Document(page_content='sleek and modern describe this button-tufted bed . featured in luxuriously soft velvet upholstery and constructed with plush foam padding , this bed is a signature piece to any room . bed frame and matching upholstered bed panels included .', metadata={'product_id': 5799, 'product_name': 'tufted upholstered low profile standard bed'}),\n",
       " Document(page_content='not just for keeping your eye on the hour , this eye-catching wall clock lends a touch of retro flair to your ensemble in seconds . this piece pairs a glossy iron frame with a traditional analog dial . this product requires one aa to operate , which is not included . the manufacturer for this item provides a limited one-year warranty .', metadata={'product_id': 5800, 'product_name': \"havana 7.25 '' wall clock\"}),\n",
       " Document(page_content='lend a touch of eye-catching style to the living room or kitchen with this lovely canvas print , showcasing a mosaic-inspired print of a sunflower vase .', metadata={'product_id': 5801, 'product_name': 'sunflowers derezzed graphic art on wrapped canvas'}),\n",
       " Document(page_content=\"a storage solution with style , this bookcase ca n't wait to round out your modern master suite or contemporary living room look its frame pairs a zigzagging wood design with clear glass panels for an aesthetic that 's total of today . four interior shelves are ready to take on your collection of reads or simply act as a spot to stage decor .\", metadata={'product_id': 5802, 'product_name': 'ignacio geometric bookcase'}),\n",
       " Document(page_content='fashioned in a contemporary and simplistic style , the brayden studio 3 piece coffee table will elegantly upgrade the interiors of your living space with its uncomplicated design . designed with innate craftsmanship , this coffee table set will add utility and style to your living space . it is sure to beautify any corner with its simplicity . the sleek clear glass tops of this coffee table set molded with wood and metal accents enunciates the elegance factor to the maximum . the top material of the tables is carved out of glass to blend exquisitely with the curved chrome legs . a dark , lustrous cappuccino finish increases the richness of the tables . the set features storage space below and above the tabletops where you can display your decorative pieces or place your magazines or newspapers . the coffee table is constructed in an oval shape to complement the round-shaped end tables to maintain perfect symmetry . this set of beautifully designed tables can be placed in your den , library , or family room because of its compatibility . designed for functionality and practicality , this coffee table set is sure to be an ideal addition to your home . get the brayden studio 3 piece set and experience luxury in the comfort of your living space .', metadata={'product_id': 5803, 'product_name': 'markley 3 piece coffee table set'}),\n",
       " Document(page_content='versatile and on-trend , this stylish 2-piece floating shelf set adds a decorative pop to any wall in your home . allowing you to display everything from canisters to candles , this set comes crafted from engineered wood and features clean lines and a neutral finish for a minimal look that goes perfectly with your modern decor . plus , its s-shape gives you lots of space to showcase accent pieces , floral arrangements , or framed photos . assembly is required for this set .', metadata={'product_id': 5804, 'product_name': 'taylorsville 2 piece floating shelf set'}),\n",
       " Document(page_content='display books , framed photos , and collected curios in contemporary style with this three-level wall shelf . crafted of plastic in a gleaming silver finish , three pairs of squiggly , s-shaped brackets support clean-lined rectangular shelves made from manufactured wood in a rich espresso stain . when displayed as one piece , these three shelves can be separated into three different units to spread throughout your space . ready to hang right out of the box , these shelves include wall-mounting hardware for effortless installation .', metadata={'product_id': 5805, 'product_name': 'waves 3 piece tiered shelf'}),\n",
       " Document(page_content=\"this elegant office chair will add an upscale appearance to your office with its attractive stitched seat and back . the comfort molded seat has built-in lumbar support and features a locking tilt mechanism for a mid-pivot knee tilt . if you 're looking for a modern office chair that provides a sleek look , then the designer upholstered leather office chair by brayden studio delivers .\", metadata={'product_id': 5806, 'product_name': 'camp mabry ergonomic executive chair'}),\n",
       " Document(page_content='set the tone for a contemporary living space with this coffee table , an understated anchor for your home . crafted from engineered wood in a neutral finish , its square silhouette features a lower lip that acts as a perch for decorative accents , books , and more . its surface top leaves plenty of room for you to set down cups of coffee and keep remote controls close at hand . plus , a hidden storage space lets you tuck away remotes or batteries .', metadata={'product_id': 5807, 'product_name': 'stallard pedestal coffee table with storage'}),\n",
       " Document(page_content='this coffee table is a beautiful and regal piece of furniture that will bring a sense of elegance to your household . this coffee table is unique as it has a big top surface that gives you an ample amount of space to serve a variety of dishes to your guests . there is a glass surface inserted at the center , and the table itself comes with external shelves . made of high-quality veneer wood , the table is extremely sturdy . the base of the table and the top surface have a black finish that adds to the artistic value of your interior decor . not only can you use it to serve food items and coffee to your guests and relatives , but you can also use it as a workstation and place your laptop or notepad on it while working . if you lift up the side panels of this coffee table , you will find that it gives you a generous compartment for storage . the best part about this coffee table is its unconventional design . this coffee table is big , wide , and deep enough to be a highly convenient piece of furniture . it is of a delightfully different design so that it really stands out with its classy good looks . made of mdf material , this coffee table requires assembly . it is easy to assemble as you will only need a screwdriver and a wrench . this manufacturer has never failed to bring something new and unique to each of its creations . this coffee table will add value to your life as well as to your home decor . this high-quality work of art is non-toxic in nature so you can place it in any room under any condition . cleaning it is also easy as you only require a dry piece of cloth to wipe the dirt away . this beautiful piece of furniture is sure to add a whole new feel to your interior decor .', metadata={'product_id': 5808, 'product_name': 'moyle coffee table with storage'}),\n",
       " Document(page_content='accent your living room with a club chair that brings both a bold style and delightful comfort to your home . featuring a sleek transitional style that includes intricate channel stitching , our tub chair offers your decor a stunning upgrade that will surely have all your guests talking . whether you are looking for a place to settle down with a good book or just need a place to curl up and relax , this chair brings you the best in comfort and design for you to enjoy .', metadata={'product_id': 5809, 'product_name': \"31.5 '' wide barrel chair\"}),\n",
       " Document(page_content=\"this understated and essential computer desk makes a sleek addition to your space , whether you 're setting the anchor for your newly revamped home office or bringing a bit of crisp appeal to your master suite . featuring an angular manufactured wood design and a neutral hue , this design brings a bit of eye-catching contemporary appeal to your environment , while its two open shelves and three drawers let you stow and organize in effortless style .\", metadata={'product_id': 5810, 'product_name': 'carl desk'}),\n",
       " Document(page_content=\"bristling with contemporary style , this l-shaped sectional sofa anchors any seating space in sophistication . this sectional is defined by its adjustable back capabilities . it is wrapped in faux leather upholstery and showcases foam-filled seats and pillow-top arms for an extra layer of padding . rolled backs and an elongated chaise give the piece a distinctive look , while the design 's silver legs add a shimmering touch . available in multiple color options to fit your palette .\", metadata={'product_id': 5811, 'product_name': \"armadale 106 '' wide faux leather right hand facing sofa & chaise\"}),\n",
       " Document(page_content='probably the most comfortable and well-conceived side chair of collection , the chair has a slim silhouette that belies its comfort . it sits on a stainless steel frame that has a slight reclining motion . it also has a unique courtesy handle on the back for ease of movement . a great chair for a great meal .', metadata={'product_id': 5812, 'product_name': 'braatz leather upholstered side dining chair in brushed chrome'}),\n",
       " Document(page_content=\"say goodbye to bare walls with this 4-piece print set . it showcases watercolor paintings of feathers in an indigo color scheme for a cool-hued avian accent on any wall . printed in the china , each piece in this set of four is staged within a silver-finished wood frame with a black mat , for a gallery-worthy look right out of the box . each print measures 38.13 '' h x 14.13 '' w , so as a set or individually placed around your home , they 're sure to make a statement .\", metadata={'product_id': 5813, 'product_name': 'feathered beauty prints by grace feyock - 4 piece picture frame painting print set on paper'}),\n",
       " Document(page_content='the cara outdoor chaise lounge cushions are a versatile and fun solution for your outdoor lounging needs . these cushions are made with a waterproof fabric and has ties on either side to secure down to your lounge . relax in comfort with the colored lounge cushions .', metadata={'product_id': 5814, 'product_name': 'cara indooroutdoor chaise lounge cushion'}),\n",
       " Document(page_content='this collection was cleverly designed around filament tube-shaped bulbs by incorporating them into the actual shape of the weathered zinc framework . with a socket on 1 end and a faux socket on the other , the bulbs seem to form a continuous electrified circuit .', metadata={'product_id': 5815, 'product_name': 'dunleavy 1-light wall sconce'}),\n",
       " Document(page_content='complete a dining room seating group or bring modern appeal to any entertainment space with this set of two vangilder upholstered dining chairs ! crafted from solid and manufactured wood , each chair features four curving legs and a high-back silhouette wrapped in stylish upholstery for an elegant look . button tufting along the back lends a dash of traditional appeal to these must-have chairs , while foam fill offers comfort as you sit down for a casual meal .', metadata={'product_id': 5816, 'product_name': 'vangilder upholstered dining chair'}),\n",
       " Document(page_content=\"the distinctive distressed gray finish immediately catches ones eye as a neutral tone that will go with everything . notice the detailed molding that encapsulates the thoughtfully crafted mirror section itself . the play of the scallop and right angles creates a unique and catchy intrigue to this interestingly clever design . an opportunity to hang this as a single or in multiples ; see what changes you can effect . ''\", metadata={'product_id': 5817, 'product_name': 'wall mirror'}),\n",
       " Document(page_content='as much a modern art piece as it is a source of light , this four-light semi-flush mount makes a statement in any space . crafted from metal in a solid finish , this fixture features an open and angular silhouette with a series of rectangular accents for a clean-lined , contemporary look . clear cylindrical glass shades offer up a sleek touch , while compatible 60w candelabra-base bulbs ( not included ) sit within to provide a boost of brightness .', metadata={'product_id': 5818, 'product_name': \"carmona 4-light 16 '' chandelier style geometric semi flush mount\"}),\n",
       " Document(page_content='the hip new blaney metal table offers a casual fresh feel . well-suited proportions make this table welcome in the kitchen , dining and family room . simple lines capture a laid back soho industrial feel . a smooth solid finish brings durability and ease of care to your home .', metadata={'product_id': 5819, 'product_name': 'blaney dining table'}),\n",
       " Document(page_content='enjoy a sunday morning cappuccino at the breakfast with this handcrafted teak and iron table , or add it to the entryway topped with earthy potted plants for an eco-friendly entryway ensemble .', metadata={'product_id': 5820, 'product_name': 'amado breakfast pub table'}),\n",
       " Document(page_content='a true signature piece , this entertainment console adds unmatched charisma to a space .', metadata={'product_id': 5821, 'product_name': 'kelling console table'}),\n",
       " Document(page_content=\"this drum chandelier offers your living room or dining room contemporary design and a soft glow . it 's made from metal with an oil rubbed bronze finish , and features a central downrod with four diagonal supports . the champagne hued fabric drum shade encases the candelabra that has four cylindrical mercury glass shades for a sleek double shade design . four 100w bulbs ( not included ) give this pendant a bright and welcoming glow . you can install this fixture on a dimmer switch to effortlessly take you from day to night . plus , it hangs from an adjustable chain and has a sloped ceiling-compatible canopy .\", metadata={'product_id': 5822, 'product_name': 'sina 4 - light statement drum chandelier'}),\n",
       " Document(page_content='add a bold touch to your midcentury modern den or parlor ensemble with this eye-catching aluminum and iron coffee table .', metadata={'product_id': 5823, 'product_name': 'drum coffee table'}),\n",
       " Document(page_content='duvet cover collection', metadata={'product_id': 5824, 'product_name': 'duvet cover collection'}),\n",
       " Document(page_content='candide dining table', metadata={'product_id': 5825, 'product_name': 'candide dining table'}),\n",
       " Document(page_content=\"this server brings plenty of storage and color to your living room or dining room . it 's made from engineered wood and has a brown wood grain finish on the sides and top , while the doors feature a bright geometric design in red , pink , blue , and white colors . inside the double-door cabinet there are two adjustable shelves where you can keep barware , serveware , or living room essentials . two gold-finished v-shaped sled-like legs support the buffet for a modern silhouette .\", metadata={'product_id': 5826, 'product_name': \"bangert 38 '' wide wood server\"}),\n",
       " Document(page_content='turn your basic , boring down comforter into the super stylish focal point of your bedroom . deny designs lightweight duvet is made from an ultra soft , lightweight woven polyester printed cream top with a 100 % polyester cream bottom . deny designs lightweight duvet includes a hidden zipper with interior corner ties to secure your comforter . it ’ s comfy , fade-resistant , machine washable and custom printed for each and every customer .', metadata={'product_id': 5827, 'product_name': 'fishel mirror dye duvet cover set'}),\n",
       " Document(page_content='doubling as a source of light and the focal point in any room , chandeliers are experts at fusing function with fashion . take this one for example : suspended by an adjustable hanging fixture , this piece is sure to lend eye-catching appeal to your space . crafted from metal , a geometric cage houses seven included led bulbs , perfect for highlighting your space in a contemporary style . plus , this fixture is compatible with a sloped ceiling ( adapter sold separately ) , so you can use it to brighten up a variety of dim rooms in your abode .', metadata={'product_id': 5828, 'product_name': 'hobert 7 - light unique geometric chandelier'}),\n",
       " Document(page_content='this legaspi iron coffee table is made of metal and powder coated finished , can be used as a small table , plant stand , cocktail table . the design brings elegance to homes and living spaces .', metadata={'product_id': 5829, 'product_name': 'legaspi iron coffee table'}),\n",
       " Document(page_content='this stunning geometric sphere fixture that extends out with shiny coffee glass globe shades have become a huge industrial trend . this light fixture has a matte black frame and is great for almost any room , foyer , or dining room .', metadata={'product_id': 5830, 'product_name': 'leib 21-light sputnik modern linear chandelier'}),\n",
       " Document(page_content='this collection is built with ample storage space while still providing the classic elegance and beauty you seek for your comfort station . constructed with high quality solid oak wood , this vanity will surely last a lifetime . this vanity offers a revealing hospitality towel rack for additional storage space . this collection is a benchmark in transitional designs . this manufacturer has taken the initiative by changing the vanity industry and adding soft closing doors and drawers to their entire product line . by doing so , it will give their customers benefits ranging from safety , health , and the vanity ’ s reliability .', metadata={'product_id': 5831, 'product_name': \"fleischmann 47.2 '' single bathroom vanity base only\"}),\n",
       " Document(page_content='a perfect accompaniment to any outdoor space , this curved sofa brings you and your guests a place to kick back and relax as you sip sangria on those pleasantly sunny days . its c-shape frame is crafted from aluminum in a powder-coated finish and wrapped in all-weather resin wicker for a laid-back look that resists the effects of constant sun and occasional rain , so it ’ s perfect for leaving outdoors year-round . deep cushions wrapped in yarn-dyed acrylic fabric complete the look as they offer comfort .', metadata={'product_id': 5832, 'product_name': 'waterbury curved armless patio sofa with cushions'}),\n",
       " Document(page_content='hemington end table', metadata={'product_id': 5833, 'product_name': 'hemington end table'}),\n",
       " Document(page_content='this 3 in 1 floating headboard with 2 nightstands maximizes your available floor space with its elevated , off the floor design . with a focus on simplicity and functional storage , this unit creates a modern and sleek bedroom . two built-in nightstands extend from the headboard featuring drawers for out-of-site storage and a surface for your reading lamp and favorite books . to maintain its clean lines , both nightstands feature hidden wire management for lamp cords , alarm clock cords or phone chargers . installing the floating headboard at any height is simple , thanks to its innovative hanging rail mounting system . because of its adjustable height , this system can accommodate any bed and mattress combination .', metadata={'product_id': 5834, 'product_name': 'raphael panel headboard'}),\n",
       " Document(page_content='outfit your patio with an imaginative outdoor sectional series of exceptional quality . this collection offers a robust seating experience that easily rearranges according to usage . outfitted with industry-leading sunbrella® fabric cushions , synthetic rattan weave , uv protection , powder-coated aluminum frame , immensely enjoy your outdoor time with a series that enhances patio , backyard or poolside areas . this installment of the series is an outdoor patio daybed .', metadata={'product_id': 5835, 'product_name': 'tripp patio daybed with sunbrella cushions'}),\n",
       " Document(page_content='outfit your patio with an imaginative outdoor sectional series of exceptional quality . this series offers a robust seating experience that easily rearranges according to usage . outfitted with industry-leading sunbrella® fabric cushions , synthetic rattan weave , uv protection , powder-coated frame , immensely enjoy your outdoor time with a series that enhances patio , backyard , or poolside areas . this installment of the series is an outdoor patio sofa .', metadata={'product_id': 5836, 'product_name': 'tripp patio sofa with sunbrella cushions'}),\n",
       " Document(page_content='outfit your patio with an imaginative outdoor sectional series of exceptional quality . this series offers a robust seating experience that easily rearranges according to usage . outfitted with industry-leading ® fabric cushions , synthetic rattan weave , uv protection , powder-coated aluminum frame , immensely enjoy your outdoor time with a series that enhances patio , backyard or poolside areas . this installment of the series is an outdoor patio armchair .', metadata={'product_id': 5837, 'product_name': 'tripp outdoor patio chair with sunbrella cushions'}),\n",
       " Document(page_content='experience the outdoors with exceptional comfort and quality . this collection offers an exquisite 2-tone synthetic rattan weave , plush all-weather cushions with industry-leading sunbrella® fabric , uv protection , and a sturdy powder-coated aluminum frame . featuring rounded arms and an elegant modern look , this collection is an avant-garde outdoor sectional series well-equipped for enhancing patio , backyard or poolside gatherings . this installment of the series is an outdoor patio sofa .', metadata={'product_id': 5838, 'product_name': 'keiran patio sofa with sunbrella cushions'}),\n",
       " Document(page_content='if you want an eye-catching accent to your living room space , look no further than this dual tone curved saddle upholstered dining chair . made from bonded leather , this chair boasts a black back giving the front a moonlight edge look . the leather gives the chair an air of sophistication and elegance , perfect for your modern living room space . use it as an extra guest chair , around your dining table or as extra seating in your bedroom .', metadata={'product_id': 5839, 'product_name': 'malik dual tone curved saddle upholstered dining chair'}),\n",
       " Document(page_content=\"between pool noodles and swim floats , sports supplies and yard games , there never seems to be enough storage for your outdoor accessories ! add a spot to stow without distracting from your alfresco style with this essential deck box . designed to live outdoors , it 's crafted from weather-resistant resin wicker with an open bottom perfect for draining wet items . plus , it 's showcases an understated contemporary look thanks to its woven design and solid finish .\", metadata={'product_id': 5840, 'product_name': 'statesboro outdoor wicker deck box'}),\n",
       " Document(page_content='the neutral color palette enhances the contemporary feel of this sofa . gray provides great contrast against the clean , ivory fabric of the sofa and love seat . accent pillows have two distinct but complementary patterns , while the removable cushions are firm and comfortable .', metadata={'product_id': 5841, 'product_name': \"acker 86 '' square arm sofa\"}),\n",
       " Document(page_content='the neutral color palette not only enhances the contemporary feel of this set but it also effectively brings out the darker tones of the accent chair and pillow patterns . gray provides great contrast against the clean , ivory fabric of the sofa and love seat . accent pillows and the matching chairs have two distinct but complementary patterns , while the removable cushions are firm and comfortable .', metadata={'product_id': 5842, 'product_name': 'acker ottoman'}),\n",
       " Document(page_content='use the powerful slow cooker to make delicious home-cooked meals while you go on with your day . set it , forget it and have dinner ready for 4 to 5 people by the time you get home from your daily activities . cool-touch handles make handling safe and simple . power indicator lights signal when the unit is powered on . our slow cooker works for your fast , on the go lifestyle . delight your family or friends with delicious meals with the slow cooker .', metadata={'product_id': 5843, 'product_name': 'brentwood 3 qt . kitchen slow cooker'}),\n",
       " Document(page_content='this storage bench is a beautiful storage solution for your home or patio . it is sure to meet your patio storage needs . constructed of durable resin , it is rot resistant and easy to clean .', metadata={'product_id': 5844, 'product_name': 'outdoor 60 gallon wicker storage bench'}),\n",
       " Document(page_content='the deck box is both versatile and attractive . great for convenient outdoor storage , this storage bench enables you to safely keep outdoor entertaining items close to where they will be used on the patio or deck .', metadata={'product_id': 5845, 'product_name': 'pools yard tools porch backyard 63 gallon plastic deck box'}),\n",
       " Document(page_content='this patio bench is an attractive addition to your garden . this bench provides seating space , while you enjoy the beautiful weather outside . it also provides plenty of storage space for keeping your garden tools , pool toys , cushions , and other essential accessories . this bench has an eco-friendly design , which causes minimal impact on the environment .', metadata={'product_id': 5846, 'product_name': 'all-weather 70 gallon water resistant wicker storage bench'}),\n",
       " Document(page_content='this product makes your life easier in a safe way . by connecting to qcc1/type 1 connections , it can perfectly install devices without any tools . ideal for gas grills , heaters , smokers , camping stoves , lanterns , tabletop grills , fire pit tables , turkish fryers , and more propane appliances .', metadata={'product_id': 5847, 'product_name': 'universal propane gauge level indicator leak detector gas pressure meter for rv camper , bbq gas grill , heater and more appliances-type 1 connection'}),\n",
       " Document(page_content='22-quart pressure canner is designed for easy , confident home pressure canning . use for canning vegetables , meats , poultry , and seafood . able to use as a boiling water canner for preserving fruits , jams , jellies , pickles , and salsa in half-pint , pint , and quart jars . include a built-in pressure dial gauge that registers a complete range of processing pressures for precise canning . works on gas , electric , and smooth-top ranges .', metadata={'product_id': 5848, 'product_name': 'barton 22 qt . built-in pressure cooker'}),\n",
       " Document(page_content=\"use for home , bedroom , sunroom , kid 's room , living room , and more . adds charm to garden , yard , patio , deck , and garden . versatile enough to function as hammock chair , room display , or one of a kind piece of art . it can be used as a light cradle and swing reading chair or relaxing meditation chair .\", metadata={'product_id': 5849, 'product_name': 'swing hanging rope seat net tree chair hammock'}),\n",
       " Document(page_content=\"sink into the soft , fleecy cushion and you 'll agree that this chair just might be the best seat in the house . designed with a sturdy steel frame , this casual chair features a soft 4.5 '' thick tufted seat cushion topped to create an inviting seating option for one adult . perfect for creating a relaxed look in living rooms , dens , family rooms , playrooms , kids , rooms , bedrooms , and more .\", metadata={'product_id': 5850, 'product_name': \"eddy 45 '' wide tufted polyester papasan chair\"}),\n",
       " Document(page_content='mcalester stool dining chairs is made of premium fabric seat and black sturdy metal steel frame . a high-quality cushion seat provide more comfortable for you . it does not only provide you a perfect dinner time or leisure time with your family or friends but also decorate your home and kitchen . this bar chair set is suitable for indoor bar kitchen pub and so on .', metadata={'product_id': 5851, 'product_name': 'donatienne counter & bar stool'}),\n",
       " Document(page_content='prepare healthy , delicious meals faster with this easy to use barton pressure cooker . reducing cook times by up to 70 % ( compared to conventional cooking ) , the large 10 quart cooker efficiently cooks a wide range of home cooked meals like roasts , soups , stews , chili , and more . the system combines steam , heat , and pressure for speedy results without the loss of valuable nutrients and flavor like with other cooking method', metadata={'product_id': 5852, 'product_name': 'barton turbo pressure cooker stovetop'}),\n",
       " Document(page_content='stylish design with fireplace wood racks looks deluxe and nice in your living room near the fire place whether it is full of woods/logs or empty . works well for fire kindling and storing firewood , logs , firestarter or other fireplace tools accessories and near the fireplace , woodstove , patio chimenea , hearth and fire-pit', metadata={'product_id': 5853, 'product_name': 'herna firewood log rack'}),\n",
       " Document(page_content='the old fashioned bubble lights will bring back memories of christmas past . each strand comes with 7 bubble lights . this light set features tree-friendly clips that make decorating easier than ever before . one spare fuse is included .', metadata={'product_id': 5854, 'product_name': '7 light bubble lights'}),\n",
       " Document(page_content='these icicle lights are with twinkling pure lights . it also comes with stay straight clips to keep lights in place . ul listed', metadata={'product_id': 5855, 'product_name': '60 light icicle lighting'}),\n",
       " Document(page_content='zen', metadata={'product_id': 5856, 'product_name': 'zen'}),\n",
       " Document(page_content=\"farmhouse chic is the theme of this beautiful rug featuring a regal rooster with a basket of `` farm fresh eggs '' .\", metadata={'product_id': 5857, 'product_name': 'tufted red/brown area rug'}),\n",
       " Document(page_content='modern contemporary floor mirrors make wonderful home decor accents . this rectangular mirror features a matte black finish with a decorative silver accent along the inner and outer border . this mirror includes hardware for both vertical or horizontal hanging making it a functional and stylish decorating tool . its full body size is also perfect to lean for dressing .', metadata={'product_id': 5858, 'product_name': 'dashan modern & contemporary full length mirror'}),\n",
       " Document(page_content='a stunning choice for any living space . this rectangular floor mirror features a black and silver matte finish enhanced with cross streaks for added character . the 3 inch frame is flat and smooth creating a modern feel . this full body mirror is a functional and stylish decorating tool', metadata={'product_id': 5859, 'product_name': 'maeda modern & contemporary full length mirror'}),\n",
       " Document(page_content='this american made modern euro floor mirror is perfect for adding light and space to seating areas or bedrooms . this rectangular mirror features a brushed silver finish with a decorative gray ribbing along the inner and outer border . the 3-inch frame is smooth with a contoured edge perfect for traditional or classic euro styles . this handcrafted mirror includes hardware for both vertical or horizontal hanging making it a functional and stylish decorating tool . its full body size is also perfect to lean for dressing .', metadata={'product_id': 5860, 'product_name': 'aatif modern & contemporary full length mirror'}),\n",
       " Document(page_content='this weathered mirror features a colored wood grain finish . the wooden frame has an angled front decorated with an inner distressed white border creating a unique coastal rustic feel . this wooden mirror is an impressive accessory to hang in a bedroom , bathroom or living space . 4 hooks are included allowing for a vertical or horizontal wall installation .', metadata={'product_id': 5861, 'product_name': 'coastal distressed accent mirror'}),\n",
       " Document(page_content='this full length wall mirror features a 3-inch frame , a rounded edge profile , decorated with realistic wood grain/ knots giving this frame a true farm to home feel . this large full-length size makes this leaning floor mirror perfect for dressing .', metadata={'product_id': 5862, 'product_name': 'manzer farmhouse / country full length mirror'}),\n",
       " Document(page_content='created to enhance the functionality and style of your home , this cool muted over the door full length mirror is an impressive accessory to hang in your bedroom , bathroom or living space . this frame features a cool brushed silver metal like finish . it also comes with hooks allowing for vertical or horizontal hanging making this mirror easy to wall mount . two silver over the door hangers is included with simple assembly instructions .', metadata={'product_id': 5863, 'product_name': 'bexar modern & contemporary full length mirror'}),\n",
       " Document(page_content=\"what 's the first thing guests see when they walk into your entryway ? with this console table by the front door , they 'll be greeted by the warm glow of a lamp , a cluster of potted greenery , or maybe even your custom art pieces . no matter what you choose to display , this piece is the perfect pick .\", metadata={'product_id': 5864, 'product_name': \"regan 35.8 '' solid wood console table\"}),\n",
       " Document(page_content='looking to round out an unused corner of your living room with a handy study space ? a corner desk like this is a space-conscious option for adding a workspace to your home . crafted from a blend of pine and manufactured wood , it features an understated design perfect for a variety of home aesthetics . a single soft-close drawer and lower shelf round this piece out with handy storage space for office essentials .', metadata={'product_id': 5865, 'product_name': 'suri corner desk'}),\n",
       " Document(page_content=\"whether they 're the perfect perch for your feet after a long day , or a handy cushioned catch-all in your living ensemble , poufs like this are versatile accents that shine when it comes to rounding out a home . in india from tufted jute and filled with recycled material , this round pouf ottoman instantly adds a textured touch to your seating setup .\", metadata={'product_id': 5866, 'product_name': \"odin 20 '' wide round pouf ottoman\"}),\n",
       " Document(page_content=\"after a day of body surfing and soaking up the sun from the shore , it 's nice to unwind inside - and with the ocean-inspired decor in the den , we promise you wo n't miss the beach ! lay a fine foundation with a braided jute rug on the floor below for a touch of sailor-inspired texture , curl up atop a skirted white sofa with anchor-printed pillows on top , then round out the ensemble with this clean-lined coffee table in the center of it all . its polished espresso solid wood frame features openwork cross sides for a dash of distinction , but you can really bring the ocean-inspired beauty with an antique sailboat model sitting on top . need some extra storage space ? simply use the lower open shelf to stow woven wicker bins filled with remotes and favorite dvds .\", metadata={'product_id': 5867, 'product_name': 'rossitano solid wood coffee table with storage'}),\n",
       " Document(page_content='you don ’ t need to take a day off to decorate and make your walls look great . make your home exceptional in an hour with this anchor wall décor . this accent piece features a unique design with white and blue finishes , beveled edges , and brown hemp rope wrapped around the sculpture ’ s body . this wall accent piece suits coastal themed spaces that crave for stylish home design . hang this amazing piece in your home to bring a relaxing and feel-good atmosphere . this item ships in one carton . item comes with metal hook for easy and secure hang . suitable for indoor use only . coastal design .', metadata={'product_id': 5868, 'product_name': 'scituate wall décor'}),\n",
       " Document(page_content='this santa cruz side table beautifully embodies coastal cottage charm , making it ideal in farmhouse or classic contemporary décor . crafted of pine in a distressed finish , santa cruz makes finding what you need easier than ever .', metadata={'product_id': 5869, 'product_name': 'santa cruz end table with storage'}),\n",
       " Document(page_content='bring a splash of nautical charm to your living room or guest suite with this table lamp , showcasing a buoy-inspired design and rope accent .', metadata={'product_id': 5870, 'product_name': \"chaplecroft 27 '' table lamp\"}),\n",
       " Document(page_content='welcome your guests to a relaxing atmosphere with the sabbattus lazy susan . this round serving tray has a classic style with clean lines . it is designed for outdoor use and is perfect to rest beverages or nibbles for your guests . match this outdoor patio furniture with other pieces of similar finished furniture for a wholesome look . this sabbattus lazy susan from breakwater bay is easy to use . simply place it on an outdoor wooden table and load it with snacks and drinks for your guests . manufactured using premium balau outdoor hardwood , this serving tray is strong and durable . it is completed with weatherproof outdoor protection , so the serving tray stays tough and new like for years to come . this outdoor serving tray even features a uv light fading system . the tray comes with an umbrella hole , so you can place the umbrella on it and ensure protection from the sun on a sunny afternoon . this patio serving table is easy to clean and maintain . simply wipe it with a dry , clean cloth and this tray will look as good as new instantly . it does not require any assembly , saving you the hassle of setting up .', metadata={'product_id': 5871, 'product_name': 'sabbattus lazy susan'}),\n",
       " Document(page_content='willow drum coffee table', metadata={'product_id': 5872, 'product_name': 'willow drum coffee table'}),\n",
       " Document(page_content=\"set the stage for your outdoor living space with a little help from the barre propane fire pit . it is a versatile piece of patio furniture that you 'll find yourself using all year round . the table frame is built from sturdy extruded aluminum , protected from the elements by an modern silver finish and designed with a plank-board look will nicely complement most existing decor styles . it operates on a standard 20-lb . propane ( not included ) and outputs 42,000 btus for maximum warmth and a beautiful , full flame through the clear fire glass .\", metadata={'product_id': 5873, 'product_name': 'rickards aluminum propane fire pit table'}),\n",
       " Document(page_content='meredith server', metadata={'product_id': 5874, 'product_name': 'meredith server'}),\n",
       " Document(page_content='add a splash of breezy beach-chic style to any seat in your home with this charming dining chair cushion . showcasing a bold cabana stripe pattern , a bright hue , and a classic silhouette , this design is brimming with coastal charm . it is crafted from spun polyester fabric that is uv treated and weather resistant , so you can use it both inside and outside the house . try tying a few of these lovely cushions onto dining chairs on your backyard patio , then build on the seaside-inspired style by adding a bright turquoise rug , white coral sculpture centerpiece , and colorful hanging paper lanterns .', metadata={'product_id': 5875, 'product_name': 'indoor/outdoor dining chair cushion'}),\n",
       " Document(page_content='laxford 1-light outdoor bulkhead light', metadata={'product_id': 5876, 'product_name': 'laxford 1-light outdoor bulkhead light'}),\n",
       " Document(page_content=\"designed with durability in mind , this one-light bulkhead light is perfect for illuminating alfresco arrangements . crafted from polycarbonate and suited for wet spaces , this fixture strikes an oval 3.75 '' h x 5 '' w x 3.75 '' d silhouette that fits easily on smaller walls . its neutral finish allows it to blend with any existing color palette , while a frosted ribbed shade completes the understated look with a touch of texture . best of all , this luminary includes a 10 w medium-base led bulb , so you can install it vertically or horizontally as soon as it arrives . the manufacturer backs this product with a three-year warranty .\", metadata={'product_id': 5877, 'product_name': 'laxford black 1 -bulb outdoor bulkhead light'}),\n",
       " Document(page_content='this modular sectional makes the perfect pick for creating a seating arrangement in your living room . mix and match the included pieces to make the perfect arrangement : it includes one corner chair , one left armchair , one right armchair , two armless chairs , and one ottoman . upholstered with neutral 100 % polyester fabric for an inviting look , it features square arms , removable cushions , and is founded atop block feet for a transitional look .', metadata={'product_id': 5878, 'product_name': \"longwood 84 '' wide reversible modular corner sectional with ottoman\"}),\n",
       " Document(page_content='this sectional is a great addition to your living room . mix and match the included seats to create whatever shape works best for your space . this sectional features soft fabric and extra plush cushions , to give you the best experience while relaxing in your own home . all of your friends and family will be asking you where you got such a stylish , comfortable couch , so they can get one all their own .', metadata={'product_id': 5879, 'product_name': 'bayard right hand facing modular corner sectional with ottoman'}),\n",
       " Document(page_content=\"add a hint of charm to your traditional home space with this dark brown trunk chest coffee table . useful and elegant , coffee tables are more than just a pretty piece of furniture in front of your couch . sit back , relax , but do n't put your feet up on this coffee table . this item comes shipped in one carton . brown faux leather trunk coffee table with storage . suitable for indoor use only . traditional theme\", metadata={'product_id': 5880, 'product_name': 'morgan trunk'}),\n",
       " Document(page_content=\"whether your backyard looks out onto the beach or you 're a little more landlocked , you can enjoy seaside-inspired style in your alfresco space with this eye-catching area rug . showcasing a sand dollar and wavy stripe motif , it offers breezy hues of blue and beige . designed to live outdoors , it is hooked using polypropylene , so it does n't mind uv light beaming down or rainstorms rolling through . to keep this piece safely in place , we recommend using a rug pad .\", metadata={'product_id': 5881, 'product_name': 'petrella floral hand hooked indoor/outdoor area rug'}),\n",
       " Document(page_content='baumeister 1 -bulb outdoor bulkhead light', metadata={'product_id': 5882, 'product_name': 'baumeister 1 -bulb outdoor bulkhead light'}),\n",
       " Document(page_content='with a unique design and equally unique surface treatment , this occasional group is at home is coastal and urban décor . a flared drum construction on the end table complements the perfectly proportioned bookshelf of this solid acacia collection .', metadata={'product_id': 5883, 'product_name': 'limones solid wood tray top drum end table'}),\n",
       " Document(page_content=\"whether at the foot of your sofa or rounding out a spacious living room , your coffee table is a crucial piece for helping together with your living ensemble 's style . so if you 're looking to round it out with a versatile accent , a piece like this is a great option for styles from coastal to rustic . crafted from solid acacia with a tapered drum silhouette , this piece features wood grain finishes and distressed accents for an on-trend look .\", metadata={'product_id': 5884, 'product_name': 'limones solid wood drum coffee table'}),\n",
       " Document(page_content=\"this pair of solid wood nesting tables are a stylish solution for spaces with smaller square footage . each piece has a sleek c-shaped iron base in a smooth black finish . the tabletops are made of mango wood with panel detailing in a mahogany brown color . we love that one table is slightly bigger than the other , so it 's easy to the smaller one underneath when you need more floor and less surface space . use these separately , or arrange them overlapping for a two-tiered look . these rustic end tables are an ideal place for setting down drinks and books , or for displaying decor and houseplants .\", metadata={'product_id': 5885, 'product_name': 'eastville c table nesting tables'}),\n",
       " Document(page_content=\"this chest stores your wardrobe in an understated , scandinavian-inspired design . it features a neutral-hued finish and a clean-lined silhouette . the four drawers sit on ball bearing glides and offer plenty of spare storage space in your bedroom for anything from sweaters to slacks . plus , they have soft-close functionality so you wo n't make too much noise getting ready in the morning . slim metal handle pulls complete the look . assembly required .\", metadata={'product_id': 5886, 'product_name': 'culpeper 4 drawer chest'}),\n",
       " Document(page_content='bring an effortlessly rustic touch to any outdoor ensemble or alfresco entertainment space with this chair , the perfect piece for any aesthetic . featuring a woven resin wicker design with polypropylene injection molding , this design is naturally waterproof , making it the perfect poolside or open-air accessory . let a pair sit with a pierced ceramic garden stool on the back patio to enjoy sweet summer cocktails and conversation with a friend , or arrange four around a dining table to serve up family dinners and casual weekend brunches in timeless style .', metadata={'product_id': 5887, 'product_name': 'loggins stacking patio dining chair'}),\n",
       " Document(page_content='the lipscomb pedestal coffee table is a classy statement of sturdiness featuring a dark gray fiber reinforced natural concrete tabletop with an acrylic sealed finish to prevent staining . this modern concrete lipscomb coffee table is a fascinating piece that would add elegance to any living space .', metadata={'product_id': 5888, 'product_name': 'lipscomb pedestal coffee table'}),\n",
       " Document(page_content=\"chic canisters are the perfect way to bring order to your space while still adding style . this eye-catching trio pairs carved light blue-finished bases with wood tops for a contrasting look . each top features a small arch pull for a dash of metallic appeal . the bases offer up a geometric motif with distressed details . try grouping them on the kitchen counter filled with flour , sugar , and oats to keep all your baking must-haves on hand , or use them to stow craft supplies atop your writing desk . they 're also perfect simply adding style . line them up on the foyer console table for a minimalist entryway display , or let them sit on the living room coffee table to round out a neutral-hued space .\", metadata={'product_id': 5889, 'product_name': 'tia 3 piece kitchen canister set'}),\n",
       " Document(page_content='this modular sectional has a relaxed casual contemporary design and versatile creative seating . three modular pieces allow for multiple seating configurations that suit any space .', metadata={'product_id': 5890, 'product_name': \"ernest 109 '' wide symmetrical modular corner sectional with ottoman\"}),\n",
       " Document(page_content='far from just a dining room focal point , sideboards offer a convenient spot to serve charcuterie spreads and store fine china , seasonal table linens , and much more . take this one , for example , the perfect pick for any contemporary space , it showcases a rectangular silhouette and is founded atop a clean-lined metal base . crafted from engineered wood , it boasts a neutral finish and features four doors and eight interior shelves for keeping clutter to a minimum . full assembly is required upon arrival .', metadata={'product_id': 5891, 'product_name': \"grenshaw 70.75 '' wide sideboard\"}),\n",
       " Document(page_content=\"this platform bed with contrasting headboard bundle is the ideal start point for any bedroom . it 's rustic-chic ebony and black finish makes for any bedroom while allowing the bed and headboard to be paired with multiple different chests and nightstands from this manufacturer .\", metadata={'product_id': 5892, 'product_name': 'etting platform bed'}),\n",
       " Document(page_content='give your teen ’ s bedroom a modern and minimalist makeover with this streamlined platform bed . crafted in canada from manufactured wood with laminate , this piece is founded atop a recessed base to create the illusion that the frame is floating . a system of slats ( included ) prop up your preferred mattress without the help of a box spring for a low-profile look . thanks to this design ’ s neutral ebony finish , it ’ s versatile enough to complement any color palette you dream up . full assembly is required .', metadata={'product_id': 5893, 'product_name': 'gilchrist full/double platform bed'}),\n",
       " Document(page_content='these extension panels are only compatible with these plank effect headboards . both panels are easy to install and add a unique modern style to your bed .', metadata={'product_id': 5894, 'product_name': 'euphemia panel headboard'}),\n",
       " Document(page_content='designed with smaller spaces in mind , this compact end table brings both storage and style without taking up too much square footage . crafted from solid mahogany wood in a distressed solid finish , this narrow design fits easily in cramped corners . it is top and lower-tier provides a platform for a lamp , framed photos , and beyond , while one drawer offers a spot to stash a few essentials .', metadata={'product_id': 5895, 'product_name': 'eurydice solid wood end table with storage'}),\n",
       " Document(page_content='cross legs coffee table with storage', metadata={'product_id': 5896, 'product_name': 'cross legs coffee table with storage'}),\n",
       " Document(page_content='this wooden coffee table will be a beautiful addition to your patio , balcony or outdoor entertainment area . this coffee table is perfect for any small space , or to accent a larger space .', metadata={'product_id': 5897, 'product_name': 'farrior solid wood coffee table'}),\n",
       " Document(page_content='a traditional parsons silhouette gets a streamlined update with this versatile side chair . made with a solid birch frame . this piece is filled with foam in a solid hue . its square tufted details help to highlight its clean lines , while the espresso finish on its wooden legs rounds out the design with a touch of warmth .', metadata={'product_id': 5898, 'product_name': 'isidora solid wood side chair'}),\n",
       " Document(page_content='custom made for those who appreciate minimalist lines , this showpiece chest of drawers brings home high-end design made exceptionally affordable . the streamlined profile and sleek bar pulls are clearly inspired by mid-century modern furniture . beautiful from the inside out , its smooth-gliding , flush-fit drawers are crafted with quality dovetail construction—for a timeless look that ’ s made to last .', metadata={'product_id': 5899, 'product_name': 'haruki 5 drawer standard dresser/chest'}),\n",
       " Document(page_content='want more storage , more space , and more style all in one ? their bed with gas lift storage does all the heavy lifting for you ! enjoy tons of extra storage with a powerful hydraulic mechanism that raises up your mattress giving you easy access to storage underneath . plus , the headboard and footboard feature a stylish tuft design in both faux black .', metadata={'product_id': 5900, 'product_name': 'morphis upholstered storage platform bed'}),\n",
       " Document(page_content=\"not only a stylish anchor for your restful retreat but also a functional storage option , this versatile platform bed is the perfect addition to your favorite aesthetic . its tufted details add a refined touch to your decor while its streamlined silhouette blends effortlessly into both casual or formal spaces . pair this piece with crisp white sheets and pillows for a resort-worthy look , or match it with quilted patchwork bedding for a cozy lodge-chic arrangement . lean into this piece 's contemporary influence by adding it to a master suite comprised of a sleek two-drawer nightstand and an open sphere-inspired pendant for an on-trend look . roll out a trellis rug to tie the space together in a pop of pattern , then hang an abstract canvas print above the bed for an artful focal point . with its interior storage base , this understated bed is a must-have addition to your well-appointed home .\", metadata={'product_id': 5901, 'product_name': 'morphis upholstered storage platform bed'}),\n",
       " Document(page_content=\"'cyanotype ' is a monochrome photographic printing process that creates a cyan-blue print . celebrate nature with this unique blueprint of leaf silhouettes .\", metadata={'product_id': 5902, 'product_name': 'cyanotype no.1 by renee w. stramel - picture frame photograph print on paper'}),\n",
       " Document(page_content='this beautiful dining chair is designed to take the spotlight in your dining room décor . upholstered in an eye-catching print and delicately handcrafted in plush foam padding for extra comfort . this stunning chair gives your dining room a fashionable look .', metadata={'product_id': 5903, 'product_name': 'raab upholstered dining chair'}),\n",
       " Document(page_content='hang a clean-lined look over your kitchen island , bar or game room with our 8-light , 35-inch wide linear pendant . this indoor pendant light boasts a geometric look with its elongated rectangular , box shaped metal frame . it has no glass , the sockets hold exposed ambient-lights , ( light bulbs not included ) . two hanging down-rods are included . this island pendant provides generous illumination and is open at the base . all hanging components are included with this lantern style fixture .', metadata={'product_id': 5904, 'product_name': 'casale 8 - light kitchen island linear pendant'}),\n",
       " Document(page_content=\"make dining in style the norm with this parsons chair 's mid-century modern design ! the long and rounded legs both taper and angle away from the sturdy seat for a chic and durable silhouette supported by its durable metal frame . the curving frame is upholstered in gray fabric and filled with foam for even more comfort ; making your dining experience even more enjoyable and stylish .\", metadata={'product_id': 5905, 'product_name': 'kambelle upholstered parsons chair in gray'}),\n",
       " Document(page_content='this contemporary dining table was inspired by the dining room of park avenue ’ s most refined modern hostess . its neutral light tan finish lends an inviting air to any posh gathering , while clean lines complement a collector ’ s art and design treasures .', metadata={'product_id': 5906, 'product_name': 'blonde dining table'}),\n",
       " Document(page_content='using the art of lost-wax casting to achieve greater depth and detail , wall sconce accomplishes a rich basket-weave texture . this fixture expands a room ’ s textural palette while adding space-conservative accent light .', metadata={'product_id': 5907, 'product_name': 'fosdick 1-light wall sconce'}),\n",
       " Document(page_content='keep your living room organized with the suruga storage coffee table . featuring 2 open shelves,2 magazine racks , and 2 cabinets , this coffee table provides ample storage and display space for your favorite decor . its unique design is a show-stopping piece that will have guests talking !', metadata={'product_id': 5908, 'product_name': 'suruga floor shelf coffee table with storage'}),\n",
       " Document(page_content=\"enliven your master suite or expand a cozy seating arrangement with this understated and eye-catching full-length leaning mirror . crafted with an engineered wood frame , this piece features clean lines and neutral finish that complements your existing design decor . made in the united states , it 's perfect for leaning against the wall in your bedroom or guest room , and for letting the natural sunlight bounce around your space , making your room look bigger . with several sizes to choose from , it 's a great way to check yourself out .\", metadata={'product_id': 5909, 'product_name': 'modern full length mirror'}),\n",
       " Document(page_content='empty entryway wall ? some spare space in the master suite ? a boring bathroom ? wall art instantly turns any blank area into an eye-catching display , all while lending gallery-worthy appeal to your abode . just take a look at this piece for example : printed on canvas , it showcases an abstract design in blue , teal , green , black , and beige hues , with a graduated look for soothing appeal . wall mounting hardware is not included .', metadata={'product_id': 5910, 'product_name': 'segments wall décor'}),\n",
       " Document(page_content='effortlessly make a statement with this beveled modern style , hanging or leaning silver floor mirror . the remarkable brushed nickel finish on the frame of the one inch beveled mirror glass demands attention and conveys sophistication . hang as a magnificent living room wall mirror , or lean against your closet wall for a breathtaking dressing mirror .', metadata={'product_id': 5911, 'product_name': 'conah rectangle glass wall mirror'}),\n",
       " Document(page_content='effortlessly enliven your guest bath or expand a cozy seating group with this understated and eye-catching wall mirror , the perfect piece for your low-key and loft-worthy environment . hang it up on an off-white or gray wall in the powder room to complement its black-finished composite wood frame , then offset the clean-lined rectangular silhouette with a diamond-trellis bath mat on the tile floor below . decorating a small room ? set this mirror across from a bright window to let natural sunlight bounce around the space , then set an openwork accent table topped with a blooming faux floral bouquet in front of it to round out the look .', metadata={'product_id': 5912, 'product_name': 'handcrafted beveled vanity wall mirror'}),\n",
       " Document(page_content=\"this coffee table anchors your living room layout in modern style with its clean lines and low profile . it 's built on top of sled-style stainless steel legs in a high-polished finish . its rectangular top is crafted from solid and engineered wood in a neutral tone that ’ s versatile enough to complement most color palettes . beyond stylish , this practical piece provides the perfect place to set down snacks , magazines , and more as you kick back and unwind . assembly is required .\", metadata={'product_id': 5913, 'product_name': 'sienna sled coffee table'}),\n",
       " Document(page_content='subtly glamorous with its lustrous looks , this four-light drum chandelier lends a chic sense of style to any arrangement . made from steel in a patinaed metal finish , this dimmable design features a circular canopy , a drum shade , four chain supports , and a down rod . for an understated ensemble in your open concept loft space , start by rolling out an overdyed area rug to define the space , then arrange a linen tuxedo sofa and a button-tufted barrel chair around a reclaimed wood coffee table with a round metal frame . mount this light in the center of the space to brighten game nights with friends or set the mood for movie marathons , and accessorize the seating with geometric accent pillows and a micro-suede throw to round out the arrangement .', metadata={'product_id': 5914, 'product_name': 'cedric 4 - light unique / statement drum chandelier'}),\n",
       " Document(page_content=\"the ultimate marvine patio chair in comfort and tranquility , this rocking chair , designed by innit , will lull you to sleep before you can even say `` siesta '' .\", metadata={'product_id': 5915, 'product_name': 'marvine patio chair'}),\n",
       " Document(page_content='looking to add to the collection of art on your walls to give your home an instant update ? look no further than our framed wall art collection . hang it solo , pair it up or create an entire gallery wall to a make a big , bold statement in your home . art printed on the wood frame in a satin finish , this framed print will instantly make any wall shine . as an added bonus , each purchase supports artists around the globe .', metadata={'product_id': 5916, 'product_name': 'mexican surf by deb haugen - picture frame graphic art print on wood'}),\n",
       " Document(page_content=\"this deer 's head statue gives your space an updated take on classic taxidermy that , tbh , we 're kind of all about . it 's in the usa from resin and comes in a variety of finishes . none of the finishes are designed to look lifelike , so the focus is all about color and style . aka , this piece is basically a decorating one-and-done . this piece mounts to your walls with a keyhole hook on the back and requires a screw and drywall anchor .\", metadata={'product_id': 5917, 'product_name': 'large deer head faux taxidermy wall décor'}),\n",
       " Document(page_content='transform your bedroom with this button-tufted platform bed frame by brayden studio . classic styling and strong reliable wood slat support with less than interval spacing for your spring , memory foam , latex , or hybrid mattress . ships in one carton with the frame , legs , and wooden slats conveniently located in the zippered compartment in the back of the headboard for easy assembly . no box spring is needed . featuring a classically styled headboard and low profile footboard style frame this platform bed offers strong , reliable support for your mattress .', metadata={'product_id': 5918, 'product_name': 'vannatta upholstered platform bed'}),\n",
       " Document(page_content='vanwyk 6 - light unique/statement geometric chandelier', metadata={'product_id': 5919, 'product_name': 'vanwyk 6 - light unique/statement geometric chandelier'}),\n",
       " Document(page_content='the exquisite look of an old world palace is marvelously captured in the striking red pile and classic tile motifs of this humberto shag . plush and incredibly soft underfoot , the ivory white designs set against the brilliant red shag pile adds decorative balance and a radiant look especially well-suited for contemporary styled home décor .', metadata={'product_id': 5920, 'product_name': 'humberto geometric red/white area rug'}),\n",
       " Document(page_content='evoking days of drinking iced tea on grandma ’ s porch , this rocking chair blends with a variety of aesthetics from coastal to traditional . crafted from acacia wood , it features a slatted back with a tapered silhouette , while two streamlined arms offer some convenience as you sit . arriving with a foam-filled fabric seat cushion for an inviting feel , this piece comes awash in a water-resistant teak finish , making it the perfect pick for your outdoor or indoor ensemble .', metadata={'product_id': 5921, 'product_name': 'neema rocking chair'}),\n",
       " Document(page_content='these acacia wood rocking chairs are sure to be the perfect addition to your patio . the acacia wood body is both great for outdoor furniture as well as beautiful to look at . the cushions are made from a water resistant fabric that helps prolong the life of your outdoor rocking chairs . overall , these products will be a great addition to your patio and allow you to comfortably enjoy your back yard all summer long .', metadata={'product_id': 5922, 'product_name': 'himrod double rocking chair'}),\n",
       " Document(page_content='wolak desk', metadata={'product_id': 5923, 'product_name': 'wolak desk'}),\n",
       " Document(page_content='protect your high-quality garden furniture against rain , sun , wind , and dirt with this furniture cover . your furniture will stay the focal point of your garden for longer if it is maintained and protected properly . therefore its recommended that you protect your furniture with this furniture cover . individual life of your garden furniture will be extended many times over and it will look as good as new for years to come .', metadata={'product_id': 5924, 'product_name': 'outdoor patio furniture cover'}),\n",
       " Document(page_content='a classic design gets a glam style upgrade in this charming , contemporary wingback headboard . made in the usa , this dapper design is crafted with a solid pine wood frame and showcases lush linen upholstery with plush foam fill , chic diamond tufting , and elegant nailhead trim . establish a curated aesthetic in your master bedroom by rolling out a modern-striped area rug to define the space , then affix a standard metal bed frame to this stylish headboard and place it in the center of the rug , setting a reclaimed wood nightstand with iron hairpin legs on each side . dress a foam-top mattress in crisp white sheets and a vibrant ogee-print comforter , then pile on metallic print accent pillows and abstract floral-print shams for pops of texture and expert pattern mixing style . for a perfect finishing touch , top each nightstand with a charging station for your cell phone and tablet so you ’ re never out of touch .', metadata={'product_id': 5925, 'product_name': 'hillenbrand tufted linen upholstered wingback headboard'}),\n",
       " Document(page_content='pereyra solid wood dining table', metadata={'product_id': 5926, 'product_name': 'pereyra solid wood dining table'}),\n",
       " Document(page_content='the flower stand is made of natural bamboo in high mountains . 3 polishing process and harmless varnish treatments makes the flower display stand surface smooth , waterproof and easy maintain . fine bamboo texture adds an elegant display to your plants that goes nicely with the hues of nature . with proper waterproof ability , it can be used indoor or outdoor .', metadata={'product_id': 5927, 'product_name': 'ericmichael square multi-tiered plant stand'}),\n",
       " Document(page_content=\"what you need is a smooth , flat surface that allows your child to play anytime , anywhere ! great for playing outdoors and indoors , and can easily be used on any hard , flat surface . a motorcycle provides your toddler with a smooth and easy way to drive . charge the according to the included instruction manual-then just open the power and press the pedal ! it also provides realistic details you will love : cool color stickers , sound effects , reversing capabilities , and lights . a rechargeable with a direct connects one-step charging system guarantees that fun is never more than an outlet away . 250 charge/discharge cycles.to ensure long life , do not store the in temperatures above 75° or below -10° . children 's toys fun and safe . all toys are safety-tested and contain no harmful substances , providing healthy exercise and lots of fun ! made from sturdy , high-quality plastic that can withstand 99 pounds . great toys for boys and girls .\", metadata={'product_id': 5928, 'product_name': 'tricycle ride on motorcycle'}),\n",
       " Document(page_content='this smart and simple to use ebern designs® set of three 29 ounce stainless steel canisters keeps your dry goods fresh longer , while adding functionality and beauty to your kitchen .', metadata={'product_id': 5929, 'product_name': 'stainless steel 3 piece coffee , tea , & sugar set'}),\n",
       " Document(page_content='this classic tile adds a luxurious take on the modern wall tile . with its glossy finish , this beautiful ceramic tile wall tile will add an elegant and polished feel to your décor .', metadata={'product_id': 5930, 'product_name': \"luxe 4 '' x 12 '' ceramic subway tile\"}),\n",
       " Document(page_content='a concrete finish and matte glaze emphasize the modern aesthetic of this hexagonal floor tile . beautifully designed in porcelain , the hexagon tiles fit together like a puzzle to create a bold honeycomb effect . reimagine a kitchen countertop or bring stellar style to a modern living or dining room floor .', metadata={'product_id': 5931, 'product_name': \"revolution 14 '' x 16 '' porcelain stone look wall & floor tile\"}),\n",
       " Document(page_content='these simple and elegant design tiebacks made of high-quality wood offer a contemporary solution for holding drapes and curtains . you can directly tie curtains or use them with hooks . it is very easy to use the curtain cord to decorate the curtain . they can be used as window curtain tiebacks , shower curtain tie backs , door hanger , wall hanger other various purposes .', metadata={'product_id': 5932, 'product_name': 'dametta macaron wooden bead curtain tieback'}),\n",
       " Document(page_content='original creative rural weaving wood bead curtain tiebacks for the home kitchen , living room , and bedroom . with environmental fiber rope , fashion and simplicity for all kinds of home styles . simple nordic country rustic style with round natural wood beads , soft shiny weaving fiber beads , fiber rope . you can directly tie the curtains or use with the hook .', metadata={'product_id': 5933, 'product_name': 'schoonover weaving wood bead curtain tieback'}),\n",
       " Document(page_content='organize bathroom linens and give your houseplants a sweet new home with this pretty tower rack . made from bamboo for durability and strength , this multi-functional storage rack has three slotted shelves to hold your choice of items within easy reach . the shelving unit is finished in lacquer to keep it looking nice for long-term use .', metadata={'product_id': 5934, 'product_name': \"brayson 26 '' h x 23 '' w x 10 '' d shelving unit\"}),\n",
       " Document(page_content='zoomie kids plush sofa recliner with cute monkey shape offers a pint-sized seat designed specially for kids . featured with soft plush and thick sponge , the kid plush chair gives your child extra comfortable experience . the 3 in 1 flip open foam sofa can be used as a chair or extend to be a lounge bed for child to sit , read stories , eat snacks or nap . thanks to its unique shape , the foldable couch not only creates a wonderland for your boys and girls , but also a great decor to your room .', metadata={'product_id': 5935, 'product_name': 'basel 3 in 1 fold out monkey kids recliner'}),\n",
       " Document(page_content='equip your waiting area with this kinbor guest chair unit that accommodates up to three people comfortably . the cold-rolled steel frame creates a stable foundation , and the powder-coated finish boosts durability in a busy reception space . with its blue and silver finish , this unit fits into a contemporary business .', metadata={'product_id': 5936, 'product_name': \"69 '' w metal seat waiting room chair with metal frame\"}),\n",
       " Document(page_content='welcome your corporate visitors with this three-seat chair , made with cushioned backs and seats for sturdy support . black faux leather and a chrome frame provide durability and a sophisticated look . attached armrests give guests a comfortable place to relax for a more pleasant office visit .', metadata={'product_id': 5937, 'product_name': \"63 '' w waiting room chair with metal frame\"}),\n",
       " Document(page_content='airport reception waiting room chairs are economical , stainless steel quality construction , and durable . this bench is built to support the heavy use of a busy office or other reception areas . stylish fits perfectly for an airport lounge , family room , lobby , hospital , barber salon , beauty salon , office waiting , etc .', metadata={'product_id': 5938, 'product_name': \"46 '' w mesh seat tandem seating with metal frame\"}),\n",
       " Document(page_content='the outdoor wicker sofa and ottoman set which includes 1 single sofa , 1 ottoman gives you leisure and relaxing time you could share with your friends and families . the patio sofa chair is made of handwoven pe wicker and sturdy steel frame , perfect for deck , poolside , lawn , backyard , or anywhere you would love to enjoy yourself .', metadata={'product_id': 5939, 'product_name': 'danesh patio chair with cushions and ottoman'}),\n",
       " Document(page_content='latitude run 7pcs outdoor wicker sofa set is perfect for outdoor garden , backyard , patio and any other outdoor areas . featured lightweight but strong rattan wicker and a sturdy steel frame , this patio furniture set ensures a long-term use . the outdoor conversation set which is hand woven in a delicate way . the sponge cushions will adorn your outdoor area . the matching tempered glass-topped side table is durable and easy to clean . this cushioned rattan wicker sofa is your great companion to improve your quality of life .', metadata={'product_id': 5940, 'product_name': 'boto patio sectional with cushions'}),\n",
       " Document(page_content='revamp your outdoor space with this versatile seven-piece patio sectional set . constructed of black hand-woven pe wicker with bright , vivid cushions , this all-weather patio furniture set is perfect for poolside lounging . extra support and comfort are added thanks to the thick padded cushions which are also zipped and washable for easy cleaning and maintenance . versatile and functional , the patio sofa set which features roomy space can be served as a sectional sofa , chat sets , and the chaise lounge , suitable for patio , pool , deck , garden , balcony , etc . the six sectional pieces and matching coffee table can be arranged however you like to meet the needs of virtually any space .', metadata={'product_id': 5941, 'product_name': 'botond patio sectional with cushions'}),\n",
       " Document(page_content='the garden arch provides an archway for climbing plants , but also can perfectly decorate your garden . what ’ s more , we take traditional classic gothic style . it is very suitable for some events . for example , weddings , anniversaries and different parties . made with weather-resistant powder-coated iron , it will stand up to the elements . it comes with instructions and you can assemble it easily . this item is minimal assembly required with instructions provided . believe this arch will give you a beautiful garden', metadata={'product_id': 5942, 'product_name': \"47.2 '' w x 17.3 '' d iron arbor\"}),\n",
       " Document(page_content='redefine your outdoor or indoor space with style and ease . decorative composite panels are perfect for adding design , creating privacy , and hiding unwanted views . like traditional lattice , our design panels can be attached to existing structures or applied to new fences , patios , or wood posts . these design panels are ideal for instant gratification . this product is made with a wood poly composite material suitable for outdoor climates . using redesigned and improved traditional lattice is a wonderful opportunity to achieve a beautiful modern look without reinventing the entire space . this classic design has endless uses and will become the focal point of the area in which it is used .', metadata={'product_id': 5943, 'product_name': '5 ft. h x 3 ft. w classic decorative composite privacy screen'}),\n",
       " Document(page_content='redefine your outdoor or indoor space with style and ease . design-vu is perfect for adding design , creating privacy , and hiding unwanted views . this product can be attached to existing structures or applied to new fences , patios , or wood posts . these panels are perfect for cladding , deck skirts , wall art , and ac / pool equipment enclosures . made with a wood poly composite material suitable for all outdoor climates . this product design features an artsy array of flower petals to fit in both modern and traditional applications .', metadata={'product_id': 5944, 'product_name': '4 ft. h x 2 ft. w petals decorative composite privacy screen'}),\n",
       " Document(page_content=\"specifications : product name : power lift chair soft fabric upholstery recliner living room sofa chair with remotemain color : blue graypackage size :33.46 * 31.50 * 29.53 inches 110.76lbsoverall dimension:34.6 '' ( w ) * 38.2 '' ( d ) * 39.4 '' ( h ) weight capacity:330lbs assembly required : about 15 minutesnet weight ( lbs ) :99.2material : flannelette cover+wood frame+sponge+metal footseat construction : mdf+spongeset includes : lift recliner and remote controlcountry of origin : chinaproduct warranty:1 yearnotes : manual measurement has been used , there may be some reasonable errorall the pictures are taken by actual samples , slight chromatic aberration may occur due to lighting or display\", metadata={'product_id': 5945, 'product_name': 'power lift chair soft fabric upholstery recliner living room sofa chair with remote'}),\n",
       " Document(page_content='anchor your bedroom in an inviting , contemporary style with this upholstered panel bed . founded on a solid and manufactured wood frame , the headboard strikes a rectangular silhouette wrapped in upholstery and outlined with nickel nail heads . the foam padding provides added softness and comfort . set over matching upholstered , low-profile foot and side rails and a series of the center support , accommodate your preferred box spring and mattress ( required , not included ) to round out the design .', metadata={'product_id': 5946, 'product_name': 'burrus upholstered low profile standard bed'}),\n",
       " Document(page_content=\"this clean-lined 4-drawer dresser helps clear up the clutter in your little one 's bedroom or playroom . it 's crafted from engineered wood in a neutral hue and showcases crown top molding , raised paneling , and wide feet for a traditional touch . four drawers with a round pull to open up on metal roller glides to reveal space for clothes , extra bedding , and toys . plus , the spacious surface top is an ideal spot for a lamp , framed photo , and other accent pieces .\", metadata={'product_id': 5947, 'product_name': 'essex 4 drawer dresser'}),\n",
       " Document(page_content=\"keeping up with your kid 's wardrobe can be exhausting . between birthdays , holidays , and clothing sales , storage space always seems to come at a premium . that 's when this 6-drawer double dresser comes in handy . crafted from engineered wood , this piece features six large drawers , perfect for tucking away your little one 's clothes or toys . raised paneling and a clean-lined silhouette add to the traditional feel of this piece , which works well with any neutral color palette . you can also use this dresser to store diapers , toys , and other baby items .\", metadata={'product_id': 5948, 'product_name': 'essex 6 drawer double dresser'}),\n",
       " Document(page_content='modern style with a rich , tufted design creates this wonderful upholstered bed . the tufted headboard gives an elegant touch and will add style to any bedroom . neutral-toned upholstery can coordinate with many palettes and styles . features a rubberwood frame for added strength and durability .', metadata={'product_id': 5949, 'product_name': 'waddington tufted upholstered low profile standard bed'}),\n",
       " Document(page_content='your child will love the bright colors and warm wood tones of this chair . toddlers will love the rocking motion and comfortable upholstered , stain-resistant seat cushions . this rocker will provide years of enjoyment .', metadata={'product_id': 5950, 'product_name': 'essex kids rocking chair'}),\n",
       " Document(page_content='this bed has usb power ports for added charging convenience while you sleep . anchor your bedroom in an inviting , contemporary style with this upholstered panel bed . founded on a solid and manufactured wood frame , the headboard strikes a rectangular silhouette wrapped in button-tufted 100 % linen upholstery , while foam padding provides added softness and comfort . set over matching upholstered , low-profile foot and side rails and a series of the center support , accommodate your preferred box spring and mattress ( required , not included ) to round out the design .', metadata={'product_id': 5951, 'product_name': 'ide tufted upholstered low profile standard bed'}),\n",
       " Document(page_content='modern style with an understated design creates this wonderful tufted upholstered panel bed . this bed has usb power ports for added charging convenience while you sleep . neutral-toned upholstery can coordinate with many tones . features a rubberwood frame for added strength and durability .', metadata={'product_id': 5952, 'product_name': 'idlewood tufted upholstered low profile standard bed'}),\n",
       " Document(page_content='modern style with an elegant tufted design . neutral-toned upholstery can coordinate with many tones . features a rubberwood frame for added strength and durability .', metadata={'product_id': 5953, 'product_name': 'idylberry upholstered panel headboard'}),\n",
       " Document(page_content=\"rosdorf park inc whismant 28 '' in chrome color\", metadata={'product_id': 5954, 'product_name': 'whisnant 6 - light unique / statement geometric chandelier'}),\n",
       " Document(page_content='orellana 4 - light unique / statement tiered chandelier', metadata={'product_id': 5955, 'product_name': 'orellana 4 - light unique / statement tiered chandelier'}),\n",
       " Document(page_content=\"this tv stand brings style and ample storage to any living space . it 's made from engineered wood with interior shelves for holding media players and dvds , while six adjustable shelves give you extra room for books and decorative items . it features a pair of barn-style doors that shut for added appeal , while metal hardware completes the aesthetic . it supports flat-screens up to 60 '' and includes cable management cutouts , so you can keep your space clutter-free . this stand completes the look in any industrial or french country space . hand curated by kelly clarkson .\", metadata={'product_id': 5956, 'product_name': \"skofte tv stand for tvs up to 60 ''\"}),\n",
       " Document(page_content=\"this sofa sleeper offers an upgraded take on the futon , a dorm room , and the first apartment staple . its square-tufted microsuede upholstery adds a comfy look , while a pair of toss pillows are included . founded atop tapered oak feet , its backrest adjusts to five different levels , including a horizontal position perfect for sleeping . whether it 's hosting an overnight guest or providing the perfect perch for movie night , this sofa is sure to inspire you to kick back .\", metadata={'product_id': 5957, 'product_name': \"tilda 54.7 '' flared arm sleeper\"}),\n",
       " Document(page_content='adjustable and removable shelf within two side cabinets , you can move to different heights to create flexible storage options for items of all shapes and sizes . open and closed storage creates space for your equipment , books , magazines , and decor .', metadata={'product_id': 5958, 'product_name': \"voorhees tv stand for tvs up to 50 ''\"}),\n",
       " Document(page_content='sideboard console table with bottom shelf , farmhouse wood/glass buffet storage cabinet living room', metadata={'product_id': 5959, 'product_name': \"marple 42 '' wide 2 drawer server\"}),\n",
       " Document(page_content=\"tasmin 41 '' wide power standard recliner\", metadata={'product_id': 5960, 'product_name': \"tasmin 41 '' wide power standard recliner\"}),\n",
       " Document(page_content='the platform bed is stunning with its soft concave arch in the headboard that also features button tufting . the side rails and platform foot-board are also wrapped in the gray fabric and supported by wood feet and headboard posts . this bed would work well with any decor as a new addition to a bedroom .', metadata={'product_id': 5961, 'product_name': 'silveira queen tufted upholstered low profile standard bed'}),\n",
       " Document(page_content='coffee table in natural & frosted glass', metadata={'product_id': 5962, 'product_name': 'delois bunching coffee table'}),\n",
       " Document(page_content='the bed is a platform-style bed featuring padded fabric on the headboard , footboard , and side rails . it is supported by wood feet and wood headboard posts . the headboard features nailhead trim bordering an interesting traditional top shape and also frames a button tufted diamond pattern . this bed has characteristics that will allow it to complement any bedroom .', metadata={'product_id': 5963, 'product_name': 'euripides queen tufted upholstered standard bed'}),\n",
       " Document(page_content='the occasional tables with the stylish transitional design will be a great addition to your living room . constructed with selected woods and veneers in warm walnut finish , features two drawers , and one open storage compartment , it is complemented by wooden round bun legs .', metadata={'product_id': 5964, 'product_name': 'hymes 2 - drawer end table'}),\n",
       " Document(page_content='high lumen light output ( 100 lumens ) . 3000k light temperature . weatherproof metal construction . buy this product with confidence in quality . it may cost a few extra dollars , but you get what you pay for ! . warning : this product may expose you to chemicals known to the state of california to cause cancer or reproductive harm', metadata={'product_id': 5965, 'product_name': 'solar powered powered led spot light'}),\n",
       " Document(page_content='high lumen light output ( 10x standard 1w path light ) . 3000k light temperature . metal and glass construction . buy this product with confidence in quality . it may cost a few extra dollars , but you get what you pay for ! 4-pack value ! . warning : this product may expose you to chemicals known to the state of california to cause cancer or reproductive harm', metadata={'product_id': 5966, 'product_name': 'solar powered poweredled pathway light pack'}),\n",
       " Document(page_content='the front and back fabric of this plush decorative throw pillow offers a textured fabric crafted using the timeless jacquard weaving process inspired by complex basketry of yesteryear . it features the rustic southwestern zig-zag design inspired by native american embroidery . burnt orange and brown hues fade into rustic green to form subtle chevron patterns . the captivating color and an earth tone inspired palette to infuse your favorite room with a vibrant personality . these toss pillows are filled with premium 100 % eco-friendly poly to ensure they remain decadent and satisfying to touch for years to come .', metadata={'product_id': 5967, 'product_name': 'square throw pillow cover & insert'}),\n",
       " Document(page_content='this milbridge designer throw pillow is sure to liven up any space ! bring the aztec inspired vibes in with this neutral ensemble thanks to the pillow .', metadata={'product_id': 5968, 'product_name': 'style cusp home milbridge throw pillow'}),\n",
       " Document(page_content='this teaghan designer throw pillow is sure to liven up any space ! bring the aztec inspired vibes in with this neutral ensemble thanks to the pillow .', metadata={'product_id': 5969, 'product_name': 'style cusp home teaghan throw pillow'}),\n",
       " Document(page_content='this sayulita designer throw pillow is sure to liven up any space ! bring the aztec inspired vibes in with this neutral ensemble thanks to the pillow .', metadata={'product_id': 5970, 'product_name': 'style cusp home sayulita throw pillow'}),\n",
       " Document(page_content='this stillwood designer throw pillow is sure to liven up any space ! bring the aztec inspired vibes in with this neutral ensemble thanks to the pillow .', metadata={'product_id': 5971, 'product_name': 'style cusp home stillwood throw pillow'}),\n",
       " Document(page_content='this designer throw pillow is sure to liven up any space ! bring the aztec inspired vibes in with this neutral ensemble thanks to the pillow .', metadata={'product_id': 5972, 'product_name': 'style cusp home throw pillow'}),\n",
       " Document(page_content='what an upbeat combination of silk and dried flowers ! the garden on a ring includes faux sunflowers and cosmos mixed with dried chinos , globe amaranth and twigs .', metadata={'product_id': 5973, 'product_name': 'sunflower bouquet wreath'}),\n",
       " Document(page_content='surface stainless steel shower caddy', metadata={'product_id': 5974, 'product_name': 'surface stainless steel shower caddy'}),\n",
       " Document(page_content='hotelier toiletry shower caddy', metadata={'product_id': 5975, 'product_name': 'hotelier toiletry shower caddy'}),\n",
       " Document(page_content='hotelier deep shower caddy', metadata={'product_id': 5976, 'product_name': 'hotelier deep shower caddy'}),\n",
       " Document(page_content='kubic wall mount robe hook', metadata={'product_id': 5977, 'product_name': 'kubic wall mount robe hook'}),\n",
       " Document(page_content=\"so simple , yet so bold . ginger 's kubic collection completes your modern , contemporary vision with its clean , subtle influence . a minimalist aesthetic equipped with perfectly round bars , precise angled corners , and disk shaped mounting hardware result in a collection with incredibly clean lines and simple yet bold styling . ginger kubic single robe hook 4610 finish options - 4610/mb , 4610/pn , 4610/pc , 4610/sn , 4610/01 , 4610/04\", metadata={'product_id': 5978, 'product_name': 'kubic single wall mount robe hook'}),\n",
       " Document(page_content='with the simple reclining pull device , you can adjust the angle you want . pull up the device under the armrest and lean backward using your body weight to recline the chair . it depends on what you want to do . like reading a book , watching a movie , taking a nap , all you could adjust a suitable angle to enjoy .', metadata={'product_id': 5979, 'product_name': \"dhanpat 34 '' wide leather match manual standard recliner\"}),\n",
       " Document(page_content=\"our non-conventional brass body bathroom sink faucet is a unique element in modern style bathrooms . this is a classic feature and the special design handles are truly eye-catching . contemporary bathroom waterfall bathtub faucet five holes triple handle mixer tap with hand held shower . the faucet body , spout and handle are made of solid brass and the valve core material is ceramic , a combination that guarantees a long lasting lifetime . ideal for your bathroom . ceramic core & brass valve materials provide durability with a sleek polished chrome finish . independent hot and cold nozzles included . this has an elegant design and elevates the appeal of your décor made from the highest quality and for great tastes . when it comes to new upgrades , we are offering shape , finish and styles you 're looking for .\", metadata={'product_id': 5980, 'product_name': 'three handle wall mounted tub spout'}),\n",
       " Document(page_content='the elegant chrome finish and the crystal handles make this daucet stand out in any modern bathroom . it is a deck-mount faucet , with two handles and with hot & cold water mixer functionality . the body and spout are made of stainless steel , the handles are made of crystal , while the valve core material is ceramic , for improved functionality and long-lasting . it comes complete with mounting accessories and installation instructions .', metadata={'product_id': 5981, 'product_name': 'santo three handle deck mounted tub spout'}),\n",
       " Document(page_content=\"the blackstone 36 '' weather-resistant cover is custom designed to fit the blackstone 36 '' griddle cooking station . made with heavy duty 600 d polyester . high impact poly resin for extremely durable buckles .\", metadata={'product_id': 5982, 'product_name': \"griddle grill cover - fits up to 36 ''\"}),\n",
       " Document(page_content='this lovely item is made of genuine tibetan lamb ( also known as mongolian ) . it has rich natural curls to add luxury to any room . works perfectly as an accent or layering pillow for a bed , sofa or chair .', metadata={'product_id': 5983, 'product_name': 'tibetan lamb throw pillow'}),\n",
       " Document(page_content='this will bring a modern or transitional touch to any room . this cabinet is very sturdy as it is made from solid wood .', metadata={'product_id': 5984, 'product_name': 'piedmonte 4 door accent cabinet'}),\n",
       " Document(page_content='this barrel bar is made out of solid wood . it holds up to 15 wine bottles . this bar also holds wine glasses . this piece is a great touch for any room .', metadata={'product_id': 5985, 'product_name': 'caryn half round barrel mini bar'}),\n",
       " Document(page_content='this l-shaped printer cart is ideal to keep your office equipment organized and easily accessible . this printer cart has a stylish design that accentuates the beauty of the contemporary office setting . this l-shaped printer cart is constructed from steel , which is sturdy and endures for years to come . it has a powder coating that looks elegant and adds beauty to its unique and modern design . it is available in multiple finishes , which gives you several options to choose from . this printer cart is resistant to warping , tarnishing , staining , and chipping , which ensures years of reliable use . it is water-resistant and rust-resistant , which helps to maintain its new look for a long time . this printer cart features a tempered glass tabletop and one shelve . the tabletop is sturdy enough to hold the printer and the shelves can be accommodated with printer supplies , files , and other documents and stationery . this printer stand features four casters for mobility , that can be locked for stability and prevent an accident , and removed as required . this l-shaped of this printer cart with tempered glass shelves looks stunning and urbane to add to existing office furniture . this l-shaped printer cart is ideal for home office , indoor , and outdoor use . it is safe and easy to clean this printer cart with a clean cloth .', metadata={'product_id': 5986, 'product_name': 'winthrop l-shaped mobile printer stand'}),\n",
       " Document(page_content='this theron tv stand storage feature offers plenty of space to keep your entertainment components , 2 drawers and top center media compartments , are complemented by 2 sliding glass doors shelf . carefully constructed from selected wood and veneers which gives this piece a contemporary and sleek appeal .', metadata={'product_id': 5987, 'product_name': \"theron tv stand for tvs up to 78 ''\"}),\n",
       " Document(page_content=\"turn your bedroom into a luxury suite with this beautiful upholstered platform bed . if your bedroom does n't feel put together or lacks drama , you can fix it by adding this fabulous upholstered platform bed to be the new focal point . an upholstered piece of furniture will give your bedroom a soothing look that makes it easier to relax and fall asleep .\", metadata={'product_id': 5988, 'product_name': 'ranstead upholstered platform bed'}),\n",
       " Document(page_content=\"this armchair is an ideal choice for anyone looking for a perfect balance of comfort and sophistication . ideal for the modern living room , this armchair is upholstered in genuine cowhide leather and padded with dacron foam . the dacron assures that the leather will not wrinkle or crack while providing a degree of comfort that is unmatched by alternative foam padding . durable and highly pleasing to the eye , this armchair features white accent stitching and brown hardwood legs that brilliantly complement the chair 's design .\", metadata={'product_id': 5989, 'product_name': \"caloundra 39.38 '' wide genuine leather armchair\"}),\n",
       " Document(page_content=\"22 '' h glass oval pendant shade ( screw on )\", metadata={'product_id': 5990, 'product_name': \"22 '' h glass oval pendant shade ( screw on )\"}),\n",
       " Document(page_content='striking ultra-modern design and bold styling this oval base dining table is in a class all by itself . this table boasts a square clear glass top , contrasting color oval design supports , stainless steel base with a polished chrome finish .', metadata={'product_id': 5991, 'product_name': 'poirier dining table'}),\n",
       " Document(page_content='both unexpected and unmistakably beautiful , this dining table will have you looking for reasons to have guests over for dinner . an open oval base , complete with a white finish and chrome banding , gives this piece its sculptural look , while a faux marble top and foundation bring elegance to any gathering area . the crisp , clean aesthetic of this table is perfect for those in love with the stark , immaculate looks of today .', metadata={'product_id': 5992, 'product_name': 'kimbell pedestal base dining table'}),\n",
       " Document(page_content='with its mid-century-inspired design , this chair pulls up the latest trends to any dining or breakfast table . its open bucket seat brims with modern appeal , while faux leather upholstery , complete with foam fill and welted details , rounds out the look with a touch of class . below , the angular metal legs sport a brushed silver finish , and the base boasts an almost 360\\xad° swivel . plus , its low-profile arms up nice and close to tabletops to conserve space .', metadata={'product_id': 5993, 'product_name': 'kimbell upholstered solid back dining chair'}),\n",
       " Document(page_content='ultra-modern in look and comfy in feel highlight this remarkable imogen z style dining chair . the z-style design of this chair is complemented by the dark gray tones and metallic base and seat back handle , adding to the attractive and striking appearance of this seating . design details include contrast white welting along with chair back and trim . sturdy construction enables you to sit back in confidence . quality craftsmanship in every facet ensures durability and long-lasting wear . fun , eclectic and practical in equal measure , this dining chair will become the focal point of your kitchen/breakfast nook/eating area and is a great way to add style and appeal to your home .', metadata={'product_id': 5994, 'product_name': 'imogen upholstered side chair in gray'}),\n",
       " Document(page_content=\"the wicker counter stools are a great addition to any patio or backyard . featuring a unique look with a curved back , this counter stool is one of a kind . it 's iron frame also ensures that they will maintain their sturdiness year over year . the polyethylene wicker is a synthetic wicker that will still uphold it 's look over time .\", metadata={'product_id': 5995, 'product_name': \"petti 25.5 '' patio bar stool\"}),\n",
       " Document(page_content='this shinkle dowel stool is a modern-looking comfortable counter and bar stool design . the seat is produced with a polyurethane mold and has reinforced stainless steel tubes . the high and ergonomic back is supportive and functional . the legs are a one-piece chromed steel tube with a strong and secure base . legs have quality plastic tops for floor protection .', metadata={'product_id': 5996, 'product_name': 'shinkle bar & counter stool'}),\n",
       " Document(page_content='this shrader stylish dressing accent mirror features a stylish design with semicircle interlaced pattern and is finished with bright gold leaf with plenty of visual appeals . as compared to the conventional square or rectangle shaped mirrors , this oval shaped mirror certainly precedes in looks and elegance . please make a bold statement with this gorgeous accent ! give your walls an eclectic edge with it ! it definitely fits just about anywhere , whether it is in your bathroom , family room or in the hallway .', metadata={'product_id': 5997, 'product_name': 'shrader stylish dressing accent mirror'}),\n",
       " Document(page_content='make a bold statement in your lounge area or bedroom with the turquoise geometric pillow . the modern design printed on this soft decorative pillow will liven up any room in your home and is the ideal size for accessorizing any chair , sofa or bed . this pillow comes in a variety of sizes and has the option to be purchased with the pillow insert included or just the cover only .', metadata={'product_id': 5998, 'product_name': 'noriega turquoise geometric pillow'}),\n",
       " Document(page_content='this sculpted chaise eggshell beach lounge patio chair is both practical and elegant . its curved raised armrests and super comfortable tufted cushion with attached neck pillow keeps you happily lounging all day long . rich shades of brown synthetic weave are uv protected and the galvanized aluminum frame will keep it resisting the elements in all types of climates . the beige cushion is moisture wicking and resists harmful rays and water build up .', metadata={'product_id': 5999, 'product_name': 'ebbert beach lounge patio chair'}),\n",
       " Document(page_content='this doolin mid-century upholstered dining chair is the perfect complement for any number of dining table styles . the seat is made from the highest quality fabric and the legs are made from iron with a wood finish , giving you the aesthetic look of wood with the durability of metal . these are chairs you ’ re sure to treasure for years to come .', metadata={'product_id': 6000, 'product_name': 'doolin mid-century upholstered dining chair'}),\n",
       " Document(page_content='the beauty of the outdoors isn ’ t as beautiful when it finds its way onto your freshly swept floors . here to help , this weather-resistant doormat welcomes guests in and keeps dirt out . crafted of durable coir fibers , this mat cleans sneakers and paws on the way by . its scalloped border and pineapple backdrop bring a touch of the tropics to your doorstep , making it a perfect pick for back patios and poolside cabanas as well .', metadata={'product_id': 6001, 'product_name': 'gorski pineapples shaped coir 27.5 in . x 15.75 in . outdoor door mat'}),\n",
       " Document(page_content='based on square modules with a wide range of applications items from this crannell wall shelf brings comfort to your house . the perfect background for the panels in the distinctive select color . the simple shapes of furniture make it easy to create any settings .', metadata={'product_id': 6002, 'product_name': 'crannell wall shelf'}),\n",
       " Document(page_content='modern angles combined with soft curves create a striking silhouette . a durable outdoor living area to both admire and reflect its surrounding beauty . generously scaled seating made from aluminum frames and smoothly powder coated in our crema finish and our tightly woven all-weather cushion in taupe . the downward angle allows you to sit in the perfect position on the cushions , enduring optimal enjoyment . weathered to perfection reclaimed teak table top with a silvery patina color is offered with our coffee table . • instills a sense of warmth and comfort • powder coated in our exclusive crema finish which is impervious to moisture and highly resistant to corrosion • seating arrives fully welded for structural integrity over time • quick-drying cushions • resists fading , tears , mold , and mildew • wide plank teak table top construction is sanded satin smooth • seating and table leg endcaps provide protection from marring and scratching surfaces', metadata={'product_id': 6003, 'product_name': 'darrius 4 piece teak sofa set with cushions'}),\n",
       " Document(page_content=\"this dunamuggy 24 '' single bathroom vanity set features a rectangle shape . this vanity set is designed to be installed as a floor mount vanity set . it is constructed with plywood-veneer . this vanity set comes with a lacquer-paint finish in white color . it is designed for a 1 hole faucet .\", metadata={'product_id': 6004, 'product_name': \"dunamuggy 24 '' single bathroom vanity set\"}),\n",
       " Document(page_content='the sectional set of modern design is constructed from high-quality materials . it ’ s a beautiful landscape on your patio and a comfortable place to enjoy your leisure time . with this large outdoor sectional set with cushions , you will always have plenty of comfortable seats for your friends and family to relax . place this in your backyard , patio , or around your pool .', metadata={'product_id': 6005, 'product_name': 'pierceton 6 piece rattan sectional seating group with cushions'}),\n",
       " Document(page_content='entertain in style with this elegant 11-piece sectional seating group , ideal for backyard bbqs and casual dinner parties . the set includes two square tables , two armchairs , a loveseat , two ottomans , and four sectional pieces — to seat 10 people in total . made with aluminum and wrapped in rattan , this set is also resistant to water , rust , and uv rays . both tables have tempered glass tops , making them easy to clean and giving you a spot to set down glasses , plates , and citronella candles . chic olefin cushions , filled with foam , help keep you and your guests supported while enjoying food and drink .', metadata={'product_id': 6006, 'product_name': 'alexandria 11 piece rattan sectional seating group with cushions'}),\n",
       " Document(page_content='goulds 5-light candle style drum chandelier', metadata={'product_id': 6007, 'product_name': 'goulds 5-light candle style drum chandelier'}),\n",
       " Document(page_content='this bed features a standout wingback headboard and a low profile to make your bedroom appear larger . made in the usa , it has a solid hardwood frame that is noticeable on the sides of the headboard and contrasts with the textured polypropylene upholstery . the headboard also includes handsome vertical channel tufting and a mix of polyester and foam filling to give you plenty of cushion when leaning against it before bedtime . a center leg provides extra support for your box spring and mattress ( both sold separately ) .', metadata={'product_id': 6008, 'product_name': 'o ? o ’ brien upholstered standard bed'}),\n",
       " Document(page_content='upgrade to the high-style vertical sputnik chandelier featuring with 8 hand blown glass globes will sure to keep you in trend with home decor .', metadata={'product_id': 6009, 'product_name': 'grier 8-light sputnik modern linear chandelier'}),\n",
       " Document(page_content='make a statement with this simply elegant framed full body or floor mirror . the remarkable finish demands attention and conveys sophistication . this beautiful antunes-salgado modern & contemporary full length mirror is perfect for any bathroom hung on a wall or over the vanity . hang as a magnificent living room wall mirror or lean against the closest wall for a breathtaking mirror .', metadata={'product_id': 6010, 'product_name': 'antunes-salgado modern & contemporary full length mirror'}),\n",
       " Document(page_content='covered in a soft top grain leather this chair has the feel of a high-end sofa . the height of the chair back brings great comfort .', metadata={'product_id': 6011, 'product_name': 'agnes berner upholstered solid wood side chair'}),\n",
       " Document(page_content=\"soak up some sun in style with this sleek patio sofa . it 's made with a clean-lined aluminum frame , so it 's not only delivering an updated take on outdoor furniture , but it also resists water and uv light . and as for that updated look , it has a streamlined design with clean , wide square arms and an open , blocky design for a modern look . this couch comes with included seat and back cushions that are made with foam filling and polyester covers , so you can kick back with a little extra padding .\", metadata={'product_id': 6012, 'product_name': 'francis contemporary patio sofa with cushions'}),\n",
       " Document(page_content=\"sargent entertainment center for tvs up to 70 ''\", metadata={'product_id': 6013, 'product_name': \"sargent entertainment center for tvs up to 70 ''\"}),\n",
       " Document(page_content='brayden studio shultz 3 piece stainless steel food strainer set', metadata={'product_id': 6014, 'product_name': 'brayden studio shultz 3 piece stainless steel food strainer set'}),\n",
       " Document(page_content=\"this chaise lounge is plush and fluffy like a `` cloud '' . anchor your favorite seating space in a mod appeal . play up this piece 's modern influence by adding it to a living room . roll out a chic shag rug to add a touch of texture . dot the walls with medallion accents and photographic prints for a dynamic display , then match it with hanging woven tapestry for a dash of unexpected drama . tonight is movie night ! grab a bowl of buttery popcorn , dim the lights down low for a theatrical experience , and gather the family atop this stylish sofa to make the evening entertaining .\", metadata={'product_id': 6015, 'product_name': 'sorrento chaise lounge'}),\n",
       " Document(page_content='this credenza has been created to adapt to your living space with the flexibility of its configuration possibilities . its sleek design is intelligent , inspiring and innovative .', metadata={'product_id': 6016, 'product_name': 'prattsburgh credenza'}),\n",
       " Document(page_content=\"ramses 32 '' standard lamp\", metadata={'product_id': 6017, 'product_name': \"ramses 32 '' standard lamp\"}),\n",
       " Document(page_content='this l-shape desk with hutch has been created to adapt to your living space with the flexibility of its configuration possibilities . its sleek design is intelligent , inspiring , and innovative .', metadata={'product_id': 6018, 'product_name': 'prattsburgh reversible l-shape writing desk with hutch'}),\n",
       " Document(page_content='a modern design and superior build quality highlight this line , showcasing the best style wicker rattan can offer . unique yet familiar at the same time , this sofa will become a favorite !', metadata={'product_id': 6019, 'product_name': \"donley 85 '' wide outdoor patio sofa with cushions\"}),\n",
       " Document(page_content='see what happens when you add a step-up accent piece or 2 to enhance your bedroom . this nightstand is what happens , with its italian-made light finish and polished metal legs , and vertical highlights . those metal bands help to distinguish the very stylish central chevron veneer pattern and pull on its 2 soft-closing drawer fronts .', metadata={'product_id': 6020, 'product_name': 'labombard modern 2 drawer nightstand'}),\n",
       " Document(page_content='with a light finished veneer , this series bed showcases the wood with the contrast of metal legs and accent touches . the headboard showcases the surface again in a split chevron pattern to help break up the rigidity of the total linear design . no box spring is needed with this bed , as it is an excellent choice for that open loft feel that you are curating in your abode .', metadata={'product_id': 6021, 'product_name': 'labombard platform bed'}),\n",
       " Document(page_content='give your room a stylish modern touch with this armchair . wrapped in smooth breathable vinyl upholstery the accent chair features stylish arching track arms and fitted cushions . firm foam-filled cushions deliver generous support so you can rest comfortably for hours on end . update your home with this modern-style chair .', metadata={'product_id': 6022, 'product_name': \"lampkin 34.75 '' wide armchair\"}),\n",
       " Document(page_content=\"lamm 82 '' wide right hand facing modular sofa & chaise\", metadata={'product_id': 6023, 'product_name': \"lamm 82 '' wide right hand facing modular sofa & chaise\"}),\n",
       " Document(page_content='beautiful and practical : the unique triangular design uses 100 % natural pine wood , deep carbonization , uniform color , and strong structure , which makes the plant durable enough to meet your daily use needs . adequate plant growth space : evenly spaced wood panels provide good light transmission and breathability , ensuring that your plants enjoy a comfortable environment ; suitable for vertical growth of plants . clean indoor and outdoor plants , ideal for living rooms , solariums , restaurants , balconies , entranceways , porches , courtyards , decks , courtyards , etc . you can also use the plant stand to store books , gadgets , collectibles , handicrafts , photo frames , towels , bedding , and more . three sets of gardening and gloves , and all the hardware needed to assemble the plant stand ; easy to assemble and clear instructions .', metadata={'product_id': 6024, 'product_name': 'wood plant stand triangular plant shelf 6 pots flower stand storage rack'}),\n",
       " Document(page_content=\"pet cat dog automatic feeders dispenser automatic gravity feeders bottle standfeature : high-quality food-grade plastic material , bpa-free , safe , healthy and environmental protection , perfect care of your love pet ; 100 % new material , high quality , anti-fall durable , save money.3.8l large capacity : gravity supply principle , automatic feeding device , saving time and safety . you can be happy to work , date , rest , and don ’ t worry about your pet 's feed.user-friendly design : transparent barrel , easy to confirm the amount of feed ; non-slip base design to prevent pets to turn the feeders.easy to clean : barrel body , base removable , convenient for your daily cleaning , rinse directly with water . recommended cleaning once a week.easy to operate : unscrew the spring mouth of the bucket , into the clean feed , and then fixed to the base , especially for office workers or single owners , even if sometimes overtime to late , do not worry pet alone at home that it have no feed.description : product name : pet feeder.product color : gray color.product weight : 0.8 pounds.product size : 12.2 x 12.6 inches ( 31x32cm ) the product has been rigorously tested to withstand a certain weight or for a period of time without deformation.package included:1 pet feeder .\", metadata={'product_id': 6025, 'product_name': 'pet cat dog automatic feeders dispenser automatic gravity feeders bottle stand gray'}),\n",
       " Document(page_content='ladder computer desk', metadata={'product_id': 6026, 'product_name': 'ladder computer desk'}),\n",
       " Document(page_content='this 80-quart rattan cooler cart is a portable wicker refrigerated cart , patio pool party drinks , refrigerator with bottle opener , lid collector , and waterproof cover ( single top brown wicker ) .', metadata={'product_id': 6027, 'product_name': '80 qt . cooler'}),\n",
       " Document(page_content='outdoor rattan rocker patio chairs with cushions .', metadata={'product_id': 6028, 'product_name': 'gigi rocking chair with cushions'}),\n",
       " Document(page_content=\"gustaaf 35 '' wide faux leather power recliner with massager\", metadata={'product_id': 6029, 'product_name': \"gustaaf 35 '' wide faux leather power recliner with massager\"}),\n",
       " Document(page_content='this is a high-quality massage recliner . its main function is to massage the back and legs . it also has waist heating and can lift to help the elderly stand up . both massage and heating can be done through the remote control . it is an electric recliner that can lie down up to 140° . the high-quality pu and thick cushion padding are all massage recliners worth having ! the angle of lifting and lying down can be adjusted by buttons and remote control . in addition , it also comes with usb , whether it is reading a book , resting or watching a movie , it will make your home very relaxing .', metadata={'product_id': 6030, 'product_name': \"kamiylah 34 '' wide faux leather power lift assist standard recliner with massager\"}),\n",
       " Document(page_content='this is a high-quality massage recliner . its main function is to massage the back and legs . it also has waist heating and can lift to help the elderly stand up . both massage and heating can be done through the remote control . it is an electric recliner that can lie down up to 140° . the high-quality pu and thick cushion padding are all massage recliners worth having ! the angle of lifting and lying down can be adjusted by buttons and remote control . in addition , it also comes with usb , whether it is reading a book , resting or watching a movie , it will make your home very relaxing .', metadata={'product_id': 6031, 'product_name': \"gre 33.5 '' wide faux leather power lift assist standard recliner with massager\"}),\n",
       " Document(page_content='best desu , inc. elegance cake tong', metadata={'product_id': 6032, 'product_name': 'best desu , inc. elegance cake tong'}),\n",
       " Document(page_content='the time and weather station desk set is made with black piano wood and silver mantle clock also includes a barometer and hygrometer .', metadata={'product_id': 6033, 'product_name': 'clock thermometer'}),\n",
       " Document(page_content='toilet brush and paper holder set includes a long-handled brush for cleaning and a cup to hide brush when not in use . modern toilet brush set equipped with a modernized head replacement system . the system - provides upright standing of the brush in the holder - no dripping from the brush while in use - optimal cleaning results due to the robust bristles - provides optimal stability due to the weight and shape . quadrant base , closed toilet brush holder and slim bathroom tissue holder make the style toilet brush set elegant and beautifully shaped . the style toilet brush set includes a bathroom tissue holder , toilet brush holder from stainless steel with a removable plastic insert and a high-quality toilet brush with a stainless steel handle and a white brush head . rubber feet on the bottom side of the toilet brush set create stability . the style towel holder complements this toilet brush set . chrome-plated metal , brush holder is made from stainless steel with a sable , chrome-plated metal base . the style collection includes elegant and beautifully shaped chrome-plated , sturdy metal rods . rubber feet on the bottom side of the heavy metal bases create stability . optimal for humid bathrooms . each product is tested for stability , resilience and durability . the style collection includes a standing towel holder and toilet brush set .', metadata={'product_id': 6034, 'product_name': 'jiallo free standing toilet paper holder'}),\n",
       " Document(page_content='enhance any entry with this doormat . durable and crafted of natural coir , made from coconuts . coir is a natural yet durable fiber that scrapes shoe bottoms clean . designed to withstand high traffic , this piece strikes a classic rectangular silhouette . good for most doorways , this doormat is fast-drying , weather-resistant , and colorfast . backed with rubber/pvc for the ultimate non-skid surface .', metadata={'product_id': 6035, 'product_name': 'mabe welcome 28 in . x 18 in . outdoor door mat'}),\n",
       " Document(page_content='enhance your kitchen with this colorful and healthy memory foam mat .', metadata={'product_id': 6036, 'product_name': 'anti-fatigue mat'}),\n",
       " Document(page_content='give your bathroom décor the same attention and consideration as any other room in your home with beautifully designed accessory sets where every part has been engineered down to the finest detail .', metadata={'product_id': 6037, 'product_name': 'open towel ring'}),\n",
       " Document(page_content='if you take something of great quality and if you take good care of it – it will last forever . just like the beautifully designed bathroom ensembles within this range .', metadata={'product_id': 6038, 'product_name': '8500 series open towel ring'}),\n",
       " Document(page_content='stylish and contemporary geometric design by charlton home in rich , saturated colors will instantly refresh your whole bathroom . mcginty bath set includes a shower curtain , 12 metal shower hooks , a bath rug , and a contour rug . shower curtain rings fit a standard curtain rod . shower curtain liner and curtain rod not included . cut-and-loop bath rugs feature a skid-resistant backing and slip-resistant surface for added stability . shower curtain : 100 % polyester ; bath rugs : 100 % olefin . machine washable .', metadata={'product_id': 6039, 'product_name': 'mcginty 3 piece bath set'}),\n",
       " Document(page_content='instantly update your bathroom décor with a stylish , printed maxman weave textured fabric shower curtain . each shower curtain ships with 12 metal shower curtain rings for easy install . simply rings through reinforced button holes and onto your existing shower curtain rod . standard sized curtain rings are rust resistant and easily back and forth on any shower curtain pole . decorative printed shower curtains bring your bathroom to life with bold colors and designs . shower curtain is unlined . easy clean , machine washable polyester .', metadata={'product_id': 6040, 'product_name': 'maxman fabric weave textured floral shower curtain set'}),\n",
       " Document(page_content='turn your bathroom into a home spa oasis with bounce comfort , memory foam bath accessories . sink your feet into the plush , super soft comfort of the farlow memory foam bath mat each time you step out of the shower or bath . enhanced with bounce comfort technology , each step cushions your foot with exceptional softness and support . stitched paisley design and bath friendly colors accent any decor . a soft , brushed microfiber surface surrounds a thick memory foam core , allowing water to repel for quick and easy drying . a durable , skid-resistant backing and slip resistant surface provide stability while you step . place multiple memory foam bath rugs throughout your bathroom to experience bounce comfort in front of your vanity , sink , bathtub or shower . easy to clean , stain resistant microfiber surface provides durability for long lasting beauty . reinforced trim helps to maintain shape and stability . place mat on clean , dry surface . easy clean , machine washable . wash in cold water separately with mild soap or detergent . do not bleach . for best results , hang dry .', metadata={'product_id': 6041, 'product_name': 'farlow plush rectangle memory foam non-slip bath rug'}),\n",
       " Document(page_content='turn your bathroom into a home spa oasis with bouncecomfort , memory foam bath accessories . sink your feet into the plush , super soft comfort of memory foam each time you step out of the shower or bath . enhanced with bouncecomfort technology , each step cushions your foot with exceptional softness and support . embossed designs in bath friendly colors coordinate with any decor . a soft , brushed microfiber surface surrounds a thick memory foam core , allowing water to repel for quick and easy drying . a durable , skid-resistant backing and slip resistant surface provide stability while you step . place multiple memory foam bath rugs throughout your bathroom to experience bouncecomfort in front of your vanity , sink , bathtub or shower . easy to clean , stain resistant microfiber surface provides durability for long lasting beauty . reinforced trim helps to maintain shape and stability . place mat on clean , dry surface . easy clean , machine washable . wash in cold water separately with mild soap or detergent . do not bleach . for best results , hang dry .', metadata={'product_id': 6042, 'product_name': 'dorothy premium micro plush bath rectangle memory foam non-slip bath rug'}),\n",
       " Document(page_content='turn your bathroom into a home spa oasis with bouncecomfort , memory foam bath accessories . sink your feet into the plush , super soft comfort of memory foam each time you step out of the shower or bath . enhanced with bouncecomfort technology , each step cushions your foot with exceptional softness and support . embossed designs in bath friendly colors coordinate with any decor . a soft , brushed microfiber surface surrounds a thick memory foam core , allowing water to repel for quick and easy drying . a durable , skid-resistant backing and slip resistant surface provide stability while you step . place multiple memory foam bath rugs throughout your bathroom to experience bouncecomfort in front of your vanity , sink , bathtub or shower . easy to clean , stain resistant microfiber surface provides durability for long lasting beauty . reinforced trim helps to maintain shape and stability . place mat on clean , dry surface . easy clean , machine washable . wash in cold water separately with mild soap or detergent . do not bleach . for best results , hang dry .', metadata={'product_id': 6043, 'product_name': 'malveaux premium micro plush rectangle memory foam non-slip bath rug'}),\n",
       " Document(page_content='turn your bathroom into a home spa oasis with bouncecomfort , memory foam bath accessories . sink your feet into the plush , super soft comfort of memory foam each time you step out of the shower or bath . enhanced with bouncecomfort technology , each step cushions your foot with exceptional softness and support . embossed designs in bath friendly colors coordinate with any decor . a soft , brushed microfiber surface surrounds a thick memory foam core , allowing water to repel for quick and easy drying . a durable , skid-resistant backing and slip resistant surface provide stability while you step . place multiple memory foam bath rugs throughout your bathroom to experience bouncecomfort in front of your vanity , sink , bathtub or shower . easy to clean , stain resistant microfiber surface provides durability for long lasting beauty . reinforced trim helps to maintain shape and stability . place mat on clean , dry surface . easy clean , machine washable . wash in cold water separately with mild soap or detergent . do not bleach . for best results , hang dry .', metadata={'product_id': 6044, 'product_name': 'manahan premium micro plush rectangle memory foam non-slip bath mat'}),\n",
       " Document(page_content='turn your bathroom into a home spa oasis with bouncecomfort , memory foam bath accessories . sink your feet into the plush , super soft comfort of memory foam each time you step out of the shower or bath . enhanced with bouncecomfort technology , each step cushions your foot with exceptional softness and support . embossed designs in bath friendly colors coordinate with any decor . a soft , brushed microfiber surface surrounds a thick memory foam core , allowing water to repel for quick and easy drying . a durable , skid-resistant backing and slip resistant surface provide stability while you step . place multiple memory foam bath rugs throughout your bathroom to experience bouncecomfort in front of your vanity , sink , bathtub or shower . easy to clean , stain resistant microfiber surface provides durability for long lasting beauty . reinforced trim helps to maintain shape and stability . place mat on clean , dry surface . easy clean , machine washable . wash in cold water separately with mild soap or detergent . do not bleach . for best results , hang dry .', metadata={'product_id': 6045, 'product_name': 'turtle shell large premium micro plush rectangle memory foam non-slip 2 piece bath rug set'}),\n",
       " Document(page_content='turn your bathroom into a home spa oasis with bouncecomfort , memory foam bath accessories . sink your feet into the plush , super soft comfort of memory foam each time you step out of the shower or bath . enhanced with bouncecomfort technology , each step cushions your foot with exceptional softness and support . embossed designs in bath friendly colors coordinate with any decor . a soft , brushed microfiber surface surrounds a thick memory foam core , allowing water to repel for quick and easy drying . a durable , skid-resistant backing and slip resistant surface provide stability while you step . place multiple memory foam bath rugs throughout your bathroom to experience bouncecomfort in front of your vanity , sink , bathtub or shower . easy to clean , stain resistant microfiber surface provides durability for long lasting beauty . reinforced trim helps to maintain shape and stability . place mat on clean , dry surface . easy clean , machine washable . wash in cold water separately with mild soap or detergent . do not bleach . for best results , hang dry .', metadata={'product_id': 6046, 'product_name': 'kennith large premium micro plush rectangle memory foam non-slip 2 piece bath rug set'}),\n",
       " Document(page_content='turn your bathroom into a home spa oasis with bouncecomfort , memory foam bath accessories . sink your feet into the plush , super soft comfort of memory foam each time you step out of the shower or bath . enhanced with bouncecomfort technology , each step cushions your foot with exceptional softness and support . embossed designs in bath friendly colors coordinate with any decor . a soft , brushed microfiber surface surrounds a thick memory foam core , allowing water to repel for quick and easy drying . a durable , skid-resistant backing and slip resistant surface provide stability while you step . place multiple memory foam bath rugs throughout your bathroom to experience bouncecomfort in front of your vanity , sink , bathtub or shower . easy to clean , stain resistant microfiber surface provides durability for long lasting beauty . reinforced trim helps to maintain shape and stability . place mat on clean , dry surface . easy clean , machine washable . wash in cold water separately with mild soap or detergent . do not bleach . for best results , hang dry .', metadata={'product_id': 6047, 'product_name': 'gertie large premium micro plush rectangle memory foam non-slip 2 piece bath rug set'}),\n",
       " Document(page_content='turn your bathroom into a home spa oasis with bouncecomfort , memory foam bath accessories . sink your feet into the plush , super soft comfort of memory foam each time you step out of the shower or bath . enhanced with bouncecomfort technology , each step cushions your foot with exceptional softness and support . embossed designs in bath friendly colors coordinate with any decor . a soft , brushed microfiber surface surrounds a thick memory foam core , allowing water to repel for quick and easy drying . a durable , skid-resistant backing and slip resistant surface provide stability while you step . place multiple memory foam bath rugs throughout your bathroom to experience bouncecomfort in front of your vanity , sink , bathtub or shower . easy to clean , stain resistant microfiber surface provides durability for long lasting beauty . reinforced trim helps to maintain shape and stability . place mat on clean , dry surface . easy clean , machine washable . wash in cold water separately with mild soap or detergent . do not bleach . for best results , hang dry .', metadata={'product_id': 6048, 'product_name': 'grecian small plush rectangle memory foam non-slip 2 piece bath rug set'}),\n",
       " Document(page_content='turn your bathroom into a home spa oasis with bouncecomfort , memory foam bath accessories . sink your feet into the plush , super soft comfort of memory foam each time you step out of the shower or bath . enhanced with bouncecomfort technology , each step cushions your foot with exceptional softness and support . embossed designs in bath friendly colors coordinate with any decor . a soft , brushed microfiber surface surrounds a thick memory foam core , allowing water to repel for quick and easy drying . a durable , skid-resistant backing and slip resistant surface provide stability while you step . place multiple memory foam bath rugs throughout your bathroom to experience bouncecomfort in front of your vanity , sink , bathtub or shower . easy to clean , stain resistant microfiber surface provides durability for long lasting beauty . reinforced trim helps to maintain shape and stability . place mat on clean , dry surface . easy clean , machine washable . wash in cold water separately with mild soap or detergent . do not bleach . for best results , hang dry . imported .', metadata={'product_id': 6049, 'product_name': 'stencil plush rectangle memory foam non-slip floral bath rug'}),\n",
       " Document(page_content='give your feet the gift of comfort with a super soft george oliver chenille bathroom mat . a unique blend of fashion and function , these rugs provide super absorbency , decorative style and exceptional comfort for the home . transform any bathroom into a spa oasis with supple chenille bath rugs available in an array of bath friendly colors . step out of the shower or bath onto the most comfortable rug you ’ ve ever experienced , or add style and comfort to any room in your home . each rug is crafted with a memory foam core for softness and durability . non skid , non slip bottom and coordinating twill binding complete each mat for long lasting beauty . imported .', metadata={'product_id': 6050, 'product_name': 'mancia plush chenille cushioned rectangle memory foam non-slip 2 piece bath rug set'}),\n",
       " Document(page_content='instantly update your bathroom decor with a stylish , printed peva/eva eco-friendly shower curtain . dual purpose - functions as both decorative shower curtain and liner . no separate liner needed . each shower curtain ships with 12 coordinating beaded metal shower curtain rings for easy install . simply rings through reinforced buttonholes and onto your existing shower curtain rod . standard sized curtain rings are rust resistant and easily back and forth on any shower curtain pole . peva is an eco-friendly alternative to traditional pvc curtain liners . each shower curtain is constructed of antimicrobial pvc free peva . easy wipe clean material . 70 % peva , 30 % eva . imported .', metadata={'product_id': 6051, 'product_name': 'morelia vinyl 13-piece geometric shower curtain set hooks'}),\n",
       " Document(page_content='prevent disaster before it occurs', metadata={'product_id': 6052, 'product_name': 'leak detector system'}),\n",
       " Document(page_content='popular combinations', metadata={'product_id': 6053, 'product_name': 'hot water dispenser'}),\n",
       " Document(page_content='sitting on a stability ball can improve stability and balance because the user must constantly engage the core abdominal muscles to stay upright . however , traditional exercise or yoga are not as practical as they tend to roll away . the bintiva ball chair keeps the ball in place and features lockable wheels for ultimate user safety and convenience . the ball is crafted from professional grade anti-burst materials and features a textured non-slip surface .', metadata={'product_id': 6054, 'product_name': 'ergonomic ball chair'}),\n",
       " Document(page_content=\"the bed risers are a great idea for storage under the bed . adds additional height , so that creates storage space under beds and furniture leg . easy to store seasonal clothing , bedding , suitcases , luggage , make your home and bedroom tidy . the heavy-duty bed risers are made of high-quality durable materials . and the smooth edges of bed risers wo n't scratch or dent hardwood floors . the furniture risers can be altered with three height options . this gives the option to make your bed reach the desired height .\", metadata={'product_id': 6055, 'product_name': 'bed risers'}),\n",
       " Document(page_content='the wooden trays are made of wood , makes them durable and sturdy , not easy to crack . due to its gorgeous multi-color wood patterns , it looks vintage and unique , can bring a decorative touch to any space . an instant eye-catcher , the perfect size tray set can be used as an elegant addition to your tea parties , as a refined jewelry organizers for your vanity table , or as a handy entryway trayc for keys , glasses and coins . not only used for breakfast , dinner , drinks , cake , or any food serving trays on home , parties and events , but also as a decorative tray in the dining room , living room and bar . the vintage look will surely impress your guests and make your home unique .', metadata={'product_id': 6056, 'product_name': 'millwood pines wood serving tray with handles , rustic nesting serving trays set of 3'}),\n",
       " Document(page_content='the fishing rod storage rack is made of heavy duty steel , which make it more durable and sturdy . holds up to 8 rods and reel combos . 2-in-1 rack can be mounted on wall or ceiling to store your fishing rods , provides you with simplified and hassle free storage . great for storing fishing rods , hiking poles , ski poles , hockey sticks and cue and more .', metadata={'product_id': 6057, 'product_name': 'butizone fishing rod rack , fishing pole wall or ceiling storage rack holder wall mount for garage'}),\n",
       " Document(page_content=\"put your feet up and relax . this pouf has an interesting braided jute appearance . this woven beanbag blends its complementary shades to form a masterful medley of color and consistency . set a rustic wooden tray on top of this pouf to set out hors-d'oeuvres at your next summer soiree . an excellent seating alternative for young children , try setting one in front of an easel in the playroom and let your little artist paint .\", metadata={'product_id': 6058, 'product_name': 'marley pouf'}),\n",
       " Document(page_content='tightly woven pe synthetic rattan creates a curved , supportive back with sloping arms , allowing this patio chair the versatility of acting as either an indoor or outdoor accent seating .', metadata={'product_id': 6059, 'product_name': 'aveza patio chair'}),\n",
       " Document(page_content=\"with its distinctive long back , this 24.5 '' bar stool has a transitional look which is at home in a farmhouse setting or a 21st-century tropical oasis . crafted from a sturdy iron structure with hand weaved supple rattan . its streamlined styling makes it a perfect choice for all spaces . use it in the kitchen , the bar or your outside entertainment area .\", metadata={'product_id': 6060, 'product_name': \"alviva 24.5 '' bar stool\"}),\n",
       " Document(page_content='whether rounding out the kitchen island or pulled up to a pub table , this stool is always a stylish spot to sit in your entertaining space . boasting a coastal appearance , its wicker rattan frame features a streamlined four-legged design finished in wood hue . up top , the round seat is crafted from woven plastic . its footrest keeps you comfortable , while also being an easy-to-clean piece . it arrives ready to use .', metadata={'product_id': 6061, 'product_name': 'bar & counter stool'}),\n",
       " Document(page_content='whether sidled up beside your sofa or acting as a nightstand in the master suite , this end table is always a stylish stage . boasting a contemporary appearance , it pairs a clean-lined iron frame with a marble top for a pop of contrast . it offers space to display a gleaming lamp on top and an open area underneath to keep books or a basket .', metadata={'product_id': 6062, 'product_name': 'bryes marble top c end table'}),\n",
       " Document(page_content='geometric attitude is boasted with this contemporary craftsman patterned sideboard . the clean lines of the geometric patterned fretwork offer the paneled mirror glass a unique reflection for all to enjoy . this style offers great storage convenience while making an elegant statement in the offering . pair with the coordinating chest to complete the look .', metadata={'product_id': 6063, 'product_name': 'vivian mistana™ coffee sideboard'}),\n",
       " Document(page_content=\"this counter stool gives your kitchen , dining area , or covered patio the look of a mediterranean coastal bistro with its shape and look . it 's expertly crafted from rattan , and it features weather-resistant woven acrylic at the joints and the seat for some pleasant contrast . with a variety of hue options , you 're able to match it with your room 's style and color scheme . at 24.5 '' , this backless counter stool is also lightweight for easy mobility . plastic glides under the legs allow you to move it without scuffing the floor . best of all , this counter stool arrives fully assembled .\", metadata={'product_id': 6064, 'product_name': \"baldridge 24.5 '' counter stool\"}),\n",
       " Document(page_content='this desk is riveting , soaring with the flair of an airplane wing and guaranteed to help a room take flight . crafted from polished aluminum and rivets , this shimmering desk sits atop four matching legs that taper down for a very smooth landing indeed .', metadata={'product_id': 6065, 'product_name': 'huntington aviator desk'}),\n",
       " Document(page_content='versatile and sleek , this kaliyah demilune console table gracefully greets guests when you set it on the wall across a near front door or behind your sofa . while stunning all by itself , you can always up to the drama by setting a tall vase of florals on top and hanging a gilded mirror on the wall above .', metadata={'product_id': 6066, 'product_name': \"kaliyah demilune 50 '' w console table\"}),\n",
       " Document(page_content=\"reminiscent of vintage car seats , this downend 32 '' bar stool brings an industrial vibe to your kitchen , bar or pub ensemble . comfortable seating with its supple leather and a footrest in just the right place , adds a touch of class and elegance to your already existing home decor . it complements several home decors like the farmhouse , contemporary and rustic .\", metadata={'product_id': 6067, 'product_name': \"downend 32 '' bar stool\"}),\n",
       " Document(page_content='pretty peacock 30 in . x 18 in . non-slip outdoor door mat', metadata={'product_id': 6068, 'product_name': 'pretty peacock 30 in . x 18 in . non-slip outdoor door mat'}),\n",
       " Document(page_content='moonlit owl polyester flag', metadata={'product_id': 6069, 'product_name': 'moonlit owl polyester flag'}),\n",
       " Document(page_content='welcome sunflowers garden flag', metadata={'product_id': 6070, 'product_name': 'welcome sunflowers garden flag'}),\n",
       " Document(page_content='sunflower medley garden flag', metadata={'product_id': 6071, 'product_name': 'sunflower medley garden flag'}),\n",
       " Document(page_content='pineapple and scrolls 2-sided garden flag', metadata={'product_id': 6072, 'product_name': 'pineapple and scrolls 2-sided garden flag'}),\n",
       " Document(page_content='this shaped printed sunflower coir door mat makes a nice addition for adding a little brightness to your front or patio doorway . sweep , vacuum or lightly shake this door mat to clean .', metadata={'product_id': 6073, 'product_name': 'manning sunflower coir 30 in . x 30 in . outdoor door mat'}),\n",
       " Document(page_content='this exact replica ( reduced from original size ) of the surrender of lord cornwallis , at yorktown , 1781 is proudly in the usa . combined from the two page original handwritten document of surrender , known as the articles of capitulation , which was drafted on october 19th , 1781. the document was signed by lord cornwallis , the lieutenant-general of the british army , on october 19th , 1781. printed on antique parchment paper with a country black frame made of solid wood , it will add character to any room .', metadata={'product_id': 6074, 'product_name': 'surrender of lord cornwallis at yorktown 1781 - picture frame textual art print on paper'}),\n",
       " Document(page_content='classic bianco carrara white marble instantly updates your bathroom with a high-end , luxurious look . this natural stone side splash will protect your walls and vanity from water damage .', metadata={'product_id': 6075, 'product_name': 'bianco carrara marble side splash'}),\n",
       " Document(page_content='the bathroom vanity set will be a focal point in your bathroom . providing an elegant and timeless furniture aesthetic and ample storage options , this unit will instantly update your space with a high end , classic look . the vanity set is a fully assembled freestanding vanity , in an enduring wood structure , and capped in authentic italian carrara marble countertop with a built-up ogee edge .', metadata={'product_id': 6076, 'product_name': \"pamula 37 '' single bathroom vanity set\"}),\n",
       " Document(page_content=\"this 49 '' single bathroom vanity set has a slatted shelf and crisp white marble surface for the perfect amount of coastal style in your space . its freestanding frame is crafted from solid and engineered wood with a neutral finish . the polished marble surface accommodates the included rectangular ceramic sink and is ideal for displaying a soap dispenser and your favorite potted plant . one pull-down drawer and two pull-out drawers with pull handles open up to reveal space for makeup and toiletries . and the open slatted shelf below is ideal for tucking away towels or organizational baskets . plus , this vanity set arrives fully assembled , so you do n't have to break out the toolbox .\", metadata={'product_id': 6077, 'product_name': \"college 49 '' single bathroom vanity set\"}),\n",
       " Document(page_content='a modern farmhouse staple , the sliding barn door vanity will make style and function come together in your bathroom . featuring rustic wood finish , metal accent hardware and includes 2 rattan baskets for tucking away toiletries or storing other essentials . this fully assembled vanity has a solid wood frame and adjustable legs for uneven floor .', metadata={'product_id': 6078, 'product_name': \"dolly 30 '' single bathroom vanity base only\"}),\n",
       " Document(page_content='our stunning collection of natural stone mosaics in the finest quality marbles of varying finishes will refresh and give your space a luxurious feel .', metadata={'product_id': 6079, 'product_name': \"athens 12 '' x 12 '' natural stone and marble mosaic tile\"}),\n",
       " Document(page_content='our stunning collection of natural stone mosaics in the finest quality marbles of varying finishes will refresh and give your space a luxurious feel .', metadata={'product_id': 6080, 'product_name': \"carrara brick 12 '' x 12 '' natural stone and marble mosaic tile\"}),\n",
       " Document(page_content='this double vanity set with a unique and timeless style will be the centerpiece in your bath or powder room . it showcases a wood-look finish in washed gray , solid wood frame , engineered quartz vanity top , and plenty of storage space .', metadata={'product_id': 6081, 'product_name': \"plante 61 '' double bathroom vanity set\"}),\n",
       " Document(page_content=\"18 '' h x 72 '' w x 20 '' d plastic deck box\", metadata={'product_id': 6082, 'product_name': \"18 '' h x 72 '' w x 20 '' d plastic deck box\"}),\n",
       " Document(page_content=\"try something new with this innovative medium-firm boomerang body pillow that was made for cuddling and snuggling . designed for all sleep positions , this cozy pillow features a soft to the touch , cotton blend cover and a generous down alternative fiberfill to give ample support and comfort . it is hypoallergenic to provide you with a restful night 's sleep . the cover is removable and machine washer and dryer safe for easy cleaning . our beautyrest boomerang pillow was designed with all sleepers in mind , so you can rest assured that high-quality support will be delivered to your neck , back and legs , no matter your sleeping style .\", metadata={'product_id': 6083, 'product_name': 'boomerang firm polyfill body pillow'}),\n",
       " Document(page_content='our heated throw utilizes state-of-the-art secure comfort heated technology that adjusts the temperature of your throw based on overall temperature , spot temperatures , and the ambient temperature of your room , ensuring a consistent flow of warmth . this unique technology also emits virtually no electromagnetic field emissions , so you can snuggle up with confidence . this throw is oversized , nearly a foot larger in length and width compared to standard heated throws . the ultra-soft faux creates a cozy , comfortable throw . featuring 3 heat settings , this throw is machine washable for easy care . this heated throw is certified , meaning it does not contain any harmful substances or chemicals , ensuring quality comfort and wellness .', metadata={'product_id': 6084, 'product_name': 'zuri oversized heated faux throw'}),\n",
       " Document(page_content='series c right bow corner desk shell', metadata={'product_id': 6085, 'product_name': 'series c right bow corner desk shell'}),\n",
       " Document(page_content='sporting a sleek and stylish look , the bush storage cabinet is a great solution to all your storage woes . crafted to perfection , this storage cabinet easily merges well with modern or contemporary home decor . engineered from premium-quality materials , this gorgeous storage cabinet by bush is sturdy and long-lasting . it retains its original sheen and looks for a long duration . the doors of this storage cabinet open up to reveal compartments that let you store a host of things like books , magazines , newspapers , extra towels , bath essentials , and more . you can also use this storage cabinet as a shoe rack . the pullout handles of this cabinet make using it simple and convenient . you can use the top of this storage cabinet to display some attractive decorative items , planters , flower vases , and other things . the strong base of this storage cabinet provides immense steadiness and firmness on the floor . it effortlessly blends with the settings of your bedroom , office , guest room , living room , or study .', metadata={'product_id': 6086, 'product_name': 'series c 1 - shelf storage cabinet'}),\n",
       " Document(page_content='the sturdy metal frame and high-quality wooden kitchen shelf can perfectly meet your daily organization needs . the five-layer shelf design increases the storage space , which can make the kitchen items neatly arranged . reasonably partition and store neatly . the best helper for the study .', metadata={'product_id': 6087, 'product_name': '5-tier kitchen standing storage shelf space saver'}),\n",
       " Document(page_content='the inflatable movie screen can enrich your life , bring you more entertainment , and help you relax and enjoy leisure time with friends and family . the inflatable movie screen is made of high-quality natural polyester fiber , which can be folded or washed without wrinkles or creases . its smooth surface enhances the image effect and brings you the best viewing experience . our external movie screen allows both front and rear projection to be very useful . includes a quiet fan that will not interfere with movies or games . you can enjoy good family time or friends gathering .', metadata={'product_id': 6088, 'product_name': 'outdoor inflatable movie screen with quiet fan and storage bag'}),\n",
       " Document(page_content='this flower stand uses a large plant stand with a connecting design that can hold 12 regular-sized flower pots . a single wooden board can place a tall potted plant , which can be moved according to your design plan . make your space layout more stylish , personalized , unique and fresh .', metadata={'product_id': 6089, 'product_name': 'flower stand plant display stand shelf indoors & outdoors'}),\n",
       " Document(page_content='this flower stand is made of high-quality environmentally friendly solid wood . the multi-layer plant stand is used to display your flowers and plants ; it can be used not only for plants , but also for placing books , shoes , toys , etc. , with excellent indoor and outdoor decoration , suitable for various scenes , living room , balcony , study , etc .', metadata={'product_id': 6090, 'product_name': '6-tier wooden flower stand with wheels flower plant display stand shelf multi-layer rotable windmill'}),\n",
       " Document(page_content='good choice for patio , porch , backyard , balcony , poolside , garden , indoor and other suitable space in your home .', metadata={'product_id': 6091, 'product_name': 'patio reclining chaise lounge with cushion'}),\n",
       " Document(page_content='premium polyester linen upholstered with premium polyester linen , the bed provides sturdy construction and the expensive appearance of the classic headboard . place the bed against your wall as a color accent or in the center of a well-furnished room . also comes in a variety of rich shades to fit any space .', metadata={'product_id': 6092, 'product_name': 'upholstered standard bed'}),\n",
       " Document(page_content='full-size bed frame with upgraded material and structure . sturdy design with headboard and footboard , great to use as a kids bed frame in the dorm , school kids student children room .', metadata={'product_id': 6093, 'product_name': 'metal full platform bed'}),\n",
       " Document(page_content='description this product is sprayed high-quality paint , with a durable and stable frame . the metal legs can provide it a strong support . featured with distressed design , it has a chic and retro industrial style .', metadata={'product_id': 6094, 'product_name': \"49.9 '' console table\"}),\n",
       " Document(page_content='outdoor patio furniture is typically clunky , outdated , and unattractive , so revamp your patio with our collection of stylish and affordable outdoor wicker sets ! our sets feature modern designs and are constructed of high-quality materials that are guaranteed to last . we manufacture a variety of wicker seats that are stylish , easy to clean and maintain , and versatile enough to accommodate different spaces . with options such as sectional sofas , conversational sets , and the chaise lounge sets , our sets are designed to match the style of your home and are appropriately sized so that they can be arranged in a variety of ways . bring new energy to your home and make your patio the place to be for barbecues and gatherings – with the collection of wicker furniture sets by the scenery .', metadata={'product_id': 6095, 'product_name': 'scenery 4 piece sofa seating group with cushions'}),\n",
       " Document(page_content='this 5-drawer cabinet is great for office , home , or studio . it can be used as a storage cabinet , chest , or as a makeup table . it is made of high-quality particleboard for long-term use .', metadata={'product_id': 6096, 'product_name': 'longley 5 drawer storage chest'}),\n",
       " Document(page_content='the cabinet is equipped with a half-width coat-rod along with 1 full-width opening and 4 half-width openings with 4 adjustable shelves , a locking with 2 keys , providing secure storage for office supplies and suspended materials .', metadata={'product_id': 6097, 'product_name': 'altheta storage cabinet'}),\n",
       " Document(page_content='the lovely recliner offers comfort , style and value for any home . a smooth fabric seat cushion provides relaxation from seat to toe with an easy to reach external handle for operating the reclining mechanism .', metadata={'product_id': 6098, 'product_name': \"akmaral 35 '' wide manual standard recliner\"}),\n",
       " Document(page_content='selling point : 1. adjustable reclining backrest 2. reclining loveseat 3. pu leather 4. nice style', metadata={'product_id': 6099, 'product_name': \"datchery 62.2 '' wide manual standard recliner\"}),\n",
       " Document(page_content='selling point : 1. adjustable reclining backrest 2. easy to assemble 3. nice style', metadata={'product_id': 6100, 'product_name': \"lenville 39 '' wide manual standard recliner\"}),\n",
       " Document(page_content=\"this recliners will easily become your favorite place to read , watch television , or relax after a long day 's work . our recliner chair is made of high-end metal , well functional , and comfortable . it is suitable for office , living room , ideal for stiff muscle relax , pain and anxiety even tiredness relief which of improving sleep , finally reaching the highest energy levels as well . - clean lines , smooth reclining , comfort seat - crafted from a solid eucalyptus frame , this chair features foam-filling in the seats and backs , as well as a manual recline mechanism , so you can easily put your feet up - adjustable angle : backrest reclines at 110 degrees and 145 degrees with comfort and thick cushions to accompany your work , leisure and rest time all day round .\", metadata={'product_id': 6101, 'product_name': \"anab 32.28 '' wide manual standard recliner\"}),\n",
       " Document(page_content=\"product overview description / features recliners will easily become your favorite place to read , watch television , or relax after a long day 's work . our recliner chair is made of high-end metal , well functional , and comfortable . it is suitable for office , living room , ideal for stiff muscle relax , pain and anxiety even tiredness relief which of improving sleep , finally reaching the highest energy levels as well . - clean lines , smooth reclining , comfort seat - crafted from a solid eucalyptus frame , this chair features foam-filling in the seats and backs , as well as a manual recline mechanism , so you can easily put your feet up - adjustable angle : backrest reclines at 110 degrees and 145 degrees with comfort and thick cushions to accompany your work , leisure and rest time all day round .\", metadata={'product_id': 6102, 'product_name': \"anabal 32.28 '' wide manual standard recliner\"}),\n",
       " Document(page_content='crafted with solid wood and reinforced steel part , this coffee table strikes a rectangular silhouette featuring a thick frame , smooth sliding barn door . the partitioned lower shelf is great for housing baskets of toys or fanning out issues of your favorite magazines . also , it is large enough to use as a tv stand .', metadata={'product_id': 6103, 'product_name': 'brasstown block coffee table with storage'}),\n",
       " Document(page_content=\"this computer desk has a wide desktop and provides enough office space . you can put a variety of books or stuff on it and would n't feel crowded at all .\", metadata={'product_id': 6104, 'product_name': 'fowlkes'}),\n",
       " Document(page_content='with its contemporary inspirations , this elegant collection features a sectional sofa , reversible ottoman , and wood-like tapered legs . with the buttonless stitching details , tufted accents make this one like a showpiece in your living room .', metadata={'product_id': 6105, 'product_name': \"borgus 81 '' wide reversible sofa & chaise with ottoman\"}),\n",
       " Document(page_content='this 3-piece pe wicker chair is your best choice . the classic and simple design makes it look great in any environment . this set of furniture is a very useful piece of furniture for you . it has two comfortable chairs on which you can sit and enjoy your leisure time . the space-saving design adds elegance to your garden .', metadata={'product_id': 6106, 'product_name': 'milda courtyard porch 3 piece rattan seating group with cushions'}),\n",
       " Document(page_content='modern style , leading the trend of fashion and comfort . new technology , metal tube with transfer wood color . it is steel tube legs , not wood legs .', metadata={'product_id': 6107, 'product_name': 'pappalardo tufted velvet side chair'}),\n",
       " Document(page_content='multi-function design : supports three angles recline for effortless day-to-night use , each sofa seat can be adjusted independently too . easy to converts from sitting to lounging and sleeping position . it makes for a comfortable sofa or easily converts into a bed for overnight guests .', metadata={'product_id': 6108, 'product_name': \"mccaffery 74 '' round arm sofa\"}),\n",
       " Document(page_content='this zero radius undermount kitchen sink is crafted with high-quality 16-gauge 304-grade stainless steel which is padded to reduce the noise of clamoring pots , pans , and silverware when in use . this sink is undercoated to prevent condensation .', metadata={'product_id': 6109, 'product_name': \"36 '' x 21 '' apron kitchen sink with sink grid and basket strainer\"}),\n",
       " Document(page_content='the halogen lamp and refine design is a perfect centerpiece for any modern kitchen , providing convenience and safety when cooking .', metadata={'product_id': 6110, 'product_name': \"30 '' 760 cfm convertible island range hood in stainless steel\"}),\n",
       " Document(page_content='save your back when moving or handling bulky home appliances and other large items yourself . the buffalo tools moving kit includes a 600 lbs heavy duty truck dolly and a 1000 lbs furniture dolly to help you move big items like sofas , recliners , refrigerators , washers , and dryers from the back of your truck into your home with ease . the dolly has a large and stable wood base with carpeted pads . swivel caster wheels make objects weighing up to 1000 lbs easy to move . the convenient “ p ” handle design makes the dolly easy to grip and maneuver . large pneumatic tires have a footprint , giving heavy loads lots of stability and support . this heavy duty hand truck has been built to last . the design features a replaceable wheel axle , and a one-inch diameter steel tube welded frame .', metadata={'product_id': 6111, 'product_name': '2 piece truck dolly set'}),\n",
       " Document(page_content='this tile is called glass conch tiles which are made of crystal glass chips with inner seashell conch . on the back of our product , it is mesh mounted so is easy for cutting . the resin chips are randomly added to the tile . and the inner stuff is also random . this kind of mosaic is a new design that makes the tile lively . the glass conch tile gives a strong feeling that it is a picture . combine with the sky , the sea , the sunshine , and the beach . what great artwork ! it is especially recommended for the bathtub , mirror wall , bathroom wall , countertops area decorative .', metadata={'product_id': 6112, 'product_name': \"conch 0.9 '' x 0.9 '' random mosaic wall & floor tile\"}),\n",
       " Document(page_content='the tile is our new design marine animal tile . we add some simple line-drawings of the sea animals , such as the seahorse , crab , whale . this sea theme tile is very beautiful for kitchen backsplash , bath , and shower walls .', metadata={'product_id': 6113, 'product_name': \"marine animals 0.9 '' x 0.9 '' random mosaic wall & floor tile\"}),\n",
       " Document(page_content=\"tst mosaic tiles made this tile `` a sunny day on the beach '' . the sky blue stands for the cleaning sky . the white chips look like sea waves . the hand-painted chips feel like coconut trees . we added some 3d look rectangle chips ( 8 chips per sheet ) in the tile . all the white chips have a frosted finish . for other colors , some of them have a glossy finish and some have a frosted finish . this glass mosaic tile is very beautiful for kitchen backsplash , bath , and shower walls .\", metadata={'product_id': 6114, 'product_name': \"water and sky 0.9 '' x 0.9 '' random mosaic wall & floor tile\"}),\n",
       " Document(page_content='this stone glass tile has the name “ peaceful beach holiday ” . it has an interlocking pattern . the lake green crystal glass chips look like the sea , the super white stone chips sand for the waves and the sandy acrylic chips stand for the beach . these harmonious colors weave a peaceful beach holiday dream . the acrylic chips have real small conchs shells and sand in them . bring nature to your home !', metadata={'product_id': 6115, 'product_name': \"beach 0.6 '' x 1 '' linear mosaic wall & floor tile\"}),\n",
       " Document(page_content='designed in spain , this set is meant to evoke the minimalist elegance of mediterranean style while offering the durability required for a diverse range of american climates . they galvanize and powder coat the steel frame to make the foundation of each piece rust-resistant . then , an anti-uv coated pe rattan is handwoven around to form a firm but comfortable lining . while still comprised of premium materials , this is an elegant yet economical option for the individual interested in enjoying their outdoor space for years to come .', metadata={'product_id': 6116, 'product_name': 'sheila 3 piece rattan seating group'}),\n",
       " Document(page_content='great durable quality contains a clip-on dustpan with rubberized edge sweeps everything in its way ! excellent kitchen broom contains a special slot for cleaning comb storage .', metadata={'product_id': 6117, 'product_name': 'angle broom and clip on dustpan'}),\n",
       " Document(page_content='this product offers a unique design and is well constructed to handle heavy loads . its large size holds plenty of laundries . contains a smooth finished trim and interior , preventing delicate items from snagging . curved for convenient handling .', metadata={'product_id': 6118, 'product_name': 'bushel laundry basket'}),\n",
       " Document(page_content='this laundry hamper offers a unique basket-weave design and a rectangular shape to fit narrow spaces . the removable hinged cover stays open for easy loading and emptying and has a smooth finished trim and interior preventing from snagging delicate items .', metadata={'product_id': 6119, 'product_name': 'palm luxe laundry hamper'}),\n",
       " Document(page_content='their 1.15 bushel laundry basket is constructed from a high-quality durable plastic , which will give your room an impressive look .', metadata={'product_id': 6120, 'product_name': '1.15 bushel laundry basket'}),\n",
       " Document(page_content='the aerial silver chandelier exhibits an innovative use of materials . the wrought iron frame is woven into a series of angular cubes in a glittering silver granello finish , which introduces the luster of warmth to the six-light chandelier .', metadata={'product_id': 6121, 'product_name': '6-light unique / statement geometric chandelier'}),\n",
       " Document(page_content='a traditional terracotta lamp in a gray and white finish is fitted with pyrite bronze accents . the tall lamp is accented with natural linen shade .', metadata={'product_id': 6122, 'product_name': \"urbino 35 '' standard lamp\"}),\n",
       " Document(page_content='the gentle downward slope of the snowdrift table lamp cuts a gracious silhouette . the body and the finial are clad in slices of bone that create a textural interplay of creamy tones . the ivory lamp is topped with an off-white shantung shade .', metadata={'product_id': 6123, 'product_name': \"snowdrift 30 '' standard lamp\"}),\n",
       " Document(page_content='flat discs of terracotta encircle a wrought iron spine on our innkeeper table lamp . the rustic feel of this natural material means it has subtle variations in color and texture . the gray lamp is topped with a vanilla linen shade held in place by a terracotta finial .', metadata={'product_id': 6124, 'product_name': \"innkeeper 30 '' standard lamp\"}),\n",
       " Document(page_content='the sailaway table lamp has a white crackle glaze on its body , which has been distressed so that the natural terracotta shows through to create an aged effect . metal accents in an emery rust finish also add patina . the white lamp with rope cinching its top is fitted with a sand linen shade .', metadata={'product_id': 6125, 'product_name': \"sailaway 34 '' standard lamp\"}),\n",
       " Document(page_content='the faux bois stem of our beaujon table lamp was fashioned to resemble a slender sapling . made of concrete in a portland finish and wrought iron in an aged-steel finish , the gray concrete lamp is topped with an off-white linen shade . the beaujon is also offered as a bench and a floor lamp .', metadata={'product_id': 6126, 'product_name': \"beaujon 30 '' standard lamp\"}),\n",
       " Document(page_content='this table lamp with its polished concrete finish has a textured base sitting atop an aged-steel plinth . details that make this concrete lamp classic are the clean lines of the tall body , and the trim on the top and bottom of the bone linen shade .', metadata={'product_id': 6127, 'product_name': \"epigram 33 '' standard lamp\"}),\n",
       " Document(page_content=\"the la peregrina table lamp features the capiz shell in its natural form , balanced by the lamp 's tall , modern shape . a light tan linen shade and metal accents finish this effervescent piece .\", metadata={'product_id': 6128, 'product_name': \"la peregrina 28.5 '' standard lamp\"}),\n",
       " Document(page_content='with a modern twist on the jug shape with a slender neck , this lamp is a true bohemian piece . the champagne speckled glass and acrylic base exist harmoniously under an eggshell shantung shade .', metadata={'product_id': 6129, 'product_name': \"habib 30.25 '' standard lamp\"}),\n",
       " Document(page_content='created in the color field tradition of the 1940s , the chandelier is a large-scale piece for a bold interior . nine wide rings of wrought iron in alternating hues of blue finished in gold leaf create this japanese-inspired design .', metadata={'product_id': 6130, 'product_name': '6 - light unique / statement geometric chandelier'}),\n",
       " Document(page_content='a fluted oval form , the sionna table lamp features a glaze with a delicate crackle . the piece sits atop a clear acrylic base .', metadata={'product_id': 6131, 'product_name': \"sionna 31.75 '' standard lamp\"}),\n",
       " Document(page_content=\"substantial and authoritative , the ultimo 31 '' table lamp is a bold style that will enhance both traditional and transitional spaces . a fierce finish highlights the voluptuous curves of the body , which is softened nicely by details and a toasty beige poplin shade .\", metadata={'product_id': 6132, 'product_name': \"ultimo 31 '' standard lamp\"}),\n",
       " Document(page_content='the faceted body of their andalucia table lamp matches the pantone color rose smoke , which brings glamour to this pink lamp . metal hardware in a brass finish contrasts the clear acrylic base and the off-white shantung shade .', metadata={'product_id': 6133, 'product_name': \"28.5 '' table lamp\"}),\n",
       " Document(page_content='2 tone piece . the culvert table lamp features and sand matte glazes . the neutral bottom features an interesting raised texture .', metadata={'product_id': 6134, 'product_name': \"culvert 32.75 '' standard lamp\"}),\n",
       " Document(page_content='the rosenberg table lamp stands out because of its scarab blue glaze and generously scaled size .', metadata={'product_id': 6135, 'product_name': \"cyanic 31.5 '' standard lamp\"}),\n",
       " Document(page_content=\"the ceramic form of the linsay 28.25 '' table lamp is textured by a hexagonal link pattern . the classic glaze contrasts with the hardware .\", metadata={'product_id': 6136, 'product_name': \"linsay 28.25 '' standard lamp\"}),\n",
       " Document(page_content='soothing tones of aqua and crystalline turquoise intermingle to form layer upon layer of the handset in the body of this serene lighting accent . balanced by a clean off-white linen shade , the sea-glass lamp has satin black wrought iron hardware .', metadata={'product_id': 6137, 'product_name': \"quayside 32 '' standard lamp\"}),\n",
       " Document(page_content='the tray set includes two trays made of resin to look like coral . these ivory trays are born when hand-carved molds are made and resin is poured into them . each is so strikingly real , they are the perfect substitute for real coral , which can not be sold for ethical reasons .', metadata={'product_id': 6138, 'product_name': 'island 2 piece coffee table set'}),\n",
       " Document(page_content='the cerused white finish on the cabinet , made of white oak , highlights the patterns of natural wood that form embedded squares in a geometric illusion of depth . the centuries-old finishing technique is designed to draw out the detail and character of the wood grain on this white cabinet . we offer the morombe in a number of designs in cocoa and in white finishes .', metadata={'product_id': 6139, 'product_name': 'morombe 4 door accent cabinet'}),\n",
       " Document(page_content='their sculpture is made from a lost-wax technique when boiling bronze is poured into a mold covering an original wax sculpture that melts away . once set , there is a very long process of refining the bronze to give it patina . this is among our bronze art pieces created by an unknown artist . we love her femininity .', metadata={'product_id': 6140, 'product_name': 'odalisque'}),\n",
       " Document(page_content='their lady meditating bronze sculpture is made from a lost-wax technique when boiling bronze is poured into a mold covering an original wax sculpture that melts away . once set , there is a very long process of refining the bronze to give it patina . this is among our bronze art pieces originally created by an unknown artist .', metadata={'product_id': 6141, 'product_name': 'lady meditating bronze'}),\n",
       " Document(page_content='this molded case with woodgrain front . large , easy-to-read black floating dial illuminates on demand . the visual window on front confirms the alarm is set , ascending-volume alarm , then steady beep and six-minute snooze function . rear set knobs are extended for easy setting . silent sweep ( no ticking ) quartz movement . require 2 ( aa ) batteries , not included .', metadata={'product_id': 6142, 'product_name': 'manor clock'}),\n",
       " Document(page_content='the malibu its waterproof functionality makes this ideal for inside a shower or on a bathroom mirror ; a large suction cup holds tight to any surface also making this clock ready to go for use on boats or in any high moisture environment . lcd digital display shows time , day , date , month , and temperature ; its on-demand blue backlight responds with a light push . requires lr44 batteries , included .', metadata={'product_id': 6143, 'product_name': \"the mailbu 2.5 '' wall clock\"}),\n",
       " Document(page_content='the travel time an ingenious lcd quartz traveler , with on-demand backlight , tells time in 12- or 24-hour mode , and measures room temperature in fahrenheit or celsius . has a day/date/month calendar feature and a six-minute snooze function , seven different alarm sounds to choose from too . protective travel cover flips to create a stable base on the bedside table . requires aaa batteries , not included .', metadata={'product_id': 6144, 'product_name': 'modern digital quartz alarm tabletop clock in black'}),\n",
       " Document(page_content=\"the accuracy of accurate time anywhere worldwide ! the clean finish on a molded slim-line case with bold arabic numerals on the dial . inner track details the exact second-at-a time movement of the second 's hand . protective glass lens . requires aa batteries , not included .\", metadata={'product_id': 6145, 'product_name': \"the accuracy 12 '' wall clock\"}),\n",
       " Document(page_content='waterproof high-impact case with rattan-look finish and bold numerals also feature a thermometer with fahrenheit and celsius scales . stays water/ weather-resistant in any location , its double-gasket seal makes it ideal for outdoor use . protective glass lens . requires ( 1 ) aa , not included .', metadata={'product_id': 6146, 'product_name': \"the patio time 10 '' wall clock\"}),\n",
       " Document(page_content='feature : 100 % brand new and high quality . quantity : 1pc . material : wood . colour : black . size:130×35×45cm/51.2×13.8×17.7in . applicable scene : living room , etc . weight:26000g/57.26pound . specifications : modern minimalist led light tv cabinet , high-end luxury , make life more layered . it uses high-density and environmentally friendly e1 standard solid wood particle board , high-quality hardware , fine workmanship and durability . this tv cabinet is powerful , easy to store , and led lights make life more colorful . standard size plug , use with confidence . believe me , it is definitely the treasure you need . instructions : because the size of the product is measured manually , there may be errors.due to the complicated installation , it is recommended that you install according to the installation instructions.each board and mounting parts have labels , please find the corresponding label to install package includes : 1pc×tv cabinet 1pc×installation tool 1pc×instruction manual', metadata={'product_id': 6147, 'product_name': \"abreanna modern minimalist tv stand for tvs up to 48 ''\"}),\n",
       " Document(page_content=\"cushion design : comfortable and soft cushion , leather material , can sit down at the same time , can also put bags , books , etc . drawers : can store wallets , keys , shoes , sundries , etc . can also fill the socks , do n't worry about not finding the socks . multi-function storage : fits well in hallway , entryway , foyer , bedroom , etc . premium material : this shoe rack is made of high-quality mdf ( medium density fiberboard ) and the seat cushion is made of leather .\", metadata={'product_id': 6148, 'product_name': '2-tier shoes bench entryway storage shoe rack storage stool cabinet with drawers'}),\n",
       " Document(page_content='the screen full blowup inflation with low noise in around 2~5 minutes . convenient from front and rear projection : the screen be a project by film playing devices or streaming directly . it can be conveniently projected from the front and rear . durable : with triple grade , 600dd thickness fabric material that is durable , strong with reinforced loops on each corner plus ropes , pegs , and a sturdy frame at the back to hold upright . easy to maintain : this huge inflatable cinema screen is very easy to clean and maintain . the black frame can be wiped clean with a damp cloth , while the white screen is held in place by velcr-o and completely detachable . screen cloth can be washed and dried with a build-in blower：it can be inflated and deflated in 3-5 minutes , which is fast portable inflatable movie screen is suitable for outdoor party and any other outdoor cinema project theatre backyard when using , should avoid sharp objects around , such as tree branches , communication cable hooks and gravel on the groundlift it up before moving to avoid wear and tear , convenient and practical item .', metadata={'product_id': 6149, 'product_name': 'pro 20ft inflatable projector screen movie theate-r screen set outdoor w/ blower'}),\n",
       " Document(page_content='four piece bathroom set will dress up your standard toilet , set includes toilet seat cover , cover , tissue box cover and waste basket , decorate your bathroom with this cream colored lace toilet waste basket , toilet cover , toilet seat cover and tissue box cover , fit standard sizes , 100 % polyester , machine washable .', metadata={'product_id': 6150, 'product_name': 'abrielle lace 4-piece bathroom set 4 piece bath set'}),\n",
       " Document(page_content=\"we 've developed this platform bed with guests and property owners in mind . the functional and stylish design will improve your room decor and guest satisfaction . this bed promise of quality and innovation lives in every product we make . this commercial-grade , heavy-duty platform bed base can support 3,000 pounds . it is designed to withstand heavy use and continue to perform . this innovative platform bed requires no box spring or foundation – while offering superior support .\", metadata={'product_id': 6151, 'product_name': \"16 '' steel bed frame\"}),\n",
       " Document(page_content='a sleek , contemporary design , this rounded rectangular mirror is ideal over a bathroom vanity but can also serve as an accent piece in an entryway , bedroom , or living room . the frame is constructed of steel , so it ’ s more durable than aluminum and resists flaking , cracking , and water damage . premium-quality 1/4-inch glass eliminates distortion for the finest reflection , and the silver backing provides durability in high-humidity environments . z-bars allows for easy , secure installation in either a vertical or horizontal orientation . installation guide , drywall anchors , and screws are included for wall mounting . thoughtfully designed packaging ensures safe delivery .', metadata={'product_id': 6152, 'product_name': 'weeksville modern and contemporary bathroom / vanity mirror'}),\n",
       " Document(page_content='this rubber framed round wall mirror from ebern designs is a stylish and practical design that shines in modern , retro , farmhouse , and midcentury interiors . the frame material is not only attractive , but also acts as a protective bumper in high-traffic areas , making it ideal for over a bathroom vanity or as an accent piece in an entryway , bedroom , or living room . constructed of premium-quality 1/4-inch glass , the mirror ’ s reflection is crisp and distortion-free . authentic silver backing on the glass prevents corrosion in high-humidity environments . the ultra-flush mounting system allows for quick and secure installation in both vertical and horizontal orientations and comes prepackaged with drywall anchors and screws . thoughtfully designed packaging ensures safe delivery from our michigan workshop to your home . this usa-designed and -assembled mirror .', metadata={'product_id': 6153, 'product_name': 'ananth bathroom / vanity mirror'}),\n",
       " Document(page_content=\"rest and relax with the jahanzaib collections . whether you 're relaxing alone or hanging out with friends and family , you can count on the comfortable sofa .\", metadata={'product_id': 6154, 'product_name': \"jahanzaib 46 '' wide armchair\"}),\n",
       " Document(page_content='bringing your living room look into the 21st century just got easier thanks to this lovely piece sectional sofa . it helps you create a sophisticated , modern and glamorous look to your house .', metadata={'product_id': 6155, 'product_name': \"calio 112 '' wide sofa & chaise with ottoman\"}),\n",
       " Document(page_content='storage bins have been used for home storage for many years , helping you organize anything from sports equipment , to cleaning supplies , seasonal items , kids toys and much more . bin warehouse racks are built for you to easily and safely store all of your bins , for years of use ! perfect for use in home , garage , basement , closet , and office organization ! * bins and totes sold separately', metadata={'product_id': 6156, 'product_name': \"69 '' h x 68 '' w x 27.5 '' d 4 shelf shelving unit\"}),\n",
       " Document(page_content=\"bedvoyage 's luxury 2 piece crib bedding set will feel incredibly smooth and comfortable against your baby 's delicate skin and rayon from bamboo absorbs moisture 3 times faster than cotton , so the linens will stay dry and fresher , helping them to sleep more soundly .\", metadata={'product_id': 6157, 'product_name': '2 piece crib bedding set'}),\n",
       " Document(page_content='artificial orchid floral arrangement in votive', metadata={'product_id': 6158, 'product_name': 'artificial orchid floral arrangement in votive'}),\n",
       " Document(page_content='the outdoor terrace suites are carefully designed , the surface is made of high-quality rattan and reinforced with an anti-rust steel frame , allowing you to enjoy the beautiful outdoor life . the sofa is equipped with a cushion made of elastic sponge material and a soft backrest . the coffee table can put fruit plates , coffee drinks , and desserts . you can enjoy several hours of leisure time continuously . can be placed in the scene : party on the deck , in the relaxation area next to the swimming pool , enjoy afternoon tea in the garden or in the winter comfortably place the sofa . our rattan furniture sets are the best choice for your terrace , porch , poolside , and garden .', metadata={'product_id': 6159, 'product_name': 'guadlupe 3 piece sofa seating group with cushions'}),\n",
       " Document(page_content='this tabletop fountain with led lights & a submersible electric pump is 11.81inches high . the soothing sounds of water make this fountain perfect for massage , yoga studios , meditation , sleepiness , relaxation . make sure your fountain always has enough water at the bottom . these fountains should be cleaned once every few days . regularly check the water level , particularly in hot weather , and always ensure that the level is well above the water pump . the water level is too low can cause pump noise . the unique decoration adds to the style of the home and makes people shine , suitable for living room or office decoration . the actual item ’ s color may vary slightly from on-screen images , as computer monitor settings and lighting variance can affect how items appear on the screen . please note that the fountains are crafts and measurements may vary slightly .', metadata={'product_id': 6160, 'product_name': 'laureano natural stone tabletop fountain with light'}),\n",
       " Document(page_content='take your design to a new level with the book colorpak from booth & williams . all books are published 1980-present and include a variety of literary works , period novels and topical texts with light overall wear . light age-appropriate wear .', metadata={'product_id': 6161, 'product_name': 'modern marble colorpak'}),\n",
       " Document(page_content=\"distinguish any space with our vintage new england : libraries by the foot . one linear foot of authentic curated titles on new england published 1890-1969. a blend of academic , poetical and historical titles in a variety of colors and textures . each foot contains 10-12 books with an average height of 7.5 -10 ' . order as many linear feet as you need to complete your project . titles will differ from those pictured .\", metadata={'product_id': 6162, 'product_name': 'vintage new england : libraries by the foot'}),\n",
       " Document(page_content='the annual report of the smithsonian institution authentic decorative book was published in 1898. it includes 727 pages .', metadata={'product_id': 6163, 'product_name': 'annual report of the smithsonian institution authentic decorative book'}),\n",
       " Document(page_content='features a blend of four authentic hardback books published 1990-present all displayed in a handsome pyramidal stack . a treasure for any room , the set includes art-themed content in rich shades of dark and . enhance a coffee-table , side-table , or bookshelf with these decorative new books . multiple quantities are available . titles may differ slightly from those pictured but the color pattern will remain the same .', metadata={'product_id': 6164, 'product_name': 'modern driftwood colorstak'}),\n",
       " Document(page_content='williamsburg in virginia : a brief and true report by rutherford goodwin . richmond , virginia : august dietz and son , 1941. fourth edition . 143 pages . map included .', metadata={'product_id': 6165, 'product_name': '1941 williamsburg in virginia : a brief and true report decorative book'}),\n",
       " Document(page_content='features a blend of three authentic vintage and mid century books published between 1938-1940. includes a delightful collection of three years of annual reports showing the operations , expenditures and condition of the smithsonian institute . all volumes feature unifying gilt accents on the spines and front covers . decorative books with light overall age appropriate wear suitable for reading and book decor .', metadata={'product_id': 6166, 'product_name': '3 piece smithsonian institution annual report decorative book set'}),\n",
       " Document(page_content='heilke fashion casual office beauty salon conference chair', metadata={'product_id': 6167, 'product_name': 'heilke fashion casual office beauty salon conference chair'}),\n",
       " Document(page_content='heilly fashion casual office beauty salon task chair', metadata={'product_id': 6168, 'product_name': 'heilly fashion casual office beauty salon task chair'}),\n",
       " Document(page_content='these wall-mounted tables are mainly made of high-quality board , which is environmentally friendly , durable and can withstand a lot of loads . great design wall mounted desk with storage shelves provides working space and extra plenty of storage space . the hidden cable and wire management keep your desk organized . spacious side compartments to store books , photographs and other personal items . you can refer to the detailed assembly instructions to complete the assembly work within half an hour .', metadata={'product_id': 6169, 'product_name': 'fadel floating desk with hutch'}),\n",
       " Document(page_content='100 % brand new and high quality . applicable scene : office , home life , beauty salons , etc . it is a new product with absolutely no damage . it is an amazing design , the mainframe is made of stainless steel , which has a long service life , high gloss , is not easy to corrode and good safety . adjust the height of the chair freely with the adjuster , suitable for different crowds and places . rotary pulley , 360-degree free rotation pulley , free movement , good stability . aluminum alloy prong base , aluminum alloy strength five-claw design , safe and secure , wear-resistant and durable . explosion-proof chassis , safety explosion-proof chassis design , rigorous testing . instructions : because the size of the product is measured manually , there may be errors .', metadata={'product_id': 6170, 'product_name': 'fashion casual lift chair office work chair beauty salon chair black'}),\n",
       " Document(page_content='this tv stand is crafted of premium manufactured wood with a high-grade rustic veneer finish , featuring barn doors sliding on a metal track , and setting on the curve-trimmed base showing stableness .', metadata={'product_id': 6171, 'product_name': \"heger tv stand for tvs up to 65 ''\"}),\n",
       " Document(page_content='this end table is crafted of premium manufactured wood with high-grade veneer finish , featuring open x-frame sides with farmhouse accent . open clean-lined shelves are perfect for stacking and displaying décor items .', metadata={'product_id': 6172, 'product_name': 'hansboro end table with storage'}),\n",
       " Document(page_content='millbank desk', metadata={'product_id': 6173, 'product_name': 'millbank desk'}),\n",
       " Document(page_content='this collection seemingly formalist arrangement of drawers and doors interplays to form a vanity of understated grace . custom-designed handles open industry-leading blum blumotion soft-closing drawer glides . your choice of countertop material crowns six generous drawers and a rectangular centered sink that skillfully references the exquisite millwork on the central doors .', metadata={'product_id': 6174, 'product_name': \"chesham 48 '' single bathroom vanity\"}),\n",
       " Document(page_content='modern , sleek design !', metadata={'product_id': 6175, 'product_name': 'adjustable feeder - med - graphite'}),\n",
       " Document(page_content='modern , sleek design !', metadata={'product_id': 6176, 'product_name': 'adjustable feeder - lrg - graphite'}),\n",
       " Document(page_content='modern , sleek design !', metadata={'product_id': 6177, 'product_name': 'adjustable feeder - med - bright white'}),\n",
       " Document(page_content='modern , sleek design !', metadata={'product_id': 6178, 'product_name': 'adjustable feeder - lrg - bright white'}),\n",
       " Document(page_content='a high-quality durable flatweave collection , made with the best polypropylene yarns in natural timeless colors . this collection includes contemporary designs & trendy themes for in- & even outdoor use . they suit all weather conditions , are uv stabilized & are very easy to clean , just hose off and let dry !', metadata={'product_id': 6179, 'product_name': 'mcclaran oriental flatweave teal indoor/outdoor area rug'}),\n",
       " Document(page_content=\"add a splash of coastal design to your floors with this indoor/outdoor area rug . it has a light teal hue with a minimal striation pattern that 's decorated with a gray coral pattern for a breezy look . machine-made in belgium from durable polypropylene , this rug is stain-resistant and can withstand sandy feet and sunny days . the low 0.2 '' pile height makes it easy to clean – simply hose it down or vacuum – and perfect in heavy traffic areas in your home . for added cushioning and to prevent this rug from slipping , we recommend adding a rug pad underneath .\", metadata={'product_id': 6180, 'product_name': 'pompano floral teal indoor / outdoor area rug'}),\n",
       " Document(page_content='a high-quality durable flatweave collection , made with the best polypropylene yarns in natural timeless colors . this collection includes contemporary designs & trendy themes for in- & even outdoor use . they suit all weather conditions , are uv stabilized & are very easy to clean , just hose off and let dry !', metadata={'product_id': 6181, 'product_name': 'mccreary geometric teal indoor / outdoor area rug'}),\n",
       " Document(page_content='a high-quality durable flatweave collection , made with the best yarns in natural timeless colors . this collection includes contemporary designs & trendy themes for in- & even outdoor use . they suit all weather conditions , are uv stabilized & are very easy to clean , just hose off and let dry !', metadata={'product_id': 6182, 'product_name': 'pranav southwestern teal indoor / outdoor area rug'}),\n",
       " Document(page_content='a high-quality durable flatweave collection , made with the best polypropylene yarns in natural timeless colors . this collection includes contemporary designs & trendy themes for in- & even outdoor use . they suit all weather conditions , are uv stabilized & are very easy to clean , just hose off and let dry !', metadata={'product_id': 6183, 'product_name': 'olvera oriental teal indoor/outdoor area rug'}),\n",
       " Document(page_content='a high-quality durable flatweave collection , made with the best polypropylene yarns in natural timeless colors . this collection includes contemporary designs & trendy themes for in- & even outdoor use . they suit all weather conditions , are uv stabilized .', metadata={'product_id': 6184, 'product_name': 'arlean geometric teal indoor / outdoor area rug'}),\n",
       " Document(page_content='a high-quality durable flatweave collection , made with the best yarns in natural timeless colors . this collection includes contemporary designs & trendy themes for in- & even outdoor use . they suit all weather conditions , are uv stabilized & are very easy to clean , just hose off and let dry !', metadata={'product_id': 6185, 'product_name': 'mcphail flatweave oatmeal/teal/blue indoor/outdoor area rug'}),\n",
       " Document(page_content='a high-quality durable flatweave collection , made with the best yarns in natural timeless colors . this collection includes contemporary designs & trendy themes for in- & even outdoor use . they suit all weather conditions , are uv stabilized & are very easy to clean , just hose off and let dry !', metadata={'product_id': 6186, 'product_name': 'pranav geometric flatweave teal indoor/outdoor area rug'}),\n",
       " Document(page_content='this unique area rug is exquisite in appearance , color , and texture , made with a proprietary construction process that blends a distinct pattern . the braided-woven look is dense and extremely durable to withstand the harsh outdoor elements year-round . the fiber is easy to clean , soil , stain , and sun resistant making them the perfect choice for easy living and easy maintenance .', metadata={'product_id': 6187, 'product_name': 'pranav southwestern teal indoor/outdoor area rug'}),\n",
       " Document(page_content='this unique area rug is exquisite in appearance , color , and texture , made with a proprietary construction process that blends a distinct pattern . the braided-woven look is dense and extremely durable to withstand the harsh outdoor elements year-round . this fiber is easy to clean , soil , stain and sun resistant making them the perfect choice for easy living and easy maintenance .', metadata={'product_id': 6188, 'product_name': 'mignon geometric teal indoor/outdoor area rug'}),\n",
       " Document(page_content='more than just vintage , this unique area rug has an authentic natural worn look due to the innovative structural weave .', metadata={'product_id': 6189, 'product_name': 'oriental teal indoor / outdoor area rug'}),\n",
       " Document(page_content='more than just vintage , this unique area rug has an authentic natural worn look due to the innovative structural weave .', metadata={'product_id': 6190, 'product_name': 'oriental teal indoor/outdoor area rug'}),\n",
       " Document(page_content='this area rug made of one single , man-made material , durable flatweave rugs , for indoor and outdoor use .', metadata={'product_id': 6191, 'product_name': 'matheny floral teal indoor/outdoor area rug'}),\n",
       " Document(page_content='more than just vintage , this unique area rug has an authentic natural worn look due to the innovative structural weave .', metadata={'product_id': 6192, 'product_name': 'preston oriental teal indoor/outdoor area rug'}),\n",
       " Document(page_content=\"more than just vintage . this area rug has an authentic natural worn look due to the home 's innovative structural weave .\", metadata={'product_id': 6193, 'product_name': 'doyle oriental teal indoor/outdoor area rug'}),\n",
       " Document(page_content=\"more than just vintage . this area rug has an authentic natural worn look due to the home 's innovative structural weave .\", metadata={'product_id': 6194, 'product_name': 'havily oriental teal indoor/outdoor area rug'}),\n",
       " Document(page_content=\"more than just vintage . this area rug has an authentic natural worn look due to the home 's innovative structural weave .\", metadata={'product_id': 6195, 'product_name': 'zellers teal indoor/outdoor area rug'}),\n",
       " Document(page_content=\"more than just vintage . this area rug has an authentic natural worn look due to the home 's innovative structural weave .\", metadata={'product_id': 6196, 'product_name': 'gebhard southwestern teal indoor/outdoor area rug'}),\n",
       " Document(page_content='give room to grow and grow in your room with this rug collection , designed with kids in mind . using modern design elements to stimulate young minds , these perfect pieces are sure to spark imagination and joy . these cute round rugs are designed especially for our little ones and will surely be a popular playground in every kid ’ s room . the combination of soft high pile yarn and smart flat woven designs create a unique high-low structured rug , for endless playing fun . perfect for the wild and the mild , this cute owl design is a great choice for any little animal lover .', metadata={'product_id': 6197, 'product_name': 'round olmead owl shag tan area rug'}),\n",
       " Document(page_content='a multi-inspiration , medium pile rug collection with a transitional twist in warm , rich colors , which will most definitely add a touch of stylish coziness to every room . made with a super soft non-shedding pile for easy maintenance .', metadata={'product_id': 6198, 'product_name': 'nickelsville striped black/beige area rug'}),\n",
       " Document(page_content='an ethnic-inspired , low pile rug with a contemporary twist in warm , rich colors , which will most definitely add a touch of ethnic coziness to every room . made with a super soft 100 % polypropylene non-shedding pile for easy maintenance .', metadata={'product_id': 6199, 'product_name': 'indus power loom red/navy/yellow rug'}),\n",
       " Document(page_content=\"this indoor/outdoor area rug rolls out a southwestern-inspired look on your patio or on your hardwood floors . it features a bold geometric design in hues of ivory , teal , and navy that stands out in any space . it 's machine-made in belgium from polypropylene , which means that it can stand up to tough spills and fading , and it can easily be placed in spots with floors heating . plus , its low pile height is easy to clean and great for rooms with high foot traffic . to keep this area rug in place , we recommend pairing it with a rug pad .\", metadata={'product_id': 6200, 'product_name': 'tuscany teal/ivory/navy indoor / outdoor rug'}),\n",
       " Document(page_content='give room to grow and grow in your room with the mod-tod rug collection , designed with kids in mind . using modern design elements to stimulate young minds , these perfect pieces are sure to spark imagination and joy . this unique , colourful high pile collection has a soft touch , is easy to maintain , and features a wide range of modern and contemporary designs & patterns . do you want to decorate a room for your cunning little animal lover ? look no further than this cute and friendly fox rug .', metadata={'product_id': 6201, 'product_name': 'power loom red/beige/gray area rug'}),\n",
       " Document(page_content='change the way you view television ! remove the simple and outdated plastic stands that come with your tv and elevate your viewing experience to new heights with the amsa6401 tabletop tv stand mount with swivel from apex by promounts ! built with quality in mind , it supports most 37 in . to 70 in . displays weighing up to 88 lbs . and have vesa patterns ranging from 200 x 200 up to 600 x 400. integrated cable management allows for easy cable threading and keeps cords out of the way and out of view . this function also ensures that your cables will remain in pristine condition , which will keep the picture quality sharp and provide a pleasurable viewing experience . a secure locking system and simple release offer a way to easily install , adjust , or remove your display from the stand without hassle and an extra wide base help to prevent tipping . a high-quality , black matte finish gives a modern yet minimalistic look that wonâ€™t detract from your set up , making your tv the focal point of the area , all while hiding the hardware . the amsa6401 is best utilized in spaces that have multiple viewing areas where a swivel range is needed , allowing for versatility when it comes to movement . the swivel capabilities give a â±35â° rotation option , affording the ideal view .', metadata={'product_id': 6202, 'product_name': 'black fixed desktop mount holds up to 88 lbs'}),\n",
       " Document(page_content='change the way you view television ! remove the simple and outdated plastic stands that come with your tv and elevate your viewing experience to new heights with the amsf6401 large flat tabletop tv stand mount brackets from apex by promounts ! built with quality in mind , the the brackets are a stylish way to mount your tv . they support most 13 in . to 70 in . displays weighing up to 110 lbs . and have vesa patterns ranging from 75 x 75 up to 600 x 400. a secure locking system and simple release offer a way to easily install , adjust , or remove your display from the stand without hassle and its extra wide base supports help to prevent tipping . a high-quality black matte finish gives a modern yet minimalistic look that wonâ€™t detract from your setup , making your tv the focal point of the area , while hiding the hardware . the amsf6401 is best utilized in spaces with a fixed or designated viewing area . when secured , the amsf6401 will keep your tv safe in place .', metadata={'product_id': 6203, 'product_name': 'black fixed desktop mount holds up to 110 lbs'}),\n",
       " Document(page_content='cypress point coffee table with storage', metadata={'product_id': 6204, 'product_name': 'cypress point coffee table with storage'}),\n",
       " Document(page_content=\"benton 86 '' rolled arm sofa with reversible cushions\", metadata={'product_id': 6205, 'product_name': \"benton 86 '' rolled arm sofa with reversible cushions\"}),\n",
       " Document(page_content='abaca island coffee table', metadata={'product_id': 6206, 'product_name': 'abaca island coffee table'}),\n",
       " Document(page_content=\"fairwind 78 '' wide 2 drawer sideboard\", metadata={'product_id': 6207, 'product_name': \"fairwind 78 '' wide 2 drawer sideboard\"}),\n",
       " Document(page_content='summer retreat chippendale panel headboard', metadata={'product_id': 6208, 'product_name': 'summer retreat chippendale panel headboard'}),\n",
       " Document(page_content=\"moss landing 81 '' flared arm sofa\", metadata={'product_id': 6209, 'product_name': \"moss landing 81 '' flared arm sofa\"}),\n",
       " Document(page_content='summer retreat desk', metadata={'product_id': 6210, 'product_name': 'summer retreat desk'}),\n",
       " Document(page_content='this bar stool is transitional in style featuring clean lines and x-designs . this group is extremely versatile .', metadata={'product_id': 6211, 'product_name': 'hues bar & counter stool'}),\n",
       " Document(page_content='this mirror is transitional in style featuring clean lines and x-designs . this group is extremely versatile .', metadata={'product_id': 6212, 'product_name': 'hues farmhouse / country accent mirror'}),\n",
       " Document(page_content='pine isle side chair', metadata={'product_id': 6213, 'product_name': 'pine isle side chair'}),\n",
       " Document(page_content='columbia tropical beveled dresser mirror', metadata={'product_id': 6214, 'product_name': 'columbia tropical beveled dresser mirror'}),\n",
       " Document(page_content='this dining collection is constructed of wicker/rattan and available in a multitude of sizes and configurations . select the fabric and finish of your choice to make it perfect for your home .', metadata={'product_id': 6215, 'product_name': 'bay walk queen anne back side chair'}),\n",
       " Document(page_content='this dining collection is constructed of wicker/rattan and is available in a multitude of sizes and configurations . select the fabric and finish of your choice to make it perfect for your home .', metadata={'product_id': 6216, 'product_name': 'bay walk dining table'}),\n",
       " Document(page_content=\"braxton culler 's kubu living room tables will give your room a natural and vibe . their unique look will be a conversation starter every time .\", metadata={'product_id': 6217, 'product_name': 'kubu abstract coffee table with storage'}),\n",
       " Document(page_content='the transitional sofa group is constructed of rattan and utilizes wire terminator seat construction . clean lines and low profiles make this group perfect for your casual living room or sunroom . select from many fabric and finish options to style it to your taste !', metadata={'product_id': 6218, 'product_name': \"lafayette 51 '' recessed arm loveseat with reversible cushions\"}),\n",
       " Document(page_content=\"braxton culler 's rattan pine isle collection is clean lined and trendy . casual and fun , use all of the pine isle items together or mix and match with fully upholstered pieces to create a unique look . mnay finishes available !\", metadata={'product_id': 6219, 'product_name': 'pine isle solid wood desk'}),\n",
       " Document(page_content='while being simple in design , this bed makes a huge visual impact . a subtle yet bold statement will be made when you pair this wonderfully designed bed with a lovely comforter and decorative pillows . soft grey fabric and button tufting offer a contemporary look while being versatile enough to blend with whatever bedroom style you prefer .', metadata={'product_id': 6220, 'product_name': 'harcrest tufted upholstered standard bed'}),\n",
       " Document(page_content='this updated country farmhouse look features a weathered black finish distressed and scored to look as though it was pulled right off a barn door . pewter hardware and metal bolt accents are a beautiful complement to the planked tops and side accents of each piece .', metadata={'product_id': 6221, 'product_name': 'aadrith 6 drawer chest'}),\n",
       " Document(page_content='soft contemporary best describes this group , with its clean lines and brushed nickel pulls .', metadata={'product_id': 6222, 'product_name': 'saana beveled distressed dresser mirror'}),\n",
       " Document(page_content='this updated country cottage chic furniture features a weathered black finish distressed and scored to look as though it was pulled right off a barn door . pewter hardware and metal bolt accents are a beautiful complement to the planked tops and side accents of each piece .', metadata={'product_id': 6223, 'product_name': 'duenas 7 drawer dresser'}),\n",
       " Document(page_content='the witby coffee table features a lift-up top with a storage shelf underneath , making this versatile coffee table perfect for eating takeout in front of the tv or working from the comfort of your sofa . constructed using mindi hardwoods and veneers giving this piece beautiful wood grain dimension and character , while the thick framing and plank-like accents enhance its rustic feel . generously scaled lift top for use as a part-time desk or tabletop . heavy-duty rated metal lift mechanism for years of worry-free use . castered base for ease of movement on the carpet as well as hard surfaces . individual wood-planked bottom shelf for style , durability , and added storage space . beautiful mindi veneers accentuated by a multi-step , environmentally sustainable wire brushed finish', metadata={'product_id': 6224, 'product_name': 'witby lift top block coffee table with storage'}),\n",
       " Document(page_content='updated contemporary bedroom with this melamine 5 drawer chest . the bedroom has a sleigh bed and faux chiseled wood surface .', metadata={'product_id': 6225, 'product_name': 'rodrigues melamine 5 drawer chest'}),\n",
       " Document(page_content='this beautiful casual dining table features forged twisted metal legs and a faux marble top . scroll back side chairs feature polyurethane seats .', metadata={'product_id': 6226, 'product_name': 'vaughan casual dining table'}),\n",
       " Document(page_content='metal etched coffee table features traditional , ornate scroll metal bases with inset etched metal tops . nailhead accents on the table edges add a touch of elegance .', metadata={'product_id': 6227, 'product_name': 'vega metal etched coffee table'}),\n",
       " Document(page_content='revamp your bedroom with the classic charm of the modern emele bed . the emele bed features an ash walnut brown finished wood headboard that is padded with foam underneath the soft and resilient polyester fabric . made in malaysia , the bed includes an upholstered platform base fitted with wooden slats , eliminating the need for a box spring . the emele requires assembly and comes with six pre-drilled holes on the headboard to provide five unique height options for a customized setup . bring a cozy yet stylish ambiance to any bedroom with the inviting smell bed .', metadata={'product_id': 6228, 'product_name': 'anisa tufted upholstered standard bed'}),\n",
       " Document(page_content='reinvent your bedroom with the modern elegance of the netti bed . this chic bed is upholstered in an elegant linen-like fabric that provides ample comfort for you to lean against as you read or watch tv . biscuit tufting and black feet lend a clean , contemporary look . stylish and practical , the netti is fitted with two drawers at the footboard with space to store clothes , sheets , and more . the netti bed is made in malaysia and requires assembly .', metadata={'product_id': 6229, 'product_name': 'annemette tufted upholstered low profile storage platform bed'}),\n",
       " Document(page_content='with its soft upholstery and dazzling silver nailheads , this bed embodies modern glamour . constructed with a sturdy wood frame , this bed frame is upholstered in a soft , resilient polyester fabric that provides ample comfort for you to lean against . button tufting adds a touch of refinement , while silver nailheads highlight the sweeping curves in the headboard and footboard . angled , tapered legs complete the look .', metadata={'product_id': 6230, 'product_name': 'vidur tufted upholstered platform bed'}),\n",
       " Document(page_content='manage clothing storage efficiently with the cabinet . pair this cabinet with the other pieces in the collection to complete the look .', metadata={'product_id': 6231, 'product_name': 'auroara armoire'}),\n",
       " Document(page_content='create a cozy sanctuary in your bedroom with this bed . built with a durable wood frame , this bed is upholstered in a soft , resilient grey polyester fabric . the upholstery features diamond-patterned stitching reminiscent of a traditional quilt , adding both charm and texture . the traditional quilted upholstery is paired with light finished block legs to give this bed a unique , contemporary look .', metadata={'product_id': 6232, 'product_name': 'namaka king upholstered platform bed'}),\n",
       " Document(page_content='crafted of solid rubberwood and plywood , this 4-drawer storage platform bed provides you with ultimate relaxation while creating additional storage space in your bedroom . upholstered in gray polyester fabric and padded with foam , the features grid lines and button-tufting on the headboard , providing a modern yet classic feel in your bedroom . each side of the rail comes with two storage drawers where all of the bed linens or throw pillows could go in . the thick headboard and footboard form a sturdy construction of this storage platform bed while the chromed feet supporting the whole bed sturdily .', metadata={'product_id': 6233, 'product_name': 'king tufted upholstered low profile storage platform bed'}),\n",
       " Document(page_content='this attractive dining table features antiqued cherry top and creamy buttermilk paint finished base for a casual , vintage-inspired look . sure to look beautiful in any home , this dining table is ideal for country cottages and modern townhouses alike . expertly crafted from solid rubberwood , the napoleon dining table features a solid cherry top supported by four detailed turning legs . two-tone finishing and elegant ball design , this timeless collection is ideal for inviting friends over . designed to seat four to six guests , it is suitable as a kitchen breakfast table or a casual dining table .', metadata={'product_id': 6234, 'product_name': 'emer rubberwood solid wood dining table'}),\n",
       " Document(page_content='the gorgeous daybed is the perfect blend of modern details and contemporary clean lines . the bed features comfortable foam padding over an engineered wood frame and chic fabric upholstery . the daybed will wow guests and yourself with its all-over , luxe look and deep button-tufting design . the straight lines and even height of the arms and headboard make this daybed easy to integrate into your guest room , living room , bedrooms , and any place where space is at a premium . the daybed comes with a roll-out trundle , making it easy to host guests and have sleepovers .', metadata={'product_id': 6235, 'product_name': 'momea daybed with trundle'}),\n",
       " Document(page_content=\"a softly sloping silhouette on the back panel and side panels give the fabric upholstered daybed a subtle look while its delicate design , deep tufting look showcase a timeless and designer appeal . constructed of a solid wood frame with mdf , the daybed is guaranteed to stand the test of time . versatile with a contemporary look and sophisticated details , the daybed can easily go from an urban industrial apartment to a coastal chic beach house . tufted upholstery softens the silhouette and ensures plenty of padding for lounging , reading , and resting . the perry imbues a luxury high-end look while providing you with day-to-day function as a daybed o extra guest 's bed .\", metadata={'product_id': 6236, 'product_name': 'momence daybed with trundle'}),\n",
       " Document(page_content='crafted of solid rubberwood and plywood , the rene 4-drawer storage platform bed provides you with ultimate relaxation while creating additional storage space in your bedroom . upholstered in fabric and padded with foam , the rene features grid lines and button-tufting on the headboard , providing a modern yet classic feel in your bedroom . each side of the rail comes with two storage drawers where all of the bed linens or throw pillows could go in . the thick headboard and footboard form a sturdy construction of this storage platform bed while the chromed feet supporting the whole bed sturdily .', metadata={'product_id': 6237, 'product_name': 'damarni tufted upholstered low profile storage platform bed'}),\n",
       " Document(page_content='need concealed storage space but demand style ? look no further than our roanoke ottoman . this contemporary ottoman boasts a dark brown bonded leather exterior over a genuine eucalyptus wood frame . cushioned comfort is achieved via polyurethane foam padding so the top can be used for additional seating as well as a comfortable footrest . striking rectangular feet contrast against the upholstery ’ s softened corners .', metadata={'product_id': 6238, 'product_name': \"46 '' tufted rectangle standard ottoman\"}),\n",
       " Document(page_content='our artisans loving handcraft each piece individually', metadata={'product_id': 6239, 'product_name': 'christmas pine tree'}),\n",
       " Document(page_content='pro4 series electronic radon gas detector', metadata={'product_id': 6240, 'product_name': 'pro4 series electronic radon gas detector'}),\n",
       " Document(page_content='pioneers : mlk , , malcolm x , mandela civil rights icons - graphic art print on paper', metadata={'product_id': 6241, 'product_name': 'pioneers : mlk , , malcolm x , mandela civil rights icons - graphic art print on paper'}),\n",
       " Document(page_content='jam session by marcus uzilevsky - picture frame painting print on paper', metadata={'product_id': 6242, 'product_name': 'jam session by marcus uzilevsky - picture frame painting print on paper'}),\n",
       " Document(page_content='bourbon street blues iv by robert brasher - picture frame painting print on paper', metadata={'product_id': 6243, 'product_name': 'bourbon street blues iv by robert brasher - picture frame painting print on paper'}),\n",
       " Document(page_content='charlton home refined rhodium-plated cuff links feature a classic rounded shape with a black enamel middle with their unique style . these cufflinks uphold the conventional style of men ’ s accessories . all cufflinks are rhodium-plated , you can be sure that they will remain tarnish free . the cufflinks have a classy , polished look , adding a finishing touch to your work attire .', metadata={'product_id': 6244, 'product_name': 'rose gold plated cufflinks box'}),\n",
       " Document(page_content='thermometer and hygrometer clock', metadata={'product_id': 6245, 'product_name': 'thermometer and hygrometer clock'}),\n",
       " Document(page_content='chrome clock and thermometer', metadata={'product_id': 6246, 'product_name': 'chrome clock and thermometer'}),\n",
       " Document(page_content='chiropractor clock', metadata={'product_id': 6247, 'product_name': 'chiropractor clock'}),\n",
       " Document(page_content='the stunning look of veined marble with silver picture frame edges elevates your favorite photos . the classic rectangle-cut of the frame is designed to keep your special moments life . suitable for office or home use and ideal for any gift occasion wedding , graduation , birthday , anniversary and holidays .', metadata={'product_id': 6248, 'product_name': 'stringer picture frame'}),\n",
       " Document(page_content=\"our designs are made in-house . skylines are created with embroidered historic landmarks , points of interest , buildings with high significance to the city , major waterways , and whimsical touches that bring the energy of the city to life . each skyline is reflected in a day version and a night version . we are inspired by the public interest and pride in their hometown , so we created a luxury home decor piece that will reflect the same . it serves as a perfect accent piece , gift item , or even a collector 's item for city enthusiasts .\", metadata={'product_id': 6249, 'product_name': 'skyline rectangular pillow cover and insert'}),\n",
       " Document(page_content='this is a premier seller of vintage home decor items . this sign is carefully crafted to give it signature vintage look . made of tin and intentionally faded , this sign is sure to add a retro look to this home , bar , or pub . it has a built in bracket that can be easily used to hang .', metadata={'product_id': 6250, 'product_name': 'pineapple tin wall décor'}),\n",
       " Document(page_content='august grove is a premier seller of vintage home decor items . this sign is carefully crafted to give it signature vintage look . made of tin and intentionally faded , this sign is sure to add a retro look to this home , bar , or pub . it has a built in bracket that can be easily used to hang .', metadata={'product_id': 6251, 'product_name': 'good morning sunshine rooster tin wall décor'}),\n",
       " Document(page_content='this manufacturer is a premier seller of vintage home décor items . this original piece is carefully crafted to give it a signature vintage look and add to your country home décor theme .', metadata={'product_id': 6252, 'product_name': 'white rooster cockerel wood wall décor'}),\n",
       " Document(page_content='gracie oaks is a premier seller of vintage home décor items . this original piece is carefully crafted to give it signature vintage look and add to your farmhouse country home décor theme .', metadata={'product_id': 6253, 'product_name': 'robillard round metal nesting 3 piece serving tray set'}),\n",
       " Document(page_content='add a funny and humorous touch to your kitchen or home décor with this funny quote wall décor . artfully printed with a uv print , this vintage wall décor will add some country theme to your home décor . it comes ready with pre-installed hooks . leave it displayed as table top decor on a shelf , mantel or counter leaning against a wall . it makes a great gift to friends , family and loved ones . a home décor wall accent that will display beautifully and make you smile .', metadata={'product_id': 6254, 'product_name': 'when life gives you lemons add salt and tequila funny retro vintage tin country home wall décor'}),\n",
       " Document(page_content='decorative kitchen canisters add some rustic country theme to your kitchen with these elegant and inviting food safe , white metal canisters . enamel color coated metal cans in a farmhouse style that will bring character and appeal along with some vintage decor . these decorative canisters have been designed for sugar , coffee and tea storage . ideal for dry food and goods , with airtight lids that have silicone seals to preserve food and keep them fresh and dry . eye-catching accents with functionality that make a beautiful display for your kitchen ! care - please note , we are afraid that the canisters are not suitable for a dishwasher , microwave or oven . the canisters can be hand-washed in normal water temperature and please use a soft cloth to wipe it . features white enamel coated metal food safe silicone seal lid hand wash only set of 3 4 ” x 6 ” h', metadata={'product_id': 6255, 'product_name': 'decorative nesting 3 piece coffee , tea , & sugar set'}),\n",
       " Document(page_content='decorative kitchen nesting canisters add some rustic country theme to your kitchen with these beautiful and inviting food safe metal canisters . antique galvanized cans with a farmhouse style label that will bring character and style , along with some vintage decor . these decorative canisters have been designed for flour , sugar , coffee and tea storage . ideal for dry food and goods , with air tight lids that have silicone seals to preserve food and keep them fresh and dry . eye-catching accents with functionality that make a wonderful display for your kitchen ! care - please note , we are afraid that the canisters are not suitable for a dishwasher , microwave or oven . the canisters can be hand-washed in normal water temperature and please use a soft cloth to wipe it . features galvanized metal food safe silicone seal lid hand wash only set of 4 xs - 3.5 x 7.5 ” h , s - 4.3 ” x 8.5 ” h , m - 4.7 ” x 9.4 ” h and l - 5.3 ” x 10.2 ” h', metadata={'product_id': 6256, 'product_name': 'decorative nesting 4 piece coffee , tea , & sugar set'}),\n",
       " Document(page_content='decorative kitchen nesting canisters add some rustic country theme to your kitchen with these beautiful and inviting food safe white metal canisters . enamel color coated galvanized cans with a farmhouse style label that will bring character and style , along with some vintage decor . these decorative canisters have been designed for flour , sugar , coffee and tea storage . ideal for dry food and goods with airtight lids that have silicone seals , to preserve food and keep them fresh and dry . eye-catching accents with functionality that makes a wonderful display and complete your kitchen ! care - please note , we are afraid that the canisters are not suitable for a dishwasher , microwave or oven . the canisters can be hand-washed in normal water temperature and please use a soft cloth to wipe it . features galvanized white metal food safe airtight lids hand wash only set of 4 xs - 3.5 x 7.5 ” h , s - 4.3 ” x 8.5 ” h , m - 4.7 ” x 9.4 ” h and l - 5.3 ” x 10.2 ” h .', metadata={'product_id': 6257, 'product_name': 'decorative nesting 4 piece coffee , tea , & sugar set'}),\n",
       " Document(page_content='rustic wood cathedral window pane wall decora decorative window frame that is reminiscent of a classic windowpane silhouette . this distressed wood window frame decoration is perfect to decorate your home with some farmhouse decor . it will lend a vintage-inspired look to your home . hang this rustic wall decor in your living room , dining room , kitchen or entryway . you can decorate it with wreaths or lights for a look of sheer elegance . an eye-catching statement piece that will make a stunning wall accent.features : made of wooddistressed white finishmeasures : 31.5 ” x 15.75 ” x 1 ”', metadata={'product_id': 6258, 'product_name': 'rustic wood cathedral window frame wall décor'}),\n",
       " Document(page_content='decorative barn wood window frames add a touch of charming style to your home decor with our gorgeous barn frames . a distressed rectangular wooden frame lends a primitive country look to this elegant piece . the generous size of this large frame makes it so decorative . perfect to be mounted in an entryway portal , above a console table , hallway , living room , dining room , or bedroom . ready to open up a room ! eye-catching rustic decor that will add timeless appeal and character . features wood frame pre-installed wall mounting hooks vertical & horizontal hanging no glass', metadata={'product_id': 6259, 'product_name': 'window frames wall décor'}),\n",
       " Document(page_content='decorative kitchen canister set adds a touch of rustic , country decor to your kitchen with these elegant and inviting , food-safe , storage canisters . these enamel in true farmhouse style will add both character and functionality to your house . our decorative food storage containers have been designed to hold sugar , coffee , and tea . the airtight lids have silicone seals and work perfectly as holders for ground coffee , keeping it fresh and dry . this kitchen accessory decoration set will display beautifully on your bar or kitchen counter ! please check the dimensions carefully before ordering . please note , we are afraid that the canisters are not suitable for the dishwasher , microwave , or oven . the canisters can be hand-washed at normal water temperature , and please use a soft cloth to wipe them .', metadata={'product_id': 6260, 'product_name': 'airtight kitchen canister decorations with lids , brick red metal rustic farmhouse country decor containers for sugar coffee tea storage ( set of 3 ) ( 4 ” x 6.75 ” )'}),\n",
       " Document(page_content='decorative kitchen canister set adds a touch of rustic , farmhouse charm to your kitchen with these elegant kitchen canisters . a set of three jar storage containers that are a combination of style and functionality . embossed with a delicately curved line pattern and bamboo lid . these canisters are designed to hold dry foods such as sugar , flour , or tea . these airtight food-safe storage canister jars also work great to store cookies or loose ground coffee . they ’ re the perfect kitchen accessories that will make a wonderful decoration on a kitchen shelf or counter .', metadata={'product_id': 6261, 'product_name': 'kitchen canisters with bamboo lids , airtight metal canister set , coffee , sugar , tea , flour storage containers , farmhouse kitchen decor , black , 5.25 ” x 6.75 ” , set of 3'}),\n",
       " Document(page_content='decorative kitchen nesting canister set adds some rustic farmhouse charm to your kitchen with these beautiful and inviting food-safe metal nesting containers . these antique galvanized tins with a farmhouse-style label will add character , style , and some vintage decor . these decorative jars have been designed for the storage of flour , sugar , coffee , and tea . the air-tight lids have silicone seals to preserve food , keeping it fresh and dry . eye-catching home decor accessories with a functional design that will look wonderful displayed on your kitchen counter ! please note , we are afraid that the canisters are not suitable for a dishwasher , microwave , or oven .', metadata={'product_id': 6262, 'product_name': 'decorative nesting kitchen canister jars with lids , black metal rustic vintage farmhouse container decor for flour sugar coffee tea storage , set of 4 , largest is 5.5 ” x 11.25 ”'}),\n",
       " Document(page_content='amamedic mesh seat cushion', metadata={'product_id': 6263, 'product_name': 'amamedic mesh seat cushion'}),\n",
       " Document(page_content='bring stylish simplicity to your workspace with this streamlined writing desk . crafted of solid and manufactured wood with high gloss white veneers , this desk strikes a clean-lined rectangular silhouette , while its open metal sled base sports a gleaming chrome finish . three drawers offer plenty of storage space for files , folders , and office supplies , while the smooth desktop provides a perfect platform for your laptop , speakers , and a stylish work lamp .', metadata={'product_id': 6264, 'product_name': 'coldfield solid wood writing desk'}),\n",
       " Document(page_content=\"empty wall need a little love ? a mirror can fix it right up ! whether placed in a hallway or in the master bath , this design performs the all-important duty of providing a space to primp . measuring 36 '' h x 24 '' w x 0.5 '' d , its oval-shaped front is crafted from beveled glass , while double-coated silver backing rounds out the design . wall-mounting hardware is included , so you can hang this mirror vertically or horizontally .\", metadata={'product_id': 6265, 'product_name': 'thornbury oval bevel frameless wall mirror'}),\n",
       " Document(page_content='sun-soaked naps by the pool ? yes , please ! a stylish spot to rest your head and catch a few z ’ s , this outdoor pillow adds a little pizzazz to porch swings , poolside loungers , and beyond . resembling falling flower petals , this pillow ’ s pattern brings a pop of color to any arrangement . made in the usa , its cover is crafted from waterproof woven polyester . mother nature might rain on this pillow , but not on your parade . for general upkeep , spot treat spills and stains .', metadata={'product_id': 6266, 'product_name': 'haillee rain outdoor throw pillow'}),\n",
       " Document(page_content=\"this standard bed means no more sleepless night trying to find the ideal mid-century staple for your bedroom . it 's made from solid and engineered wood in a natural light finish with visible wood grain for a hint of rustic charm . the understated footboard and panel headboard showcase a matching cutout design for a cohesive contemporary silhouette . this bed arrives with a few slats and center support legs , so we recommend using a box spring under your choice of mattress .\", metadata={'product_id': 6267, 'product_name': 'mid-century modern low profile standard bed'}),\n",
       " Document(page_content='a minimalistic design , this vanity brings an industrial-inspired edge to any office . bar-like side panels gently curve to fit the frame of the sides of the desk , enhancing the visual appeal of the design without detracting from the spacious tabletop and its convenient storage drawer .', metadata={'product_id': 6268, 'product_name': 'farryn vanity'}),\n",
       " Document(page_content='complete your modern living space with this incredible bookcase/entertaining unit . dazzling in brass and espresso oak , this collection will impress with clean lines and craftsmanship .', metadata={'product_id': 6269, 'product_name': 'ewing etagere bookcase'}),\n",
       " Document(page_content='this collection has a padded bed with a button turfed headboard and storage rails with 4 glide-side metal drawers . this collection shows a unique taste that makes your bedroom look beautiful and great .', metadata={'product_id': 6270, 'product_name': 'sumter upholstered storage sleigh bed'}),\n",
       " Document(page_content='this modern coffee table brings a unique yet classy look to your living room . with a clear tempered glass top and unique retro inspired champagne metal base , this piece will naturally blend in your living room , making it a statement of any room decor .', metadata={'product_id': 6271, 'product_name': 'berton coffee table'}),\n",
       " Document(page_content=\"this table is the perfect accent to today 's modern kitchen . european walnut veneered top combined with a white metal base .\", metadata={'product_id': 6272, 'product_name': 'hagen dining table'}),\n",
       " Document(page_content='contemporary modern design with off-center accent for designer accent interest . works well as an eclectic element with most decor styles . made with the highest-quality strong particle board for holding weight without bowing shelves . covered with durable foil-finish veneer surface to resist water , stains , and scratches . two open glass shelves and closed cabinet shelves add lots of storage space in a small amount of floor space . the manufacturer is committed to eco-friendly practices like using wood only from eco-managed forests , manufacturing with low-solvent emissions , packaging with low-waste supplies , and recycling .', metadata={'product_id': 6273, 'product_name': 'welty tv armoire'}),\n",
       " Document(page_content=\"the master suite in need of an update ? headboards are an easy solution for your ensemble , creating a fashionable focal point that elevates your bed escape . take this one for example : founded atop two legs , it 's designed to work with your existing bed base . crafted from metal , its frame features an openwork border and a neutral solid finish for a versatile appearance that 's a cinch to pair with bedding .\", metadata={'product_id': 6274, 'product_name': 'reginald open-frame headboard'}),\n",
       " Document(page_content='3 - light unique/statement drum semi flush mount', metadata={'product_id': 6275, 'product_name': '3 - light unique/statement drum semi flush mount'}),\n",
       " Document(page_content='made with top quality aluminum , each of the chairs and loveseat feature both comfort and quality craftsmanship . the fire table is made with magnesium oxide to provide superior quality and performance . this set will have you spending your days and nights outside enjoying the freedom of your backyard .', metadata={'product_id': 6276, 'product_name': 'bydt2136'}),\n",
       " Document(page_content='enjoy sitting around the fire with your family and friends with this seating and fire table set . complete with four club chairs , a loveseat , and a fire table . the club chairs and loveseat feature a top-quality aluminum frame that has been treated to withstand the elements and extra plush water-resistant fabric cushions for maximum comfort .', metadata={'product_id': 6277, 'product_name': 'royalston 7 piece sofa set with cushions'}),\n",
       " Document(page_content='add fresh new enjoyment to your outdoor space or upgrade your patio with a new look with our mesh chaise lounges that allows you to relax under the sun with ease . featuring a breathable mesh material and durable aluminum frame , this chaise lounge set brings ultimate comfort and stability to your backyard . whether you are curling up with your favorite book or just stretching out in the sunlight and fresh air , our chaise lounges are sure to give you your lazy summer days back .', metadata={'product_id': 6278, 'product_name': 'royalston sun lounger set'}),\n",
       " Document(page_content='is your seating ensemble feeling a little lackluster lately ? spruce it up with this conversation set , which includes two chairs and one standing table . defined by clean lines on an aluminum frame , both the chairs and slatted table add eye-catching appeal to your decor . upholstered in foam filled polyester , each included cushion offers visual texture with two tones and piped seams . plus , its water resistant construction makes this set perfect for your indoor or outdoor arrangement .', metadata={'product_id': 6279, 'product_name': 'royalston 3 piece seating group with cushions'}),\n",
       " Document(page_content='brighten your country cottage style room with this dazzling mirror ! natural modern clean lines paired with a shabby elegance gray finish to suit your personal sense of style . with its gray finish , this contemporary mirror will accentuate your posh décor . this durable mirror can be mounted horizontally or vertically so you can bring in natural light and give the appearance of a larger room . never fear a crooked mirror again – the included mounting hardware allows you to make small height adjustments even after you mount your mirror to the wall . perfect for any luxe dressing room or rustic bedroom , this quality silver-backed mirror always catches you on your good side .', metadata={'product_id': 6280, 'product_name': 'schutz beveled wall mirror'}),\n",
       " Document(page_content='an elegant , modern sofa by day , the sleeper converts to a comfortable full-size bed at night , allowing your house guests to get a great night ’ s sleep . this sleeper sofa is built with a solid steel frame . never let your guests stay in a hotel again !', metadata={'product_id': 6281, 'product_name': \"swiger 87 '' square arm sleeper\"}),\n",
       " Document(page_content='pulling double duty as a sofa and a bed , daybeds are the picture of versatility . take this one for example : crafted from solid and manufactured wood , it features a curved back with a twin roll-out bed ( mattress not included ) perched atop wheels , great for sliding out when you ’ ve got a full house for a long weekend . upholstered in 100 % polyester for an inviting feel .', metadata={'product_id': 6282, 'product_name': 'eleni twin daybed with trundle'}),\n",
       " Document(page_content='anchor your favorite outdoor seating space in contemporary style with this streamlined sofa , crafted from metal in the united states . this on-trend seat is outfitted with sunbrella-wrapped detachable cushions , showcasing a foam fill for an extra layer of padding . flayed arms and splayed legs add a touch of modern influence to the design , which comfortably seats three . both the metal finish and fabric hue are available in multiple color options .', metadata={'product_id': 6283, 'product_name': 'marina teak patio sofa with cushions'}),\n",
       " Document(page_content=\"for the host or hostess looking to make a statement at every backyard get-together , this patio sectional with cushions is an indispensable element of any outdoor furniture set-up . this fully modular assemblage seats five and is truly extravagant - featuring solid acacia wood frames and plush outdoor cushions , you and your guests will never again be in want of a place to rest while making memories at home . a contemporary take on an iconically retro concept , this collection 's deep seating and low profile are elegant , luxe , and vibrant enough to bring any porch , patio , or poolside deck to life .\", metadata={'product_id': 6284, 'product_name': 'sectional with cushions'}),\n",
       " Document(page_content='made to move , this versatile office chair lets you swivel , , and sit up higher as you tackle your to-do list in your home office . this chair is built on a pedestal base with caster wheels , and its adjustable seat is crafted with an engineered wood frame . its faux upholstery showcases an eye-catching cow spot pattern that brings personality and texture to your space . bronze-finished nailhead trim surrounds the square seat for a decorative touch , while subtly winged sides round out the look with another dash of distinction . assembly is required .', metadata={'product_id': 6285, 'product_name': 'melyna task chair'}),\n",
       " Document(page_content='excellent lounging choice for patio , porch , poolside , or garden area .', metadata={'product_id': 6286, 'product_name': 'donn 4 piece rattan sofa seating group with cushions'}),\n",
       " Document(page_content='mid-century modern swivel accent chair with wood legs for home office study living room vanity bedroom .', metadata={'product_id': 6287, 'product_name': \"patterson 22.1 '' wide tufted swivel armchair\"}),\n",
       " Document(page_content='this palmateer memory foam bath rug delivers innovative comfort and performance with 50 % more memory foam . featuring odor neutralizing capabilities and rich color , this ultra-plush bath mat brings luxury to your bathroom floor .', metadata={'product_id': 6288, 'product_name': 'palmateer memory foam bath mat'}),\n",
       " Document(page_content='durable yet comfortable outdoor seating with this three-piece sofa , loveseat , and chair . crafted with aluminum frame and uv water-resistant fabric cushions to compliment any outdoor space .', metadata={'product_id': 6289, 'product_name': 'carvalho 3 piece sofa seating group with cushions'}),\n",
       " Document(page_content='this item comes with adaptors to support 3 different umbrella sizes and provide a secure fit every time . add one to your outdoor patio or backyard area and you will no longer have to worry about a shaky umbrella . enjoy the appeal that the interlocking ring design and antiqued bronze finish will bring to your outdoor home decor .', metadata={'product_id': 6290, 'product_name': 'harrogate calcium carbonate resin free standing umbrella base'}),\n",
       " Document(page_content='instantly enhance any space with this wall clock . the simple design and durable construction of this clock make it a timeless piece that fits seamlessly in any indoor or outdoor space .', metadata={'product_id': 6291, 'product_name': \"willington 18 '' wall clock\"}),\n",
       " Document(page_content='welcome guests with the gracie oaks metal welcome sign . made of durable metal and suited for indoor and outdoor use , this welcome sign will last for years .', metadata={'product_id': 6292, 'product_name': 'celandine welcome sign'}),\n",
       " Document(page_content='the owl decor is a professional at keeping away birds and and also works as a great decoration . put one in your yard today !', metadata={'product_id': 6293, 'product_name': 'montano garden statue'}),\n",
       " Document(page_content='create a peaceful haven in all four seasons with this vibrant outdoor sectional sofa set . this reordan 4 piece sofa seating group with cushions can be used for both , indoor and outdoor use . modern and stylish lines , this set offers comfortable and exceptionally stunning outdoor lounging . it has a modern style that enhances the look of the decor . made from steel , the frame of this seating group provides durability and sturdiness . the woven resin wicker material enhances the aesthetic appeal of the seating group . this set is available in an exquisite black finish that adds to its overall style-quotient . the set includes one love seat , two center chairs , and a coffee table . this easily accommodates a family of four in the living room or on the patio . the cushions included with this set provide comfort to the user . these cushions are mildew resistant , which protects their looks during outdoor use . the deep seating design of the seating group enhances the level of comfort . this 4 piece complete outdoor furniture can be used for gazebos and pergolas . this furniture set allows you to host friends for an intimate get-together . this furniture set can be easily cleaned using a soft dry cloth . this ensures easy maintenance and keeps it looking good for a long time .', metadata={'product_id': 6294, 'product_name': 'reordan 4 piece rattan sofa seating group with cushions'}),\n",
       " Document(page_content='a wood slat sign is accented by an inspirational message . this sign is sure to accent almost every dining room or kitchen decor ! the distressed finish gives it a weathered and worn through the years appearance .', metadata={'product_id': 6295, 'product_name': 'be sweet horizontal pallet wood sign wall décor'}),\n",
       " Document(page_content='keep clutter under control with this wicker basket bin ! founded on an iron wireframe , this basket strikes a rectangular silhouette wrapped in tightly-woven water hyacinth reeds in a light , natural finish . its open top accommodates everything from tossed in toys to folded blankets , while its cutout wooden handles make transport a breeze . this basket can be stowed in a cubby , set on a shelf , or displayed under a console table .', metadata={'product_id': 6296, 'product_name': 'hyacinth and wood handled wicker basket'}),\n",
       " Document(page_content='add some color to your patio set with these water-resistant outdoor pillows . made from top quality fabric that won ’ t absorb every drop of water and dirt , these brookridge square outdoor throw pillow were designed with both the outdoors and your patio in mind . fluffy enough to rest comfortably on or just as a throw pillow to be moved before sitting , these brookridge square outdoor throw pillow can be whatever you want them to be . the best part is , you can leave them outside all summer long so when guests come over , they are greeted by a warm and welcoming outdoor patio set .', metadata={'product_id': 6297, 'product_name': 'brookridge square outdoor throw pillow'}),\n",
       " Document(page_content='contemporary birds 3 piece wall décor set', metadata={'product_id': 6298, 'product_name': 'contemporary birds 3 piece wall décor set'}),\n",
       " Document(page_content=\"instead of swapping out a dining set or spare seat , give your existing arrangement a boost of comfort with this solid-hued chair cushion . upholstered with twill fabric made from a blend of 50 % polyester and 50 % cotton , its 16 '' square cover ( removable ) is filled with foam for 2 '' of padding . hook and loop tabs secure this piece to any chair you choose , while piped accenting completes the look with a tailored touch .\", metadata={'product_id': 6299, 'product_name': 'cliffland chair cushion'}),\n",
       " Document(page_content='refresh your master suite or living room with this solid sheer outdoor rod pocket curtain panels . it features a solid hue perfect for any space . match it to your living room sofa for a cohesive look or choose a bright color to liven up a neutral-toned master suite . perfect for welcoming the morning sun and billowing in the cool spring breeze , this beautiful semi-sheer curtain panel transforms your living room or master suite into an elegant english manor or clandestine country cottage .', metadata={'product_id': 6300, 'product_name': 'dayton solid sheer outdoor rod pocket curtain panels'}),\n",
       " Document(page_content=\"bamboo 30.5 '' counter chair bar stool with comfortable footrest . about our product statra bamboo we strive to protect our environment by using eco-friendly , biodegradable , and sustainable natural bamboo to build our collections . bamboo is the fastest growing plant that continues to grow back once harvested . each piece is lovingly by local artists with no two items exactly alike . you are guaranteed to have a one-of-a-kind item .\", metadata={'product_id': 6301, 'product_name': \"carsdale 30.5 '' patio bar stool\"}),\n",
       " Document(page_content='lovely pineapple figurine perfect for home or office decoration .', metadata={'product_id': 6302, 'product_name': 'belvedere pineapple figurine'}),\n",
       " Document(page_content='bring some of those beautiful botanicals right inside with this graceful tinsley pineapple . the ceramic vase takes on a inspired silhouette with a glossy finish detailed with scrolling typographic details and weathered spots .', metadata={'product_id': 6303, 'product_name': 'tinsley pineapple'}),\n",
       " Document(page_content='showcasing the symbol for welcome and hospitality , this pineapple painting print brings a splash of tropical style to any open wall in your home . proudly made in the usa , this design is dotted with yellow , blue , and green hues up against a neutral white background for a contrasting pop of color . best of all , this artful accent arrives ready to display in any space as soon as it reaches your door .', metadata={'product_id': 6304, 'product_name': 'pineapple by suren nersisyan - painting print on canvas'}),\n",
       " Document(page_content='this longcroft 3 piece outdoor bistro set is the perfect way to create an intimate in your backyard or patio .', metadata={'product_id': 6305, 'product_name': 'longcroft 3 piece outdoor bistro set'}),\n",
       " Document(page_content='offer warmth and hospitality with this glass . employing an age-old practice , skilled artisans hand-etch a pineapple design into each glass by pressing it against a series of rotating stone wheels . versatile enough for water , wine , and juice , stemless tumblers are dishwasher safe and less prone to breakage than their stemmed counterparts .', metadata={'product_id': 6306, 'product_name': 'stowe pineapple 21 oz . stemless wine glass'}),\n",
       " Document(page_content='florala driftwood pineapple sculpture', metadata={'product_id': 6307, 'product_name': 'florala driftwood pineapple sculpture'}),\n",
       " Document(page_content='pineapple wall décor', metadata={'product_id': 6308, 'product_name': 'pineapple wall décor'}),\n",
       " Document(page_content='this collection features designs that harken back to earlier days in casual barware . this pineapple round serving tray is heat stamped to apply the design for permanence .', metadata={'product_id': 6309, 'product_name': 'milburn pineapple serving tray'}),\n",
       " Document(page_content=\"welcome a splash of tropical style to any arrangement with this 19 '' table lamp . borrowing its striking silhouette from a pineapple , this piece is crafted with a ceramic base in a sleek gold finish for a hint of glamour . a white fabric empire shade sits up top to tone down the eye-catching design with understated appeal , while also diffusing light from a compatible 60 w e26 bulb ( not included ) outward over your space .\", metadata={'product_id': 6310, 'product_name': \"martel shiny pineapple ceramic 19 '' table lamp\"}),\n",
       " Document(page_content=\"individually hand wrapped to very high standards . printed and inspected one at a time utilizing the latest archival ultrachrome giclée inks . this 'botanical pineapple ' oil painting print on wrapped canvas includes hanging accessories and is ready to hang . you need only apply an anchor to the wall of your choice .\", metadata={'product_id': 6311, 'product_name': 'botanical pineapple - print on wrapped canvas'}),\n",
       " Document(page_content='bamboo and shiny metal combine in this 3-light semi-flush mount to create a breezy coastal farmhouse accent in your kitchen or entryway . it features a circular metal backplate with strands of wooden beads that create a dome-like shade . a large circular bead hangs from the shade for a cohesive finishing touch . inside there are three 60w bulbs ( not included ) that wash your space in just the right amount of glow . this fixture is compatible with a dimmer switch to effortlessly take you from morning to night .', metadata={'product_id': 6312, 'product_name': \"calabasas 3 - light 16 '' unique/statement bowl semi flush mount\"}),\n",
       " Document(page_content='a whimsical trinket tray to add a bit of tropical fun to your home . this pineapple tray is a fun decorative home organization item . with the words be sweet , stand tall , and always wear your crown stamped on the design , this dish will be a source of encouragement every time you see it . this item is perfect for a beach house filled with friends .', metadata={'product_id': 6313, 'product_name': 'pelham be sweet pineapple decorative plate'}),\n",
       " Document(page_content='this fremont writing desk simulates a boutique renovation of a found item , a marriage of furniture and folk art . dry pine is stenciled with a decorative floral pattern and the pull-out drawer features a hidden inspirational message . simply turned legs and the natural pine finish adds to the warmth and comfort feel of the piece .', metadata={'product_id': 6314, 'product_name': 'fremont solid wood desk'}),\n",
       " Document(page_content=\"murano style art glass mouth blown 10 '' pineapple . stunning mouth-blown glass pineapple brings hospitality to life ! rich appropriate colors with its amber body and green leaves make this pineapple a winner . great for holiday or bridal or housewarming gifts . will add warmth to any room . the colors are so rich and vivid , when you look at it you just want to go drink a pina colada and relax by the beach ! please note art glass is a blend of many colors of glass and it is completely normal to have air bubbles appear in the glass . colors may also vary slightly from piece to piece making each one a unique work of art .\", metadata={'product_id': 6315, 'product_name': 'riggs mouth blown art glass pineapple sculpture'}),\n",
       " Document(page_content=\"bring back the simple and rustic feel of your patio or porch with this charming coffee table . crafted of solid acacia wood in a sandblasted woodgrain finish for a natural , rustic aesthetic . its thick , rectangular tabletop showcases a slatted plank construction , while its simple trestle base includes four x-frame legs . measuring 18 '' h x 39.25 '' w x 20.5 '' d overall , this table weighs just 17.64 lbs . so you can easily bring it in for storage when the season ’ s through .\", metadata={'product_id': 6316, 'product_name': 'heatherfield solid wood coffee table'}),\n",
       " Document(page_content='spinelli plank top solid wood dining table', metadata={'product_id': 6317, 'product_name': 'spinelli plank top solid wood dining table'}),\n",
       " Document(page_content='emiliano coffee table', metadata={'product_id': 6318, 'product_name': 'emiliano coffee table'}),\n",
       " Document(page_content='create a special feeling of welcome for your entryway , porch or deck with a charming outdoor doormat . woven from natural , eco-friendly coir . this stylish accent rug is remarkable for its thick , premium quality construction and long-lasting beauty .', metadata={'product_id': 6319, 'product_name': 'stegall non-slip outdoor door mat'}),\n",
       " Document(page_content='elevate a modern style home with this metal sculpture . the figures , made from metallic silver aluminum and natural brown finish , depict two pineapples that are half-wood and half-metal . the pineapples feature delicate details on the aluminum sections and smooth texture on the wooden parts . place on desks , tables , or open shelves to highlight the stylish feel of modern and farmhouse-themed interiors . this item comes shipped in one carton . suitable for indoor use only . made in india . set of 2 pineapple-shaped sculptures . modern design .', metadata={'product_id': 6320, 'product_name': 'ruthar pineapple 2 piece sculpture set'}),\n",
       " Document(page_content='this glass top coffee table with drawer has the classic clean style that is open and airy . a tempered glass inset top reveals a display drawer to showcase the treasured collection . a decorative lower shelf offers additional storage surface area .', metadata={'product_id': 6321, 'product_name': 'presley glass top coffee table with drawer'}),\n",
       " Document(page_content='this glass top coffee table with drawer has the classic clean style that is open and airy , featuring rustic rattan poles bound with leather . a tempered glass inset top reveals a display drawer to showcase the treasured collection . a decorative lower shelf offers additional storage surface area .', metadata={'product_id': 6322, 'product_name': 'presley coffee table with storage'}),\n",
       " Document(page_content='from a touch of eastern-inspired serenity to a splash of tropical style , this semi-sheer curtain panel is a perfect pick for those looking to go a step further than conventional window treatments . handcrafted from eco-friendly bamboo beads , this panel sports lovely pink flowers that contrast well with the brown finish of the bamboo . it ’ s a no-brainer for vacation homes , yoga spaces , and more . bear in mind , the semi-sheer quality of this curtain makes it better suited for decoration than for privacy .', metadata={'product_id': 6323, 'product_name': 'ellerman rayon small flowers graphic print & text semi-sheer single curtain panel'}),\n",
       " Document(page_content='schmitz coffee table', metadata={'product_id': 6324, 'product_name': 'schmitz coffee table'}),\n",
       " Document(page_content='bring a taste of island style to your backyard with this sculptural tiki side table . made from cast resin in a tropical brown faux-woodgrain finish , this weather-resistant design is inspired by polynesian carvings found scattered throughout islands in the south pacific ocean . for an equatorial ensemble on your patio or back deck , start by rolling out a palm-frond print area rug to define the space , then arrange a wicker loveseat and armchair with padded cushions around a bamboo cane coffee table . place this design besides the sofa for a place to hold your daiquiri while you take a dip in the pool , or for a stylish stage to showcase a tropical plant in an earthenware vase . install a shade sail above the arrangement to offer relief from the hot sun , and line the shade with string lights to illuminate backyard luaus in a soft glow .', metadata={'product_id': 6325, 'product_name': 'siebert sculptural side table'}),\n",
       " Document(page_content='this wood folding lounger makes the perfect lawn or poolside addition . relax in style with these wooden chaises that fold for easy storage and come complete with a full length cushion to maximize comfort . the bright and fun chaises will have you entertaining and enjoying all that the outdoors have to offer.crafted from acacia and showcasing a foldable design , this tufted lounger lends a breezy touch to your patio or poolside .', metadata={'product_id': 6326, 'product_name': 'antonetta chaise lounge with cushion'}),\n",
       " Document(page_content='this collection features designs that harken back to earlier days in casual barware . this vinyl pineapple oval waste basket is heat stamped to apply the design for permanence .', metadata={'product_id': 6327, 'product_name': 'hillpoint pineapple oval waste basket'}),\n",
       " Document(page_content='flowering plant in pot', metadata={'product_id': 6328, 'product_name': 'flowering plant in pot'}),\n",
       " Document(page_content='most will agree - when inviting loved ones into your home , they deserve nothing but the best . this acacia wood 4 piece sofa seating group with cushions offers just that ; a gorgeously accommodating loveseat is flanked by two matching club chairs , and a chic , slatted coffee table stands attentively at its feet . this set offers the ultimate all-in-one assemblage of luxe outdoor seating , perfect for the homemaker interested in populating their entire patio area at once in impeccable style .', metadata={'product_id': 6329, 'product_name': 'encinal 4 piece sofa seating group with cushions'}),\n",
       " Document(page_content='liven up your master suite with these eye-catching curtain panels , showcasing an intricate pattern with beautiful blooming flowers , peacocks , and leaves . simply slip a rod through its pockets to instantly add a tropical flair to your bedroom ensemble , then open a window to enhance its breezy appeal and welcome in the fresh air . whenever you feel like sleeping in on a saturday , let its room darkening light filtration keep out unwanted rays while its thermal insulation and noise-reducing polyester material leave your restful retreat cozy and quiet . once you wake up from your satisfying snooze , just take a peek at this dynamic design to give you the boost of energy you need to start your day .', metadata={'product_id': 6330, 'product_name': 'panagia floral room darkening thermal rod pocket curtain panels'}),\n",
       " Document(page_content='a shoe storage cabinet with a unique stair silhouette makes a show-stopping upgrade . used in entryways and mudrooms , this shoe cabinet is a stylish option for organization and keeping your shoe collection close at hand .', metadata={'product_id': 6331, 'product_name': '12 pair shoe storage cabinet'}),\n",
       " Document(page_content=\"this kitchen mat brings a playful touch of deep-sea style to your kitchen . it features three little fish swimming through a coral reef , in vibrant shades of blue , orange , and green . this rectangular rug is made in turkey from 100 % polyester , so it ’ s easy to clean . it ’ s been treated for resistance to fading , mildew , and water , and has a rubber non-skid backing , making this rug just right for high-traffic areas both inside and outside your home . limiting exposure to rain , moisture , and direct sun will prolong this rug 's life .\", metadata={'product_id': 6332, 'product_name': 'peterson reef and fish coral kitchen mat'}),\n",
       " Document(page_content=\"this pineapple 18 '' placemat measure and will liven up any occasion .\", metadata={'product_id': 6333, 'product_name': \"ulrich pineapple 18 '' placemat\"}),\n",
       " Document(page_content=\"kirby 35.5 '' wide tufted genuine leather swivel club chair\", metadata={'product_id': 6334, 'product_name': \"kirby 35.5 '' wide tufted genuine leather swivel club chair\"}),\n",
       " Document(page_content=\"chippendale 33 '' wide genuine leather manual wing chair recliner\", metadata={'product_id': 6335, 'product_name': \"chippendale 33 '' wide genuine leather manual wing chair recliner\"}),\n",
       " Document(page_content='the bed will most likely be the most prominent piece of furniture in your room or college dorm room . because of this , adding a headboard to your decor will bring your entire room to life ! this beautiful decor is also super easy to add to your bedding . this headboard simply wedges between your mattress and bed frame . a headboard is easy to install , but the look and style will make your room sparkle !', metadata={'product_id': 6336, 'product_name': 'honig upholstered panel headboard'}),\n",
       " Document(page_content='store your cushions and outdoor accessories with this 47 gallon rattan deck box . come with uv-resistant rattan and aluminum frame , this box is a great solution for your patio . come with gas sprint for extra convenience .', metadata={'product_id': 6337, 'product_name': '47 gallon rattan deck box'}),\n",
       " Document(page_content='lightweight , easy to move and perfect for soaking up the sun . features adjustable backrest for max comfort . great for naps in the shade , tanning in the sun and just about everything in between , this outdoor chaise lounge is perfect for all your backyard needs . lightweight and easy to move , the lounge sits on a steel frame that can support up to 330 lbs . and is covered in a beautiful gray rattan .', metadata={'product_id': 6338, 'product_name': 'begaye outdoor reclining chaise lounge with cushion'}),\n",
       " Document(page_content='the latest in sleeper sectional style . includes sofa , chaise , ottoman with storage , and bonus pillows . comfortably seats 5 styles , comfort , and flexibility go hand in hand with this spectacular sectional sofa . the section consists of mounting brackets for connection and can be configured in numerous ways .', metadata={'product_id': 6339, 'product_name': \"leeds 95 '' wide reversible sleeper sofa & chaise with ottoman\"}),\n",
       " Document(page_content='the latest style in the sofa industry , this sectional sofa will improve any living room space . includes sofa , chaise , and 3 ottomans . comfortable seats 3-4. style , comfort , and flexibility go hand in hand with this spectacular sectional sofa . available in left or right chaise , this piece is classic in appearance but modern in functionality - adjustable headrests with 3 positions , 2 adjustable seats for your comfort and 3 ottomans . the piece includes mounting brackets for the connection of chaise and sofa .', metadata={'product_id': 6340, 'product_name': \"defries 111 '' wide sleeper sofa & chaise with ottoman\"}),\n",
       " Document(page_content='built with a steel frame , innerspring construction , and contemporary lines this collection offers quality , comfort , and an extremely sitting and sleeping area .', metadata={'product_id': 6341, 'product_name': \"yatton 89 '' square arm sleeper\"}),\n",
       " Document(page_content=\"contemporary style abounds with this adjustable gas-lift bar stool , showcasing a swivel design . this bar stool 's seat showcases a bucket design , outfitted with button-tufted details , and wrapped in a soft textured fabric , available in multiple color options . support the seat is a metal pedestal base showcasing a solid gunmetal finish for a touch of industrial style . with its winged back and stitched pattern , this seat is sure to make a statement in any arrangement .\", metadata={'product_id': 6342, 'product_name': 'judkins swivel adjustable height bar stool'}),\n",
       " Document(page_content=\"decorate your walls and bounce light around your home with this contemporary accent mirror . it 's made from metal in a sleek black finish and showcases an outer frame that is supported by three bronze-finished arms for an open and two-toned silhouette . the mirrored glass panel features a non-beveled edge for a clean-lined , modern design . plus , different sizing options let you find the right fit for your space . this mirror has two brackets on the back to help to make installation a breeze .\", metadata={'product_id': 6343, 'product_name': 'wolfenbarger industrial accent mirror'}),\n",
       " Document(page_content='with clean lines and a modern design , this square coffee table in gunmetal will be a great addition to any home . this chic coffee table has a sleek brushed steel base and a travertine veneer top creating a distinct look . this coffee table is delightfully different and perfect for adding sophistication and eclecticism to any room in your home .', metadata={'product_id': 6344, 'product_name': 'huling coffee table'}),\n",
       " Document(page_content='this modern vanity set belongs to these exquisite design series . it features a rectangle shape . this vanity set is designed to be installed as a wall mount vanity set . it is constructed with plywood-melamine .', metadata={'product_id': 6345, 'product_name': \"kao 24 '' single bathroom vanity set\"}),\n",
       " Document(page_content='welcome guests to your home with a splash of statement lighting , illuminate your bedroom or light up your dining room table with this charismatic geometric chandelier . made from steel in a handsome metallic finish , this alluring design showcases a simple circular canopy , a straight down rod , and a distinctive openwork geometric frame around a contemporary candelabra-style base . this hardwired modern luminary accommodates three lightbulbs of up to 60 w each ( bulbs not included ) .', metadata={'product_id': 6346, 'product_name': 'kaat 3 - light candle style geometric chandelier'}),\n",
       " Document(page_content='a classic mid-century silhouette gets a modern update in the dining chair . using a contemporary light gray wood in the tapered legs and dual-slat back , the dining chair comes in two appealing fabric choices . dining never looked so sharp !', metadata={'product_id': 6347, 'product_name': 'mccullar upholstered dining chair'}),\n",
       " Document(page_content=\"'indian summer 5 ' is a stunning reproduction featuring a beautiful collage of abstract leaves . a wonderful conversation piece that will compliment any home or office .\", metadata={'product_id': 6348, 'product_name': 'summer 5 graphic art on wrapped canvas'}),\n",
       " Document(page_content=\"'indian summer 6 ' is a stunning reproduction featuring a beautiful collage of abstract leaves . a wonderful conversation piece that will compliment any home or office .\", metadata={'product_id': 6349, 'product_name': 'summer 6 framed graphic art on wrapped canvas'}),\n",
       " Document(page_content=\"'indian summer 6 ' is a stunning reproduction featuring a beautiful collage of abstract leaves . a wonderful conversation piece that will compliment any home or office .\", metadata={'product_id': 6350, 'product_name': 'summer 6 graphic art on wrapped canvas'}),\n",
       " Document(page_content=\"'indian summer 5 ' is a stunning reproduction featuring a beautiful collage of abstract leaves . a wonderful conversation piece that will compliment any home or office .\", metadata={'product_id': 6351, 'product_name': 'summer 5 framed graphic art on wrapped canvas'}),\n",
       " Document(page_content='craftily connected forged iron rectangles finished in a lightly antiqued gold leaf . may be hung horizontal or vertical .', metadata={'product_id': 6352, 'product_name': 'forged iron rectangle accent mirror'}),\n",
       " Document(page_content='the eviva aberdeen bathroom vanity with its unique and simple lines gives it an elegant yet transitional look . this model comes with a double layered italian white carrara marble countertop with beautiful gray veins . if you are looking for a bathroom vanity with limited space the eviva aberdeen should be on the top of your list for its unique transitional look and functionality . the vanity includes the bathroom cabinet , countertop , white porcelain undermounted sink ( s ) and brushed chrome handle/knobs . available in a single or double sink version in espresso , gray or white and in many sizes from 24 to 84 inches .', metadata={'product_id': 6353, 'product_name': \"pichardo transitional 84 '' double bathroom vanity set\"}),\n",
       " Document(page_content='nature favors the bold ! this honeycutt patio sofa with cushions and over-sized ottoman are a statement set for sure . the over-sized ottoman can be moved to either side of the sofa to create a lounger to stretch your legs out ! you can also convert this set into an l shaped sectional and use the ottoman as a coffee table in between the sections . this set comes with all seat and back cushions and also side pillows and also comes fully assembled so all you have to do is unpack and enjoy !', metadata={'product_id': 6354, 'product_name': 'honeycutt patio sofa with cushions'}),\n",
       " Document(page_content=\"this lounge chair exudes haute style with a bold gold frame wrapped around the seat 's clean contemporary lines . top grain leather and plush foam and cotton cushioning are sure to make this a showstopper in any room of your home .\", metadata={'product_id': 6355, 'product_name': \"carleen 31 '' wide top grain leather lounge chair\"}),\n",
       " Document(page_content='wearing two hats as a spot to sit and a place to clear clutter , this versatile storage bench is a must for any space that ’ s short on square footage . crafted from solid rubberwood , this piece is founded atop four splayed legs in a warm brown stain for mid-century modern flair . foam fill provides cushioning as you take a seat , while polyester-blend fabric envelops this design for a more approachable look . assembly is required .', metadata={'product_id': 6356, 'product_name': 'ronquillo upholstered flip top storage bench'}),\n",
       " Document(page_content='this bowl can be used as snack or rice bowls . a microwave-safe design makes this the perfect option for heating leftovers . scratch-resistant and showcasing a lead-free design , this set is the perfect gift for the new homeowners in your life .', metadata={'product_id': 6357, 'product_name': 'valera 28 oz . pineapple rice bowl'}),\n",
       " Document(page_content='engage life with this collection . enjoy casual conversation under the open sky with an all-weather waterproof furniture set that delivers an exceptional outdoor porch , patio , balcony , or garden experience . an exceptional modern furniture set that exceeds expectations , this collection comes with long-lasting machine washable cushions , silk polyester seat back weaves square powder coated aluminum bases , and non-marking foot caps .', metadata={'product_id': 6358, 'product_name': \"finney 64 '' wide outdoor patio sofa with cushions\"}),\n",
       " Document(page_content='make some waves with this highly contemporary accessory collection . wonderfully open and airy , the wavy metal frames and hurricane candle holders beautifully go with the flow . the organically shaped tray is a natural complement .', metadata={'product_id': 6359, 'product_name': '5 piece streetman decorative accessory set'}),\n",
       " Document(page_content=\"this redwood bench is useful and durable . there 's nothing as remarkable as a bench in an open space , adding a taste of harmony outdoors . the patio bench fits perfectly not only in gardens , but they can also be set on city parks , schools , greenhouses , lakes , ranches , bays , coffee-houses , and shopping centers .\", metadata={'product_id': 6360, 'product_name': 'thurmond wooden garden bench'}),\n",
       " Document(page_content='with this chandelier , you will never have to settle for ordinary . whether you are having a party or a quiet romantic dinner this light will capture just the right mood with its fully dimmable lights . the adjustable hanging length provides the flexibility needed for most ceiling heights . the steel construction is completed with a clean nickel finish . illuminating every corner of the room is easy with this light cage style chandelier . it is sure to catch the eye of your guests .', metadata={'product_id': 6361, 'product_name': 'mcguinness 8-light candle style drum chandelier'}),\n",
       " Document(page_content='we get it . everyone deserves to enjoy the benefits of good design in their home—and now everyone can . meet mitzi . inspired by the founder of hudson valley lighting ’ s grandmother , a painter and master antique-finder , mitzi mixes classic with contemporary , sacrificing no quality along the way . designed with thoughtful simplicity , each fixture embodies form and function in perfect harmony . with less clutter and more creativity , mitzi is attainable high design .', metadata={'product_id': 6362, 'product_name': \"flush mount lighting katsikis 1-light 14 '' semi flush mount\"}),\n",
       " Document(page_content='we get it . everyone deserves to enjoy the benefits of good design in their home—and now everyone can . meet mitzi . inspired by the founder of hudson valley lighting ’ s grandmother , a painter and master antique-finder , mitzi mixes classic with contemporary , sacrificing no quality along the way . designed with thoughtful simplicity , each fixture embodies form and function in perfect harmony . less clutter and more creativity , mitzi is attainable high design .', metadata={'product_id': 6363, 'product_name': \"flush mount lighting alex 3-light 19 '' semi flush mount\"}),\n",
       " Document(page_content='we get it . everyone deserves to enjoy the benefits of good design in their home—and now everyone can . meet mitzi . inspired by the founder of hudson valley lighting ’ s grandmother , a painter and master antique-finder , mitzi mixes classic with contemporary , sacrificing no quality along the way . designed with thoughtful simplicity , each fixture embodies form and function in perfect harmony . less clutter and more creativity , mitzi is attainable high design .', metadata={'product_id': 6364, 'product_name': \"flush mount lighting glenmore 1-light 14 '' semi flush mount\"}),\n",
       " Document(page_content='there ’ s no easier way to refresh a room than changing the table or floor lamps . ( okay , well , yeah , flowers , but go with it . ) with marble makeovers , cool copper tones and brutalist concrete , lamps feature interesting materials to enhance the office space or bedside table . not just for the industrial enthusiast , these materials can be at home in rooms ranging from white to blush to moody . ideal for the desktop dreamer , lamps are an essential part of any room ’ s personality . it ’ s a thing . look it up .', metadata={'product_id': 6365, 'product_name': \"gleno 19.75 '' novelty lamp\"}),\n",
       " Document(page_content=\"this wall shelf gives you both organization and style , without taking up square footage . we call that a decorating one-and-done . it 's made from engineered wood , and shows off an open , asymmetric design for a sleek modern vibe . it has a total of five shelves , so there 's room for books , a succulent or two , and anything else you 'd like to display . it measures 51 '' tall and 45 '' wide , so it 's great for making the most of a blank wall and freeing up space on your floors .\", metadata={'product_id': 6366, 'product_name': '5 piece accent shelf'}),\n",
       " Document(page_content='the perfect fusion of malaga cherry with beige in high gloss and aluminum fittings at the fronts is a perfect offer for a person with sophisticated taste . the natural charm and elegance of individual elements provide this shelf with a taste of idyllic tranquillity .', metadata={'product_id': 6367, 'product_name': 'andrzejewski wall shelf'}),\n",
       " Document(page_content=\"this upholstered dining chair has a modern design that updates and complements any style of dining room table . the 20 '' h seat has a mid-size back for convenience and support , and rounded , foam cushioning upholstered in a neutral beige linen . we love the contrasting bronze finish on the stainless steel , sled-style legs , and base that complete their sleek and contemporary look . best of all : this dining chair comes fully assembled and ready to style in your space .\", metadata={'product_id': 6368, 'product_name': 'doherty upholstered dining chair'}),\n",
       " Document(page_content='drawing inspiration from industrial designs , this sideboard brings a taste of what ’ s trending to your entertainment ensemble . crafted from manufactured wood , this piece showcases a cement-inspired top and sides which pair with mesh sliding cabinet doors for plenty of factory flair . beyond stylish , this server features a 10-bottle wine rack , a suspended stemware rack , a lower drawer , and a total of five shelves for essential storage space . plus , it ’ s founded atop four locking casters for must-have mobility , so you can transport your favorite bottles of bordeaux between rooms with ease .', metadata={'product_id': 6369, 'product_name': \"dickenson 47.25 '' wide 1 drawer server\"}),\n",
       " Document(page_content='raise your tv to new heights atop this sleek and sophisticated entertainment center ! the angled supports on both sides feature a black finish for a beautiful contrast with the dark gray wood of the shelves that they support . four open shelves in the center of the piece leave plenty of space for media devices while the additional side shelves provide a place to display memorabilia and set up speakers for an exciting sound . rounded out with a pair of drawers for convenient storage , this piece is the perfect piece to complete your entertainment room ’ s chic look while offering versatile storage solutions as well .', metadata={'product_id': 6370, 'product_name': \"brosnan tv stand for tvs up to 88 ''\"}),\n",
       " Document(page_content='bynoe extendable trestle dining table', metadata={'product_id': 6371, 'product_name': 'bynoe extendable trestle dining table'}),\n",
       " Document(page_content='callan wood bench', metadata={'product_id': 6372, 'product_name': 'callan wood bench'}),\n",
       " Document(page_content='aleynah 4 light bath vanity light', metadata={'product_id': 6373, 'product_name': 'aleynah 4 light bath vanity light'}),\n",
       " Document(page_content='with a compact and elegant design , this shoe cabinet is perfect for houses with space constraints . two-tone finish for a modern look in dark oak and white will blend in with a variety of decor schemes easily . functional and beautiful , it makes for a great addition to your home . the shoe cabinet is solidly built with engineered wood in two-tone oak and white finishing . the shoe cabinet has three shelves with two fixed dividers , three doors , and vinyl legs .', metadata={'product_id': 6374, 'product_name': 'gavin 14 pair shoe storage cabinet'}),\n",
       " Document(page_content='with a compact and elegant design , this shoe cabinet is perfect for houses with space constraints . two-tone finish for a modern look in dark oak and white will blend in with a variety of decor schemes easily . functional and beautiful , it makes for a great addition to your home . the shoe cabinet is solidly built with engineered wood in two-tone oak and white finishing . the shoe cabinet has three shelves with two fixed dividers , two doors , and legs made of vinyl .', metadata={'product_id': 6375, 'product_name': 'gavin 9 pair shoe storage cabinet'}),\n",
       " Document(page_content='providing a head-to-toe view of your reflection , this modern full-length mirror is a must for getting ready in the bathroom or bedroom . crafted from wood in a versatile solid finish , its tall and narrow frame features an easel backing so you can stand it on its own in an unused corner . around the side , this freestanding piece features a neutral finish that adds a glam touch to your bedroom or guest room .', metadata={'product_id': 6376, 'product_name': 'loeffler modern & contemporary full length mirror'}),\n",
       " Document(page_content='weisman faux leather reversible modular corner sectional with ottoman', metadata={'product_id': 6377, 'product_name': 'weisman faux leather reversible modular corner sectional with ottoman'}),\n",
       " Document(page_content='orchids floral arrangements and centerpieces in pot importing vitality and freshness whether placed on a dining table , coffee table or counter , this gorgeous arrangement of faux moth orchids has natural charm . featuring three arching stems of phalaenopsis orchids in cool and classic white with creamy centers , this phalaenopsis orchid and artificial succulents floral arrangement in pot is designed to be equally beautiful whichever side it is viewed from . lush green foliage , fluffy moss and shiny river pebbles add body and enhance the realistic look . this flower arrangement is anchored in a sleek metal pot in matte black for a chic , contemporary finish .', metadata={'product_id': 6378, 'product_name': 'orchids floral arrangement in pot'}),\n",
       " Document(page_content='clustered together for strong visual appeal and natural flair , this exotic faux floral container features a variety of succulents offset with a dramatic red flower . wonderfully crafted and seated in a simple modern pot , this elegant tropical aloe succulent in pot would be the ideal decorative touch in a family room for dramatic effect . forgo the watering and move right to enjoying your lovely new home decor piece .', metadata={'product_id': 6379, 'product_name': 'tropical aloe succulent in pot in planter'}),\n",
       " Document(page_content=\"display fine china , serve up a sumptuous feast , or craft a decorative display in the dining room with this sideboard ! crafted from manufactured wood with a high-gloss finish , its streamlined silhouette is designed to blend into decor styles from modern to transitional . four doors conceal six shelves onto which you can place plates , spare linens , and anything else you want out of sight but close at hand as you 're entertaining .\", metadata={'product_id': 6380, 'product_name': \"miruna 63 '' wide wood sideboard\"}),\n",
       " Document(page_content='in today ’ s world of ever-shrinking spaces , this chair is the perfect fit in both size and style . it has an elegant steel frame that is powder-coated . the upholstery is done in soft and plush distressed worn leather .', metadata={'product_id': 6381, 'product_name': \"melina 29 '' wide cowhide armchair\"}),\n",
       " Document(page_content='atropos low end table', metadata={'product_id': 6382, 'product_name': 'atropos low end table'}),\n",
       " Document(page_content=\"this 2-drawer coffee table brings both the surface area you want and the storage you need to your living room . each drawer has plenty of room for playing cards or spare coasters , and features a clear acrylic drawer pull for easy opening . this table is made from a blend of solid and engineered wood , and has a light brown base that 's topped with an oyster white box . geometric carved details finish it off in style .\", metadata={'product_id': 6383, 'product_name': 'updegraff contemporary rect coffee table'}),\n",
       " Document(page_content=\"wardrobes are just the perfect addition to your room , when you don ’ t have a traditional closet , or just need extra closet space to store all your favorite hanging or folded items of clothing . this one , for example , features a sleek and simple design perfect for modern and contemporary aesthetics . it is constructed of manufactured wood in a neutral finish , and features mirrored doors , with two shelves , and two clothing rods . this armoire measures 86 '' h x 78.7 '' w x 23.6 '' d .\", metadata={'product_id': 6384, 'product_name': 'zanders armoire with mirror sliding doors'}),\n",
       " Document(page_content='this new ceiling fan features a modern geometric design that is sure to be the focal point of any room it graces . this ceiling fan comes equipped with a 4-speed wall control .', metadata={'product_id': 6385, 'product_name': \"56 '' amundsen 5 - blade standard ceiling fan with wall control\"}),\n",
       " Document(page_content='rich , neutral tones are complemented by straight , clean edges making this feldt bar with wine storage unit the perfect modern addition to your entertaining space . from top to bottom , it offers practicality with loads of storage and display possibilities . the tempered , smoky black glass top is ideal for pouring drinks while entertaining . below it , multiple inverted racks are great for hanging wine and martini glasses securely yet within easy reach ; and six shelves are highlighted with chrome-finished ledges . the unit it grounded with its center console providing ample space for up to 15 wine bottles and a cabinet for even more bottles of your favourite spirits .', metadata={'product_id': 6386, 'product_name': 'feldt bar with wine storage'}),\n",
       " Document(page_content='this arriaga hand tufted magenta area rug is made of 100 % polyester fabric . this rug is and hand tufted with thinner and thicker yarns with cotton backing .', metadata={'product_id': 6387, 'product_name': 'arriaga hand-tufted magenta area rug'}),\n",
       " Document(page_content='add a fruity touch to your home decor with this lovely pineapple sculpture in ceramic . comes in a glass blue finish . features an embossed lattice design . a beautiful way to liven up any interior .', metadata={'product_id': 6388, 'product_name': 'kleckner delicious pineapple sculpture with embossed lattice design'}),\n",
       " Document(page_content='be amazed by the comfort and style this rinehart mid century modern solid wood dining chair will bring to space . the scooped seat , angular legs , and steel accents scream retro while the five classic color options bring out the best in any home .', metadata={'product_id': 6389, 'product_name': 'rinehart mid century modern dining chair'}),\n",
       " Document(page_content=\"this bar stool combines luxe materials and finishes to create a glam accent at your kitchen counters . it 's made from metal in a gold tone and features two sled legs with crossbars where you can rest your feet for additional comfort . the circular bucket-like seat has an openwork grid design along the back . the seat cushion is upholstered in white faux shag for a dramatic aesthetic . and it 's filled with foam for just the right amount of support as you sit . plus , this bar stool arrives fully assembled .\", metadata={'product_id': 6390, 'product_name': \"kaiya 30.4 '' bar stool\"}),\n",
       " Document(page_content=\"simple and sophisticated : the two reasons why we love this armchair . it 's built on a solid pine wood frame and features square track arms and tapered legs for a mid-century-inspired silhouette . the leather upholstery is filled with foam and has a spring seat construction for just the right amount of support that bounces back . you can remove the back cushion to make tv remote-finding a little easier . to assemble all you have to do is attach the legs .\", metadata={'product_id': 6391, 'product_name': \"nalston 39 '' wide top grain leather armchair\"}),\n",
       " Document(page_content='luxurious velvet makes this chaise an elegant addition to your bedroom or family room . tufted details and carved wooden feet are just a few added touches that will make this chaise lounge your new favorite place to lounge . coordinating accent pillow included .', metadata={'product_id': 6392, 'product_name': 'brighouse chaise lounge'}),\n",
       " Document(page_content=\"lonon 96 '' wide reversible modular sectional with ottoman\", metadata={'product_id': 6393, 'product_name': \"lonon 96 '' wide reversible modular sectional with ottoman\"}),\n",
       " Document(page_content=\"don ’ t settle for any armchair . this is the armchair your living room or master bedroom needs to set the scene . it ’ s upholstered in polyester velvet fabric for a luxe look , and its sloped square arms and back are lined with hand-applied nailhead trim for an eye-catching tailored look . this chair 's tight back and inner arms feature button tufting for a traditional look , while its removable seat cushion has piped details . now pick up a good book or a glass of wine , sit back , and relax . hand-curated by kelly clarkson .\", metadata={'product_id': 6394, 'product_name': \"pearson 28 '' wide tufted velvet armchair\"}),\n",
       " Document(page_content='bring in this armchair to finish the look in your living room or bedroom . the durable faux leather upholstery and high-density foam cushioning create an inviting place to sit . an individually placed silver nailhead trim and the solid birch legs add a touch of classic charm .', metadata={'product_id': 6395, 'product_name': \"holsworthy 29.13 '' wide armchair\"}),\n",
       " Document(page_content='luxurious leather upholstery highlights . this club chair features hardwood construction and brass-colored nail-head trims .', metadata={'product_id': 6396, 'product_name': \"boley 41 '' wide top grain leather club chair\"}),\n",
       " Document(page_content='whether perched at the head of the table , pulled up to a writing desk , or left in a little-used corner , this dining chair brings a casual character with a dash of flair home . the armless build of this chair slides up snug to any table or desktop .', metadata={'product_id': 6397, 'product_name': 'alani upholstered dining chair'}),\n",
       " Document(page_content='turn your bedroom into your new favorite room with this chic tufted upholstered headboard . crafted of durable wood and high-quality polyester upholstery , this headboard will last for years to come .', metadata={'product_id': 6398, 'product_name': 'ouest upholstered panel headboard'}),\n",
       " Document(page_content='this stylish outdoor sofa helps open-air space into something truly special while adding some fashion and comfort to your home . quick-drying cushions offer back support and the included accent pillows make for a complementary look . rated for 3,000 uv exposure , weather , the color-fade-resistant softness means your outdoor area will look good for years to come . have it all with premium furnishings .', metadata={'product_id': 6399, 'product_name': \"holborne 80.7 '' wide outdoor patio sofa with sunbrella cushions\"}),\n",
       " Document(page_content=\"this recliner has a clean-lined silhouette that 's wrapped in 100 % top-grain leather to create a classic coastal farmhouse accent in your living room . it 's built with a solid pine wood frame with track arms and tapered dowel legs with visible wood grain for a rustic flair . the tight seat and back cushions are filled with foam and the seat has coil springs for just the right amount of support as you sit . button tufting dots the back cushion for a hint of vintage design . to recline , all you have to do is push back and kick your feet up .\", metadata={'product_id': 6400, 'product_name': \"mary 30 '' wide genuine leather manual standard recliner\"}),\n",
       " Document(page_content='this recliner combines style and function , thanks to its clean lines , genuine leather upholstery , and two different positions . it features a rich solid hue that accents this design along with square arms , tonal stitching details , and tapered wood legs for a mix of mid-century and coastal farmhouse looks . its manual , pushback reclining mechanism makes it super easy to relax on top of foam-filled seat and back cushions , either with a good book or your remote control . partial assembly is required .', metadata={'product_id': 6401, 'product_name': \"searsport 35 '' wide genuine leather manual standard recliner\"}),\n",
       " Document(page_content=\"this rustic leather armchair has a tufted biscuit back and metal legs for a modern and industrial look in your living room . it 's made with a solid pine wood frame , and its thin legs have a sleek black finish . the track arms , square back , and seat are filled with high-density foam and sinuous springs for lots of support while you gather around a roaring fire or watch your favorite film . plus , the cushion on this chair is removable , allowing you to easily clean up fallen crumbs . all the tools you need for stress-free assembly are included .\", metadata={'product_id': 6402, 'product_name': \"henning 34 '' wide tufted top grain leather armchair\"}),\n",
       " Document(page_content='bring the sophisticated look and details of tonal quilting and bucket seat to your kitchen , dining room , or entertainment area . this upholstered dining chair is the perfect addition and great for everyday use . th upholster is soft , easy to care for , and accents style & comfort simultaneously .', metadata={'product_id': 6403, 'product_name': 'ellayne tufted faux leather dining chair ( set of 2 ) , dark brown'}),\n",
       " Document(page_content='the all new art-deco meet modern dining chair is here . enveloped in a high quality soft velvet upholstery , the hardwood and plywood frame and seating cushion is designed to have seating support and to create a fashionable flair for your entertainment space .', metadata={'product_id': 6404, 'product_name': 'josune arm chair'}),\n",
       " Document(page_content=\"this sleeper sectional showcases a contemporary look that works with a variety of aesthetics , adding both style and substance to your space ! its track arms , crisp cushions , and tapered wooden legs create a clean-lined silhouette that gives your living room a tailored update . founded atop a solid wood frame , it 's upholstered with foam cushioning and polyester fabric in a solid neutral hue . its chaise lifts to reveal hidden storage , and a bed pulls out from underneath its seat cushions .\", metadata={'product_id': 6405, 'product_name': \"maumelle 78 '' wide reversible sleeper sofa & chaise\"}),\n",
       " Document(page_content='create a beautiful patio entertaining space with this grey outdoor wicker sectional set . navy blue weather resistant cushions make a modern statement on the grey outdoor wicker sectional . powder coated aluminum frame is durable and weather safe . coordinating cushioned ottoman can double as a coffee table . patio set includes modular sectional and coffee table/ottoman .', metadata={'product_id': 6406, 'product_name': 'landers patio sectional with cushions'}),\n",
       " Document(page_content=\"this reversible modular sectional makes the perfect pick for creating a seating arrangement in your home . it 's built on a solid pine wood frame and features clean lines with track arms . the neutral polyester upholstery gives it a classic and understated look , while a foam filling makes it an inviting place to perch . it arrives with a wide ottoman that has a lift-top to reveal a hidden storage spot for your blankets and pillows . plus , you can tuck the ottoman right into the sofa next to the chaise to instantly create a bed for your overnight guests .\", metadata={'product_id': 6407, 'product_name': \"askerby 90 '' wide reversible modular sofa & chaise with ottoman\"}),\n",
       " Document(page_content='without taking up too much space , this portable compact washing machine is perfect for small living areas such as dorms , trailers , small apartments and more . featuring fully-automatic functionality , this washer is the perfect solution to avoiding hand washing and completing significant loads of laundry at once . equipped with 8 water levels and 10 washing programs to meet your different laundry needs , 100 % satisfaction is guaranteed . fill up your washing machine with loads of all sizes up to 8lbs , whether its thick clothes , bed sheets or quilt covers , the durable structure can handle it all . with a built in scheduler timer , throw in your clothes and pre-set a time you would like them to be washed . with the high functionality and practicality of this washing machine , you can now get a powerful and effective laundry wash in the comfort of your own home .', metadata={'product_id': 6408, 'product_name': '10 washing programs 0.45 cu . ft. top load washer with quick wash in white'}),\n",
       " Document(page_content='your chair . this is the place where you want to feel at home and be comfortable . you want a chair that responds to your needs in the same manner that your staff responds to your clients . every chair you purchase has to support and perform as well at your staff . basyx™ understands this balance and embodies it within each chair they produce . outfit your office with the basyx™ - simple , clear , easy .', metadata={'product_id': 6409, 'product_name': 'black leather chair with padded arms'}),\n",
       " Document(page_content='this is the place where you want to provide an organized environment for both you and your employees to be as productive as possible . basyx™ maintains a wide product line with matching pieces for the office so you can create the perfect business setting . your office.crisp , square edge detailing provides a sharp , clean look for any office . outfit your company with the basyx™ - simple , clear , easy .', metadata={'product_id': 6410, 'product_name': 'laminated storage cabinet with lock'}),\n",
       " Document(page_content='made in the usa : when you buy hon , you ’ re buying quality furniture that ’ s more than a practical solution– you ’ re buying proudly american-built office furniture , backed by a lifetime warranty and network of dealers .', metadata={'product_id': 6411, 'product_name': 'preside base'}),\n",
       " Document(page_content='enjoy an upscale feel at a compelling price with this hon mid-back chair . the center-tilt control with tilt lock and tension control allows you to customize your comfort and find the best reclining position . durable vinyl upholstery and five-star base are made to last , and dramatic fixed arms provide enhanced upper body support and all-day comfort .', metadata={'product_id': 6412, 'product_name': 'swivel executive chair'}),\n",
       " Document(page_content='transform your desk into a standing desk with the hon desktop riser . the spacious work surface and separate keyboard tray sit on top of your existing table or desk . easily adjust your desk height while you work with the smooth dual lever adjustment mechanism . this riser can be adjusted to fit whatever height you need . we constructed this desktop riser to provide a durable workstation and backed it with a 5-year limited warranty .', metadata={'product_id': 6413, 'product_name': 'standing desk converter'}),\n",
       " Document(page_content='this contemporary bathroom accessory set completes any bathroom . keep everything organized and coordinated , while showcasing elegance at the same time . its also waterproof , so perfect for the steamy room .', metadata={'product_id': 6414, 'product_name': 'woodrow onyx 5 piece bathroom accessory set'}),\n",
       " Document(page_content=\"add a lovely touch to the decor with the children 's recliner . the recliner is constructed from oak wood with fabric that enhances its strength and durability . the children ’ s recliner has four feet that makes it stable on the floor . it has a reclining mechanism perfectly relaxing .\", metadata={'product_id': 6415, 'product_name': 'feodora storm kids recliner and ottoman'}),\n",
       " Document(page_content=\"add a lovely touch to the decor with the children 's recliner . the recliner is constructed from oak wood with fabric that enhances its strength and durability . the children ’ s recliner has four feet that makes it stable on the floor . it has a reclining mechanism perfectly relaxing .\", metadata={'product_id': 6416, 'product_name': 'ethanael chill kids recliner and ottoman'}),\n",
       " Document(page_content=\"add a lovely touch to the decor with the children 's recliner . the recliner is constructed from oak wood with fabric that enhances its strength and durability . the children ’ s recliner has four feet that makes it stable on the floor . it has a reclining mechanism perfectly relaxing .\", metadata={'product_id': 6417, 'product_name': 'evynne storm kids recliner and ottoman'}),\n",
       " Document(page_content='feivel lovely kids recliner and ottoman', metadata={'product_id': 6418, 'product_name': 'feivel lovely kids recliner and ottoman'}),\n",
       " Document(page_content='add a lovely touch to the decor with this product the recliner is constructed from oak wood with fabric that enhances its strength and durability . it has armrests that are slightly larger at the top and it has a flattened top surface that makes it extra comfortable . the chair has four feet made from wood that makes it stable on the floor . it has a reclining mechanism perfectly relaxing .', metadata={'product_id': 6419, 'product_name': 'coomes kids recliner'}),\n",
       " Document(page_content=\"add a lovely touch to the decor with this children 's recliner . the recliner is constructed from oak wood with fabric that enhances its strength and durability . the children 's recliner has four feet that makes it stable on the floor . it has a reclining mechanism perfectly relaxing . this children 's recliner can be wiped clean with a damp cloth with lukewarm water .\", metadata={'product_id': 6420, 'product_name': 'coppage sports kids chair'}),\n",
       " Document(page_content='get the classic look of subway tile with this flat peel and stick backsplash ! the crisp white design is perfect for the modern farmhouse , minimalist bathroom , or industrial loft . metro tile peel and stick backsplash contain 1 piece on 1 sheet that measures 108 x 18 inches .', metadata={'product_id': 6421, 'product_name': \"3 '' x 5 '' vinyl peel & stick subway tile\"}),\n",
       " Document(page_content='rustic with a modern edge , this peel and stick backsplash is made to resemble tile . an array of neutral hues emphasize its sleek style . tile peel and stick backsplash contains 1 piece on 1 sheet that measures 108 x 18 inches .', metadata={'product_id': 6422, 'product_name': \"18 '' x 108 '' peel and stick vinyl wall paneling in light gray\"}),\n",
       " Document(page_content=\"get the look of stone you 've always wanted without the mess ! with detailed shading and stones of various sizes , this peel and stick backsplash has the realistic look of slate . grey stone peel and stick backsplash contains 1 piece on 1 sheet that measures 108 x 18 inches .\", metadata={'product_id': 6423, 'product_name': \"18 '' x 108 '' peel and stick vinyl wall paneling in gray\"}),\n",
       " Document(page_content='faux tin tiles have a silver hue and beautifully detailed design . the peel and stick material makes it possible to add a beautiful backsplash to a rental or an apartment . chelsea silver tin peel & stick backsplash tiles peel and stick tiles contains 4 pieces on 4 sheets that measure 10 x 10 inches .', metadata={'product_id': 6424, 'product_name': \"chelsea 10 '' x 10 '' peel and stick vinyl wall paneling\"}),\n",
       " Document(page_content='leeton lying girl reading book statue', metadata={'product_id': 6425, 'product_name': 'leeton lying girl reading book statue'}),\n",
       " Document(page_content='urn', metadata={'product_id': 6426, 'product_name': 'urn'}),\n",
       " Document(page_content='the printer cart is built with a double tier design and a drawer , keeps printer or scanner within easy reach of your desk to free up workspace , and also can be used as a file cabinet , side end table , nightstand , storage shelf , kitchen trolley cart and so on . it is ideal for both home and office use with its neat and modern appearance .', metadata={'product_id': 6427, 'product_name': 'steel and wood mobile printer stand'}),\n",
       " Document(page_content='this single-hole bathroom faucet is durable and fully functional in your bathroom due to its strong brass structure and easy cleaning . the corrosion-resistant coating will not fade or lose gloss over time . the black matte finish is compatible with any washbasin or washbasin . the finishes add a touch of sophistication to your bathroom .', metadata={'product_id': 6428, 'product_name': 'single hole faucet bathroom faucet'}),\n",
       " Document(page_content='inspired by retro metal products , this faucet series presents a stylish and chic appearance with a aesthetic style . the faucet is designed to be easy to clean , and its surface is corrosion-resistant and wear-resistant . the handle of the faucet allows for smooth operation , while the ceramic valve provides a leak-free and drip-free experience .', metadata={'product_id': 6429, 'product_name': 'widespread faucet bathroom faucet'}),\n",
       " Document(page_content='the tubular nozzle and handle contrast with the appearance of the exposed pipe , while the polished edges create a stylish and modern style . this bathroom faucet can make the shower room cleaner when you use it . you know that our faucets come with limited warranty support , so you can install them with confidence .', metadata={'product_id': 6430, 'product_name': 'widespread faucet bathroom faucet'}),\n",
       " Document(page_content='the beautiful finish provides the perfect complement to the modern space . the clear laminar flow provides a beautiful waterscape for the advanced atmosphere . in order to make the appearance more cohesive , we can provide a complete set of supporting products to perfect your bathroom decoration .', metadata={'product_id': 6431, 'product_name': 'unique single hole faucet bathroom faucet'}),\n",
       " Document(page_content=\"aatreya 7.5 '' melamine dessert plate\", metadata={'product_id': 6432, 'product_name': \"aatreya 7.5 '' melamine dessert plate\"}),\n",
       " Document(page_content='scharf christmas tree', metadata={'product_id': 6433, 'product_name': 'scharf christmas tree'}),\n",
       " Document(page_content='reeder caned teak dining chair', metadata={'product_id': 6434, 'product_name': 'reeder caned teak dining chair'}),\n",
       " Document(page_content='higuera hive dome cake stand', metadata={'product_id': 6435, 'product_name': 'higuera hive dome cake stand'}),\n",
       " Document(page_content='hilburn dome cake stand', metadata={'product_id': 6436, 'product_name': 'hilburn dome cake stand'}),\n",
       " Document(page_content=\"this serving tray is a glam accent that adds both organization and shine to your space . it 's made of engineered wood and features a classic circular shape . the lacquered metallic finish catches the light for a little extra flair . we love that it has raised edges to keep items in place – use it to display florals , candles , and other luxe decor . this serving tray is the perfect addition to your coffee table , sideboard , or end table .\", metadata={'product_id': 6437, 'product_name': 'elisha gold leaf serving tray'}),\n",
       " Document(page_content='herculaneum ceramic faux grain owl', metadata={'product_id': 6438, 'product_name': 'herculaneum ceramic faux grain owl'}),\n",
       " Document(page_content='coutu adjustable cake stand', metadata={'product_id': 6439, 'product_name': 'coutu adjustable cake stand'}),\n",
       " Document(page_content='covell adjustable cake stand', metadata={'product_id': 6440, 'product_name': 'covell adjustable cake stand'}),\n",
       " Document(page_content='oxyoke urn', metadata={'product_id': 6441, 'product_name': 'oxyoke urn'}),\n",
       " Document(page_content='richon 2 piece accent tray set', metadata={'product_id': 6442, 'product_name': 'richon 2 piece accent tray set'}),\n",
       " Document(page_content='contemporary danish designed pots , vases , and accessories made by a fair trade project in sri lanka . this item is constructed from sustainable materials including recycled paper , plastic , aluminum , natural sand and latex , and cut-offs of mahogany from the furniture industry as well as other biodegradable materials . 100 % waterproof . fair trade , made of natural materials , european design .', metadata={'product_id': 6443, 'product_name': 'grand composite pot planter'}),\n",
       " Document(page_content='finest quality cactus replicas . water safe , avoid prolonged direct sunlight . from vinyls and paints .', metadata={'product_id': 6444, 'product_name': 'coryphantha faux plant in pot'}),\n",
       " Document(page_content='marble hex coaster', metadata={'product_id': 6445, 'product_name': 'marble hex coaster'}),\n",
       " Document(page_content='dilley cake platter', metadata={'product_id': 6446, 'product_name': 'dilley cake platter'}),\n",
       " Document(page_content='woven rattan planter basket', metadata={'product_id': 6447, 'product_name': 'woven rattan planter basket'}),\n",
       " Document(page_content='rathjen urn', metadata={'product_id': 6448, 'product_name': 'rathjen urn'}),\n",
       " Document(page_content='open , multi-level designs and unique storage compartments add to the timeless , mid-century appeal of mesa . all tops and shelves are made with a mix of solid wood and expertly matched aa-grade surface veneers .', metadata={'product_id': 6449, 'product_name': \"mesa solid wood tv stand for tvs up to 65 ''\"}),\n",
       " Document(page_content='for stylish repose , this chaise lends a magical aura to any bedroom or sitting room . distinguished by its sweeping , shimmering blush taupe frame that swirls around the entire silhouette , there is a refined elegance of proportion to this piece . it affords the comfort of a lounge chair , with its plush platform seat , double row of polished brass nails , and a scallop-tufted in-back for support . add a quilted velvet throw pillow , and you have the most comfortably elegant seat in the house from which to enjoy a cup of tea and a good book .', metadata={'product_id': 6450, 'product_name': 'adela channel tufted chaise lounge'}),\n",
       " Document(page_content=\"this table has modern neoclassic features and is beautifully detailed with a beveled glass top that reflects shimmering blush taupe paint underneath . the piece has two drawers ; the top drawer 's interior has blush taupe metallic stencil details . this is a sleek piece that will stand out in front of a generously sized sofa .\", metadata={'product_id': 6451, 'product_name': 'adela drum coffee table with storage'}),\n",
       " Document(page_content='this chaise is making a return to stately bedrooms and sitting rooms . this graceful statement piece has sweeping lines that mimic the curves of the sleigh bed and is enrobed in sumptuous buff velvet . the piece rests on an exposed wooden base that is finished in soft silver paint .', metadata={'product_id': 6452, 'product_name': 'avondale velvet chaise lounge'}),\n",
       " Document(page_content=\"soft and sophisticated are the hallmarks of this upholstered bed with sweeping lines . the headboard 's classic serpentine shape , side rails , and footboard have been contemporized with an exposed wood frame dressed in soft silver paint and a shimmering brushed tweed fabric in neutral cream tones . the bed sits off the floor on contemporary , silver-painted trapezoidal feet .\", metadata={'product_id': 6453, 'product_name': 'avondale brushed tweed upholstered standard bed'}),\n",
       " Document(page_content='featuring a rectangular , live-edge top crafted from premium mango wood , the dining table is large enough to comfortably cater to a party of six . the live-edge top is supported by two solid wood , plank-like legs that stabilize the table to perfection . finished in a medium brown tone with metal cladding on the base , the grovetown dining table is sure to be a sensation in your space .', metadata={'product_id': 6454, 'product_name': \"grovetown 38 '' mango solid wood dining table\"}),\n",
       " Document(page_content='are you eager to adorn someplace with brilliant ideas ? then why not try this bar stool set for your kitchen island , home bar , dining room or entertainment space . boasting a round silhouette , this piece is crafted of brown wood top with sturdy metal frame in dark bronze finish that ensures a long service life . featuring a 360-degree swivel action , this bar stool enables you and your guests to turn in any direction effortlessly , while the footrests around the frame can not only rest your feet but also plays the role of reinforcement . the industrial and clean-lined design offer a vintage feel with modern appeal , making it complement any home decor . come in a set of two , the understated bar stools are a versatile seating solution anywhere in your home', metadata={'product_id': 6455, 'product_name': \"tunnell swivel solid wood 24.2 '' counter stool\"}),\n",
       " Document(page_content='are you ready to welcome friends and neighbors with something fun and unique element ? look no further than this friendly owl family statue . featuring three adorable owls stacked on each other , this statue will the hearts of any passerby ! the owl family members have the largest most lovely eyes and beautiful feathers painted in different colors that add a playful look and whimsical accent to any space in your home . made from a superior quality resin , this cute animal statue was designed to withstand the elements yet is light enough to easily move around . great gift for a friend or family member for mother ’ s day , birthday , and housewarming .', metadata={'product_id': 6456, 'product_name': 'stringham stacking owl family statue'}),\n",
       " Document(page_content='searching for something special to brighten your bare walls ? well this gorgeous peacock will do the job just fine for you ! whether you want to add a splash of color to a traditional space or a graceful and vivid touch to chic modern farmhouse , this peacock wall decor is the perfect pick . crafted of durable metal and hand-painted with delicate details for an amazing lifelike appearance , this elegant peacock is sure to bring an intimate and cozy atmosphere to your indoor or outdoor space , while leaving a long-lasting impression . skillfully set some solar lights around the peacock ’ s tail , they glow soft and warm light in the darkness after the sensor absorbs enough sunlight during daytime , creating a compelling appeal for your ordinary home decor .', metadata={'product_id': 6457, 'product_name': 'ashlar peacock wall decor'}),\n",
       " Document(page_content='this chair is architectural shaping and bold nail head detailing . this armchair has a casual appeal as well as amazing comfort with deep-seated there is plenty of room to relax . it features semi-attached backs , blends down seat cushions , and recesssed arms .', metadata={'product_id': 6458, 'product_name': \"steel 43 '' wide top grain leather chair and a half\"}),\n",
       " Document(page_content='this armchair brings casual sophistication comes to life . nailheads trim the arm panels and accent the pleated rolled arms- set at the perfect height for a good nap . a plush blend down seat cushion and an attached back provide a plush , comfortable place to relax . tapered block legs offer a modern touch to this simple , but refined look .', metadata={'product_id': 6459, 'product_name': \"copola 41 '' wide top grain leather armchair\"}),\n",
       " Document(page_content='this armchair featuring ultra-plush down blend seat cushions , semi-attached box border backs and classic turned legs you can curl up and read a book . the rolled arms and bottom rails are accented with nailhead trim to frame the curves and shape of this handsome chair .', metadata={'product_id': 6460, 'product_name': \"solerno 45 '' wide top grain leather armchair\"}),\n",
       " Document(page_content='the arched track arm , french seaming , and low profile give this leather piece a casual perspective on modern styling . it features semi-attached backs and blends down cushioning that allows for a soft , deep seat . also available are the matching sofa , chair , and ottoman .', metadata={'product_id': 6461, 'product_name': \"ash 62 '' genuine leather square arm loveseat with reversible cushions\"}),\n",
       " Document(page_content=\"create a definite showstopper with our upholstered kid ’ s sectional . it does not lack in personality , cuteness , and function . give your little one the freedom to arrange their seating around to their liking . each love seat and corner seat provides a plush seat , and back for your little one to relax , read a book , or watch tv . the ottoman comes with a 2 piece cup holder for convenience . included four ( 4 ) accent pillows to complement the base color . dimensions : loveseat - 24 '' w x 17 '' d x 22 '' h corner seat - 17 '' w x 17 '' d x 22 '' h ottoman - 16 '' w x 16 '' d x 9 `` h back height - 10.75 '' h floor to seat height - 11 '' h seat depth - 12.5 '' d\", metadata={'product_id': 6462, 'product_name': 'kids chair with ottoman'}),\n",
       " Document(page_content='our product adds fun to any space in your home . give your little ones their very own pint-sized furniture that they can call their own ! crafted with fun-friendly fabric for durable wear , and easy to clean .', metadata={'product_id': 6463, 'product_name': 'rocking chair'}),\n",
       " Document(page_content='simple and light luxury industrial style solid wood metal 5-layer bookshelf , the unique x shape on the back strengthens the stability of the entire bookshelf . it can be used in various room types or occasions such as kitchen , living room , bedroom , etc . it is a good assistant for home or office storage decoration .', metadata={'product_id': 6464, 'product_name': \"clemons 70.8 '' h x 48 '' w steel etagere bookcase\"}),\n",
       " Document(page_content='this mattress material is made of more advanced memory foam and knitted fabrics , which can only provide great pressure relief and local rebound , so you will not disturb your sleeping partner . we use special natural memory foam certified by certipur-us foam , spring , and fireproof design . the mattress is specially designed for body parts and can properly support and align the back and waist . the soft knitted fabric bed cover is designed with comfortable memory cotton stitching , which is easy to wear . we use pure natural memory foam to bring super-luxurious comfort . this kind of mattress is both healthy and environmentally friendly . the new mattress needs to be opened for 72 hours to fully emit the odor . the mattress is compressed , rolled up , and transported in a convenient box for easy transport to your door .', metadata={'product_id': 6465, 'product_name': 'chasimi medium memory foam mattress'}),\n",
       " Document(page_content='the dressing table is made of 100 % solid wood ( fir ) and plywood , with three chests of drawers and a countertop made of italian carrara marble . it is an ideal companion for beauty and can be used in the bathroom or boudoir .', metadata={'product_id': 6466, 'product_name': \"goodland high quality 30 '' single bathroom vanity set\"}),\n",
       " Document(page_content='the dressing table is made of 100 % solid wood ( fir ) and plywood , with three chests of drawers and a countertop made of italian carrara marble . it is an ideal companion for beauty and can be used in the bathroom or boudoir .', metadata={'product_id': 6467, 'product_name': \"goodlett high quality 36 '' single bathroom vanity set\"}),\n",
       " Document(page_content='a cost-effective modern style bathroom vanity can be used in any bathroom or room style , not only have enough storage space , and also the black and white finish is applied in many high-grade bathrooms decoration . with one makeup cabinet , cosmetic mirror , sink , and puckering faucet , such compelling facilities are definitely a beautiful sight .', metadata={'product_id': 6468, 'product_name': \"24 '' single bathroom vanity set\"}),\n",
       " Document(page_content='a cost-effective modern style bathroom vanity can be used in any bathroom or room style , not only have enough storage space , and also the black and white finish is applied in many high-grade bathrooms decoration . with one makeup cabinet , cosmetic mirror , sink , and puckering faucet , such compelling facilities are definitely a beautiful sight .', metadata={'product_id': 6469, 'product_name': \"32 '' single bathroom vanity set\"}),\n",
       " Document(page_content='this mattress material is made of more advanced memory foam and knitted fabrics , which can only provide great pressure relief and local rebound , so you will not disturb your sleeping partner . the mattress is specially designed for body parts and can properly support and align the back and waist . the soft knitted fabric bed cover is designed with comfortable memory cotton stitching , which is easy to wear . we use pure natural memory foam to bring super-luxurious comfort . this kind of mattress is both healthy and environmentally friendly . the new mattress needs to be opened for 72 hours to fully emit the odor . the mattress is compressed , rolled up , and transported in a convenient box for easy transport to your door .', metadata={'product_id': 6470, 'product_name': \"chasimi 12 '' medium memory foam mattress\"}),\n",
       " Document(page_content='this mattress material is made of more advanced memory foam and knitted fabrics , which can only provide great pressure relief and local rebound , so you will not disturb your sleeping partner . the mattress is specially designed for body parts and can properly support and align the back and waist . the soft knitted fabric bed cover is designed with comfortable memory cotton stitching , which is easy to wear . we use pure natural memory foam to bring super-luxurious comfort . this kind of mattress is both healthy and environmentally friendly . the new mattress needs to be opened for 72 hours to fully emit the odor . the mattress is compressed , rolled up , and transported in a convenient box for easy transport to your door .', metadata={'product_id': 6471, 'product_name': \"chasimi 9.8 '' medium memory foam mattress\"}),\n",
       " Document(page_content=\"enjoy a memorable night 's sleep thanks to these memory foam mattresses with certipur-us certified foam , made up of memory foam and high-density foam . comfort and air circulation created to provide balanced support—no matter how much you toss and turn . perfectly 3d knitted fabric makes for a breathable and smooth comfort surface . revolutionary high-density foam brings you conforming comfort . and is shipped compressed , rolled , and vacuum-sealed for your convenience .\", metadata={'product_id': 6472, 'product_name': \"chasimi 10 '' medium memory foam mattress\"}),\n",
       " Document(page_content='this white wall-mounted hand-washing cabinet has a simple and elegant overall appearance , is corrosion-resistant , environmentally friendly , and durable . the single-handed faucet can easily adjust the hot and cold water , which is convenient to use and easy to install and clean . not only can you better plan the usable space of your bathroom , but the simple white style is suitable for matching most types of bathroom styles and is the best choice for your bathroom .', metadata={'product_id': 6473, 'product_name': \"hasmik 16 '' wall-mounted single bathroom vanity set\"}),\n",
       " Document(page_content='this matte black long oval makeup wall sconce with led made of die-cast aluminum has two golden luminous ports . the light is soft , not only the appearance is fashionable , but the material is durable . can be used in a powder room or bedroom .', metadata={'product_id': 6474, 'product_name': 'larkin 2-light dimmable led black bath sconce'}),\n",
       " Document(page_content='add a touch of minimalism yet elegance to your garden with this exquisitely crafted planter . with its weather and rust-resistant features , as well as pre-drilled hole and plug , the pot enhances roots health and is suitable for both indoor as well as outdoor usage : an excellent addition to your living space .', metadata={'product_id': 6475, 'product_name': 'gellért resin pot planter'}),\n",
       " Document(page_content='add a touch of minimalism yet elegance to your garden with this exquisitely crafted planter . with its weather and rust-resistant features , as well as pre-drilled hole and plug , the pot enhances roots health and suitable for both indoor as well as outdoor usage : an excellent addition to your living space .', metadata={'product_id': 6476, 'product_name': 'finnly resin pot planter'}),\n",
       " Document(page_content='add a touch of minimalism yet elegance to your garden with this exquisitely crafted planter . with its weather and rust-resistant features , as well as pre-drilled hole and plug , the pot enhances roots health and suitable for both indoor as well as outdoor usage : an excellent addition to your living space .', metadata={'product_id': 6477, 'product_name': 'finntan resin pot planter'}),\n",
       " Document(page_content='add a touch of minimalism yet elegance to your garden with this exquisitely crafted planter . with its weather and rust-resistant features , as well as pre-drilled hole and plug , the pot enhances roots health and suitable for both indoor as well as outdoor usage : an excellent addition to your living space .', metadata={'product_id': 6478, 'product_name': 'gelnett resin pot planter'}),\n",
       " Document(page_content='this table knows how to put a stylish twist on dinner time .', metadata={'product_id': 6479, 'product_name': 'garibaldi iron trestle dining table'}),\n",
       " Document(page_content=\"our elet kitchen island covers your need for storage and more . this multifunctional kitchen cabinet is a freestanding island that features four wheels for legs , each with a locking feature so it does n't slip away while you are chopping fresh herbs and veggies . a towel bar , cabinet with concealed shelf , wine rack shelf , and two open shelves provide plentiful space for cookware , non-perishables , and sundries . the frame is made with a black finish , and topping this is a beautiful stainless steel countertop . some assembly required .\", metadata={'product_id': 6480, 'product_name': 'elet kitchen island'}),\n",
       " Document(page_content=\"aren 45.3 '' console table\", metadata={'product_id': 6481, 'product_name': \"aren 45.3 '' console table\"}),\n",
       " Document(page_content='a comfy chair with padded seat : providing you a comfortable sitting experience and allowing you to enjoy total relaxation .', metadata={'product_id': 6482, 'product_name': 'auvray tufted velvet side chair'}),\n",
       " Document(page_content=\"this bedside table is suitable for small girls ' rooms so that children feel like a little princess . the pink bow shape is very popular with girls .\", metadata={'product_id': 6483, 'product_name': 'desmon metal nightstand in white/light purple'}),\n",
       " Document(page_content='shlok tv stand', metadata={'product_id': 6484, 'product_name': 'shlok tv stand'}),\n",
       " Document(page_content=\"it 's easy to transition into any room due to its neutral color . the chair can wrap around your body to create a hug-like feel ,\", metadata={'product_id': 6485, 'product_name': \"ildze 29 '' wide swivel armchair\"}),\n",
       " Document(page_content='it has a wooden frame and a slatted shelf . a woven basket gives it a natural surface texture that makes you feel comfortable and simple .', metadata={'product_id': 6486, 'product_name': 'juliane 2 - drawer end table'}),\n",
       " Document(page_content='agnete outdoor 3 piece seating group with cushions', metadata={'product_id': 6487, 'product_name': 'agnete outdoor 3 piece seating group with cushions'}),\n",
       " Document(page_content='the harith office chair brings comfort and style to any workspace . handsome , channel-seamed retro top grain leather upholstery is complemented by a metal base with casters and metal frame armrests . its industrial design promises comfort and function as well as stylish style . some assembly required .', metadata={'product_id': 6488, 'product_name': 'harith office genuine leather executive chair'}),\n",
       " Document(page_content='large yet stylish presence : compared with most classic look bunk beds , this bunk bed features an irresistible modern appearance that perfectly combines its clean silhouette and natural wood grain blocks . it suits the décor of many homes and will be the envy of friends . quality comes standard : thanks to a high-quality steel frame and a number of exposed panels for increased stiffness , this bunk bed is firm and secure and won ’ t wobble when assembled correctly . what ’ s more , a rust-proof finish ensures this bed will last at least as long as your kids are home , with maintenance a breeze . multi-purposeful : featuring two generously-proportioned beds in one space-saving package , this bunk bed is perfect for any bedroom , dorm room , hostel , or even in the study for when you have visitors . as with any item around the home , the versatility is only limited by your imagination .', metadata={'product_id': 6489, 'product_name': 'metal standard bunk bed by mason & marbles'}),\n",
       " Document(page_content=\"gin 112.4 '' wide reversible patio sectional with cushions\", metadata={'product_id': 6490, 'product_name': \"gin 112.4 '' wide reversible patio sectional with cushions\"}),\n",
       " Document(page_content=\"ginae 112.59 '' wide symmetrical patio sectional with cushions\", metadata={'product_id': 6491, 'product_name': \"ginae 112.59 '' wide symmetrical patio sectional with cushions\"}),\n",
       " Document(page_content='outdoor patio furniture set with solid construction is durable enough to seat people so that you can enjoy your talk , play games with your friends and relax .', metadata={'product_id': 6492, 'product_name': \"ginelie 113.36 '' wide outdoor wicker u-shaped patio sectional with cushions\"}),\n",
       " Document(page_content='the patio storage furniture is constructed from a powder coat rust-resistant steel frame and all-weather pe rattan which is solid and durable .', metadata={'product_id': 6493, 'product_name': '4 piece patio sectional wicker rattan outdoor furniture sofa set with storage box'}),\n",
       " Document(page_content='every bedroom needs a bit of glam to add character and chic appeal , and that is just what this transitional dresser delivers ! sophisticated clear glass accent panels adorn the top drawers , offering a contemporary element to brighten your bedroom space . stylish knobs and ornate ring pulls add even more charm to the design and make opening the drawers on their simple side metal full extension glides even easier . supported atop tapering wood legs and finished in rustic oak , this elegant bedroom piece will make you feel like a star !', metadata={'product_id': 6494, 'product_name': 'roscommon 7 drawer standard dresser'}),\n",
       " Document(page_content=\"this chair is proudly handcrafted and features a solid , hardwood frame , drop-in coil suspension system which offers superior comfort and stability and welting on all seams . the textured fabric has the classic look of linen and will complement any setting . you 'll enjoy sitting in this chair for hours at a time .\", metadata={'product_id': 6495, 'product_name': \"al maha 33 '' wide wingback chair\"}),\n",
       " Document(page_content=\"this wingback armchair brings traditional style to your living room , bedroom , or library . it 's made in the usa with a kiln-dried solid and engineered wood frame and 100 % polyester upholstery . this armchair features a tight cushioned back and rolled arms with welted edges . birch cabriole front legs in a cherry brown finish add a touch of classic style . we love that this chair has a 42 '' -high back for a cozy place to read or enjoy a cup of coffee .\", metadata={'product_id': 6496, 'product_name': \"alanya 28 '' wide wingback chair\"}),\n",
       " Document(page_content=\"stylish without being ostentatious , this chair is both fresh and familiar . timeless silhouettes combine with metropolitan sensibility in a relaxed , leisurely attitude for those who embrace tradition yet eschew fussy formality . this chair welcomes impromptu get-together with family and friends or an occasional day of working from home . crafted of hardwood solids and maple veneers , this chair 's simple , straightforward lines with softened edges , invites relaxation , while exquisite details signify a sophisticated sense of style . with a focus on functionality , this chair is scaled for the smaller living spaces that characterize urban living . its versatile pieces are adaptable and designed to multitask , moving effortlessly from room-to-room or even home-to-home with ever-innovative storage , home entertainment , and home office options . this chair represents comfort and an easy style of living for a casual state of mind . bring a refined touch to your dining room or den with this lovely armchair , showcasing turned legs , and an open back .\", metadata={'product_id': 6497, 'product_name': 'mcgahan upholstered queen anne back arm chair'}),\n",
       " Document(page_content='danieli living room collection', metadata={'product_id': 6498, 'product_name': 'danieli living room collection'}),\n",
       " Document(page_content='de foix living room collection', metadata={'product_id': 6499, 'product_name': 'de foix living room collection'}),\n",
       " Document(page_content='bring a charming look to your exterior with the outdoor sconce . this uniquely shaped light is enlivened by the clear seedy glass shade that gives it a sense of whimsy and graceful style welcoming your guests to your home .', metadata={'product_id': 6500, 'product_name': \"mckoy 3 - bulb 22.36 '' h outdoor wall lantern\"}),\n",
       " Document(page_content='idlewood king standard bed', metadata={'product_id': 6501, 'product_name': 'idlewood king standard bed'}),\n",
       " Document(page_content='ightham king standard bed', metadata={'product_id': 6502, 'product_name': 'ightham king standard bed'}),\n",
       " Document(page_content='this queen bed crafted in the rectangular shape , this bed will bring you back to 8th-century french furnishings environment . this bed has upholstered in light color linen headboard and footboard associating with nail-headed trim . it is a challenge in the traditional design to achieve fresh and creative taste . this bed design will make you more convenient to decorate your master room .', metadata={'product_id': 6503, 'product_name': 'karmakar queen upholstered platform bed'}),\n",
       " Document(page_content='the perfect dresser with drawers serves as a perfect addition to any master suite or guest room . solid wooden construction and a variety of finish options ensure superior quality , versatility , and long-lasting style . its clean-lined , crisp silhouette is perfect paired next to a structured arm chair or tufted bench for an effortlessly chic look while the warmly-hued finish contrasts nicely with colorful textiles and bold decor . the impressive color along with nobs makes it easy to open and close the drawer very smoothly .', metadata={'product_id': 6504, 'product_name': 'baroda 7 drawer dresser'}),\n",
       " Document(page_content='sitting at the perfect height for kitchen islands , breakfast bars , and pub tables , barstools have a leg up on other seating options . lending a touch of traditional style to your abode , this one showcases a square saddle seat and slatted back for an open and airy feel . sporting a stylishly understated design , it boasts a solid color and even includes a footrest for added comfort .', metadata={'product_id': 6505, 'product_name': 'angelia solid wood bar stool'}),\n",
       " Document(page_content='the entertainment center is sure to transform your living space with its traditional moldings and clean lines . with plenty of room for storage and display , including adjustable shelves , this wall unit ensures that you can keep organized and adds an elegant touch to your home . important features , such as the touch-operated led light in the bridge and wire management in the main console area make this piece practical as well as beautiful .', metadata={'product_id': 6506, 'product_name': \"virginia entertainment center for tvs up to 65 ''\"}),\n",
       " Document(page_content='easily add an extra layer of style and color to your outdoor space for an aesthetic upgrade . this rug is created with a machine-woven technique . easily add an extra layer of style and color to your interior space for an aesthetic upgrade . this rug is created with a machine-woven technique it features a quatrefoil pattern that will instantly uplift the atmosphere of your living room or foyer while seamlessly blending into any arrangement with its understated design . highly resistant to stains , this accessory is created with water-resistant material , making this incredibly durable and easy to maintain so that you can make the most out of your interior decor with simple addition . a quatrefoil pattern that will instantly uplift the atmosphere of your backyard or patio while seamlessly blending into any arrangement with its understated design . highly resistant to stains , this accessory is created with water-resistant material , making this incredibly durable and easy to maintain so that you can make the most out of your outdoor decor with simple addition .', metadata={'product_id': 6507, 'product_name': 'geometric teal/ivory outdoor rug'}),\n",
       " Document(page_content=\"featuring a double bowl configuration and an apron front format , this stainless steel sink combines fashion with function to create a classic design that 's contemporary , yet completely timeless . handcrafted from premium 304 stainless steel for maximum durability , two extra-deep basins accommodate pots , pans , and plates with ease . the clean lines and brushed satin finish complement every style preference , from traditional to transitional to modern . this elegant kitchen sink is equipped .\", metadata={'product_id': 6508, 'product_name': \"33 '' l x 21 '' w double basin farmhouse/apron kitchen sink with sink grid and drain assemblies\"}),\n",
       " Document(page_content='designed to protect walls from splashes and stains this side splash gives your vanity top that stylish finishing touch . made of the engineered marble , it installs easily using a caulking or construction adhesive . this sidesplash is the perfect accessory for your vanity top ( sold separately ) .', metadata={'product_id': 6509, 'product_name': 'marble sidesplash'}),\n",
       " Document(page_content='this sofa collection is designed to fit into any living space and make your room clean and classic . the simple lines of the frame and design choices for the cushions create an inviting space to relax . an absolutely accessible and comfortable setting for you and your family to relax with .', metadata={'product_id': 6510, 'product_name': 'kirkus tufted ottoman'}),\n",
       " Document(page_content='the retro-modern looks hark back to the most creative period in personalized furniture design for homes in america . this set brings back that simple and creative look as you customize your living space around it .', metadata={'product_id': 6511, 'product_name': 'rohrbaugh tufted ottoman'}),\n",
       " Document(page_content='a contemporary collection that modernizes your living space . this design includes clean lines that minimize the bulkiness of more traditional chairs . any accessory can be used to add more personality to customize your living space , which all starts with this centerpiece set .', metadata={'product_id': 6512, 'product_name': \"schull 32 '' wide polyester armchair\"}),\n",
       " Document(page_content='this contemporary style metal bed frame with mdf panels is designed to bring a chic look to your bedroom or dorm room . the bed is made of high-quality steel with secure guardrails , built-in left and right stairs , and a trundle bed with casters that hold up to 400 pounds each . provides strong support to keep your child safe and sleeping well .', metadata={'product_id': 6513, 'product_name': 'gandhile twin over full bunk bed with trundle'}),\n",
       " Document(page_content='modern style and functionality merge together with a single motor and heavy-duty mechanism , lay back or lift and tilt to stand , smoothly adjust to any customized position which provides ultimate lounging experience . soft pillow designed on the back , seat , and armrest for support and comfort with a high back , thick cushion , and high-grade antiskid upholstery , provide a very comfortable sitting feel and enhances safety . for your health , consult your doctor before using this product . if you have pain in a muscle or joint after using for a prolonged period of time , discontinue using and consult your doctor , persistent pain could be a symptom of a more serious condition .', metadata={'product_id': 6514, 'product_name': \"eastan 34 '' wide faux leather power lift assist standard recliner\"}),\n",
       " Document(page_content='the modern sofa sleeper chair has a simple and stylish design , nordic style to fit your living room , dorm , apartment , bedroom , or office with its compact size . two-layer mattress , you can easily switch freely , can be used as a single bed , can also be opened to increase the width .', metadata={'product_id': 6515, 'product_name': 'beyla tufted armless chaise lounge'}),\n",
       " Document(page_content='the park jewelry organizer tray beautifully stores and protects your necklaces , pendants , and long chains . finished in high-quality vegan leather and tarnish-preventing lusterloc interior lining , the luxe tray features a glass lid for protection and visibility .', metadata={'product_id': 6516, 'product_name': 'park necklace jewelry organizer tray'}),\n",
       " Document(page_content='our stackable park collection tray system provides endless modular storage options for your jewelry and accessories . this vault tray insert organizes bracelets and bangles and fits with the park collection jewelry trays and lids to create one compact piece . available in ivory , the insert features tarnish-preventing interior lining to protect your valuables .', metadata={'product_id': 6517, 'product_name': 'park bracelet jewelry organizer tray'}),\n",
       " Document(page_content='our stackable collection tray system provides endless modular storage options for your jewelry and accessories . this earring jewelry tray insert organizes studs , hoops , and more and fits with the collection jewelry trays and lids to create one compact piece . available in ivory , the insert features tarnish-preventing interior lining to protect your valuables .', metadata={'product_id': 6518, 'product_name': 'park earring jewelry organizer tray'}),\n",
       " Document(page_content='living room chair , upholstered side chair modern accent chair with legs , vanity chair for bedroom dresser , tufted guest chair dining chair .', metadata={'product_id': 6519, 'product_name': \"straus 27.6 '' wide velvet side chair\"}),\n",
       " Document(page_content='create a bedtime made in heaven with luxurious bed linens . this designs modern and timeless pieces for the bedroom and each item combines excellent craftsmanship with high quality . the of the design is to give you the feeling of luxury .', metadata={'product_id': 6520, 'product_name': 'laura duvet cover set'}),\n",
       " Document(page_content='an excellent option to place in your powder room , this product has a striking design that is hard to miss . featuring immaculate lines and comprehensive cuts , this vanity set is reminiscent of contemporary styling . meticulously crafted to offer efficiency , it seamlessly blends with most bathroom styles and decors . this product from cambridge plumbing is made from a wooden base and porcelain top for unmatched sturdiness and durability . it has an espresso finish on the base , which beautifully complements the white finish on top . featuring a freestanding orientation , this vanity set also includes two rectangular mirrors with a sleek wooden frame . it has a spacious countertop area , which can easily accommodate your soap dispenser , toothbrush holder , and other bathroom essentials . this vanity set has an immense storage area , which includes seven soft-close drawers and two cavernous cabinets . these storage spaces can be effectively utilized to stockpile anything from toilet papers and napkins to extra soaps and shampoos . this vanity set from cambridge plumbing is non-toxic to ensure optimum safety around pets and children . low on maintenance , it can be easily cleaned with a soft , damp cloth to keep away germs , stains , and grime .', metadata={'product_id': 6521, 'product_name': \"aspen 64 '' double bathroom vanity set with mirror\"}),\n",
       " Document(page_content='sleek , stylish , and versatile , this product is an excellent option to place in your powder room . featuring immaculate lines and comprehensive cuts , this vanity set is reminiscent of contemporary styling . meticulously crafted to offer efficiency , it seamlessly blends with most bathroom styles and decors . this product is made from a wooden base and tempered glass top for unmatched sturdiness and durability . it has an espresso finish on the base , which beautifully complements the clear finish on top . featuring a freestanding orientation , this vanity set also includes two rectangular mirrors with a sleek wooden frame . it has a spacious countertop area , which can easily accommodate your soap dispenser , toothbrush holder , and other bathroom essentials . this vanity set has an immense storage area , which includes seven soft-close drawers and two cavernous cabinets . these storage spaces can be effectively utilized to stockpile anything from toilet papers and napkins to extra soaps and shampoos . it is non-toxic to ensure optimum safety around pets and children . low on maintenance , this vanity set from orren ellis can be easily cleaned with a soft , damp cloth to keep away germs , stains , and grime .', metadata={'product_id': 6522, 'product_name': \"linsley 64 '' double bathroom vanity set with mirror\"}),\n",
       " Document(page_content=\"offering the perfect blend of style and utility , the orren ellis lisenby 71 '' double vanity set is an ideal option to place in your master bathroom or powder room . featuring immaculate lines and comprehensive cuts , this vanity set is reminiscent of contemporary styling . meticulously crafted to offer efficiency , it seamlessly blends with most bathroom style and decors . the lisenby 71 '' double vanity set from orren ellis is made from a wooden base and tempered glass top for unmatched sturdiness and durability . it has an espresso finish on the base , which beautifully complements the clear finish on top . featuring a freestanding orientation , this vanity set also includes two rectangular mirrors with a sleek wooden frame . it has a spacious countertop area , which can easily accommodate your soap dispenser , toothbrush holder , and other bathroom essentials . this vanity set has immense storage area , which includes seven soft-close drawers and two cavernous cabinets . these storage spaces can be effectively utilized to stockpile anything from toilet papers and napkins to extra soaps and shampoos . it is non-toxic to ensure optimum safety around pets and children . low on maintenance , this vanity set from orren ellis can be easily cleaned with a soft , damp cloth to keep away germs , stains , and grime .\", metadata={'product_id': 6523, 'product_name': \"lisenby 71 '' double bathroom vanity set with mirror\"}),\n",
       " Document(page_content=\"55 '' x 30 '' bathtub with faucet\", metadata={'product_id': 6524, 'product_name': \"55 '' x 30 '' bathtub with faucet\"}),\n",
       " Document(page_content='elfin by art lionse , canvas wall art . close up photo of a purple flower with a bright white center . this proprietary canvas provides a classic and distinctive texture , while archival uv protectant inks make it scratch and fade resistant . the fabric base is flexible to support tight corners . the finished canvas print is mounted on a sturdy yet lightweight board to protect against warping , overstretching , or loose , sagging prints . it is then finished with a closed matboard backing and includes pre-installed , ready-to-hang sawtooth hardware .', metadata={'product_id': 6525, 'product_name': 'elfin by art lionse photographic print on canvas'}),\n",
       " Document(page_content='desert footsteps by arash karimi graphic art on canvas', metadata={'product_id': 6526, 'product_name': 'desert footsteps by arash karimi graphic art on canvas'}),\n",
       " Document(page_content='picasso ( 1881-1973 ) by trevor neal memorabilia on canvas', metadata={'product_id': 6527, 'product_name': 'picasso ( 1881-1973 ) by trevor neal memorabilia on canvas'}),\n",
       " Document(page_content='this armchair is a perfect pick to fit in any living and office spaces enhancing the contemporary look in any room arrangement .', metadata={'product_id': 6528, 'product_name': \"waugh 29 '' wide tufted polyester armchair\"}),\n",
       " Document(page_content='a glamorous living room or classy office begins with this modern contemporary modular sofa with an optional independent corner sofa and armless chair you can creatively arrange is the perfect choice for making your room fun , spacious , and in style . the two ottomans provides extra leg support/space that you can put them you like . this set features linen-like fabric , cushion back rest , semi-firm seat cushion and tapered block wooden feet .', metadata={'product_id': 6529, 'product_name': \"daia 116 '' wide reversible modular corner sectional with ottoman\"}),\n",
       " Document(page_content='a glamorous living room begins with this modern contemporary modular sectional sofa you can creatively arrange , mix , and matches the included seats in whatever shape is the perfect choice for making your living room fun and spacious , coupled with an ottoman that provides extra leg support and/or space for refreshment .', metadata={'product_id': 6530, 'product_name': \"anikka 90 '' wide reversible modular corner sectional with ottoman\"}),\n",
       " Document(page_content='a glamorous living room begins with this modern contemporary modular sectional sofa you can creatively arrange , mix , and matches the included seats in whatever shape is the perfect choice for making your living room fun and spacious , coupled with an ottoman that provides extra leg support and/or space for refreshment .', metadata={'product_id': 6531, 'product_name': \"aniko 116 '' wide reversible modular corner sectional with ottoman\"}),\n",
       " Document(page_content='featuring comfortable foam filled seat cushion , soft upholstery , and rubber wood legs , this modern versatile armchair enhances the contemporary look in any living space . cozy contours of the classic armchair extend a long-lasting invitation to sit and linger .', metadata={'product_id': 6532, 'product_name': \"ogan 29 '' wide polyester armchair\"}),\n",
       " Document(page_content='an introduction of a modern accent chair , coupled with a matching ottoman , is a great and wonderful addition to any living room , master bedroom , or office . this chair adds style to match any décor , featuring tall legs , a comfortable button tufted back rest with curvy arm rest , and ottoman foot rest providing the total package of peaceful relaxation .', metadata={'product_id': 6533, 'product_name': \"elha 25 '' wide tufted polyester barrel chair and ottoman\"}),\n",
       " Document(page_content='clean , sleek , and easy to love contemporary-style sectional sofa with reversible chaise with a movable ottoman . a perfect piece for apartment , condo , loft , or house whether you want to take an afternoon nap or enjoy a movie with legs comfortably stretch over the chaise , or remove the ottoman to be a centerpiece for refreshment .', metadata={'product_id': 6534, 'product_name': \"irum 77 '' square arm sofa chaise\"}),\n",
       " Document(page_content='specifications : rattan material : perattan color : expressoframe : steel cushion : 200g polyester fabric and high quality 22d sponge padded cushion color : beigetempered glass : 0.2 ” thicknessset includes : 1 x single sofa 2 x corner sofa 1x middle sofa1x armless footrest sofa1 x table with tempered glass 5 x seat cushions 6 x back cushions 2 x pillowssofa capacity : 330 lbs . ( 150kg each ) table capacity : 130 lbs . ( 60kg )', metadata={'product_id': 6535, 'product_name': 'outdoor garden patio furniture 6-piece pe rattan wicker sectional cushioned sofa sets with 2 pillows and coffee table , beige cushion'}),\n",
       " Document(page_content='this product top and shelving board surface finished by special uv painting which can suffered and avoid key scratching.and uv painting is more environmental than traditional nc painting , carbon dioxide emissions are very close to zero.constructed by e1 degree mdf board which is more good-quality and environmental than the usually-use particleboard in others . e1 mdf make it more durability and solidity .', metadata={'product_id': 6536, 'product_name': 'kitchen storage sideboard and buffet server cabinet-brown color'}),\n",
       " Document(page_content='dress up your space with this two-tier shelving unit . plenty of space to store sundries and décor and a convenient towel bar ideal for hand towels . this unit is easily installed with all necessary hardware included . above the toilet or next to the sink , these shelves are perfect for a kitchen or bathroom .', metadata={'product_id': 6537, 'product_name': 'hanne 2 piece pine tiered shelf with towel bar'}),\n",
       " Document(page_content=\"this beautifully designed piece is in elegantly framed using a 3 '' profile made of a scratch resistant mdf . double matted and under real glass , this is ready to hang with all the hardware pre-attached .\", metadata={'product_id': 6538, 'product_name': 'brisbane by brent foreman framed painting print'}),\n",
       " Document(page_content='viers 2 piece living room set', metadata={'product_id': 6539, 'product_name': 'viers 2 piece living room set'}),\n",
       " Document(page_content='you can use it in home , office and all the places you need . for small apartments is valuable , can better save space .', metadata={'product_id': 6540, 'product_name': 'simple home office storage cabinet'}),\n",
       " Document(page_content=\"it can be used as sofa or bed.most of the frame is made of premium pine wood which ensures sturdiness and durability . and the accessories come with the daybed frame are sturdy and antirust so that the bed wo n't make any noise and shake after you use it for many years .\", metadata={'product_id': 6541, 'product_name': 'fateema daybed with trundle'}),\n",
       " Document(page_content='contemporary and glamorous elements meet in this clivia ottoman . with a striking cylindrical silhouette , this compact piece will fit easily in smaller spaces . available in two different colors , it features a fringe base with a fully padded seat . perfectly ideal for using it as footstool , extra seating , or a little side table , this piece will provide functionality while adding a touch of modern accent to your home .', metadata={'product_id': 6542, 'product_name': \"pariaman 17 '' wide velvet round standard ottoman\"}),\n",
       " Document(page_content='the products provided are constructed of premium fireclay/304 stainless steel material , delicately handcrafted kitchen sink with various types , like farmhouse apron front , drop-in/top-mount and under-mount . sturdy package with foam and plywood to protect the product from damage . extra accessories are useful for daily kitchen life , like the bottom rinse grid is good for drying and preventing scratching . rollup rack for drying . enjoy your kitchen life , enjoy the products .', metadata={'product_id': 6543, 'product_name': \"33 '' x 22 '' apron kitchen sink with sink grid and drain assembly\"}),\n",
       " Document(page_content='the product provided is constructed of premium fireclay/304 stainless steel material , delicately handcrafted . sturdy package with foam and plywood to protect the product from damage . extra accessories are useful for daily kitchen life , like the bottom rinse grid is good for drying and preventing scratching . rollup rack for drying . enjoy your kitchen life , enjoy the products .', metadata={'product_id': 6544, 'product_name': \"30 '' x 22 '' apron kitchen sink with sink grid and drain assembly\"}),\n",
       " Document(page_content='the console table is a multi-purpose accent that can be used in many places in the home : from the entrance to the cluttered living room and other places , the console table provides a space for the display of decorative pieces , while also removing clutter . the rectangular tabletop provides a place to perch potted plants and framed family photos . no matter what items you choose to put , this is a perfect choice .', metadata={'product_id': 6545, 'product_name': \"bakar 36 '' console table\"}),\n",
       " Document(page_content=\"do you have such distress ? every time you go out or go home , the items in your entrance are randomly placed , and then when you want to organize them , you do n't know where to start . if there is a console table with sufficient storage space that can help you solve these problems , please do n't miss it , it will be a good choice . it allows you to put your items at home with peace of mind , and 2 drawer and open shelves allow you to quickly find the items you are looking for . you can also place some potted plants and books on the console to make your home look more stylish and beautiful . in addition , it allows you to easily organize messy items and make your entrance or living room look more clean and spacious .\", metadata={'product_id': 6546, 'product_name': \"owston 39.37 '' console table\"}),\n",
       " Document(page_content='let your desk look as good as your work with this modern style writing desk . place it in your office , study , living room , or anywhere you want to be more productive . with a stable , thicker metal frame and durable wooden boards , this desk not only looks good but will last for years to come .', metadata={'product_id': 6547, 'product_name': 'varun desk'}),\n",
       " Document(page_content=\"not your grandmother 's house plant ! our potted 84 '' potted aloe freshens your home with bold texture , with the benefit of being maintenance-free and allergy-friendly . tiered sprays of lush green leaves ascend from a simple round ceramic planter . a variety of succulent underplanting adds a pop of color and rich visual interest . measuring 20 w x 20 d x 84 h '' , this faux plant is ideal for filling an empty corner of an entryway or accenting an armchair . made in the usa .\", metadata={'product_id': 6548, 'product_name': 'floor aloe plant in planter'}),\n",
       " Document(page_content='aloe plants in wooden planter', metadata={'product_id': 6549, 'product_name': 'aloe plants in wooden planter'}),\n",
       " Document(page_content='plants , live and artificial or a mix of both , bring any interior space closer to nature while contributing to a relaxing atmosphere . this faux plant offers a pest-free alternative to live foliage and is ideal atop any table or windowsill . crafted from plastic and silk , this aloe alternative boasts natural hues of green , and is set inside a hanging galvanized metal planter pot . best of all , it doesn ’ t need any sunshine or water to stay stunning . proudly made in the usa .', metadata={'product_id': 6550, 'product_name': 'frosted aloe plants in wood/metal wall file'}),\n",
       " Document(page_content='shingleton oval metal bucket pot planter', metadata={'product_id': 6551, 'product_name': 'shingleton oval metal bucket pot planter'}),\n",
       " Document(page_content='caila square basket wicker pot planter', metadata={'product_id': 6552, 'product_name': 'caila square basket wicker pot planter'}),\n",
       " Document(page_content='nido square basket wicker pot planter with liner', metadata={'product_id': 6553, 'product_name': 'nido square basket wicker pot planter with liner'}),\n",
       " Document(page_content='live flowers and greenery are undoubtedly beautiful and , sadly , short-lived . faux alternatives , however , let you craft a display that sticks around long after spring has sprung . this faux plant offers a pest-free alternative to live foliage and is ideal atop any table or windowsill . made in the usa , this fuss-free piece is crafted from silk , polyester and a plastic blend , and showcases an orchid design awash in natural hues of green and white . plus , it comes set in a circular dish made from ceramic .', metadata={'product_id': 6554, 'product_name': 'orchids floral arrangement in ceramic dish'}),\n",
       " ...]"
      ]
     },
     "execution_count": 41,
     "metadata": {},
     "output_type": "execute_result"
    }
   ],
   "source": [
    "# assemble product documents in required format (id, text)\n",
    "documents = (\n",
    "  DataFrameLoader(\n",
    "    product_text_pd,\n",
    "    page_content_column='product_text'\n",
    "    )\n",
    "    .load()\n",
    "  )\n",
    "documents"
   ]
  },
  {
   "cell_type": "code",
   "execution_count": 37,
   "id": "9b2892b7",
   "metadata": {},
   "outputs": [
    {
     "name": "stdout",
     "output_type": "stream",
     "text": [
      "huggingface/tokenizers: The current process just got forked, after parallelism has already been used. Disabling parallelism to avoid deadlocks...\n",
      "To disable this warning, you can either:\n",
      "\t- Avoid using `tokenizers` before the fork if possible\n",
      "\t- Explicitly set the environment variable TOKENIZERS_PARALLELISM=(true | false)\n"
     ]
    },
    {
     "data": {
      "text/plain": [
       "'/Users/thomaschang/git/thomaschangsf/db-product-search/work-dir/wands/chromadb'"
      ]
     },
     "execution_count": 37,
     "metadata": {},
     "output_type": "execute_result"
    }
   ],
   "source": [
    "chromadb_path = f\"{config['dbfs_path']}/chromadb\"\n",
    "!mkdir -p {chromadb_path}\n",
    "chromadb_path"
   ]
  },
  {
   "cell_type": "code",
   "execution_count": 44,
   "id": "dc4d0460",
   "metadata": {},
   "outputs": [
    {
     "name": "stderr",
     "output_type": "stream",
     "text": [
      "WARNING:chromadb:Using embedded DuckDB with persistence: data will be stored in: /Users/thomaschang/git/thomaschangsf/db-product-search/work-dir/wands/chromadb\n",
      "WARNING:chromadb.api.models.Collection:No embedding_function provided, using default embedding function: SentenceTransformerEmbeddingFunction\n"
     ]
    },
    {
     "data": {
      "application/vnd.jupyter.widget-view+json": {
       "model_id": "b7c12480c5784a17895c753c5c3eb929",
       "version_major": 2,
       "version_minor": 0
      },
      "text/plain": [
       "Downloading (…)e9125/.gitattributes:   0%|          | 0.00/1.18k [00:00<?, ?B/s]"
      ]
     },
     "metadata": {},
     "output_type": "display_data"
    },
    {
     "data": {
      "application/vnd.jupyter.widget-view+json": {
       "model_id": "c16ef93c933b45648b3b8bd2b694a8b8",
       "version_major": 2,
       "version_minor": 0
      },
      "text/plain": [
       "Downloading (…)_Pooling/config.json:   0%|          | 0.00/190 [00:00<?, ?B/s]"
      ]
     },
     "metadata": {},
     "output_type": "display_data"
    },
    {
     "data": {
      "application/vnd.jupyter.widget-view+json": {
       "model_id": "b930a4d9dce844ffbaca3896dabe5650",
       "version_major": 2,
       "version_minor": 0
      },
      "text/plain": [
       "Downloading (…)7e55de9125/README.md:   0%|          | 0.00/10.6k [00:00<?, ?B/s]"
      ]
     },
     "metadata": {},
     "output_type": "display_data"
    },
    {
     "data": {
      "application/vnd.jupyter.widget-view+json": {
       "model_id": "1c098661fa7743b69849728ed8557efa",
       "version_major": 2,
       "version_minor": 0
      },
      "text/plain": [
       "Downloading (…)55de9125/config.json:   0%|          | 0.00/612 [00:00<?, ?B/s]"
      ]
     },
     "metadata": {},
     "output_type": "display_data"
    },
    {
     "data": {
      "application/vnd.jupyter.widget-view+json": {
       "model_id": "0d8b69570f00422e9f8fd096717b111a",
       "version_major": 2,
       "version_minor": 0
      },
      "text/plain": [
       "Downloading (…)ce_transformers.json:   0%|          | 0.00/116 [00:00<?, ?B/s]"
      ]
     },
     "metadata": {},
     "output_type": "display_data"
    },
    {
     "data": {
      "application/vnd.jupyter.widget-view+json": {
       "model_id": "9938aadab5a74d46832f18e2ebffb6ec",
       "version_major": 2,
       "version_minor": 0
      },
      "text/plain": [
       "Downloading (…)125/data_config.json:   0%|          | 0.00/39.3k [00:00<?, ?B/s]"
      ]
     },
     "metadata": {},
     "output_type": "display_data"
    },
    {
     "data": {
      "application/vnd.jupyter.widget-view+json": {
       "model_id": "f53d1c0ca03b491a87a70006eaf3a658",
       "version_major": 2,
       "version_minor": 0
      },
      "text/plain": [
       "Downloading pytorch_model.bin:   0%|          | 0.00/90.9M [00:00<?, ?B/s]"
      ]
     },
     "metadata": {},
     "output_type": "display_data"
    },
    {
     "data": {
      "application/vnd.jupyter.widget-view+json": {
       "model_id": "5b89466b2b334bacb0e678259f4a150a",
       "version_major": 2,
       "version_minor": 0
      },
      "text/plain": [
       "Downloading (…)nce_bert_config.json:   0%|          | 0.00/53.0 [00:00<?, ?B/s]"
      ]
     },
     "metadata": {},
     "output_type": "display_data"
    },
    {
     "data": {
      "application/vnd.jupyter.widget-view+json": {
       "model_id": "ca2144bd69314134aba0d2167c20cb0e",
       "version_major": 2,
       "version_minor": 0
      },
      "text/plain": [
       "Downloading (…)cial_tokens_map.json:   0%|          | 0.00/112 [00:00<?, ?B/s]"
      ]
     },
     "metadata": {},
     "output_type": "display_data"
    },
    {
     "data": {
      "application/vnd.jupyter.widget-view+json": {
       "model_id": "65ad0a8301e44edca339093179281f81",
       "version_major": 2,
       "version_minor": 0
      },
      "text/plain": [
       "Downloading (…)e9125/tokenizer.json:   0%|          | 0.00/466k [00:00<?, ?B/s]"
      ]
     },
     "metadata": {},
     "output_type": "display_data"
    },
    {
     "data": {
      "application/vnd.jupyter.widget-view+json": {
       "model_id": "1e976c3784384cb9b7588da2eb0fd406",
       "version_major": 2,
       "version_minor": 0
      },
      "text/plain": [
       "Downloading (…)okenizer_config.json:   0%|          | 0.00/350 [00:00<?, ?B/s]"
      ]
     },
     "metadata": {},
     "output_type": "display_data"
    },
    {
     "data": {
      "application/vnd.jupyter.widget-view+json": {
       "model_id": "cfd337898695442f9e972a98a8824fa6",
       "version_major": 2,
       "version_minor": 0
      },
      "text/plain": [
       "Downloading (…)9125/train_script.py:   0%|          | 0.00/13.2k [00:00<?, ?B/s]"
      ]
     },
     "metadata": {},
     "output_type": "display_data"
    },
    {
     "data": {
      "application/vnd.jupyter.widget-view+json": {
       "model_id": "ef2086e5c107418198804dd9cd80d907",
       "version_major": 2,
       "version_minor": 0
      },
      "text/plain": [
       "Downloading (…)7e55de9125/vocab.txt:   0%|          | 0.00/232k [00:00<?, ?B/s]"
      ]
     },
     "metadata": {},
     "output_type": "display_data"
    },
    {
     "data": {
      "application/vnd.jupyter.widget-view+json": {
       "model_id": "ce86b7e0b5664262b6b2977785258840",
       "version_major": 2,
       "version_minor": 0
      },
      "text/plain": [
       "Downloading (…)5de9125/modules.json:   0%|          | 0.00/349 [00:00<?, ?B/s]"
      ]
     },
     "metadata": {},
     "output_type": "display_data"
    },
    {
     "data": {
      "application/vnd.jupyter.widget-view+json": {
       "model_id": "678813abaf1b497f8947b886cbb61ca8",
       "version_major": 2,
       "version_minor": 0
      },
      "text/plain": [
       "FloatProgress(value=0.0, layout=Layout(width='100%'), style=ProgressStyle(bar_color='black'))"
      ]
     },
     "metadata": {},
     "output_type": "display_data"
    },
    {
     "name": "stdout",
     "output_type": "stream",
     "text": [
      "DONE\n"
     ]
    }
   ],
   "source": [
    "import langchain\n",
    "# generate embeddings\n",
    "vectordb = Chroma.from_documents(\n",
    "  documents=documents, \n",
    "  embedding_model=embedding_model, \n",
    "  persist_directory=chromadb_path\n",
    "  )\n",
    "\n",
    "# persist vector db to chromadb_path\n",
    "vectordb.persist()\n",
    "\n",
    "print('DONE')"
   ]
  },
  {
   "cell_type": "markdown",
   "id": "df22361d",
   "metadata": {},
   "source": [
    "#### Examine a Vector DB record"
   ]
  },
  {
   "cell_type": "code",
   "execution_count": 45,
   "id": "3b965b52",
   "metadata": {},
   "outputs": [
    {
     "name": "stdout",
     "output_type": "stream",
     "text": [
      "Document:     ['with its sought-after design , our lounge chair in dyed italian tanned leather upholstery lends classic looks , crafting , and quality to your well-appointed living space . the buttery full-aniline ( cognac tan ) leather features scuffs and authentic , natural hide markings that patina beautifully over time-while the rich semi-aniline ( onyx black ) leather embodies softness and ease . pirelli webbing supports high-density foam seat cushions layered in a super soft feather down topper . built for durability , the wood frame is reinforced with corner blocking , and its solid wood legs in mahogany finish draw the eye . while some trends come and go , this deep chair ’ s handsome tufted seat back and arms convey a timeless quality you ’ ll adore always .', 'the zline is a 36 in . designer series wooden wall mount range hood with a modern design and built-to-last quality that would make it a great addition to any home or kitchen remodel . the gray hand-finished wood is made from solid pine with a stainless-steel inner frame . this convertible vent range hood comes with a high-performance , 400 cfm , 4-speed motor ( 120/240/320/400 cfm ) that will provide all the power you need to quietly and efficiently ventilate your stove while cooking . modern features , including built-in led lighting and dishwasher-safe stainless steel baffle filters for easy clean-up , will make using this vent hood a simple , enjoyable experience for years to come . this wall mount range hood has a convertible vent , so you can have a luxury range hood whether you need a ducted or ductless option . zline range hoods are etl listed and have one of the easiest installations in the industry . zline stands by all products with its manufacturer parts warranty . the convertible vent range hood ships next business day when in stock .', \"this pillow is more than just a pillow . it ’ s a work of art perfect for any room 's sofa , bed or chair . the textures and colors used to convey a sense of artistic mastery . the front and back made of soft polyester fabric .\", \"this pillow is more than just a pillow . it 's a work of art perfect for any room 's sofa , bed or chair . the textures and colors used to convey a sense of artistic mastery . the front and back made of soft polyester fabric .\", 'perfect for pulling up to a pub table in the entertaining ensemble or when stationed around the kitchen island , stools are always a stylish seat . take this one for example : crafted from metal , the streamlined frame gives this piece a raised construction . the bucket seat comes upholstered in foam-filled faux leather for an inviting feel , while on-trend stitched detailing is sure to stand out in any contemporary setting .', 'whether useful during a family feast or when you ’ re short a seat playing a hand of cards , extra chairs are always a good thing to have around the house . take this one for example : crafted from metal , the streamlined frame rests atop sled legs that are capped with protective glides to keep this chair from marking up floors . the bucket seat comes upholstered in foam-filled faux leather for an inviting feel , while on-trend stitched detailing is sure to stand out in any contemporary setting . plus , it arrives in a set of two .', 'be it a stage to display flowers or a place to stash the remote control , coffee tables are always a useful addition . take this one for example : crafted from solid and manufactured wood , this piece is perched atop a pedestal-inspired base and showcases striking lines that allow it to work well in any contemporary setting . showcasing a round silhouette , the melamine top boasts that blend easily in a variety of color schemes .', 'whether using it as the perfect perch for your morning mug of coffee or as the universal remote control hub , end tables are a staple in our homes . take this one for example : crafted from solid and manufactured wood , this piece is perched atop a pedestal-inspired base and showcases striking lines that allow it to work well in any contemporary setting . showcasing a round silhouette , the top boasts hues of white and gray that blend easily in a variety of color schemes .', 'evoking an air of elegance and sophistication while maintaining true functionality , this coffee table is not just a place for your drink , remote , or laptop . it is the focal point of your room . its sturdy , solid wood base is perfectly contrasted by a faux marble laminate top .', \"every sweet dream starts with a good bed , and if you ’ re still looking for the right one , this piece is here to help . crafted from solid and manufactured wood , this piece is perched atop tapered legs so it 's easy to slip a vacuum underneath . clean lines allow it to work in any contemporary aesthetic , while its foam-filled polyester upholstery gives it an inviting feel . plus , it arrives with center support legs included , so you can save a trip to the store .\"]\n",
      "ids:     ['b78efa06-eb88-11ed-9b86-acde48001122', 'b78f4254-eb88-11ed-9b86-acde48001122', 'b78eb096-eb88-11ed-9b86-acde48001122', 'b78eb0b4-eb88-11ed-9b86-acde48001122', 'b777a400-eb88-11ed-9b86-acde48001122', 'b777a43c-eb88-11ed-9b86-acde48001122', 'b777a478-eb88-11ed-9b86-acde48001122', 'b777a4b4-eb88-11ed-9b86-acde48001122', 'b777a4f0-eb88-11ed-9b86-acde48001122', 'b777a52c-eb88-11ed-9b86-acde48001122']\n",
      "embeddings:     [[-0.010707459412515163, -0.0066596283577382565, -0.009172266349196434, 0.025592904537916183, -0.013070043176412582, -0.03501196950674057, 0.059971652925014496, -0.022742312401533127, 0.0003658790374174714, 0.006927124224603176, 0.008646754547953606, 0.050297029316425323, 0.030474942177534103, -0.03022320382297039, -0.032867491245269775, -0.016623131930828094, 0.04682352766394615, -0.003163871355354786, 0.05899855121970177, 0.06487317383289337, -0.08647681772708893, -0.07519692182540894, -0.011836866848170757, 0.038043148815631866, -0.07871632277965546, -0.06339946389198303, 0.04512086138129234, 0.008895493112504482, -0.041848357766866684, -0.07266063988208771, -0.05456377565860748, 0.002982166362926364, 0.030449775978922844, -0.05417182296514511, -0.0650169849395752, -0.019582414999604225, 0.032385945320129395, -0.08158813416957855, -0.003160372143611312, 0.0036635154392570257, -0.07833452522754669, -0.06542453169822693, -0.024168001487851143, 0.030685123056173325, 0.06874606013298035, -0.015278718434274197, 0.05357571318745613, 0.017201177775859833, 0.005900216288864613, 0.030671697109937668, -0.045287370681762695, -0.05997488647699356, -0.008752134628593922, -0.059775810688734055, -0.07542964071035385, 0.06937349587678909, -0.08535700291395187, -0.004221084527671337, -0.007618468254804611, -0.021932510659098625, 0.06092669814825058, 0.016072461381554604, -0.03548688814043999, 0.04609937220811844, 0.0017734711291268468, 0.008343946188688278, -0.015274401754140854, -0.11512216925621033, -0.09159409999847412, -0.0005006272695027292, -0.02623240277171135, -0.030536700040102005, 0.006560890935361385, -0.012287255376577377, -0.009685431607067585, 0.064131960272789, 0.01410437747836113, 0.0569978691637516, 0.014580928720533848, -0.007585128303617239, 0.05533825606107712, 0.0208301804959774, 0.023295028135180473, 0.0619874931871891, 0.059908896684646606, -0.0458732545375824, 0.03673843666911125, 0.020501893013715744, -0.04765767604112625, -0.015891075134277344, 0.02994074486196041, 0.1454334259033203, -0.10543447732925415, -0.02056576870381832, -0.089439257979393, 0.044450338929891586, 0.03127210959792137, 0.13673585653305054, -0.020642584189772606, 0.042874060571193695, 0.003059101291000843, 0.016228843480348587, 0.05878729373216629, 0.012868340127170086, -0.08465331792831421, -0.014814657159149647, 0.0013413603883236647, -0.01312242727726698, 0.09127046912908554, 0.005888528190553188, -0.08722623437643051, -0.03247006982564926, -0.0492771714925766, -0.024673577398061752, -0.08238374441862106, 0.04187936708331108, -0.01116082165390253, 0.021634861826896667, 0.12336523085832596, -0.045513417571783066, 0.006347378250211477, 0.037018515169620514, 0.019627055153250694, 0.030938979238271713, -0.030118970200419426, -0.03961646556854248, -0.04091213271021843, 3.025528869790667e-33, 0.023615533486008644, 0.08297307044267654, -0.02682267501950264, 0.0010977709898725152, 0.030224109068512917, -0.0008238058653660119, -0.01544356532394886, 0.012650768272578716, -0.05718343332409859, -0.025118989869952202, 0.003165243659168482, -0.013984272256493568, -0.04422364383935928, -0.013034448958933353, 0.07128848135471344, -0.007549579720944166, -0.012404810637235641, -0.06190670654177666, 0.005778379738330841, -0.09905452281236649, -0.08412404358386993, 0.07203058153390884, 0.041627127677202225, 0.019993267953395844, 0.02624266780912876, 0.00592264486476779, 0.05407918244600296, 0.018761392682790756, -0.12620225548744202, 0.03351230174303055, 0.012889311648905277, -0.07266207784414291, -0.026135588064789772, 0.001934788771905005, -0.04200788959860802, 0.0013413894921541214, -0.05497089773416519, -0.030500205233693123, -0.0010782794561237097, 0.0841044932603836, -0.07295840978622437, 0.020978141576051712, 0.0282826516777277, 0.05711876600980759, -0.11032925546169281, 0.04781682416796684, -0.001781743485480547, 0.05882493406534195, -0.053189411759376526, -0.033761538565158844, -0.06814399361610413, 0.05046258494257927, -0.03118029795587063, 0.030382150784134865, -0.11786282807588577, -0.05599360913038254, 0.03400534763932228, 0.0006034511607140303, -0.07275762408971786, -0.02737460471689701, 0.03683359920978546, -0.0038096634671092033, 0.0476096011698246, -0.07940597832202911, -0.09748392552137375, 0.021363582462072372, -0.01439302135258913, 0.046680957078933716, 0.05076177418231964, 0.00015111657558009028, 0.04298878461122513, 0.06305854022502899, 0.05128848925232887, 0.048651598393917084, -0.03078778274357319, 0.023776285350322723, 0.07206890732049942, -0.04669596999883652, 0.10497511178255081, -0.07299394905567169, -0.041245050728321075, 0.0380454882979393, 0.02717348374426365, 0.031223759055137634, -0.1074528843164444, -0.047075409442186356, 0.0204363614320755, 0.031244348734617233, 0.012111760675907135, -0.045412711799144745, -0.02370273321866989, -0.0660240426659584, 0.03845911845564842, -0.048466313630342484, -0.02734048292040825, -4.232601406979857e-33, 0.04788689687848091, -0.03906726464629173, -0.012658776715397835, 0.03530188649892807, -0.027872147038578987, -0.023440750315785408, -0.02696068212389946, 0.0270096305757761, -0.007265404332429171, 0.007610999513417482, 0.05755583941936493, 0.010851341299712658, 0.07078399509191513, -0.05446300655603409, 0.034559447318315506, 0.07906106859445572, 0.01904483139514923, 0.0007841027108952403, -0.021157586947083473, -0.07338278740644455, 0.03742072358727455, 0.04723195359110832, -0.02350924164056778, 0.039457403123378754, -0.058730728924274445, 0.048458557575941086, 0.038741081953048706, -0.03977205604314804, -0.024978380650281906, 0.08225781470537186, 0.0014206466730684042, -0.07674430310726166, -0.004262080881744623, 0.029926396906375885, 0.02840281091630459, 0.09659179300069809, -0.0051321969367563725, 0.015810275450348854, -0.06834977865219116, 0.08431706577539444, 0.08344537019729614, -0.11537235975265503, 0.05154397338628769, 0.015420211479067802, 0.07772679626941681, -0.10208573937416077, -0.08581603318452835, 0.018087780103087425, -0.020544955506920815, -0.03603947535157204, 0.0909426361322403, 0.009238836355507374, 0.054366085678339005, 0.03064117766916752, -0.04515751451253891, 0.0230458565056324, 0.030578797683119774, -0.0007527780253440142, -0.028785645961761475, 0.039512451738119125, -0.0351775698363781, 0.04952264204621315, -0.07837660610675812, -0.033087849617004395, 0.022911211475729942, -0.0009037171257659793, -0.07401138544082642, -0.06188938021659851, -0.04502740874886513, -0.01459514256566763, 0.04592837393283844, -0.08425788581371307, -0.04280062019824982, 0.13269035518169403, 0.016016675159335136, -0.04133407399058342, 0.14910128712654114, -0.011997586116194725, 0.0026323681231588125, 0.09393783658742905, -0.030750837177038193, -0.042196985334157944, 0.051630377769470215, 0.03698055073618889, 0.025942107662558556, 0.041725628077983856, -0.038207054138183594, -0.002794009866192937, -0.004132675938308239, -0.0026802048087120056, 0.04342568293213844, 0.15254978835582733, -0.07574250549077988, 0.02817576751112938, 0.023353883996605873, -4.496760652727971e-08, 0.03016248159110546, -0.026766808703541756, -0.009208153933286667, 0.03612057492136955, -0.0033877911046147346, -0.06871534138917923, 0.04772556200623512, -0.034193072468042374, -0.03305935114622116, -0.06657581031322479, -0.06798460334539413, -0.025783676654100418, -0.005375497508794069, 0.003227456007152796, -0.037189602851867676, 0.1294756978750229, -0.043334487825632095, 0.11937772482633591, -0.02523770183324814, 0.03134067356586456, -0.021979130804538727, -0.03696740046143532, 0.01889691688120365, -0.049320656806230545, -0.043840713798999786, -0.0653114914894104, -0.05934961885213852, 0.03654998540878296, 0.006166120525449514, 0.06563098728656769, -0.005219175945967436, 0.03761463984847069, 0.017214396968483925, -0.0753236785531044, 0.0008997387485578656, 0.07304628193378448, 0.037759941071271896, -0.09172221273183823, -0.018575394526124, 0.08397678285837173, -0.08505211025476456, -0.05886063724756241, -0.0022566812112927437, 0.03841455653309822, 0.03171756491065025, -0.04746856912970543, -0.006611112970858812, 0.022791413590312004, -0.007398574613034725, 0.0493631586432457, 0.015293223783373833, -0.03197670355439186, 0.042853064835071564, 0.050425510853528976, -0.057481635361909866, -0.09522518515586853, 0.028950951993465424, 0.08916544914245605, 0.05964503437280655, 0.023982780054211617, 0.025078922510147095, -0.029387671500444412, 0.06278787553310394, -0.0019271818455308676], [-0.05824856087565422, 0.06597109884023666, -0.04057580605149269, 0.019023003056645393, 0.012433367781341076, 8.964632434071973e-05, -0.0063357665203511715, 0.013177826069295406, 0.002394036389887333, -0.07195041328668594, -0.055294960737228394, -0.023549193516373634, 0.0001168126764241606, -0.015295706689357758, 0.028377976268529892, -0.04529959708452225, 0.019521120935678482, -0.03538210690021515, 0.00366332964040339, -0.05591181293129921, -0.03486073389649391, 0.07616330683231354, -0.010002335533499718, 0.003843075130134821, 0.028730154037475586, -0.0745362639427185, -0.0695638656616211, 0.07094817608594894, -0.007861820980906487, 0.014786609448492527, 0.048977501690387726, -0.07347419112920761, -0.011747719720005989, -0.004400622099637985, -0.05315592139959335, -0.12120562791824341, 0.06996049731969833, 0.07707052677869797, -0.08213766664266586, -0.014211347326636314, -0.02245904691517353, 0.032424990087747574, -0.01752529852092266, -0.042244501411914825, 0.004310728050768375, 0.06795656681060791, -0.036706797778606415, -0.03370344266295433, -0.012764316983520985, -0.10473144799470901, -0.08779247850179672, -0.01597018726170063, -0.03383931517601013, 0.056783050298690796, 0.020977001637220383, 0.021065857261419296, -0.01667674072086811, -0.03237627074122429, -0.026265541091561317, -0.07776384055614471, -0.04518160969018936, 0.005929259583353996, -0.008254658430814743, 0.01668144389986992, 0.00575782498344779, 0.025127341970801353, -0.09445101022720337, 0.0016596423229202628, 0.04713188856840134, -0.018299594521522522, -0.06897950172424316, -0.08206450939178467, -0.05117914453148842, 0.03313736990094185, 0.024293135851621628, 0.045410145074129105, 0.0711013525724411, -0.09214901924133301, -0.013866282068192959, 0.004076497629284859, -0.007825656794011593, 0.0644523948431015, -0.04437966272234917, 0.028899217024445534, 0.03315512463450432, 0.005571743007749319, -0.002266224240884185, 0.021805698052048683, -0.022432180121541023, 0.03302460163831711, 0.09355217218399048, 0.0662045031785965, -0.025106649845838547, 0.062127742916345596, 0.0013098673662170768, 0.006653708405792713, 0.015313045121729374, 0.04391305521130562, 0.031143086031079292, 0.009546501561999321, -0.010431108064949512, -0.08949710428714752, 0.03787483647465706, -0.04933498427271843, -0.1026313304901123, 0.056920092552900314, 0.12947112321853638, 0.07560915499925613, -0.07281364500522614, -0.04937691241502762, -0.0690116137266159, -0.052209481596946716, -0.09341035038232803, -0.0743362084031105, 0.06044435128569603, -0.07155600935220718, 0.030663233250379562, 0.008676835335791111, 0.01764216646552086, 0.026720823720097542, 0.008796325884759426, 0.030017200857400894, -0.011812628246843815, 0.01208570972084999, 0.001580007839947939, 0.04891037568449974, -0.04203087463974953, 2.1958811200276203e-33, -0.03309788554906845, 0.11617443710565567, -0.03066757135093212, 0.056985579431056976, 0.0416325107216835, 0.08100876957178116, 0.03050321340560913, 0.030130771920084953, -0.0206470750272274, 0.13230708241462708, -0.00787130743265152, -0.04105883091688156, -0.05696653947234154, -0.010187053121626377, 0.05073672905564308, -0.1100272685289383, 0.020322168245911598, -0.0727013573050499, -0.06932634860277176, 0.02782980352640152, -0.027063027024269104, 0.010482159443199635, 0.050323937088251114, 0.009437463246285915, 0.0920381173491478, -0.09664282202720642, 0.031427379697561264, 0.015690535306930542, -0.1290561556816101, 0.030500398948788643, 0.00614607660099864, -0.07878468930721283, -0.05126122012734413, -0.1003565788269043, -0.0564461350440979, -0.03815079852938652, -0.11771709471940994, -0.0658814013004303, 0.0015439402777701616, -0.010329711250960827, -0.0355520024895668, 0.06142963469028473, -0.04184649884700775, 0.12993891537189484, 0.03878134489059448, 0.07840032130479813, -0.012268807739019394, 0.1292545348405838, -0.022403409704566002, -0.03130962699651718, -0.0059386687353253365, 0.05515943095088005, -0.09243294596672058, -0.0255463607609272, 0.00744264991953969, 0.05922025442123413, 0.024374065920710564, 0.005940475966781378, 0.07555338740348816, -0.0030062072910368443, 0.03404054418206215, 0.12094608694314957, -0.035714682191610336, 0.031275566667318344, 0.06396283954381943, 0.041356559842824936, 0.024674605578184128, -0.04726836457848549, -0.08145713061094284, -0.02604781836271286, 0.014100383035838604, -0.09260649234056473, 0.019985441118478775, 0.05460227653384209, 0.04109281674027443, -0.041345883160829544, 0.025217946618795395, -0.021740516647696495, 0.09315481036901474, -0.04914659634232521, -0.02572588063776493, 0.07725842297077179, -0.02901529148221016, 0.01856096275150776, 0.02017778716981411, -0.0694807767868042, 0.010676804929971695, -0.0002746909740380943, -0.026088273152709007, 0.026630742475390434, 0.05016259104013443, -0.03869776800274849, 0.010380306281149387, 0.03073156625032425, -0.04111698269844055, -2.898067996950091e-33, 0.03228355571627617, 0.012526331469416618, 0.0497722402215004, -0.07186464965343475, 0.03088086098432541, 0.004523277748376131, -0.017613116651773453, -0.025468673557043076, 0.06121988594532013, 0.07417173683643341, 0.016818908974528313, -0.012332342565059662, 0.06377017498016357, 0.08373837918043137, 0.014259346760809422, 0.0008578419219702482, -0.03388835862278938, -0.10429848730564117, 0.03277312219142914, -0.04839904606342316, 0.07818654179573059, 0.018934130668640137, -0.05235963687300682, 0.01986352726817131, -0.08968335390090942, 0.011076034978032112, -0.012920268811285496, 0.07196298986673355, 0.04412415623664856, 0.0045804837718605995, -0.08664315938949585, 0.03432102128863335, 0.05234268307685852, -0.03535890206694603, 0.026883115991950035, 0.01721002906560898, 0.03920046612620354, 0.027828622609376907, -0.03488276153802872, -0.0758911520242691, -0.013209974393248558, -0.001398579217493534, 0.031315360218286514, -0.015550817362964153, -0.03933287039399147, 0.03498886898159981, 0.06468046456575394, -0.03834877535700798, 0.04945327341556549, 0.003004956291988492, 0.045442502945661545, -0.00886391568928957, -0.006742894183844328, 0.11112167686223984, -0.011699452064931393, -0.02771083451807499, 0.016119934618473053, 0.002874879166483879, 0.0029193221125751734, -0.09014169871807098, 0.042999062687158585, -4.182382326689549e-05, 6.549143563461257e-06, -0.0012019132263958454, 0.0718647912144661, -0.08321984112262726, 0.07322609424591064, -0.06948300451040268, -0.013525979593396187, -0.02612014301121235, -0.02584460750222206, -0.0138019360601902, -0.018509449437260628, -0.06119208037853241, -0.12348403036594391, 0.01820717193186283, 0.0991336926817894, -0.03736180067062378, -0.017220383509993553, 0.03941700980067253, 0.06529874354600906, 0.030962439253926277, -0.008106356486678123, -0.008335412479937077, 0.09816029667854309, -0.05709145590662956, -0.042804524302482605, 0.047526028007268906, 0.06732332706451416, 0.027874194085597992, 0.059279002249240875, 0.010700912214815617, -0.04790245369076729, -0.015120148658752441, -0.05394623428583145, -4.7880440945391456e-08, -0.07387770712375641, -0.010035503655672073, 0.04322906956076622, 0.006077594589442015, -0.03541151434183121, -0.03531339764595032, 0.04236757010221481, -0.10994603484869003, 0.0064062317833304405, 0.00390760600566864, 0.017556030303239822, 0.02953975275158882, 0.03390596807003021, 0.006857777014374733, 0.0006995810545049608, 0.024480614811182022, -0.12050780653953552, 0.007260698825120926, 0.04240082576870918, 0.043543994426727295, 0.05234235152602196, -0.004798429552465677, -0.04423457756638527, 0.018062682822346687, -0.022335246205329895, -0.06618955731391907, -0.027160510420799255, 0.0220358744263649, 0.027729127556085587, 0.0038993351627141237, -0.00267618615180254, 0.02425605058670044, 0.105756476521492, 0.022493716329336166, 0.03377505764365196, -0.02864965796470642, -0.08161283284425735, -0.0589744932949543, -0.07813467085361481, -0.04349064081907272, 0.05968659371137619, -0.07476324588060379, 0.06115259975194931, -0.00833570584654808, -0.0018251403234899044, -0.05131056159734726, -0.09096767008304596, -0.014782427810132504, -0.04749133437871933, 0.10095901787281036, 0.060889896005392075, 0.00359818316064775, 0.06609105318784714, 0.011994383297860622, -0.010664761066436768, 0.010106761008501053, 0.00247844192199409, -0.008200587704777718, 0.053071118891239166, -0.011710422113537788, 0.09136570990085602, -0.059259772300720215, 0.013123986311256886, 0.029308810830116272], [0.07605556398630142, -0.007569057866930962, -0.025269262492656708, 0.013943740166723728, -0.0022286733146756887, 0.005300689488649368, -0.003831411013379693, -0.1046624705195427, 0.03750744089484215, 0.06744730472564697, -0.12179102003574371, 0.014851493760943413, 0.06128966435790062, -0.051566772162914276, -0.004912239033728838, 0.024201327934861183, 0.043802518397569656, -0.07592123001813889, 0.021099058911204338, 0.0841309130191803, -0.04945117235183716, 0.004801096394658089, -0.026341741904616356, -0.03084276244044304, 0.04096510633826256, -0.022401869297027588, 0.0697907954454422, -0.06568320840597153, 0.01583745703101158, -0.05235588923096657, 0.009952878579497337, 0.019353700801730156, 0.015953093767166138, -0.021182440221309662, -0.03042040951550007, 0.11959580332040787, 0.0027344131376594305, 0.007047032937407494, -0.053167346864938736, 0.0287343580275774, -0.02575601451098919, -0.0048529841005802155, -0.02682720310986042, 0.03687463328242302, 0.02197604440152645, 0.037270426750183105, -0.0289313867688179, -0.04193568229675293, -0.025224052369594574, 0.04060615971684456, 0.04401988908648491, -0.07785831391811371, -0.07304579764604568, -0.08337848633527756, 0.018247537314891815, 0.03665711730718613, -0.021123841404914856, 0.050423357635736465, -0.03964903950691223, -0.03975825756788254, 0.03747839108109474, 0.020193329080939293, 0.08417484909296036, 0.0015335644129663706, -0.01128523051738739, -0.025338828563690186, -0.03184162825345993, -0.02241978980600834, 0.017289362847805023, -0.12132341414690018, -0.0006711826426908374, 0.0642005205154419, -0.004138277843594551, -0.0332527831196785, -0.0008744513033889234, -0.10149352252483368, 0.03396041691303253, -0.04067285731434822, 0.042753320187330246, 0.04477013647556305, -0.0005408430588431656, 0.0286101121455431, 0.03987825661897659, 0.015045847743749619, -0.015048596076667309, 0.017750196158885956, 0.03887079283595085, 0.002081472659483552, -0.11328943818807602, 0.013453919440507889, 0.09848622977733612, 0.028383010998368263, -0.03208174556493759, -0.015779821202158928, 0.04110564664006233, 0.1069498360157013, -0.031855273991823196, 0.01601462997496128, 0.07707677781581879, 0.031196482479572296, -0.0013866201043128967, -0.019638149067759514, 0.12576927244663239, 0.019932512193918228, -0.07264208048582077, -0.14262031018733978, 0.03229188546538353, -0.009706476703286171, -0.04961365461349487, 0.009874076582491398, -0.06897053867578506, -0.03964896872639656, 0.008415582589805126, -0.028592722490429878, -0.028613166883587837, -0.04175421968102455, -0.03352236747741699, 0.008808111771941185, 0.024312661960721016, -0.06810642033815384, -0.0029284695629030466, 0.05099392309784889, 0.020161006599664688, -0.021081505343317986, -0.019281573593616486, -0.15210972726345062, -0.08563749492168427, -3.236318149438135e-33, 0.026150761172175407, 0.006032157689332962, 0.05395364388823509, -0.022877775132656097, 0.011903484351933002, -0.013398528099060059, -0.007078340742737055, 0.0322723351418972, 0.03651420772075653, 0.039593473076820374, 0.03711218386888504, -0.054616935551166534, 0.007771702483296394, 0.10009227693080902, 0.022294944152235985, 0.03699461370706558, -0.004570137709379196, -0.04263200983405113, -0.006965584121644497, 0.032424215227365494, -0.08161985129117966, 0.12214736640453339, 0.05349817872047424, -0.039198439568281174, -0.05791037529706955, -0.026919320225715637, -0.020058421418070793, -0.01768987439572811, -0.045959241688251495, -0.01166785042732954, -0.007364360615611076, -0.034141458570957184, -0.08116835355758667, -0.014367726631462574, -0.10407575964927673, 0.008233380503952503, -0.036557503044605255, -0.03778451308608055, -0.012521753087639809, 0.11534322798252106, -0.013730615377426147, 0.02834792621433735, 0.0007662423304282129, 0.06103770062327385, -0.038762375712394714, 0.04684048146009445, 0.03762431442737579, 0.040328554809093475, -0.05623186379671097, -0.011603261344134808, 0.017704244703054428, -0.0008900499087758362, -0.025538941845297813, -0.062045734375715256, -0.02397799678146839, 0.0030182478949427605, 0.020448382943868637, -0.02847423031926155, -0.024147868156433105, 0.012014172039926052, 0.09510597586631775, -0.036198683083057404, 0.05630756542086601, -0.006905802059918642, -0.07891964912414551, -0.054034776985645294, 0.010855671018362045, 0.060924116522073746, 0.04291569069027901, -0.0198061466217041, -0.006423314567655325, 0.011580432765185833, 0.0054497383534908295, -0.06346739828586578, 0.017303870990872383, -0.017267566174268723, 0.09040483087301254, -0.0507194921374321, 0.06307016313076019, -0.07105296850204468, -0.025026312097907066, 0.03951103240251541, -0.025582775473594666, -0.031821709126234055, -0.011119275353848934, 0.08366057276725769, 0.03277648612856865, -0.026774203404784203, -0.023478662595152855, 0.04733527824282646, -0.0404154509305954, -0.08454608172178268, -0.028819534927606583, -0.041251152753829956, -0.025976067408919334, -1.3126997044891957e-33, 0.011364640668034554, -0.0837937667965889, -0.05428338423371315, -0.013946643099188805, 0.055247608572244644, 0.02995380572974682, -0.05041107162833214, 0.006779709365218878, -0.09148136526346207, 0.11478962004184723, 0.055967848747968674, -0.017376581206917763, 0.02031002566218376, -0.013217028230428696, 0.05218672379851341, 0.013282489962875843, 0.039505794644355774, -0.014557202346622944, -0.04001229628920555, -0.020495040342211723, -0.025213684886693954, 0.051596615463495255, -0.0031157545745372772, -0.03844042867422104, -0.10354593396186829, 0.028391841799020767, -0.01972721330821514, -0.0374503992497921, 0.023990362882614136, 0.03823580965399742, -0.02964162267744541, -0.11985640227794647, 0.025446804240345955, 0.020399251952767372, 0.00039212885894812644, -0.018890678882598877, 0.018598420545458794, -0.05154547095298767, -0.07863661646842957, -0.008634171448647976, 0.022732263430953026, -0.05404963716864586, 0.01966104283928871, 0.004480463452637196, -0.01259398739784956, -0.03083980642259121, -0.10913262516260147, -0.016412584111094475, 0.03648653253912926, -0.0442081019282341, 0.0675017461180687, -0.018654366955161095, 0.08212131261825562, -0.0018550887471064925, -0.052981387823820114, 0.023287329822778702, -0.05207941681146622, 0.0586264468729496, 0.053319454193115234, 0.09638511389493942, -0.08826170116662979, 0.01565425656735897, -0.040451884269714355, 0.010145259089767933, 0.015224196948111057, 0.0741959884762764, -0.08759687095880508, -0.10384363681077957, -0.0603790283203125, 0.0035793976858258247, 0.023009831085801125, 0.039584096521139145, -0.09414509683847427, 0.17738977074623108, 0.03259919211268425, -0.05070870369672775, 0.05890006572008133, -0.03443283960223198, 0.04713597148656845, 0.09970691800117493, 0.007864536717534065, -0.05926105007529259, 0.0026719237212091684, -0.007447379175573587, -0.029501907527446747, -0.038751937448978424, -0.004398168995976448, -0.019669102504849434, -0.026697510853409767, -0.00048417120706290007, 0.05367887020111084, 0.08679371327161789, -0.08022754639387131, 0.06293042004108429, 0.06583632528781891, -4.00016695323302e-08, -0.07013761252164841, -0.05400147661566734, -0.0007726892945356667, -0.10140057653188705, -0.064193956553936, -0.06794136017560959, 0.07349880784749985, -0.10806261748075485, -0.06022026762366295, -0.03272562474012375, 0.00015488071949221194, -0.03944626450538635, -0.03191772475838661, 0.007903225719928741, 0.043792977929115295, 0.0635034367442131, -0.015966646373271942, 0.01807108335196972, 0.020685797557234764, -0.028624478727579117, 0.012657598592340946, -0.0026719102170318365, -0.07131856679916382, -0.01768745668232441, 0.05452640354633331, 0.003646847326308489, -0.019087716937065125, 0.010425827465951443, -0.032268643379211426, 0.026840340346097946, 0.03431171923875809, 0.03723670542240143, -0.010948484763503075, -0.03840099647641182, -0.07687104493379593, 0.024863438680768013, 0.12087246775627136, -0.1669793277978897, -0.0715126097202301, 0.0034276479855179787, 0.05349648743867874, -0.016071557998657227, 0.02852540835738182, -0.0199758131057024, 0.04737688601016998, -0.05208840221166611, 0.05443883314728737, -0.02178175374865532, -0.011582684703171253, 0.09639392048120499, 0.046477701514959335, -0.004618887323886156, 0.04043544456362724, 0.08112474530935287, -0.06073150783777237, -0.016829194501042366, -0.049608465284109116, 0.015114165842533112, 0.031213810667395592, 0.03939749673008919, 0.03624476492404938, 0.05229045823216438, 0.11285711824893951, -0.004911066498607397], [0.07866653054952621, -0.010389101691544056, -0.022793563082814217, 0.015484279952943325, -0.0013375799171626568, 0.004891087766736746, -0.006447458174079657, -0.10425963252782822, 0.042312175035476685, 0.0678708404302597, -0.12234655767679214, 0.012420548126101494, 0.06000307947397232, -0.05083708092570305, 0.00024167669471353292, 0.021592488512396812, 0.04345278814435005, -0.07365763187408447, 0.01862887293100357, 0.08437038958072662, -0.050157006829977036, 0.00422801123932004, -0.027384091168642044, -0.03236493840813637, 0.04138380289077759, -0.025074392557144165, 0.06813081353902817, -0.06796638667583466, 0.01595255173742771, -0.051490668207407, 0.010711684823036194, 0.022557971999049187, 0.014400673098862171, -0.0227267574518919, -0.03300729766488075, 0.12148497998714447, 0.003556517418473959, 0.009787783026695251, -0.053543344140052795, 0.027091611176729202, -0.02396491914987564, -0.005452224053442478, -0.02861080691218376, 0.03965428099036217, 0.023870371282100677, 0.03487473726272583, -0.026724303141236305, -0.04265376925468445, -0.02189181186258793, 0.040648482739925385, 0.0438900925219059, -0.07538635283708572, -0.07468853890895844, -0.08664606511592865, 0.01636005938053131, 0.03873945400118828, -0.019763583317399025, 0.05377022176980972, -0.0408918634057045, -0.038780421018600464, 0.03493965044617653, 0.01902136206626892, 0.0855007991194725, -0.0034307274036109447, -0.011678623966872692, -0.0298839770257473, -0.03047335147857666, -0.021512944251298904, 0.015977608039975166, -0.11714765429496765, -0.0013107151025906205, 0.0667499229311943, -0.0010127872228622437, -0.030248770490288734, -0.0023302040062844753, -0.10340795665979385, 0.033039506524801254, -0.039463456720113754, 0.04188448563218117, 0.049871623516082764, -0.0016794793773442507, 0.027853447943925858, 0.040587056428194046, 0.01263640820980072, -0.014331758953630924, 0.018961042165756226, 0.03943562135100365, 0.0010059640044346452, -0.1195850819349289, 0.012306587770581245, 0.09975989907979965, 0.026073947548866272, -0.029916809871792793, -0.015128161758184433, 0.043960217386484146, 0.10466497391462326, -0.030528075993061066, 0.015811841934919357, 0.08049508929252625, 0.028186021372675896, -0.0019142980454489589, -0.018652692437171936, 0.12615355849266052, 0.021161004900932312, -0.07024025171995163, -0.13925375044345856, 0.03212060406804085, -0.009934413246810436, -0.04861936718225479, 0.00909879058599472, -0.07093315571546555, -0.04038463160395622, 0.011520057916641235, -0.026445962488651276, -0.030177317559719086, -0.043960653245449066, -0.03448071330785751, 0.00767959700897336, 0.02043858729302883, -0.06728804111480713, -0.0043592001311481, 0.049394235014915466, 0.02283724956214428, -0.018515879288315773, -0.015329406596720219, -0.1514357626438141, -0.08254995197057724, -3.202402198681035e-33, 0.02501002512872219, 0.006853497587144375, 0.05282335355877876, -0.02124462090432644, 0.009324144572019577, -0.01255419384688139, -0.007414675317704678, 0.032007671892642975, 0.04192424193024635, 0.03899282217025757, 0.0367312990128994, -0.05378514900803566, 0.010916565544903278, 0.10138848423957825, 0.02271634340286255, 0.04125254601240158, -0.007485755253583193, -0.03999510407447815, -0.006504853721708059, 0.032522764056921005, -0.08321034163236618, 0.1226368248462677, 0.05530251935124397, -0.041086919605731964, -0.06016611307859421, -0.026942959055304527, -0.0207363311201334, -0.01600266620516777, -0.04889912158250809, -0.012811543419957161, -0.005417169537395239, -0.037590015679597855, -0.07640030235052109, -0.013618167489767075, -0.10069657862186432, 0.009435615502297878, -0.03626208007335663, -0.03712080046534538, -0.014431344345211983, 0.11312901228666306, -0.01824822649359703, 0.027868660166859627, 0.003927804064005613, 0.058550041168928146, -0.035707373172044754, 0.04585963487625122, 0.03840502351522446, 0.041260313242673874, -0.06374704837799072, -0.01194961741566658, 0.016224587336182594, -0.0025512301363050938, -0.023800939321517944, -0.06222003325819969, -0.023735681548714638, 0.003246355801820755, 0.021952884271740913, -0.029386969283223152, -0.026744630187749863, 0.01048437599092722, 0.09143142402172089, -0.03521201014518738, 0.058745045214891434, -0.008681554347276688, -0.07784679532051086, -0.05165078118443489, 0.011120563372969627, 0.06182890012860298, 0.039021335542201996, -0.01937229000031948, -0.00367118907161057, 0.01350809633731842, 0.0038518309593200684, -0.06585029512643814, 0.017583608627319336, -0.019091520458459854, 0.09172757714986801, -0.050878047943115234, 0.06287805736064911, -0.07007744163274765, -0.025541016831994057, 0.03793120011687279, -0.02616823837161064, -0.030995849519968033, -0.009966537356376648, 0.08545728027820587, 0.03229173272848129, -0.02729731984436512, -0.02254234254360199, 0.04657286778092384, -0.04123806953430176, -0.08710081875324249, -0.028198756277561188, -0.04638056829571724, -0.024026216939091682, -1.3303990678282292e-33, 0.011274468153715134, -0.08367163687944412, -0.05531120300292969, -0.014446555636823177, 0.05349093675613403, 0.029865741729736328, -0.047628819942474365, 0.0005663982592523098, -0.09279495477676392, 0.11215844750404358, 0.05442650243639946, -0.016546647995710373, 0.019389640539884567, -0.012548730708658695, 0.052329279482364655, 0.015460764989256859, 0.0387193039059639, -0.01131888385862112, -0.03896760940551758, -0.020265156403183937, -0.02777179330587387, 0.05271541699767113, -0.004600495100021362, -0.038830362260341644, -0.10440688580274582, 0.025777913630008698, -0.02474122680723667, -0.03636295720934868, 0.022899236530065536, 0.03717770799994469, -0.026941847056150436, -0.11870361119508743, 0.026323284953832626, 0.01715906709432602, 0.0017335963202640414, -0.02141205035150051, 0.01726972497999668, -0.04875028878450394, -0.07925190776586533, -0.0039834934286773205, 0.01970922388136387, -0.05293966084718704, 0.021847182884812355, 0.003805049927905202, -0.013893349096179008, -0.03103014826774597, -0.11128953844308853, -0.01714419759809971, 0.03679875656962395, -0.04266554117202759, 0.06634961813688278, -0.017021454870700836, 0.08189748227596283, -0.0025991233997046947, -0.051624856889247894, 0.026447735726833344, -0.05432742461562157, 0.06147170066833496, 0.053561460226774216, 0.0966237336397171, -0.08762741833925247, 0.013435778208076954, -0.03999912366271019, 0.01199391670525074, 0.013694354332983494, 0.07329041510820389, -0.08917956054210663, -0.0993255153298378, -0.05600936710834503, 0.002184773562476039, 0.021300554275512695, 0.04014502838253975, -0.09359358996152878, 0.18034270405769348, 0.03047039546072483, -0.046467214822769165, 0.056781571358442307, -0.035027191042900085, 0.04502296820282936, 0.10162138193845749, 0.007364276330918074, -0.05955325439572334, 0.0014217952266335487, -0.009081407450139523, -0.03381231054663658, -0.038670144975185394, -0.004774695727974176, -0.02157333865761757, -0.02581464685499668, -0.0025316516403108835, 0.055569130927324295, 0.08277960121631622, -0.07741009443998337, 0.06556430459022522, 0.06779513508081436, -4.009942244920239e-08, -0.07152070105075836, -0.053857602179050446, 0.002702695783227682, -0.10084390640258789, -0.06551622599363327, -0.06586803495883942, 0.07257162779569626, -0.10816750675439835, -0.06183117255568504, -0.03124730847775936, -0.002613671822473407, -0.03862548619508743, -0.034018538892269135, 0.007341387681663036, 0.04889886826276779, 0.06664194911718369, -0.014408497139811516, 0.010287467390298843, 0.02206464856863022, -0.023714810609817505, 0.011167666874825954, -0.0034615194890648127, -0.07550885528326035, -0.013382324017584324, 0.05515240132808685, 0.005386242177337408, -0.01956353895366192, 0.011065664701163769, -0.030650658532977104, 0.03178045153617859, 0.037950508296489716, 0.03539101779460907, -0.011569050140678883, -0.03500625491142273, -0.07817786931991577, 0.022531289607286453, 0.12100591510534286, -0.1662270426750183, -0.06836236268281937, 0.005493535660207272, 0.050974711775779724, -0.013916729018092155, 0.027595072984695435, -0.017013253644108772, 0.048841170966625214, -0.050933826714754105, 0.05437610298395157, -0.025110801681876183, -0.011710419319570065, 0.09653834253549576, 0.04578806087374687, -0.005752285942435265, 0.041184764355421066, 0.07878798246383667, -0.05808719992637634, -0.01502430159598589, -0.049382276833057404, 0.017332062125205994, 0.03171468526124954, 0.040862202644348145, 0.03464054688811302, 0.05176909640431404, 0.11360647529363632, -0.00908065028488636], [0.040174975991249084, 0.003802137216553092, 0.012195740826427937, 0.0026190285570919514, -0.04782877862453461, -0.018900306895375252, 0.06482043862342834, -0.07253795117139816, 0.03772854432463646, 0.11687363684177399, -0.07115215808153152, 0.022337572649121284, -0.0075066001154482365, -0.02050168253481388, -0.01680576242506504, -0.09833155572414398, 0.08331843465566635, 0.02458884008228779, 0.06258238106966019, 0.07510347664356232, -0.09489955008029938, 0.02377520501613617, 0.029882829636335373, 0.02106337435543537, -0.04931873828172684, -0.03442307561635971, 0.042023953050374985, 0.036097802221775055, 0.03690053150057793, -0.027317380532622337, 0.0037832101806998253, -0.048248253762722015, 0.05968708544969559, -0.03508760780096054, -0.0368480384349823, 0.001467762398533523, 0.11793334782123566, -0.038697440177202225, -0.011205889284610748, 0.010376207530498505, -0.06832660734653473, -0.07418960332870483, -0.0038549057208001614, -0.03596921265125275, 0.07942847162485123, -0.01329488679766655, 0.020790472626686096, -0.07410511374473572, -0.008996478281915188, -0.001918897614814341, -0.05404756963253021, -0.017030881717801094, 0.09555807709693909, -0.01597781665623188, -0.0379503071308136, 0.01974889077246189, -0.03885393962264061, -0.008083894848823547, 0.049973905086517334, -0.06565171480178833, 0.02182549424469471, -0.018901502713561058, 0.052229203283786774, 0.007650856859982014, 0.009393044747412205, 0.015096914954483509, -0.020417792722582817, -0.003776325611397624, -0.0054435026831924915, 0.00543013121932745, -0.08646286278963089, 0.00808298122137785, -0.03826259821653366, -0.016082586720585823, -0.09626077860593796, -0.012764634564518929, 0.0032872376032173634, -0.027746258303523064, 0.011585294269025326, 0.10357087850570679, 0.013096649199724197, 0.04746570438146591, 0.06531715393066406, 0.010006149299442768, -0.05224142596125603, 0.009545768611133099, -0.017544105648994446, -0.020670652389526367, -0.11795624345541, -0.07398366183042526, -0.020048733800649643, 0.029802240431308746, 5.864682316314429e-05, 0.019670654088258743, 0.006798965856432915, 0.0819610208272934, 0.030046148225665092, 0.08385670930147171, 0.12952356040477753, 0.034235402941703796, -0.005205092485994101, 0.1419156938791275, 0.03836246579885483, 0.002642571460455656, -0.053626421838998795, -0.046264272183179855, -0.013518829829990864, 0.0009099149610847235, 0.06577544659376144, -0.010468949563801289, -0.05373310297727585, -0.06539477407932281, -0.04096100106835365, -0.00537564093247056, -0.14347393810749054, 0.0007366668432950974, -0.05856197327375412, -0.040757372975349426, -0.010587796568870544, -0.029004568234086037, 0.04723410680890083, 0.043312251567840576, -1.0891885722230654e-06, 0.04035637527704239, -0.03140028938651085, -0.04180848225951195, -0.004055543337017298, 3.581738633795203e-33, -0.028834274038672447, -0.04918557405471802, 0.06772887706756592, -0.009168795309960842, 0.11879053711891174, -0.02598673291504383, 0.03861420974135399, -0.00831633247435093, 0.011940252035856247, 0.03972349315881729, 0.0387805700302124, -0.026056092232465744, -0.007781994994729757, -0.012332967482507229, 0.030201921239495277, -0.012084920890629292, -0.05897420272231102, 0.021404478698968887, 0.006828478071838617, -0.04546929523348808, -0.0874486044049263, 0.04429928958415985, 0.07647468149662018, -0.0085921511054039, 0.020961599424481392, 0.05706198886036873, 0.04311096668243408, 0.0015002252766862512, -0.029392533004283905, 0.02147696539759636, 0.031183544546365738, 0.007652513682842255, -0.07739542424678802, -0.01998107135295868, -0.050183139741420746, -0.04771565645933151, -0.054916948080062866, -0.004331926349550486, -0.02012176439166069, 0.021919026970863342, -0.023756474256515503, -0.05137404054403305, -0.015705769881606102, 0.11507078260183334, -0.08982449769973755, 0.016375483945012093, 0.029960021376609802, -0.020071838051080704, -0.05257030576467514, 0.10330363363027573, -0.029849885031580925, 0.032919302582740784, 0.025914788246154785, -0.013223933055996895, -0.05415907874703407, -0.08919162303209305, 0.044212233275175095, -0.028848236426711082, -0.005994677543640137, -0.03297720104455948, -0.07253170013427734, 0.06403075158596039, 0.002495684428140521, -0.06316889822483063, -0.06990800052881241, -0.017793115228414536, 0.02811545878648758, 0.04891122505068779, 0.08598858118057251, 0.04532971233129501, -0.026453394442796707, 0.10541918128728867, -0.02569548599421978, 0.0076968129724264145, -0.03527795895934105, 0.017589658498764038, -0.012700828723609447, -0.0996834933757782, 0.08364053070545197, -0.0306329894810915, 0.009111610241234303, 0.007444487884640694, -0.0504467599093914, 0.05876379460096359, -0.060898471623659134, -0.03372107446193695, -0.0008127103792503476, 0.010491208173334599, -0.01929493062198162, -0.020156797021627426, -0.022073380649089813, -0.08512614667415619, -0.01866872049868107, -0.01409559603780508, -0.018266916275024414, -5.13335848344399e-33, 0.10910894721746445, 0.02406286634504795, -0.1519138514995575, 0.028847675770521164, 0.003495831973850727, -0.03864077106118202, -0.047960877418518066, -0.12116689234972, -0.024067241698503494, -0.023595891892910004, -0.03117973729968071, 0.016297584399580956, 0.06405320763587952, -0.018230406567454338, 0.10350987315177917, -0.012721848674118519, -0.001621508621610701, -0.014283868484199047, -0.012998816557228565, -0.03051856718957424, 0.13047029078006744, -0.03323858976364136, 0.016684632748365402, -0.054057929664850235, -0.060010068118572235, 0.022136664018034935, 0.013276910409331322, -0.033282626420259476, -0.05012582242488861, 0.05079491809010506, -0.04047117009758949, -0.023454787209630013, 0.022658616304397583, -0.03873150423169136, 0.007012300193309784, 0.013359066098928452, -0.04057130962610245, 0.013004373759031296, 0.03741834685206413, 0.00048451742623001337, 0.04907349869608879, -0.03838016837835312, 0.04137689247727394, 0.0734165757894516, 0.044004570692777634, -0.018566763028502464, -0.09868220239877701, 0.03898867219686508, 0.052661579102277756, -0.03034154511988163, -0.006331383716315031, 0.03439607843756676, 0.03426587954163551, -0.02712903544306755, 0.04037594795227051, 0.00016050488920882344, -0.08072541654109955, -0.03974912688136101, -0.05051906034350395, 0.06821057945489883, -0.0693642646074295, 0.08229716122150421, 0.0005390785518102348, 0.01870035193860531, 0.014675473794341087, 0.0018472308292984962, -0.044668033719062805, -0.07516749948263168, -0.09146393835544586, 0.04582156240940094, -0.004177371971309185, -0.11274644732475281, 0.025394009426236153, 0.08287341147661209, 0.07234647125005722, -0.0253162682056427, 0.12794645130634308, 0.045877426862716675, 0.06742877513170242, 0.030028419569134712, 0.008611883968114853, -0.01694989576935768, 0.07497461140155792, -0.03710393235087395, 0.02020282857120037, 0.03668338805437088, -0.10219010710716248, 0.06326327472925186, -0.07448292523622513, 0.052383191883563995, 0.017216024920344353, 0.045194111764431, -0.054127514362335205, 0.04157881811261177, 0.06518791615962982, -5.118333845643974e-08, -0.00900865625590086, -0.04030308499932289, 0.00786019116640091, 0.02107849530875683, 0.014643412083387375, -0.02080792933702469, -0.04967945069074631, 0.047320473939180374, -0.00045152235543355346, -0.07429284602403641, 0.014626572839915752, -0.07695415616035461, 0.030672011896967888, 0.08289244025945663, 0.016409235075116158, 0.1211901381611824, -0.04044647887349129, 0.01311674527823925, -0.05813075229525566, 0.0088482815772295, -0.04452425241470337, -0.04491014406085014, 0.052458956837654114, 0.008596177212893963, -0.04278206452727318, -0.028938299044966698, -0.06087735667824745, -0.009459925815463066, 9.386238525621593e-05, 0.04570450261235237, 0.029703237116336823, 0.039276644587516785, -0.03564925491809845, -0.01988121308386326, 0.034092508256435394, -0.001481537357904017, -0.05327935889363289, -0.09450412541627884, -0.03348087891936302, -0.027900001034140587, -0.1011873185634613, -0.07838603109121323, -0.027851441875100136, -0.02568185329437256, -0.005874592810869217, 0.04678650200366974, -0.06287093460559845, 0.1507941484451294, -0.08477424085140228, 0.06384583562612534, -0.03676626831293106, -0.09533613920211792, 0.009663263335824013, 0.05723685771226883, -0.005388971418142319, 0.02633107453584671, 0.04954855516552925, 0.027907725423574448, 0.06774705648422241, 0.08809246867895126, 0.033936429768800735, 0.03471529483795166, 0.0019820486195385456, 0.03117676079273224], [0.03195517510175705, 0.04394432529807091, 0.014106816612184048, -0.011202417314052582, 0.011437752284109592, -0.02479320392012596, 0.020426645874977112, -0.069456547498703, 0.023357756435871124, 0.013133937492966652, -0.03204065561294556, -0.039879485964775085, -0.010569866746664047, -0.043132077902555466, 0.08824121206998825, -0.13659419119358063, 0.04654177650809288, -0.039955489337444305, 0.017374835908412933, 0.03276840224862099, -0.11671563982963562, -0.02387174405157566, -0.011341683566570282, 0.03894975781440735, -0.03136998787522316, 0.006721837446093559, 0.005704072304069996, -0.00811079889535904, -0.0016485736705362797, -0.019451122730970383, 0.04852411895990372, 0.006329799070954323, 0.04322676733136177, -0.01141237374395132, -0.02755347080528736, -0.004384774714708328, 0.05670274421572685, 0.04847294092178345, -0.0402035228908062, -0.016978999599814415, 0.008746817708015442, 0.018215525895357132, 0.060131583362817764, -0.026900112628936768, 0.002015337347984314, -0.021478312090039253, -0.0013561529340222478, -0.12501055002212524, 0.05060046166181564, 0.045378878712654114, 0.023003052920103073, 0.007575433701276779, 0.07765237241983414, 0.013731389306485653, 0.01731014996767044, 0.024227319285273552, -0.08487088978290558, -0.04663751274347305, -0.053930915892124176, -0.06472732871770859, 0.023585660383105278, 0.0020801802165806293, 0.008236411958932877, -0.021200090646743774, -0.02685779519379139, -0.03411346673965454, -0.071622833609581, -0.025735657662153244, -0.05431792885065079, 0.07750190794467926, -0.0464288704097271, 0.05962798371911049, -0.007818901911377907, -0.03650568053126335, -0.014354320243000984, -0.03255441039800644, 0.01705680415034294, -0.04127694293856621, 0.05711125209927559, 0.0631120502948761, -0.057082876563072205, 0.03992161899805069, 0.08200860023498535, 0.021214261651039124, -0.048551227897405624, 0.01072388980537653, 0.0005214792909100652, -0.02261134795844555, -0.15666304528713226, -0.046715471893548965, 0.05163010209798813, -0.01597074419260025, 0.009453427977859974, 0.025209417566657066, -0.037760064005851746, 0.05574079602956772, 0.004048486705869436, 0.05408816039562225, 0.06527403742074966, 0.002968760207295418, -0.025441933423280716, 0.08087652176618576, 0.0528680756688118, 0.005272319540381432, -0.027776649221777916, -0.014837047085165977, -0.07679617404937744, 0.005804883781820536, 0.059451159089803696, -0.03248735889792442, -0.001686719711869955, 0.023392075672745705, -0.02718902938067913, -0.0005666339420713484, -0.11494527012109756, 0.03984949365258217, 0.0044207158498466015, -0.07699371129274368, 0.0017001433297991753, -0.10311897099018097, 0.012599161826074123, 0.00422707898542285, 0.07600380480289459, 0.014480560086667538, -0.01235217321664095, -0.01658548228442669, -0.00717725045979023, 3.3358597457497355e-33, -0.057954173535108566, -0.04646487906575203, 0.0048987059853971004, -0.03121749684214592, 0.07685571163892746, 0.02228439971804619, 0.04524344950914383, 0.027101879939436913, 0.022271577268838882, -0.015361892990767956, 0.03408218175172806, -0.015562228858470917, -0.005957182962447405, 0.0035021931398659945, -0.0021063818130642176, 0.031870972365140915, -0.07834909856319427, -0.006683662533760071, 0.022092305123806, -0.022544585168361664, -0.05629761889576912, -0.0021156580187380314, 0.0570354089140892, 0.06933438777923584, 0.009394434280693531, 0.04422830417752266, 0.11939123272895813, -0.02375825308263302, -0.007471158169209957, 0.0202541034668684, 0.10517194122076035, -0.02236255817115307, -0.04257000982761383, 0.03509054705500603, -0.050210464745759964, 0.031620219349861145, -0.04557988792657852, 0.027901209890842438, -0.024395886808633804, 0.020130736753344536, -0.03422456607222557, -0.02093830518424511, 0.03811025246977806, 0.042923372238874435, -0.07333359122276306, -0.031413134187459946, 0.10495579242706299, -0.047851599752902985, -0.07779620587825775, 0.009861319325864315, -0.030192792415618896, 0.028457816690206528, 0.03378145024180412, 0.023606300354003906, -0.06244628503918648, -0.07202291488647461, 0.04317456856369972, -0.07292347401380539, -0.014901596121490002, -0.06925735622644424, -0.044873129576444626, -0.020792534574866295, 0.021494049578905106, -0.006314725615084171, -0.06692491471767426, 0.009093758650124073, 0.04902920126914978, 0.01306612603366375, 0.04896310716867447, 0.07987626641988754, 0.026647528633475304, 0.021747957915067673, -0.005228555761277676, -0.021011292934417725, -0.042778387665748596, 0.060640767216682434, 0.02583019621670246, -0.07969574630260468, 0.033517513424158096, -0.022785691544413567, 0.01868067868053913, -0.004694697912782431, 0.04910438507795334, 0.08527819812297821, -0.0232208464294672, -0.08176665753126144, -0.021382464095950127, -0.03792475908994675, -0.04947654530405998, 0.006315262988209724, -0.062870554625988, -0.022863972932100296, 0.0018864955054596066, -0.019076671451330185, -0.06396962702274323, -5.5511255023063846e-33, 0.08387476205825806, 0.006574525497853756, -0.07374923676252365, -0.05421293526887894, 0.004441770724952221, -0.05506238713860512, -0.03800287842750549, -0.10757280141115189, -0.021160166710615158, -0.09502416104078293, -0.0972578302025795, 0.09667178988456726, 0.06860366463661194, -0.0326172411441803, 0.05005839094519615, -0.07276594638824463, -0.04572378098964691, 0.02391689456999302, 0.06725651025772095, -0.08238716423511505, 0.1418234407901764, 0.03084755316376686, 0.06236017122864723, -0.04240266606211662, -0.010363226756453514, -0.02882668375968933, -0.05407743155956268, -0.030879804864525795, -0.08551466464996338, -0.010600555688142776, -0.033794380724430084, -0.07535815238952637, 0.0889567956328392, -0.02017069235444069, 0.07242178171873093, 0.029429499059915543, 0.0056433542631566525, 0.05037187039852142, -0.01575332134962082, 0.030581653118133545, -0.019464781507849693, -0.05683381110429764, 0.05803545191884041, 0.10624638944864273, 0.04572784900665283, 0.027451884001493454, -0.10988562554121017, 0.09306500852108002, 0.0056554656475782394, 0.03324754536151886, -0.00028698050300590694, -0.04925605654716492, -0.017575478181242943, 6.817426765337586e-05, 0.006431696470826864, 0.03345399722456932, -0.05648426339030266, -0.0016098887426778674, 0.03140969201922417, 0.0405641570687294, -0.08380814641714096, 0.05219759792089462, -0.013597268611192703, -0.015228191390633583, -0.040569622069597244, 0.024785378947854042, -0.10279630124568939, -0.09310323745012283, -0.06232810392975807, 0.06362497061491013, -0.06802401691675186, -0.09067322313785553, -0.03661387413740158, 0.08129313588142395, 0.017979850992560387, 0.02365776151418686, 0.10544022917747498, 0.0366792306303978, 0.1316809207201004, 0.05107024684548378, -0.050643566995859146, -0.04746301472187042, 0.04326752945780754, -0.05987894907593727, 0.05481676384806633, -0.01501869410276413, -0.043232616037130356, 0.012038436718285084, -0.10361915826797485, 0.05610433593392372, 0.0007888908148743212, 0.1334054321050644, -0.021304840222001076, 0.07629610598087311, 0.02198822982609272, -5.89046642573976e-08, 0.06720906496047974, -0.008943391963839531, 0.009414700791239738, -0.022411849349737167, -0.014126983471214771, -0.11544378846883774, 0.03271441534161568, 0.030092261731624603, -0.04241563007235527, -0.04334903135895729, 0.015568875707685947, -0.03122464381158352, 0.06174713745713234, 0.00575094623491168, 0.003772599855437875, 0.05567419156432152, 0.020171156153082848, -0.027589818462729454, -0.08346332609653473, 0.06389805674552917, 0.002256896812468767, -0.04788985475897789, 0.020916255190968513, 0.039994146674871445, -0.03150732442736626, -0.004493300337344408, 0.0018287560669705272, -0.025501428171992302, -0.018556024879217148, 0.05587134137749672, 0.05763264372944832, 0.01751655340194702, 0.006411464419215918, 0.04427674785256386, 0.08077383786439896, 0.022467538714408875, -0.0871686115860939, -0.08529576659202576, -0.030936457216739655, 0.024124784395098686, -0.06839992851018906, -0.08772017806768417, 0.0006328217568807304, -0.028564264997839928, 0.027296246960759163, 0.01345029752701521, -0.020943835377693176, 0.10990279912948608, -0.0283388439565897, 0.12004142254590988, -0.05506449192762375, -0.0988793894648552, -0.007938221096992493, 0.058244891464710236, -0.020297346636652946, 0.03801329806447029, 0.07755053043365479, 0.011474869213998318, 0.12112031131982803, 0.0766625851392746, 0.016715560108423233, 0.011188098229467869, 0.003168867900967598, 0.03899016231298447], [0.022146709263324738, -0.004709592554718256, 0.05720027536153793, -0.028766483068466187, 0.022219305858016014, 0.051698289811611176, 0.052785541862249374, 0.021746955811977386, 0.026218418031930923, 0.06024925783276558, -0.11753589659929276, -0.028935397043824196, 0.024746032431721687, 0.017628254368901253, 0.006717806216329336, -0.077973872423172, 0.08238281309604645, 0.004694920498877764, 0.07935409992933273, 0.06464601308107376, 0.0026549987960606813, -0.05354096740484238, 0.03825085610151291, 0.026893554255366325, -0.029046764597296715, 0.0866876021027565, -0.020754219964146614, 0.013156655244529247, 0.010869307443499565, -0.10001388192176819, 0.0286598838865757, 0.01714569330215454, 0.0035537714138627052, 0.024687420576810837, -0.05642211064696312, -0.016928650438785553, 0.1225312203168869, 0.025795917958021164, 0.01315829437226057, -0.0007665313896723092, -0.06285141408443451, -0.0502985343337059, 0.04415382444858551, -0.00432557612657547, 0.04628758132457733, -0.05143708363175392, 0.02337396889925003, -0.11041755229234695, 0.021536465734243393, -0.04409408941864967, -0.023547815158963203, -0.06864264607429504, 0.08200249820947647, -0.0014893587213009596, 0.024790089577436447, 0.045668017119169235, -0.008891434408724308, -0.05576116219162941, 0.044288717210292816, 0.05988851189613342, 0.043665070086717606, 0.03028249740600586, -0.0206859540194273, -0.03200206905603409, -0.005162093788385391, -0.048789963126182556, -0.08869166672229767, 0.038312509655952454, 0.04325810447335243, -0.031872715801000595, 0.03072522021830082, -0.01810295134782791, 0.02780408039689064, -0.06448718905448914, -0.023176446557044983, 0.0002686184016056359, 0.013645768165588379, -0.044364508241415024, -0.059135861694812775, 0.03165389969944954, -0.07860637456178665, 0.053082097321748734, -0.01684749498963356, 0.0711812824010849, -0.05822019651532173, 0.02228011004626751, 0.044345758855342865, -0.049350712448358536, -0.06558750569820404, -0.07493389397859573, -0.040326088666915894, 0.07869427651166916, -0.04895700514316559, -0.03801341354846954, -0.09612017869949341, -0.022312555462121964, -0.021550960838794708, -0.04620255529880524, 0.06328307837247849, 0.046346135437488556, 0.022147566080093384, 0.03058338351547718, 0.05836018919944763, -0.001364811323583126, -0.04629145562648773, -0.13631942868232727, -0.03019455447793007, 0.011964482255280018, 0.04961561784148216, -0.09875992685556412, -0.006187381688505411, -0.017775019630789757, -0.08148601651191711, 0.08170299232006073, -0.07355930656194687, -0.019807137548923492, 0.013761821202933788, -0.1284763067960739, -0.01663290522992611, -0.06639435887336731, 0.07177505642175674, -0.025743337348103523, 0.004690754693001509, 0.04060071334242821, -0.03755670040845871, -0.012600026093423367, 0.03426986560225487, 6.9206513587792145e-34, 0.011320261284708977, 0.06717689335346222, 0.06319393217563629, 0.005391202867031097, 0.15484358370304108, -0.0009288469445891678, -0.0032391282729804516, 0.0227274838835001, -0.014589381404221058, 0.04302596300840378, -0.04053707420825958, 0.0498441718518734, -0.018715884536504745, 0.03272480145096779, 0.04049629345536232, -0.07828816026449203, -0.030275769531726837, 0.02545861527323723, -0.052764132618904114, -0.03482406586408615, -0.09511379152536392, 0.030317852273583412, 0.024060307070612907, 0.005029839929193258, -0.001453798613511026, 0.08828802406787872, 0.04384373500943184, 0.009026329033076763, -0.02809847518801689, 0.016777437180280685, 0.059041328728199005, 0.06629272550344467, -0.01396869495511055, 0.042603421956300735, -0.09268990904092789, -0.026251913979649544, -0.0562819167971611, -0.06158367544412613, 0.06428799033164978, 0.02890411950647831, -0.050496675074100494, 0.055342160165309906, 0.007648981176316738, 0.08562377840280533, -0.06329371780157089, 0.0641552060842514, 0.016250990331172943, 0.06773033738136292, -0.017259784042835236, 0.044237978756427765, -0.02664896845817566, 0.023596880957484245, 0.04707678407430649, 0.05273766443133354, -0.0029789386317133904, -0.05290030315518379, -0.041482988744974136, -0.012282061390578747, 0.07681070268154144, -0.009335080161690712, 0.037228841334581375, -0.023522887378931046, -0.07557377964258194, -0.01778247393667698, -0.018940208479762077, 0.04320504888892174, -0.01577046886086464, 0.019018622115254402, 0.11118746548891068, 0.015373513102531433, -0.015743451192975044, 0.026418441906571388, 0.01658800058066845, 0.025355853140354156, 0.00998418778181076, -0.008923071436583996, -0.02178465574979782, -0.0008215797715820372, -0.004869496449828148, 0.03383447974920273, 0.02897399663925171, 0.014967827126383781, -0.08917371183633804, 0.0020327188540250063, -0.0832286924123764, -0.012929937802255154, 0.08589483052492142, -0.01626136340200901, -0.08547088503837585, 0.03728921711444855, -0.05566100403666496, -0.05192841961979866, 0.03729182481765747, 0.007592068053781986, -0.1165652945637703, -1.0287709826625727e-33, 0.11301569640636444, -0.08443955332040787, -0.0658528283238411, -0.0013118359493091702, 0.09243141859769821, -0.01972329057753086, 0.003992654383182526, -0.07311034947633743, -0.07827470451593399, 0.04756668210029602, 0.00571118900552392, 0.04927442967891693, 0.02510967291891575, 0.05204059183597565, -0.03998800739645958, 0.001753783319145441, 0.019494792446494102, -0.0029064053669571877, -0.09167348593473434, -0.03358848765492439, -0.0195701215416193, 0.08432307839393616, -0.10250236839056015, -0.012201444245874882, -0.04777604714035988, 0.08900662511587143, -0.05430125072598457, -0.031001945957541466, -0.07857923954725266, 0.040664348751306534, -0.0530676543712616, -0.04572034627199173, 0.019845275208353996, -0.029163656756281853, 0.024256739765405655, 0.03599896281957626, -0.017978759482502937, -0.07418808341026306, 0.022068845108151436, 0.039514388889074326, 0.021277377381920815, 0.01143504586070776, 0.050730783492326736, 0.07728254050016403, 0.04381529241800308, -0.05768752843141556, -0.10748892277479172, 0.08149093389511108, -0.0624019019305706, 0.02149070054292679, -0.02321142517030239, -0.062480028718709946, 0.008246833458542824, -0.08039416372776031, -0.006889274809509516, 0.011913196183741093, -0.021099431440234184, 0.031777072697877884, -0.005850703455507755, 0.07718510925769806, -0.012907312251627445, 0.0711277425289154, -0.01658843271434307, -0.002527405507862568, 0.009931250475347042, -0.031082384288311005, 0.05960406735539436, 0.0033717071637511253, 0.018279729411005974, -0.0005759612540714443, 0.08048932999372482, 0.013163400813937187, 0.10172386467456818, 0.09542619436979294, 0.02673167921602726, 0.0006971555994823575, 0.06420790404081345, -0.0008860698435455561, -0.0295402854681015, -0.015132131054997444, 0.017483986914157867, -0.03164053335785866, 0.06335112452507019, -0.06680026650428772, 0.07484441250562668, 0.037088438868522644, -0.05649237334728241, 0.0041399686597287655, -0.03831404447555542, 0.01815149188041687, 0.0023302112240344286, 0.025888854637742043, -0.0735984519124031, 0.08902939409017563, 0.10919830203056335, -5.019951743179263e-08, -0.0011644139885902405, -0.09424331039190292, 0.029435107484459877, -0.03719598054885864, -0.07504782825708389, -0.027055641636252403, 0.07998386025428772, -0.04473748803138733, -0.014571496285498142, -0.051079291850328445, 0.024143697693943977, 0.006245922762900591, -0.042984575033187866, 0.047748733311891556, 0.0029410342685878277, 0.08070077002048492, 0.020554713904857635, 0.045104771852493286, -0.0823032334446907, 0.04249418526887894, -0.09262552112340927, -0.0077749257907271385, 0.04205311834812164, -0.05479477718472481, -0.045583706349134445, 0.02556782215833664, -0.057475656270980835, 0.05103551223874092, 0.005915052257478237, 0.032624751329422, 0.04268055781722069, 0.030199136584997177, 0.045863114297389984, 0.0020133082289248705, 0.051798805594444275, 0.02590065449476242, -0.10640984773635864, -0.004129892215132713, -0.04938778281211853, -0.04408825561404228, -0.03694413974881172, -0.09107561409473419, -0.1065029725432396, 0.01643546111881733, 0.0022119132336229086, 0.04499246925115585, -0.07941657304763794, 0.02553759701550007, -0.06001197546720505, 0.08014842867851257, -0.023401392623782158, -0.04563145712018013, 0.07155562192201614, 0.011821764521300793, -0.09650957584381104, -0.0015544499037787318, 0.03614964708685875, -0.016836518421769142, 0.05368337780237198, -0.019249817356467247, 0.057932671159505844, 0.02528109960258007, 0.01492296252399683, 0.02981279231607914], [0.05554541200399399, 0.03982099890708923, 0.004404028411954641, -0.019878126680850983, 0.01272361259907484, -0.01647142507135868, 0.03296805918216705, 0.04305152967572212, 0.031913913786411285, 0.06155608594417572, -0.07955674827098846, -0.023916827514767647, -0.0496659018099308, 0.023418113589286804, -0.06450805068016052, -0.0490434356033802, 0.009131615050137043, -0.010417703539133072, 0.08674263954162598, 0.07870858162641525, -0.008770924061536789, -0.01011646632105112, -0.008551542647182941, -0.03901781141757965, -0.04233849421143532, 0.08295831829309464, -0.021251674741506577, -0.007112049963325262, 0.018409287557005882, -0.1035083755850792, -0.011176628060638905, -0.05077961087226868, -0.011346634477376938, 0.02642802894115448, -0.05732976272702217, -0.05288287252187729, 0.07731639593839645, 0.0240541473031044, 0.002358479890972376, -0.030868742614984512, 0.008780589327216148, -0.07952380925416946, 0.05284768342971802, 0.0878559872508049, 0.031223220750689507, 0.012804367579519749, -0.041866157203912735, -0.10658146440982819, -0.02421652525663376, -0.013659694232046604, -0.05769861117005348, -0.05800943076610565, 0.03681713342666626, 0.009673671796917915, 0.04435631260275841, 0.08927641063928604, 0.03928414359688759, -0.05593208968639374, 0.0651051476597786, 0.029760567471385002, 0.0756676122546196, -0.00780224846675992, -0.05439728870987892, -0.02189578488469124, 0.00877817440778017, -0.031839534640312195, -0.08034980297088623, 0.005931411404162645, -0.02840684913098812, -0.034637048840522766, -0.0076676905155181885, -0.013560282066464424, -0.05986279994249344, -0.0013630820903927088, -0.01740894466638565, 0.0040169632993638515, 0.01003527082502842, -0.03895542770624161, -0.006981545127928257, 0.016396351158618927, -0.056822311133146286, 0.04970894008874893, -0.022730691358447075, 0.07408075034618378, -0.01633109524846077, 0.03097572922706604, 0.001014198176562786, -0.019764509052038193, -0.07629157602787018, -0.05183448642492294, 0.0020228014327585697, 0.0357123538851738, -0.03081836737692356, -0.019680393859744072, -0.07028113305568695, -0.0132623091340065, 0.017352642491459846, -0.0474601686000824, -0.021289542317390442, 0.03153439611196518, 0.0027997444849461317, -0.02465263195335865, 0.02356942743062973, -0.01683526672422886, -0.006648899056017399, -0.03902469947934151, -0.028466396033763885, 0.03372928500175476, 0.08231621235609055, -0.1365702897310257, -0.06770936399698257, -0.07610490173101425, -0.12740591168403625, -0.05025678500533104, -0.04475647211074829, -0.06302870064973831, -0.008230588398873806, -0.07679809629917145, 0.03234263136982918, -0.03267333656549454, 0.06882201880216599, -0.002895400393754244, -0.03969976678490639, 0.06458336859941483, -0.03384905681014061, -0.012039650231599808, 0.03771534934639931, 2.353067857277592e-33, -0.0028348236810415983, 0.015021882019937038, 0.03657737001776695, -0.0022548786364495754, 0.18121711909770966, 0.0133305499330163, -0.007953708991408348, 0.09802331775426865, -0.022339798510074615, 0.06541653722524643, -0.02882199175655842, -0.01681745983660221, -0.07473664730787277, 0.03724067285656929, 0.07884228974580765, -0.056983064860105515, -0.0019754511304199696, 0.03708009049296379, -0.10448545962572098, -0.009449122473597527, -0.0730549618601799, 0.06269974261522293, 0.06586204469203949, -0.018615584820508957, 0.04275478050112724, 0.0586698092520237, -0.01887979917228222, -0.007428785786032677, -0.011557410471141338, 0.03953230008482933, 0.03551730886101723, 0.03445742651820183, -0.02506547048687935, 0.0325746089220047, -0.07005651295185089, -0.012799027375876904, -0.025800492614507675, -0.034878168255090714, 0.02384890988469124, -0.011641183868050575, -0.014187546446919441, 0.04875589907169342, -0.028874272480607033, 0.08725426346063614, -0.02292853780090809, -0.022823790088295937, 0.0799090713262558, 0.06381678581237793, -0.039146099239587784, -0.006656389683485031, -0.018044503405690193, 0.02137729711830616, -0.02779439464211464, 0.05343059077858925, 0.017724644392728806, -0.05564458295702934, -0.008746354840695858, 0.04399574175477028, 0.04700108617544174, -0.02617514692246914, -0.004262301605194807, 0.013899934478104115, -0.06909014284610748, -0.011007647961378098, -0.034685514867305756, 0.03991255536675453, -0.01287647895514965, -0.00033122350578196347, 0.08954104781150818, 0.0007201217231340706, -0.013179279863834381, -0.003062107367441058, -0.019224470481276512, -0.004300067666918039, -0.06375531107187271, 0.014184399507939816, -0.06316901743412018, -0.013365156017243862, 0.10519292950630188, -0.031170666217803955, 0.08794382959604263, 0.11352577805519104, -0.045988619327545166, -0.10132738947868347, -0.04756272956728935, -0.011850389651954174, 0.053494974970817566, -0.07038504630327225, -0.06189191713929176, 0.09515687078237534, -0.07696950435638428, -0.02605230174958706, 0.03432833403348923, 0.043550778180360794, -0.08065585047006607, -3.15342963465784e-33, 0.04102426767349243, -0.055060967803001404, -0.09461182355880737, -0.006115240044891834, 0.01909170299768448, -0.0031293064821511507, 0.01656280644237995, -0.024121103808283806, -0.024477774277329445, 0.06361755728721619, 0.06236705929040909, -0.01522765588015318, 0.04527880251407623, 0.02266661264002323, -0.0030520071741193533, -0.0187419094145298, 0.060003288090229034, -0.01792915351688862, -0.057685501873493195, -0.06834250688552856, 0.04503177851438522, -0.00034277449594810605, -0.05164729058742523, -0.01539137028157711, 0.04482881352305412, 0.08401309698820114, -0.040411125868558884, -0.034805312752723694, -0.06387705355882645, 0.048638589680194855, -0.06527883559465408, -0.07586914300918579, 0.037265777587890625, 0.023723194375634193, 0.00996516365557909, 0.040472544729709625, -0.0680198222398758, 0.006717599928379059, 0.07553242146968842, -0.02766757272183895, 0.047678980976343155, -0.04575507342815399, 0.0942053571343422, 0.08330070227384567, 0.037020597606897354, -0.059432487934827805, -0.07892200350761414, 0.09181958436965942, -0.11294887959957123, -0.044595133513212204, -0.03495878353714943, -0.06579133868217468, -0.00467729615047574, -0.024577409029006958, -0.03313777595758438, -0.002167552476748824, 0.008536441251635551, 0.04658861458301544, 0.028017740696668625, -0.003922833129763603, 0.032917242497205734, 0.10642991214990616, 0.020618878304958344, -0.009904276579618454, 0.08812887221574783, -0.010568567551672459, 0.021118566393852234, -0.04721289500594139, -0.03020937740802765, -0.03266302868723869, 0.05032098665833473, -0.003804865526035428, 0.024010516703128815, 0.04162057861685753, 0.03526410087943077, 0.04421474412083626, 0.08050809800624847, -0.03259795531630516, -0.04241596534848213, -0.015340346843004227, -0.045416053384542465, -0.03661981597542763, 0.08064718544483185, -0.059279270470142365, 0.05798710137605667, -0.04301337152719498, -0.035712309181690216, 0.04046217352151871, -0.02477257512509823, 0.08822264522314072, -0.03382858633995056, 0.02970258519053459, -0.084971122443676, 0.058790672570466995, 0.07287682592868805, -4.755625582220091e-08, -0.054596129804849625, -0.07629571855068207, 0.030576614663004875, -0.04882749542593956, -0.0398382693529129, -0.05592759698629379, 0.09300842881202698, -0.0023513096384704113, -0.005438496824353933, -0.04703078418970108, 0.04606739059090614, 0.02337510883808136, -0.007982423529028893, 0.08876290172338486, 0.015942014753818512, 0.09159473329782486, 0.03138135373592377, -0.02696269005537033, -0.03166781738400459, 0.05365191027522087, -0.04627083241939545, -0.05328269675374031, 0.03932458162307739, -0.06466532498598099, -0.0942620038986206, 0.04269072040915489, -0.06917764991521835, 0.09011098742485046, 0.014743446372449398, 0.015378277748823166, 0.08178897202014923, 0.028928833082318306, 0.03050038404762745, 0.05845494195818901, 0.059623993933200836, 0.08688759803771973, -0.10080607980489731, -0.0026522192638367414, -0.044501371681690216, -0.004386190790683031, 0.004083127249032259, -0.09195425361394882, -0.09280109405517578, 0.023968661203980446, 0.014907442964613438, 0.05547460913658142, -0.023142842575907707, 0.09545574337244034, -0.10361967980861664, 0.05366804078221321, 0.007913202978670597, -0.08797266334295273, 0.044385988265275955, -0.02058934047818184, -0.08460397273302078, -0.017451729625463486, 0.10665241628885269, 0.036601416766643524, 0.015775073319673538, 0.014523845165967941, 0.08150993287563324, 0.0269867442548275, -0.017716120928525925, 0.0773298367857933], [0.02403954416513443, -0.01749834418296814, -0.021858591586351395, 0.035562485456466675, 0.026592455804347992, -0.0280341487377882, 0.03670397773385048, 0.004493105225265026, 0.08839981257915497, 0.051133427768945694, -0.10395032167434692, -0.01456697378307581, -0.0004088024143129587, -0.005248705856502056, -0.011029685847461224, -0.1545867919921875, 0.050698455423116684, -0.04071652516722679, 0.046992845833301544, 0.09900879114866257, -0.012335402891039848, -0.03242519870400429, 0.02462456375360489, 0.009100235998630524, 0.010700554586946964, 0.13142627477645874, -0.021759849041700363, 0.0063461498357355595, -0.0651734322309494, -0.06692148000001907, 0.015069178305566311, -0.006011009216308594, -0.01587088219821453, 0.054348528385162354, -0.037658143788576126, -0.04336162284016609, 0.08181095123291016, -0.007844856008887291, 0.06492038816213608, -0.01470722071826458, -0.08420222252607346, -0.05623013153672218, 0.07755373418331146, 0.058655183762311935, 0.07674894481897354, -0.03791157528758049, -0.016024885699152946, -0.09882909804582596, 0.007081991992890835, -0.012959201820194721, -0.09336621314287186, -0.03733021020889282, 0.06026496738195419, 0.012362291105091572, 0.02334975264966488, 0.10794052481651306, 0.0733097717165947, -0.04114033281803131, 0.07733619958162308, 0.06459389626979828, 0.03595273941755295, -0.015630295500159264, 0.055443309247493744, 0.03073631227016449, -0.008739519864320755, -0.041765060275793076, -0.07255462557077408, -0.002501561539247632, 0.01308034174144268, 0.028006089851260185, 0.07403525710105896, 0.05614149570465088, 0.01029201503843069, -0.016005855053663254, 0.00940482784062624, -0.03747748211026192, -0.012758854776620865, -0.034946560859680176, 0.038591619580984116, 0.09221649169921875, -0.060331057757139206, 0.03076719120144844, -0.011652311310172081, 0.08528798818588257, -0.06787210702896118, -0.07684239745140076, 0.04840148240327835, -0.07223249226808548, -0.0862700343132019, -0.06799177825450897, 0.04106205701828003, 0.08196955174207687, 0.011508721858263016, -0.0024798645172268152, -0.09553545713424683, 0.011533278040587902, 0.028936482965946198, 0.004158469848334789, 0.02757376804947853, -0.017905106768012047, -0.015176049433648586, 0.039276231080293655, 0.06439829617738724, -0.01717030256986618, -0.022690249606966972, -0.08998974412679672, -0.03204544633626938, 0.004836694803088903, 0.0761818215250969, -0.09731808304786682, -0.06274859607219696, -0.06339844316244125, -0.12413638085126877, 0.018021056428551674, -0.0915093868970871, 0.008297191001474857, 0.031032491475343704, -0.14060284197330475, 0.03077288344502449, -0.0522555410861969, -0.03543578460812569, -0.04548853635787964, 0.008291133679449558, 0.04087851941585541, -0.0548364594578743, -0.03256629779934883, 0.007524775806814432, 1.2306403724037112e-33, -0.01459437608718872, 0.022565344348549843, 0.036662835627794266, -0.06655054539442062, 0.13198252022266388, -0.06404867768287659, 0.02786279283463955, 0.02971440739929676, -0.022679699584841728, 0.04647499695420265, 0.0014831728767603636, 0.009289090521633625, -0.02758479118347168, 0.038602303713560104, 0.06123140826821327, 0.009419397450983524, -0.06832997500896454, 0.004170783795416355, -0.07665469497442245, 0.020900137722492218, 0.012516091577708721, 0.043156661093235016, 0.029238443821668625, 0.01364235207438469, 0.0064402418211102486, 0.06715728342533112, -0.03899366781115532, 0.007061793468892574, -0.06774111837148666, 0.04118601605296135, 0.019753914326429367, 0.047493450343608856, -0.06515951454639435, -0.034115202724933624, -0.08116968721151352, -0.02564876526594162, -0.04881902039051056, 0.02823258563876152, 0.04217030853033066, 0.008961065672338009, -0.06909562647342682, 0.012233569286763668, 0.014849181286990643, -0.011520151048898697, 0.020552104339003563, 0.04970049113035202, 0.03354356810450554, -0.0007732316153123975, -0.04509260132908821, -0.004024222958832979, -0.014208657667040825, -0.004090334754437208, 0.04429367929697037, 0.1457061767578125, -0.0081646041944623, -0.03803950175642967, 0.031271327286958694, 0.02834302932024002, 0.07525590062141418, -0.03519926220178604, 0.04112838953733444, -0.05285535380244255, -0.06335938721895218, -0.013927657157182693, -0.06095309928059578, 0.028963008895516396, 0.007292852271348238, 0.039489470422267914, 0.14067210257053375, -0.030147818848490715, 0.004198770504444838, 0.017497550696134567, -0.017595382407307625, 0.007449353579431772, -0.01170172356069088, -0.008283626288175583, -0.07037465274333954, -0.021904965862631798, -0.00916485395282507, -0.009970653802156448, 0.04678643122315407, 0.04319686070084572, -0.013575718738138676, -0.046635497361421585, -0.09897084534168243, 0.029117362573742867, 0.06368225067853928, -0.040330711752176285, -0.07473445683717728, 0.04521999880671501, -0.04555697366595268, -0.03927582502365112, 0.03426631912589073, 0.0383291020989418, -0.07840560376644135, -4.4027505408415365e-33, 0.0738251730799675, -0.07276441901922226, -0.06231766939163208, 0.03828417882323265, 0.0021781357936561108, -0.04193440079689026, -0.03083818219602108, -0.005832260940223932, -0.042558882385492325, 0.019512679427862167, 0.020805563777685165, -0.0055608805269002914, 0.02208479680120945, 0.05351341888308525, 0.016021423041820526, -0.0006964171770960093, -0.014922656118869781, -0.05411377176642418, -0.10507553070783615, -0.050231799483299255, 0.05900571122765541, 0.00662281783297658, -0.07465829700231552, 0.02308112196624279, 0.022570546716451645, 0.015951886773109436, -0.09225419163703918, -0.10747746378183365, -0.008922725915908813, 0.07404093444347382, -0.05863068252801895, -0.016330083832144737, 0.046320538967847824, -0.022874480113387108, 0.06363904476165771, -0.03186146169900894, -0.055580321699380875, -0.02528543397784233, 0.08609725534915924, 0.006007996387779713, 0.018603721633553505, 0.0471397265791893, 0.029176954180002213, 0.08172846585512161, 0.07231049984693527, -0.02213595248758793, -0.04063327983021736, 0.03412152826786041, -0.04132113233208656, 0.01239361148327589, -0.013361566700041294, -0.06486114859580994, -0.012291126884520054, -0.027859363704919815, 0.030918238684535027, 0.034373581409454346, -0.03825516998767853, 0.05757070332765579, 0.017086142674088478, 0.01381557434797287, -0.048500921577215195, 0.04970608279109001, 0.01571485586464405, -0.014651567675173283, 0.03299820050597191, 0.04446076974272728, -0.031245388090610504, 0.003419147804379463, 0.04520717263221741, -0.051063913851976395, 0.026485081762075424, -0.015582654625177383, -0.0048586116172373295, 0.13995924592018127, 0.037508368492126465, -0.006440652534365654, 0.05859130993485451, 0.038915228098630905, -0.04201224446296692, -0.0011456659995019436, 0.026643961668014526, 0.025813831016421318, 0.018125861883163452, -0.08705254644155502, 0.031388282775878906, -0.024709798395633698, -0.02540222555398941, -0.009616298601031303, -0.05828171595931053, 0.04040074720978737, -0.011020650155842304, -0.009784461930394173, -0.09353886544704437, -0.015636593103408813, 0.04671620950102806, -4.782406293202257e-08, -0.08008658140897751, -0.0649796798825264, 0.02973475493490696, 0.05748508498072624, -0.05114244669675827, -0.06661199033260345, 0.09806237369775772, -0.03653058782219887, 0.05639887973666191, -0.020984742790460587, 0.01011579018086195, -0.021846801042556763, -0.04361390694975853, 0.0029383718501776457, -0.05257671698927879, 0.10485382378101349, -0.010448726825416088, 0.027055326849222183, -0.023567376658320427, 0.06272247433662415, -0.00010651700722519308, -0.0797344222664833, 0.04897014796733856, -0.008542600087821484, -0.03501591831445694, -0.0008985888562165201, -0.04199843481183052, 0.004437182564288378, 0.008991207927465439, -0.05832923948764801, -0.04208594188094139, -0.010285289026796818, 0.008594619110226631, 0.06303662806749344, 0.038808293640613556, 0.06575926393270493, -0.06945012509822845, -0.08399815857410431, -0.022465940564870834, -0.05753270909190178, -0.05001957714557648, -0.15953585505485535, -0.07743775844573975, -0.03239716961979866, 0.004363226238638163, 0.032664135098457336, -0.08911003172397614, 0.03672439232468605, -0.06899295002222061, 0.0328313373029232, -0.047941502183675766, -0.03932565450668335, 0.05267408862709999, 0.009652424603700638, -0.06942525506019592, 0.037803541868925095, 0.04190906509757042, 0.05294980853796005, 0.04720981791615486, -0.029283488169312477, 0.11787953972816467, 0.01776043325662613, -0.07153009623289108, -0.000780185277108103], [0.013745298609137535, -0.033566735684871674, 0.08247681707143784, 0.047452956438064575, -0.014157888479530811, 0.00891251303255558, 0.014537070877850056, -0.05227287858724594, 0.048840027302503586, 0.048227209597826004, -0.07368670403957367, 0.04684602841734886, -0.07005095481872559, -0.018801460042595863, 0.028412513434886932, 0.040883854031562805, 0.03455416485667229, -0.04688406363129616, 0.057900361716747284, 0.05798053741455078, 0.04609473794698715, -0.04675384983420372, 0.03595302253961563, 0.030803946778178215, -0.01713205873966217, 0.013853069394826889, -0.0014602282317355275, -0.022788625210523605, 0.031286176294088364, -0.06719063222408295, 0.035241566598415375, 0.03551773354411125, -0.01828894577920437, 0.03395192697644234, 0.07082729786634445, -0.006024169269949198, 0.029982570558786392, -0.02413514442741871, -0.04749797284603119, -0.00399980740621686, 0.020899128168821335, -0.05890955775976181, -0.033197056502103806, 0.0761144831776619, -0.010729412548244, 0.028431715443730354, 0.00033842038828879595, -0.06430201977491379, -0.004231947939842939, -0.010235018096864223, -0.0003773935022763908, -0.06699590384960175, 0.024766691029071808, 0.016342274844646454, 0.0043523856438696384, 0.026929978281259537, -0.026641789823770523, -0.048581767827272415, 0.09601075202226639, -0.07713467627763748, 0.05622982233762741, 0.06610748171806335, 0.07131645083427429, -0.04413599893450737, 0.01555838156491518, -0.0648665651679039, -0.0988331064581871, 0.02413824386894703, 0.014379017986357212, -0.07054974138736725, -0.07203669846057892, 0.03719623386859894, -0.08499736338853836, 0.019825024530291557, 0.03845185041427612, -0.028914188966155052, 0.03542477265000343, -0.047105979174375534, -0.0037050379905849695, 0.03271862864494324, -0.09193506836891174, -0.029537953436374664, 0.020236186683177948, 0.0013326058397069573, -0.10321975499391556, 0.02458752691745758, 0.06064123660326004, -0.02710474468767643, 0.0074574630707502365, -0.05687019228935242, 0.041218891739845276, -0.017713934183120728, -0.02575085684657097, 0.03258965164422989, -0.052969928830862045, 0.04711398109793663, -0.05984296277165413, -0.08509337157011032, -0.004352794960141182, 0.05046554282307625, -0.00900872889906168, 0.007746107876300812, 0.06258513033390045, -0.027669748291373253, -0.04661263898015022, -0.002293142955750227, 0.016489991918206215, -0.0029451583977788687, -0.039669688791036606, -0.06131972745060921, -0.064903125166893, -0.10160238295793533, 0.02037012204527855, 0.0688915029168129, -0.04847553372383118, -0.1262868344783783, 0.012794421054422855, 0.057074472308158875, 0.037059009075164795, 0.0008068575407378376, 0.018426690250635147, 0.011171543039381504, 0.07423612475395203, 0.032920073717832565, -0.06750023365020752, -0.03957764059305191, -0.009833023883402348, 3.93189957462845e-34, 0.08114174753427505, 0.022738628089427948, 0.028400637209415436, -0.011788194067776203, 0.13219940662384033, -0.028206897899508476, 0.02226785011589527, 0.04548588767647743, -0.024946261197328568, 0.11262471973896027, -0.02835196815431118, -0.10027989000082016, -0.004435584880411625, 0.09110359847545624, -0.008505399338901043, -0.0034421945456415415, -0.04896767809987068, -0.08539296686649323, 0.0016295025125145912, 0.07481681555509567, -0.15685582160949707, 0.09444151818752289, 0.04334745928645134, -0.06106330081820488, -0.008271662518382072, -0.00810850877314806, -0.022600669413805008, -0.004929704591631889, -0.029102029278874397, 0.0076063708402216434, 0.027658766135573387, -0.03556671738624573, -0.00957551784813404, -0.05380687117576599, 0.0032921377569437027, 0.04870721697807312, 0.006099390797317028, -0.03038981556892395, -0.05446845665574074, 0.036864835768938065, -0.004770408850163221, 0.03614344447851181, 0.019694529473781586, 0.030883312225341797, -0.031231261789798737, 0.06124570593237877, 0.09080222249031067, 0.08208951354026794, 0.02700524404644966, -0.030640656128525734, -0.01452141534537077, 0.013892494142055511, -0.05102495849132538, -0.022460125386714935, -0.026087874546647072, -0.05414212495088577, 0.04905500262975693, -0.006194734014570713, 0.0935678631067276, -0.00149792421143502, 0.018272558227181435, -0.04500431567430496, -0.00890470203012228, -0.08790601789951324, -0.048116039484739304, -0.05221753194928169, 0.04908478632569313, 0.046705152839422226, 0.039076387882232666, -0.09936754405498505, -0.09727844595909119, 0.031562142074108124, 0.007405995856970549, 0.023191161453723907, -0.031818728893995285, -0.03969912603497505, -0.020123550668358803, -0.016922803595662117, 0.06030932068824768, -0.05079071223735809, 0.02434546872973442, 0.012712470255792141, -0.015567896887660027, -0.004511362873017788, 0.05441718176007271, 0.030834687873721123, -0.009857720695436, -0.06886029243469238, -0.014268331229686737, 0.07960817217826843, -0.1313752681016922, -0.040489308536052704, 0.05415751412510872, -0.021993033587932587, -0.03429010882973671, -2.119796329815686e-33, 0.08338942378759384, -0.10242962837219238, 0.00609689811244607, 0.066825270652771, 0.10202755779027939, 0.04403994232416153, -0.044019538909196854, -0.0838836207985878, -0.0276923980563879, 0.10041245818138123, 0.004557720385491848, 0.01517302542924881, 0.03500915318727493, -0.009932879358530045, 0.12273530662059784, 0.016410110518336296, 0.007054104004055262, -0.018124978989362717, -0.028190817683935165, 0.005723103880882263, 0.023827679455280304, 0.10132364183664322, -0.01843825727701187, -0.03829674795269966, -0.1330127865076065, 0.02420985698699951, 0.029295101761817932, 0.05762190371751785, -0.04867904260754585, 0.02081129513680935, -0.03442675620317459, -0.09424559772014618, -0.02368856780230999, -0.10231602191925049, -0.00436993595212698, -0.029147101566195488, -0.03096146695315838, 0.0022115460596978664, -0.007007992826402187, -0.02394750341773033, 0.04251638054847717, -0.06268392503261566, -0.029181336984038353, -0.0027087253984063864, 0.03337359055876732, 0.0060827890411019325, -0.08362355083227158, 0.0575181283056736, 0.012998418882489204, 0.052098192274570465, -0.017726687714457512, 0.010566774755716324, -0.041119351983070374, 0.04608390852808952, -0.020480528473854065, 0.020039185881614685, -0.0439646877348423, 0.05818869546055794, 0.021215492859482765, 0.13048207759857178, -0.04790803790092468, 0.08154755085706711, -0.01211016159504652, -0.027968700975179672, 0.09368855506181717, 0.043173398822546005, 0.003898040857166052, -0.030988015234470367, -0.039241544902324677, -0.01828739047050476, -0.012810885906219482, -0.001140895183198154, -0.0337853766977787, 0.09881813079118729, 0.03760695084929466, -0.048412349075078964, 0.08730179816484451, -0.0774916484951973, 0.04846636950969696, -0.003208490088582039, -0.03410785272717476, -0.03264423832297325, 0.006431554909795523, 0.04119930788874626, 0.047564368695020676, -0.00971775222569704, -0.027478547766804695, 0.001130826072767377, -0.07090696692466736, -0.019372113049030304, -0.06452546268701553, 0.07120770215988159, -0.007187598384916782, 0.051061518490314484, 0.06980721652507782, -5.186965879033778e-08, -0.07809906452894211, -0.047881778329610825, 0.0015672381268814206, -0.027881812304258347, -0.04161297529935837, -0.05576666072010994, 0.044726889580488205, -0.012894568964838982, -0.028793685138225555, -0.051685433834791183, 0.03945685923099518, 0.0056877341121435165, -0.039500266313552856, 0.054314762353897095, 0.0023353800643235445, 0.02601580321788788, -0.01729477010667324, 0.1195225790143013, -0.04822082817554474, -0.06197876110672951, 0.043726444244384766, -0.008630238473415375, 0.07651812583208084, -0.02388785406947136, -0.020598849281668663, -0.019113754853606224, 0.023949800059199333, 0.06380535662174225, -0.05145025625824928, 0.004863338079303503, 0.1096542552113533, 0.025547772645950317, 0.12205034494400024, -0.027077902108430862, 0.045122433453798294, -0.00989444088190794, -0.044083621352910995, -0.08103743940591812, -0.0028239304665476084, -0.035428132861852646, 0.06075752526521683, 0.009317639283835888, 0.005486541893333197, -0.07792956382036209, -0.019321158528327942, -0.0032410952262580395, 0.008353845216333866, 0.0026857976336032152, -0.07120990008115768, 0.15814527869224548, -0.030307186767458916, -0.0010486451210454106, -0.023100806400179863, 0.06835921853780746, -0.02227756194770336, -0.09061252325773239, -0.02327803708612919, -0.023836404085159302, 0.03870063275098801, -0.009840757586061954, 0.13443231582641602, -0.062225695699453354, -0.002541620284318924, -0.03277593106031418]]\n"
     ]
    }
   ],
   "source": [
    "rec = vectordb._collection.peek()\n",
    "\n",
    "print('Document:    ', rec['documents'])\n",
    "print('ids:    ', rec['ids'])\n",
    "print('embeddings:    ', rec['embeddings'])\n"
   ]
  },
  {
   "cell_type": "markdown",
   "id": "23c2d77f",
   "metadata": {},
   "source": [
    "#### Perform similarity search"
   ]
  },
  {
   "cell_type": "code",
   "execution_count": 47,
   "id": "1b21dc5a",
   "metadata": {},
   "outputs": [
    {
     "data": {
      "text/plain": [
       "[(Document(page_content='decorative motorcycle', metadata={'product_id': 17819, 'product_name': 'decorative motorcycle'}),\n",
       "  1.1318776607513428),\n",
       " (Document(page_content=\"minimalist design that 's almost invisible features : smart , simple cycle storage for all bike styles . ideal for all bikes : children 's , ladies ' , gents ' and tandems . versatile - store bikes horizontally in left or right orientations . facility to lock the bike in place . perfect for the home , office or retail display . make efficient use of space with a tiered installation . suitable for clipless or platform pedals . discreet wheel rests protect walls from dirt and damage .\", metadata={'product_id': 8767, 'product_name': 'hero bicycle wall mount bike rack'}),\n",
       "  1.1497584581375122),\n",
       " (Document(page_content=\"minimalist design that 's almost invisible features : smart , simple cycle storage for all bike styles versatile - store bikes horizontally in left or right orientations . perfect for the home , office or retail display . make efficient use of space with a tiered installation . suitable for speedplay , look , and spd . compatible with speedplay zero , ultra light , pave and syzr . compatible with most clipless road and mtb pedals . not recommended for use with eggbeater pedals . discreet wheel rests protect walls from dirt and damage .\", metadata={'product_id': 8768, 'product_name': 'super hero bicycle wall mount bike rack'}),\n",
       "  1.1759716272354126),\n",
       " (Document(page_content=\"dirt bike rider on his bike getting ready to take off ! one of our many hobbies related ornaments perfect for kids and adults who enjoy different activities both indoor and outside ! do n't forget to customize with a name and the year !\", metadata={'product_id': 19136, 'product_name': 'dirt bike hanging figurine ornament'}),\n",
       "  1.2028956413269043)]"
      ]
     },
     "execution_count": 47,
     "metadata": {},
     "output_type": "execute_result"
    }
   ],
   "source": [
    "vectordb.similarity_search_with_score('bicyclist')"
   ]
  },
  {
   "cell_type": "code",
   "execution_count": null,
   "id": "8e17d85b",
   "metadata": {},
   "outputs": [],
   "source": []
  },
  {
   "cell_type": "markdown",
   "id": "08cf40b7",
   "metadata": {},
   "source": [
    "### 5.4.2 Deploy Model via MLFLOW"
   ]
  },
  {
   "cell_type": "markdown",
   "id": "e8ad3922",
   "metadata": {},
   "source": [
    "#### Define wrapper class for model"
   ]
  },
  {
   "cell_type": "code",
   "execution_count": 48,
   "id": "f48426de",
   "metadata": {},
   "outputs": [],
   "source": [
    "class ProductSearchWrapper(mlflow.pyfunc.PythonModel):\n",
    "\n",
    "\n",
    "  # define steps to initialize model\n",
    "  def load_context(self, context):\n",
    "\n",
    "    # import required libraries\n",
    "    import pandas as pd\n",
    "    from langchain.embeddings import HuggingFaceEmbeddings\n",
    "    from langchain.vectorstores import Chroma\n",
    "\n",
    "    # retrieve embedding model\n",
    "    embedding_model = HuggingFaceEmbeddings(model_name=context.artifacts['embedding_model'])\n",
    "\n",
    "    # retrieve vectordb contents\n",
    "    self._vectordb = Chroma(\n",
    "      persist_directory=context.artifacts['chromadb'],\n",
    "      embedding_function=embedding_model\n",
    "      )\n",
    "\n",
    "    # set number of results to return\n",
    "    self._max_results = 5\n",
    "\n",
    "\n",
    "  # define steps to generate results\n",
    "  # note: query_df expects only one query\n",
    "  def predict(self, context, query_df):\n",
    "\n",
    "\n",
    "    # import required libraries\n",
    "    import pandas as pd\n",
    "\n",
    "    # perform search on embeddings\n",
    "    raw_results = self._vectordb.similarity_search_with_score(\n",
    "      query_df['query'].values[0], # only expecting one value at a time \n",
    "      k=self._max_results\n",
    "      )\n",
    "\n",
    "    # get lists of of scores, descriptions and ids from raw results\n",
    "    scores, descriptions, names, ids = zip(\n",
    "      *[(r[1], r[0].page_content, r[0].metadata['product_name'], r[0].metadata['product_id']) for r in raw_results]\n",
    "      )\n",
    "\n",
    "    # reorganized results as a pandas df, sorted on score\n",
    "    results_pd = pd.DataFrame({\n",
    "      'product_id':ids,\n",
    "      'product_name':names,\n",
    "      'product_description':descriptions,\n",
    "      'score':scores\n",
    "      }).sort_values(axis=0, by='score', ascending=True)\n",
    "    \n",
    "    # set return value\n",
    "    return results_pd"
   ]
  },
  {
   "cell_type": "markdown",
   "id": "e03aa922",
   "metadata": {},
   "source": [
    "#### Define Artifacts and Environments"
   ]
  },
  {
   "cell_type": "code",
   "execution_count": 49,
   "id": "18949581",
   "metadata": {},
   "outputs": [
    {
     "name": "stdout",
     "output_type": "stream",
     "text": [
      "artifacts={'embedding_model': '//Users/thomaschang/git/thomaschangsf/db-product-search/work-dir/models/tuned_model', 'chromadb': '/Users/thomaschang/git/thomaschangsf/db-product-search/work-dir/wands/chromadb'}\n",
      "conda_env={'name': 'mlflow-env', 'channels': ['conda-forge'], 'dependencies': ['python=3.9.6', 'pip<=23.1.2', {'pip': ['mlflow', 'cloudpickle==2.2.1', 'pandas==2.0.1', 'langchain==0.0.157', 'chromadb==0.3.21']}]}\n"
     ]
    }
   ],
   "source": [
    "# ---------------------------------------\n",
    "# Define artifacts\n",
    "# ---------------------------------------\n",
    "artifacts = {\n",
    "  'embedding_model': embedding_model_path, \n",
    "  'chromadb': chromadb_path\n",
    "}\n",
    "print(f\"artifacts={artifacts}\")\n",
    "\n",
    "\n",
    "# ---------------------------------------\n",
    "# Define Environment Requirements\n",
    "# ---------------------------------------\n",
    "import pandas\n",
    "import langchain\n",
    "import chromadb\n",
    "\n",
    "# get base environment configuration\n",
    "conda_env = mlflow.pyfunc.get_default_conda_env()\n",
    "\n",
    "# define packages required by model\n",
    "packages = [\n",
    "  f'pandas=={pandas.__version__}',\n",
    "  f'langchain=={langchain.__version__}',\n",
    "  f'chromadb=={chromadb.__version__}'\n",
    "  ]\n",
    "\n",
    "# add required packages to environment configuration\n",
    "conda_env['dependencies'][-1]['pip'] += packages\n",
    "\n",
    "print(f\"conda_env={conda_env}\")\n"
   ]
  },
  {
   "cell_type": "markdown",
   "id": "2d575d1a",
   "metadata": {},
   "source": [
    "#### Persist model"
   ]
  },
  {
   "cell_type": "code",
   "execution_count": 50,
   "id": "b8a444a6",
   "metadata": {},
   "outputs": [
    {
     "name": "stdout",
     "output_type": "stream",
     "text": [
      "huggingface/tokenizers: The current process just got forked, after parallelism has already been used. Disabling parallelism to avoid deadlocks...\n",
      "To disable this warning, you can either:\n",
      "\t- Avoid using `tokenizers` before the fork if possible\n",
      "\t- Explicitly set the environment variable TOKENIZERS_PARALLELISM=(true | false)\n",
      "huggingface/tokenizers: The current process just got forked, after parallelism has already been used. Disabling parallelism to avoid deadlocks...\n",
      "To disable this warning, you can either:\n",
      "\t- Avoid using `tokenizers` before the fork if possible\n",
      "\t- Explicitly set the environment variable TOKENIZERS_PARALLELISM=(true | false)\n",
      "huggingface/tokenizers: The current process just got forked, after parallelism has already been used. Disabling parallelism to avoid deadlocks...\n",
      "To disable this warning, you can either:\n",
      "\t- Avoid using `tokenizers` before the fork if possible\n",
      "\t- Explicitly set the environment variable TOKENIZERS_PARALLELISM=(true | false)\n"
     ]
    },
    {
     "name": "stderr",
     "output_type": "stream",
     "text": [
      "Successfully registered model 'wands_tuned_search'.\n",
      "2023/05/05 14:20:22 INFO mlflow.tracking._model_registry.client: Waiting up to 300 seconds for model version to finish creation. Model name: wands_tuned_search, version 1\n",
      "Created version '1' of model 'wands_tuned_search'.\n"
     ]
    }
   ],
   "source": [
    "with mlflow.start_run() as run:\n",
    "\n",
    "    mlflow.pyfunc.log_model(\n",
    "        artifact_path='model', \n",
    "        python_model=ProductSearchWrapper(),\n",
    "        conda_env=conda_env,\n",
    "        artifacts=artifacts, # items at artifact path will be loaded into mlflow repository\n",
    "        registered_model_name=config['tuned_model_name']\n",
    "    )"
   ]
  },
  {
   "cell_type": "markdown",
   "id": "7bad695d",
   "metadata": {},
   "source": [
    "#### Elevate model to Production"
   ]
  },
  {
   "cell_type": "code",
   "execution_count": 51,
   "id": "b0552983",
   "metadata": {},
   "outputs": [
    {
     "data": {
      "text/plain": [
       "<ModelVersion: aliases=[], creation_timestamp=1683321622872, current_stage='Production', description=None, last_updated_timestamp=1683321630156, name='wands_tuned_search', run_id='a666e11f719349ea95b39ed252cd4f6e', run_link=None, source='file:///Users/thomaschang/git/thomaschangsf/db-product-search/mlruns/126008453708962408/a666e11f719349ea95b39ed252cd4f6e/artifacts/model', status='READY', status_message=None, tags={}, user_id=None, version=1>"
      ]
     },
     "execution_count": 51,
     "metadata": {},
     "output_type": "execute_result"
    }
   ],
   "source": [
    "client = mlflow.MlflowClient()\n",
    "\n",
    "latest_version = client.get_latest_versions(config['tuned_model_name'], stages=['None'])[0].version\n",
    "\n",
    "client.transition_model_version_stage(\n",
    "    name=config['tuned_model_name'],\n",
    "    version=latest_version,\n",
    "    stage='Production',\n",
    "    archive_existing_versions=True\n",
    ")\n"
   ]
  },
  {
   "cell_type": "markdown",
   "id": "bdad2218",
   "metadata": {},
   "source": [
    "#### Retrieve model from registry\n"
   ]
  },
  {
   "cell_type": "code",
   "execution_count": 52,
   "id": "67ccbe6e",
   "metadata": {},
   "outputs": [
    {
     "name": "stderr",
     "output_type": "stream",
     "text": [
      "WARNING:chromadb:Using embedded DuckDB with persistence: data will be stored in: /Users/thomaschang/git/thomaschangsf/db-product-search/mlruns/126008453708962408/a666e11f719349ea95b39ed252cd4f6e/artifacts/model/artifacts/chromadb\n"
     ]
    }
   ],
   "source": [
    "model = mlflow.pyfunc.load_model(f\"models:/{config['tuned_model_name']}/Production\")"
   ]
  },
  {
   "cell_type": "markdown",
   "id": "47b5b3d5",
   "metadata": {},
   "source": [
    "#### Smoke test"
   ]
  },
  {
   "cell_type": "code",
   "execution_count": 54,
   "id": "de5fbf7c",
   "metadata": {},
   "outputs": [
    {
     "data": {
      "text/html": [
       "<div>\n",
       "<style scoped>\n",
       "    .dataframe tbody tr th:only-of-type {\n",
       "        vertical-align: middle;\n",
       "    }\n",
       "\n",
       "    .dataframe tbody tr th {\n",
       "        vertical-align: top;\n",
       "    }\n",
       "\n",
       "    .dataframe thead th {\n",
       "        text-align: right;\n",
       "    }\n",
       "</style>\n",
       "<table border=\"1\" class=\"dataframe\">\n",
       "  <thead>\n",
       "    <tr style=\"text-align: right;\">\n",
       "      <th></th>\n",
       "      <th>product_id</th>\n",
       "      <th>product_name</th>\n",
       "      <th>product_description</th>\n",
       "      <th>score</th>\n",
       "    </tr>\n",
       "  </thead>\n",
       "  <tbody>\n",
       "    <tr>\n",
       "      <th>0</th>\n",
       "      <td>42783</td>\n",
       "      <td>fuller solid wood 3 legs end table</td>\n",
       "      <td>an approachable contemporary take on a minimal...</td>\n",
       "      <td>1.162406</td>\n",
       "    </tr>\n",
       "    <tr>\n",
       "      <th>1</th>\n",
       "      <td>42384</td>\n",
       "      <td>frankie dining table</td>\n",
       "      <td>bring curated contemporary style to your dinin...</td>\n",
       "      <td>1.165267</td>\n",
       "    </tr>\n",
       "    <tr>\n",
       "      <th>2</th>\n",
       "      <td>23688</td>\n",
       "      <td>abbas buffet table</td>\n",
       "      <td>combining midcentury modern forms with rustic ...</td>\n",
       "      <td>1.165399</td>\n",
       "    </tr>\n",
       "    <tr>\n",
       "      <th>3</th>\n",
       "      <td>2583</td>\n",
       "      <td>chalus extendable dining table</td>\n",
       "      <td>walking into the dining room that is occupied ...</td>\n",
       "      <td>1.170633</td>\n",
       "    </tr>\n",
       "    <tr>\n",
       "      <th>4</th>\n",
       "      <td>32147</td>\n",
       "      <td>leamont dining table</td>\n",
       "      <td>anchor your dining space in cottage style with...</td>\n",
       "      <td>1.177125</td>\n",
       "    </tr>\n",
       "  </tbody>\n",
       "</table>\n",
       "</div>"
      ],
      "text/plain": [
       "   product_id                        product_name   \n",
       "0       42783  fuller solid wood 3 legs end table  \\\n",
       "1       42384                frankie dining table   \n",
       "2       23688                  abbas buffet table   \n",
       "3        2583      chalus extendable dining table   \n",
       "4       32147                leamont dining table   \n",
       "\n",
       "                                 product_description     score  \n",
       "0  an approachable contemporary take on a minimal...  1.162406  \n",
       "1  bring curated contemporary style to your dinin...  1.165267  \n",
       "2  combining midcentury modern forms with rustic ...  1.165399  \n",
       "3  walking into the dining room that is occupied ...  1.170633  \n",
       "4  anchor your dining space in cottage style with...  1.177125  "
      ]
     },
     "metadata": {},
     "output_type": "display_data"
    }
   ],
   "source": [
    "search = pd.DataFrame({'query':['farmhouse dining room table']})\n",
    "\n",
    "display(model.predict(search))"
   ]
  },
  {
   "cell_type": "code",
   "execution_count": null,
   "id": "cb06b0b6",
   "metadata": {},
   "outputs": [],
   "source": []
  }
 ],
 "metadata": {
  "kernelspec": {
   "display_name": "Python 3 (ipykernel)",
   "language": "python",
   "name": "python3"
  },
  "language_info": {
   "codemirror_mode": {
    "name": "ipython",
    "version": 3
   },
   "file_extension": ".py",
   "mimetype": "text/x-python",
   "name": "python",
   "nbconvert_exporter": "python",
   "pygments_lexer": "ipython3",
   "version": "3.9.6"
  }
 },
 "nbformat": 4,
 "nbformat_minor": 5
}
