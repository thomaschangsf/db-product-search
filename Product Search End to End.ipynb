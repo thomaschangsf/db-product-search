{
 "cells": [
  {
   "cell_type": "markdown",
   "id": "850862a2",
   "metadata": {},
   "source": [
    "# 0 Background\n",
    "- Notebook showcases semantic search for Wayfair's WAND product data set\n",
    "- Leverages\n",
    "    1. *SetenceTransformer* to get embedding\n",
    "    2. *Langchain* integration to vector ChromaDB\n",
    "    3. *PySpark* data processing\n",
    "    4. *MLFlow* experimentation and model deployment workflow\n",
    "    \n",
    "- [source github](https://github.com/thomaschangsf/db-product-search)"
   ]
  },
  {
   "cell_type": "code",
   "execution_count": null,
   "id": "c8bab9e2",
   "metadata": {},
   "outputs": [],
   "source": []
  },
  {
   "cell_type": "markdown",
   "id": "19dbc88e",
   "metadata": {},
   "source": [
    "# 1 Setup\n",
    "- Installed pyspark dependencies: [spark ref](https://spark.apache.org/docs/latest/api/python/getting_started/install.html)\n",
    "\n",
    "- start notebook via terminal cmd: pyspark "
   ]
  },
  {
   "cell_type": "code",
   "execution_count": 2,
   "id": "f624f62d",
   "metadata": {},
   "outputs": [
    {
     "name": "stdout",
     "output_type": "stream",
     "text": [
      "23/05/03 09:05:21 WARN SparkSession: Using an existing Spark session; only runtime SQL configurations will take effect.\n"
     ]
    },
    {
     "data": {
      "text/html": [
       "\n",
       "            <div>\n",
       "                <p><b>SparkSession - hive</b></p>\n",
       "                \n",
       "        <div>\n",
       "            <p><b>SparkContext</b></p>\n",
       "\n",
       "            <p><a href=\"http://localhost:4040\">Spark UI</a></p>\n",
       "\n",
       "            <dl>\n",
       "              <dt>Version</dt>\n",
       "                <dd><code>v3.3.1</code></dd>\n",
       "              <dt>Master</dt>\n",
       "                <dd><code>local[*]</code></dd>\n",
       "              <dt>AppName</dt>\n",
       "                <dd><code>PySparkShell</code></dd>\n",
       "            </dl>\n",
       "        </div>\n",
       "        \n",
       "            </div>\n",
       "        "
      ],
      "text/plain": [
       "<pyspark.sql.session.SparkSession at 0x12d880c70>"
      ]
     },
     "execution_count": 2,
     "metadata": {},
     "output_type": "execute_result"
    }
   ],
   "source": [
    "# Create SparkSession from builder\n",
    "import pyspark\n",
    "from pyspark.sql import SparkSession\n",
    "spark = SparkSession.builder.master(\"local[1]\") \\\n",
    "                    .appName('Scalling_ml_with_spark') \\\n",
    "                    .getOrCreate()\n",
    "\n",
    "from pyspark.sql.types import *\n",
    "import pyspark.sql.functions as fn\n",
    "\n",
    "import os\n",
    "\n",
    "spark"
   ]
  },
  {
   "cell_type": "code",
   "execution_count": 3,
   "id": "a3ca9a86",
   "metadata": {},
   "outputs": [
    {
     "name": "stdout",
     "output_type": "stream",
     "text": [
      "23/05/03 09:05:24 WARN HiveConf: HiveConf of name hive.stats.jdbc.timeout does not exist\n",
      "23/05/03 09:05:24 WARN HiveConf: HiveConf of name hive.stats.retries.wait does not exist\n",
      "23/05/03 09:05:25 WARN ObjectStore: Version information not found in metastore. hive.metastore.schema.verification is not enabled so recording the schema version 2.3.0\n",
      "23/05/03 09:05:25 WARN ObjectStore: setMetaStoreSchemaVersion called but recording version is disabled: version = 2.3.0, comment = Set by MetaStore chang@127.0.0.1\n",
      "23/05/03 09:05:26 WARN ObjectStore: Failed to get database global_temp, returning NoSuchObjectException\n"
     ]
    },
    {
     "data": {
      "text/plain": [
       "DataFrame[namespace: string, tableName: string, isTemporary: boolean]"
      ]
     },
     "execution_count": 3,
     "metadata": {},
     "output_type": "execute_result"
    }
   ],
   "source": [
    "spark.sql(\"SHOW TABLES;\")"
   ]
  },
  {
   "cell_type": "code",
   "execution_count": 4,
   "id": "df507bbd",
   "metadata": {},
   "outputs": [
    {
     "ename": "NameError",
     "evalue": "name 'config' is not defined",
     "output_type": "error",
     "traceback": [
      "\u001b[0;31m---------------------------------------------------------------------------\u001b[0m",
      "\u001b[0;31mNameError\u001b[0m                                 Traceback (most recent call last)",
      "Cell \u001b[0;32mIn[4], line 1\u001b[0m\n\u001b[0;32m----> 1\u001b[0m spark\u001b[38;5;241m.\u001b[39msql(\u001b[38;5;124m'\u001b[39m\u001b[38;5;124mcreate database if not exists \u001b[39m\u001b[38;5;132;01m{0}\u001b[39;00m\u001b[38;5;124m'\u001b[39m\u001b[38;5;241m.\u001b[39mformat(\u001b[43mconfig\u001b[49m[\u001b[38;5;124m'\u001b[39m\u001b[38;5;124mdatabase\u001b[39m\u001b[38;5;124m'\u001b[39m]))\n",
      "\u001b[0;31mNameError\u001b[0m: name 'config' is not defined"
     ]
    }
   ],
   "source": [
    "spark.sql('create database if not exists {0}'.format(config['database']))"
   ]
  },
  {
   "cell_type": "markdown",
   "id": "fe19fe1b",
   "metadata": {},
   "source": [
    "# 2 Intro and Config.py\n",
    "- Based on 00_Introl_and_Config.py"
   ]
  },
  {
   "cell_type": "code",
   "execution_count": 10,
   "id": "12746d84",
   "metadata": {},
   "outputs": [
    {
     "data": {
      "text/plain": [
       "'/Users/chang/Documents/dev/git/gratia/03_system/datapipeilne/scaling-machine-learning-course/db-product-search'"
      ]
     },
     "execution_count": 10,
     "metadata": {},
     "output_type": "execute_result"
    }
   ],
   "source": [
    "os.getcwd()"
   ]
  },
  {
   "cell_type": "code",
   "execution_count": 12,
   "id": "f8a9c9ea",
   "metadata": {},
   "outputs": [
    {
     "data": {
      "text/plain": [
       "'/Users/chang/Documents/dev/git/gratia/03_system/datapipeilne/scaling-machine-learning-course/db-product-search/work-dir'"
      ]
     },
     "execution_count": 12,
     "metadata": {},
     "output_type": "execute_result"
    }
   ],
   "source": [
    "\n",
    "WORKDIR"
   ]
  },
  {
   "cell_type": "code",
   "execution_count": 14,
   "id": "5eeb8ab6",
   "metadata": {},
   "outputs": [
    {
     "name": "stdout",
     "output_type": "stream",
     "text": [
      "\u001b[34mmlflow\u001b[m\u001b[m \u001b[34mwands\u001b[m\u001b[m\r\n"
     ]
    }
   ],
   "source": [
    "!ls /Users/chang/Documents/dev/git/gratia/03_system/datapipeilne/scaling-machine-learning-course/db-product-search/work-dir"
   ]
  },
  {
   "cell_type": "code",
   "execution_count": 36,
   "id": "42a07a32",
   "metadata": {},
   "outputs": [
    {
     "name": "stdout",
     "output_type": "stream",
     "text": [
      "WORKDIR=/Users/chang/Documents/dev/git/gratia/03_system/datapipeilne/scaling-machine-learning-course/db-product-search/work-dir\n"
     ]
    },
    {
     "data": {
      "text/plain": [
       "{'database': 'wands',\n",
       " 'dbfs_path': '/Users/chang/Documents/dev/git/gratia/03_system/datapipeilne/scaling-machine-learning-course/db-product-search/work-dir/wands',\n",
       " 'WANDS_DOWNLOADS_PATH': '/Users/chang/Documents/dev/git/gratia/03_system/datapipeilne/scaling-machine-learning-course/db-product-search/work-dir/wands/downloads',\n",
       " 'basic_model_name': 'wands_basic_search',\n",
       " 'tuned_model_name': 'wands_tuned_search',\n",
       " 'mlflow_path': '/Users/chang/Documents/dev/git/gratia/03_system/datapipeilne/scaling-machine-learning-course/db-product-search/work-dir/mlflow/experiments/',\n",
       " 'WANDS_MODEL_PATH': '/Users/chang/Documents/dev/git/gratia/03_system/datapipeilne/scaling-machine-learning-course/db-product-search/work-dir/models'}"
      ]
     },
     "execution_count": 36,
     "metadata": {},
     "output_type": "execute_result"
    }
   ],
   "source": [
    "\n",
    "if 'config' not in locals().keys():\n",
    "  config = {}\n",
    "\n",
    "config['database'] = 'wands'\n",
    "\n",
    "# create database if not exists\n",
    "_ = spark.sql('create database if not exists {0}'.format(config['database']))\n",
    "\n",
    "# set current datebase context\n",
    "_ = spark.catalog.setCurrentDatabase(config['database'])\n",
    "\n",
    "\n",
    "# use this if we started notebook via venv/bin/pyspark\n",
    "WORKDIR=f\"{os.getcwd()}/work-dir\"\n",
    "print(f\"WORKDIR={WORKDIR}\")\n",
    "\n",
    "# below is only true if we run from docker\n",
    "# os.getenv('HOME') is /home/jovyan bc jupyter started with this command\n",
    "# docker run -it --memory=\"28g\" --memory-swap=\"30g\"  -p 8888:8888 --mount type=bind,source=$(pwd),target=/home/jovyan adipolak/ml-with-apache-spark\n",
    "# WORKDIR=f\"{os.getenv('HOME')}/db-product-search/work-dir\"\n",
    "\n",
    "\n",
    "# DB\n",
    "config['dbfs_path'] = f'{WORKDIR}/wands'\n",
    "config['WANDS_DOWNLOADS_PATH'] = config['dbfs_path'] + '/downloads'\n",
    "\n",
    "\n",
    "# Models\n",
    "config['WANDS_MODEL_PATH'] = WORKDIR + '/models'\n",
    "config['basic_model_name'] = 'wands_basic_search'\n",
    "config['tuned_model_name'] = 'wands_tuned_search'\n",
    "\n",
    "# MFLOW\n",
    "import mlflow\n",
    "config['mlflow_path'] = f\"{WORKDIR}/mlflow/experiments/\"\n",
    "mlflow.set_experiment(config['mlflow_path'])\n",
    "\n",
    "\n",
    "config\n",
    "\n"
   ]
  },
  {
   "cell_type": "markdown",
   "id": "1f46743e",
   "metadata": {},
   "source": [
    "# 3 Data Prep\n",
    "- Based on 01_data_Prep.py"
   ]
  },
  {
   "cell_type": "markdown",
   "id": "33cb0a50",
   "metadata": {},
   "source": [
    "### 3.1 Download raw data \n",
    "- to config[WANDS_DOWNLOADS_PATH]"
   ]
  },
  {
   "cell_type": "code",
   "execution_count": 77,
   "id": "cbb2fb34",
   "metadata": {},
   "outputs": [
    {
     "name": "stdout",
     "output_type": "stream",
     "text": [
      "ERROR! Session/line number was not unique in database. History logging moved to new session 8\n",
      "shell-init: error retrieving current directory: getcwd: cannot access parent directories: No such file or directory\n",
      "shell-init: error retrieving current directory: getcwd: cannot access parent directories: No such file or directory\n",
      "shell-init: error retrieving current directory: getcwd: cannot access parent directories: No such file or directory\n",
      "pushd: error retrieving current directory: getcwd: cannot access parent directories: No such file or directory\n"
     ]
    },
    {
     "data": {
      "text/plain": [
       "{'database': 'wands',\n",
       " 'dbfs_path': '/home/jovyan/db-product-search/work-dir/wands',\n",
       " 'basic_model_name': 'wands_basic_search',\n",
       " 'tuned_model_name': 'wands_tuned_search',\n",
       " 'mlflow_path': '/home/jovyan/db-product-search/work-dir/mlflow/experiments/',\n",
       " 'WANDS_DOWNLOADS_PATH': '/home/jovyan/db-product-search/work-dir/wands/downloads'}"
      ]
     },
     "execution_count": 77,
     "metadata": {},
     "output_type": "execute_result"
    }
   ],
   "source": [
    "!rm -rf {config['WANDS_DOWNLOADS_PATH']}\n",
    "!mkdir -p {config['WANDS_DOWNLOADS_PATH']}\n",
    "!pushd {config['WANDS_DOWNLOADS_PATH']}\n",
    "\n",
    "config"
   ]
  },
  {
   "cell_type": "code",
   "execution_count": 78,
   "id": "c28d4f9e",
   "metadata": {},
   "outputs": [
    {
     "name": "stdout",
     "output_type": "stream",
     "text": [
      "/home/jovyan/db-product-search/work-dir/wands/downloads\n",
      "Download label.csv\n",
      "Download product\n",
      "Download query\n"
     ]
    }
   ],
   "source": [
    "%cd {config['WANDS_DOWNLOADS_PATH']}\n",
    "\n",
    "!echo \"Download label.csv\"\n",
    "!wget -q https://raw.githubusercontent.com/wayfair/WANDS/main/dataset/label.csv\n",
    "\n",
    "!echo \"Download product\"\n",
    "!wget -q https://raw.githubusercontent.com/wayfair/WANDS/main/dataset/product.csv\n",
    "\n",
    "!echo \"Download query\"\n",
    "!wget -q https://raw.githubusercontent.com/wayfair/WANDS/main/dataset/query.csv\n"
   ]
  },
  {
   "cell_type": "markdown",
   "id": "c6a1cde0",
   "metadata": {},
   "source": [
    "### 3.2 Read into spark"
   ]
  },
  {
   "cell_type": "code",
   "execution_count": 7,
   "id": "6e5f62fb",
   "metadata": {},
   "outputs": [],
   "source": [
    "from pyspark.sql.types import *\n",
    "import pyspark.sql.functions as fn\n",
    "\n",
    "import os"
   ]
  },
  {
   "cell_type": "markdown",
   "id": "a3017647",
   "metadata": {},
   "source": [
    "#### Clean all previous tables"
   ]
  },
  {
   "cell_type": "code",
   "execution_count": 21,
   "id": "5a9e70f1",
   "metadata": {},
   "outputs": [
    {
     "name": "stdout",
     "output_type": "stream",
     "text": [
      "/Users/chang/Documents/dev/git/gratia/03_system/datapipeilne/scaling-machine-learning-course/db-product-search/spark-warehouse/wands.db/labels:\r\n",
      "_SUCCESS\r\n",
      "part-00000-a90eb9ca-e01b-4e7a-aad3-ae089bd33e79-c000.snappy.parquet\r\n",
      "\r\n",
      "/Users/chang/Documents/dev/git/gratia/03_system/datapipeilne/scaling-machine-learning-course/db-product-search/spark-warehouse/wands.db/products:\r\n",
      "_SUCCESS\r\n",
      "part-00000-77043ccb-3515-47eb-b14d-bf09ae9469fa-c000.snappy.parquet\r\n",
      "\r\n",
      "/Users/chang/Documents/dev/git/gratia/03_system/datapipeilne/scaling-machine-learning-course/db-product-search/spark-warehouse/wands.db/queries:\r\n",
      "_SUCCESS\r\n",
      "part-00000-ca8f2bbc-7934-43ec-b5b8-6152b5abd361-c000.snappy.parquet\r\n"
     ]
    }
   ],
   "source": [
    "!ls {os.getcwd()}/spark-warehouse/wands.db/*"
   ]
  },
  {
   "cell_type": "code",
   "execution_count": 22,
   "id": "4b01ace0",
   "metadata": {},
   "outputs": [],
   "source": [
    "!rm -rf {os.getcwd()}/spark-warehouse/wands.db/*"
   ]
  },
  {
   "cell_type": "markdown",
   "id": "89bbb428",
   "metadata": {},
   "source": [
    "#### Process Product\n",
    "- saves to spark-warehouse/wands.db/products/*.parquet"
   ]
  },
  {
   "cell_type": "code",
   "execution_count": 23,
   "id": "63948b90",
   "metadata": {},
   "outputs": [
    {
     "name": "stdout",
     "output_type": "stream",
     "text": [
      "23/05/03 09:13:47 WARN MemoryManager: Total allocation exceeds 95.00% (1,020,054,720 bytes) of heap memory\n",
      "Scaling row group sizes to 95.00% for 8 writers\n",
      "23/05/03 09:13:47 WARN CSVHeaderChecker: CSV header does not conform to the schema.\n",
      " Header: product_id, product_name, product_class, category hierarchy, product_description, product_features, rating_count, average_rating, review_count\n",
      " Schema: product_id, product_name, product_class, category_hierarchy, product_description, product_features, rating_count, average_rating, review_count\n",
      "Expected: category_hierarchy but found: category hierarchy\n",
      "CSV file: file:///Users/chang/Documents/dev/git/gratia/03_system/datapipeilne/scaling-machine-learning-course/db-product-search/work-dir/wands/downloads/product.csv\n"
     ]
    },
    {
     "name": "stderr",
     "output_type": "stream",
     "text": [
      "                                                                                \r"
     ]
    },
    {
     "name": "stdout",
     "output_type": "stream",
     "text": [
      "23/05/03 09:13:48 WARN SessionState: METASTORE_FILTER_HOOK will be ignored, since hive.security.authorization.manager is set to instance of HiveAuthorizerFactory.\n",
      "23/05/03 09:13:48 WARN HiveConf: HiveConf of name hive.internal.ss.authz.settings.applied.marker does not exist\n",
      "23/05/03 09:13:48 WARN HiveConf: HiveConf of name hive.stats.jdbc.timeout does not exist\n",
      "23/05/03 09:13:48 WARN HiveConf: HiveConf of name hive.stats.retries.wait does not exist\n"
     ]
    },
    {
     "data": {
      "text/plain": [
       "DataFrame[product_id: int, product_name: string, product_class: string, category_hierarchy: string, product_description: string, product_features: string, rating_count: float, average_rating: float, review_count: float]"
      ]
     },
     "metadata": {},
     "output_type": "display_data"
    }
   ],
   "source": [
    "products_schema = StructType([\n",
    "  StructField('product_id', IntegerType()),\n",
    "  StructField('product_name', StringType()),\n",
    "  StructField('product_class', StringType()),\n",
    "  StructField('category_hierarchy', StringType()),\n",
    "  StructField('product_description', StringType()),\n",
    "  StructField('product_features', StringType()),\n",
    "  StructField('rating_count', FloatType()),\n",
    "  StructField('average_rating', FloatType()),\n",
    "  StructField('review_count', FloatType())\n",
    "  ])\n",
    "\n",
    "_ = (\n",
    "  spark\n",
    "    .read\n",
    "      .csv(\n",
    "        path=f\"{config['WANDS_DOWNLOADS_PATH']}/product.csv\",\n",
    "        sep='\\t',\n",
    "        header=True,\n",
    "        schema=products_schema\n",
    "        )\n",
    "    .write\n",
    "      .format('parquet')\n",
    "      #.format('delta')\n",
    "      .mode('overwrite')\n",
    "      .option('overwriteSchema','true')\n",
    "      .saveAsTable('products')\n",
    "  )\n",
    "\n",
    "display(spark.table('products'))\n"
   ]
  },
  {
   "cell_type": "markdown",
   "id": "9652e185",
   "metadata": {},
   "source": [
    "#### Process Query"
   ]
  },
  {
   "cell_type": "code",
   "execution_count": 24,
   "id": "dff201d0",
   "metadata": {},
   "outputs": [
    {
     "data": {
      "text/plain": [
       "DataFrame[query_id: int, query: string, query_class: string]"
      ]
     },
     "metadata": {},
     "output_type": "display_data"
    }
   ],
   "source": [
    "queries_schema = StructType([\n",
    "  StructField('query_id', IntegerType()),\n",
    "  StructField('query', StringType()),\n",
    "  StructField('query_class', StringType())\n",
    "  ])\n",
    "\n",
    "_ = (\n",
    "  spark\n",
    "    .read\n",
    "    .csv(\n",
    "      path=f\"{config['WANDS_DOWNLOADS_PATH']}/query.csv\",\n",
    "      sep='\\t',\n",
    "      header=True,\n",
    "      schema=queries_schema\n",
    "      )\n",
    "    .write\n",
    "      .format('parquet')\n",
    "      .mode('overwrite')\n",
    "      .option('overwriteSchema','true')\n",
    "      .saveAsTable('queries')\n",
    "  )\n",
    "\n",
    "display(\n",
    "  spark.table('queries')\n",
    "  )"
   ]
  },
  {
   "cell_type": "markdown",
   "id": "e6439625",
   "metadata": {},
   "source": [
    "#### Process Labels"
   ]
  },
  {
   "cell_type": "code",
   "execution_count": 25,
   "id": "231b1034",
   "metadata": {},
   "outputs": [
    {
     "data": {
      "text/plain": [
       "DataFrame[id: int, query_id: int, product_id: int, label: string]"
      ]
     },
     "metadata": {},
     "output_type": "display_data"
    }
   ],
   "source": [
    "labels_schema = StructType([\n",
    "  StructField('id', IntegerType()),\n",
    "  StructField('query_id', IntegerType()),\n",
    "  StructField('product_id', IntegerType()),\n",
    "  StructField('label', StringType())\n",
    "  ])\n",
    "\n",
    "_ = (\n",
    "  spark\n",
    "    .read\n",
    "    .csv(\n",
    "      path=f\"{config['WANDS_DOWNLOADS_PATH']}/label.csv\",\n",
    "      sep='\\t',\n",
    "      header=True,\n",
    "      schema=labels_schema\n",
    "      )\n",
    "    .write\n",
    "      .format('parquet')\n",
    "      .mode('overwrite')\n",
    "      .option('overwriteSchema','true')\n",
    "      .saveAsTable('labels')\n",
    "  )\n",
    "\n",
    "display(spark.table('labels'))"
   ]
  },
  {
   "cell_type": "code",
   "execution_count": 26,
   "id": "c9e7e4c3",
   "metadata": {},
   "outputs": [
    {
     "name": "stdout",
     "output_type": "stream",
     "text": [
      "+---+--------+----------+----------+\n",
      "| id|query_id|product_id|     label|\n",
      "+---+--------+----------+----------+\n",
      "|  0|       0|     25434|     Exact|\n",
      "|  1|       0|     12088|Irrelevant|\n",
      "+---+--------+----------+----------+\n",
      "only showing top 2 rows\n",
      "\n"
     ]
    }
   ],
   "source": [
    "spark.table('labels').show(2)\n"
   ]
  },
  {
   "cell_type": "code",
   "execution_count": 27,
   "id": "f76ccebf",
   "metadata": {},
   "outputs": [
    {
     "name": "stdout",
     "output_type": "stream",
     "text": [
      "+---+--------+----------+----------+-----------+\n",
      "| id|query_id|product_id|     label|label_score|\n",
      "+---+--------+----------+----------+-----------+\n",
      "|  0|       0|     25434|     Exact|       null|\n",
      "|  1|       0|     12088|Irrelevant|       null|\n",
      "+---+--------+----------+----------+-----------+\n",
      "only showing top 2 rows\n",
      "\n"
     ]
    }
   ],
   "source": [
    "if 'label_score' not in spark.table('labels').columns:\n",
    "  _ = spark.sql('ALTER TABLE labels ADD COLUMN label_score FLOAT')\n",
    "\n",
    "df_label = spark.table('labels')\n",
    "df_label.show(2)"
   ]
  },
  {
   "cell_type": "code",
   "execution_count": 28,
   "id": "8e1165ff",
   "metadata": {},
   "outputs": [
    {
     "name": "stdout",
     "output_type": "stream",
     "text": [
      "+---+--------+----------+----------+-----------+\n",
      "| id|query_id|product_id|     label|label_score|\n",
      "+---+--------+----------+----------+-----------+\n",
      "|  0|       0|     25434|     Exact|        1.0|\n",
      "|  1|       0|     12088|Irrelevant|        0.0|\n",
      "+---+--------+----------+----------+-----------+\n",
      "only showing top 2 rows\n",
      "\n"
     ]
    }
   ],
   "source": [
    "from pyspark.sql.functions import when,col\n",
    "\n",
    "\n",
    "### Sql update does not work because it needs delta lake\n",
    "#spark.sql(\"\"\"\n",
    "#UPDATE labels\n",
    "#SET label_score = \n",
    "#  CASE lower(label)\n",
    "#        WHEN 'Exact' THEN 1.0\n",
    "#        WHEN 'Partial' THEN 0.75\n",
    "#        WHEN 'Irrelevant' THEN 0.0\n",
    "#        ELSE NULL\n",
    "#        END;\n",
    "#\"\"\")\n",
    "\n",
    "df_label = df_label.withColumn(\"label_score\", when(df_label.label == \"Exact\", 1.0)\\\n",
    "                                               .when(df_label.label == \"Partial\", 0.75)\\\n",
    "                                               .when(df_label.label == \"Irrelevant\", 0.0)\\\n",
    "                                               .when(df_label.label == \"Exact\", 1.0)\\\n",
    "                                               .otherwise(col(\"label_score\")))\n",
    "\n",
    "df_label.show(2)"
   ]
  },
  {
   "cell_type": "code",
   "execution_count": null,
   "id": "58121bdd",
   "metadata": {},
   "outputs": [],
   "source": []
  },
  {
   "cell_type": "markdown",
   "id": "ad2f5f3a",
   "metadata": {},
   "source": [
    "# 4 Define Basic Search\n",
    "- based on 02_Define_Basic_Searc.py\n",
    "\n",
    "\n",
    "1. Create DF that joins product columns\n",
    "2. Use sentence transformer to create embedding\n",
    "3. Use langChain vector db connector to load\n",
    "4. Analysis: correlation(cosine similarity, label score)"
   ]
  },
  {
   "cell_type": "markdown",
   "id": "b2aa50b1",
   "metadata": {},
   "source": [
    "## 4.0 Load libraries"
   ]
  },
  {
   "cell_type": "code",
   "execution_count": 29,
   "id": "6d3acdc9",
   "metadata": {},
   "outputs": [
    {
     "name": "stdout",
     "output_type": "stream",
     "text": [
      "Requirement already satisfied: langchain in /Users/chang/Documents/dev/git/gratia/03_system/datapipeilne/scaling-machine-learning-course/venv/lib/python3.8/site-packages (0.0.157)\n",
      "Requirement already satisfied: chromadb in /Users/chang/Documents/dev/git/gratia/03_system/datapipeilne/scaling-machine-learning-course/venv/lib/python3.8/site-packages (0.3.21)\n",
      "Requirement already satisfied: PyYAML>=5.4.1 in /Users/chang/Documents/dev/git/gratia/03_system/datapipeilne/scaling-machine-learning-course/venv/lib/python3.8/site-packages (from langchain) (6.0)\n",
      "Requirement already satisfied: SQLAlchemy<3,>=1.3 in /Users/chang/Documents/dev/git/gratia/03_system/datapipeilne/scaling-machine-learning-course/venv/lib/python3.8/site-packages (from langchain) (2.0.12)\n",
      "Requirement already satisfied: aiohttp<4.0.0,>=3.8.3 in /Users/chang/Documents/dev/git/gratia/03_system/datapipeilne/scaling-machine-learning-course/venv/lib/python3.8/site-packages (from langchain) (3.8.4)\n",
      "Requirement already satisfied: async-timeout<5.0.0,>=4.0.0 in /Users/chang/Documents/dev/git/gratia/03_system/datapipeilne/scaling-machine-learning-course/venv/lib/python3.8/site-packages (from langchain) (4.0.2)\n",
      "Requirement already satisfied: dataclasses-json<0.6.0,>=0.5.7 in /Users/chang/Documents/dev/git/gratia/03_system/datapipeilne/scaling-machine-learning-course/venv/lib/python3.8/site-packages (from langchain) (0.5.7)\n",
      "Requirement already satisfied: numexpr<3.0.0,>=2.8.4 in /Users/chang/Documents/dev/git/gratia/03_system/datapipeilne/scaling-machine-learning-course/venv/lib/python3.8/site-packages (from langchain) (2.8.4)\n",
      "Requirement already satisfied: numpy<2,>=1 in /Users/chang/Documents/dev/git/gratia/03_system/datapipeilne/scaling-machine-learning-course/venv/lib/python3.8/site-packages (from langchain) (1.24.3)\n",
      "Requirement already satisfied: openapi-schema-pydantic<2.0,>=1.2 in /Users/chang/Documents/dev/git/gratia/03_system/datapipeilne/scaling-machine-learning-course/venv/lib/python3.8/site-packages (from langchain) (1.2.4)\n",
      "Requirement already satisfied: pydantic<2,>=1 in /Users/chang/Documents/dev/git/gratia/03_system/datapipeilne/scaling-machine-learning-course/venv/lib/python3.8/site-packages (from langchain) (1.10.7)\n",
      "Requirement already satisfied: requests<3,>=2 in /Users/chang/Documents/dev/git/gratia/03_system/datapipeilne/scaling-machine-learning-course/venv/lib/python3.8/site-packages (from langchain) (2.29.0)\n",
      "Requirement already satisfied: tenacity<9.0.0,>=8.1.0 in /Users/chang/Documents/dev/git/gratia/03_system/datapipeilne/scaling-machine-learning-course/venv/lib/python3.8/site-packages (from langchain) (8.2.2)\n",
      "Requirement already satisfied: tqdm>=4.48.0 in /Users/chang/Documents/dev/git/gratia/03_system/datapipeilne/scaling-machine-learning-course/venv/lib/python3.8/site-packages (from langchain) (4.65.0)\n",
      "Requirement already satisfied: pandas>=1.3 in /Users/chang/Documents/dev/git/gratia/03_system/datapipeilne/scaling-machine-learning-course/venv/lib/python3.8/site-packages (from chromadb) (2.0.1)\n",
      "Requirement already satisfied: hnswlib>=0.7 in /Users/chang/Documents/dev/git/gratia/03_system/datapipeilne/scaling-machine-learning-course/venv/lib/python3.8/site-packages (from chromadb) (0.7.0)\n",
      "Requirement already satisfied: clickhouse-connect>=0.5.7 in /Users/chang/Documents/dev/git/gratia/03_system/datapipeilne/scaling-machine-learning-course/venv/lib/python3.8/site-packages (from chromadb) (0.5.22)\n",
      "Requirement already satisfied: sentence-transformers>=2.2.2 in /Users/chang/Documents/dev/git/gratia/03_system/datapipeilne/scaling-machine-learning-course/venv/lib/python3.8/site-packages (from chromadb) (2.2.2)\n",
      "Requirement already satisfied: duckdb>=0.7.1 in /Users/chang/Documents/dev/git/gratia/03_system/datapipeilne/scaling-machine-learning-course/venv/lib/python3.8/site-packages (from chromadb) (0.7.1)\n",
      "Requirement already satisfied: fastapi>=0.85.1 in /Users/chang/Documents/dev/git/gratia/03_system/datapipeilne/scaling-machine-learning-course/venv/lib/python3.8/site-packages (from chromadb) (0.95.1)\n",
      "Requirement already satisfied: uvicorn[standard]>=0.18.3 in /Users/chang/Documents/dev/git/gratia/03_system/datapipeilne/scaling-machine-learning-course/venv/lib/python3.8/site-packages (from chromadb) (0.22.0)\n",
      "Requirement already satisfied: posthog>=2.4.0 in /Users/chang/Documents/dev/git/gratia/03_system/datapipeilne/scaling-machine-learning-course/venv/lib/python3.8/site-packages (from chromadb) (3.0.1)\n",
      "Requirement already satisfied: attrs>=17.3.0 in /Users/chang/Documents/dev/git/gratia/03_system/datapipeilne/scaling-machine-learning-course/venv/lib/python3.8/site-packages (from aiohttp<4.0.0,>=3.8.3->langchain) (23.1.0)\n",
      "Requirement already satisfied: charset-normalizer<4.0,>=2.0 in /Users/chang/Documents/dev/git/gratia/03_system/datapipeilne/scaling-machine-learning-course/venv/lib/python3.8/site-packages (from aiohttp<4.0.0,>=3.8.3->langchain) (3.1.0)\n",
      "Requirement already satisfied: multidict<7.0,>=4.5 in /Users/chang/Documents/dev/git/gratia/03_system/datapipeilne/scaling-machine-learning-course/venv/lib/python3.8/site-packages (from aiohttp<4.0.0,>=3.8.3->langchain) (6.0.4)\n",
      "Requirement already satisfied: yarl<2.0,>=1.0 in /Users/chang/Documents/dev/git/gratia/03_system/datapipeilne/scaling-machine-learning-course/venv/lib/python3.8/site-packages (from aiohttp<4.0.0,>=3.8.3->langchain) (1.9.2)\n",
      "Requirement already satisfied: frozenlist>=1.1.1 in /Users/chang/Documents/dev/git/gratia/03_system/datapipeilne/scaling-machine-learning-course/venv/lib/python3.8/site-packages (from aiohttp<4.0.0,>=3.8.3->langchain) (1.3.3)\n",
      "Requirement already satisfied: aiosignal>=1.1.2 in /Users/chang/Documents/dev/git/gratia/03_system/datapipeilne/scaling-machine-learning-course/venv/lib/python3.8/site-packages (from aiohttp<4.0.0,>=3.8.3->langchain) (1.3.1)\n",
      "Requirement already satisfied: certifi in /Users/chang/Documents/dev/git/gratia/03_system/datapipeilne/scaling-machine-learning-course/venv/lib/python3.8/site-packages (from clickhouse-connect>=0.5.7->chromadb) (2022.12.7)\n",
      "Requirement already satisfied: urllib3>=1.26 in /Users/chang/Documents/dev/git/gratia/03_system/datapipeilne/scaling-machine-learning-course/venv/lib/python3.8/site-packages (from clickhouse-connect>=0.5.7->chromadb) (1.26.15)\n",
      "Requirement already satisfied: pytz in /Users/chang/Documents/dev/git/gratia/03_system/datapipeilne/scaling-machine-learning-course/venv/lib/python3.8/site-packages (from clickhouse-connect>=0.5.7->chromadb) (2023.3)\n",
      "Requirement already satisfied: zstandard in /Users/chang/Documents/dev/git/gratia/03_system/datapipeilne/scaling-machine-learning-course/venv/lib/python3.8/site-packages (from clickhouse-connect>=0.5.7->chromadb) (0.21.0)\n",
      "Requirement already satisfied: lz4 in /Users/chang/Documents/dev/git/gratia/03_system/datapipeilne/scaling-machine-learning-course/venv/lib/python3.8/site-packages (from clickhouse-connect>=0.5.7->chromadb) (4.3.2)\n",
      "Requirement already satisfied: marshmallow<4.0.0,>=3.3.0 in /Users/chang/Documents/dev/git/gratia/03_system/datapipeilne/scaling-machine-learning-course/venv/lib/python3.8/site-packages (from dataclasses-json<0.6.0,>=0.5.7->langchain) (3.19.0)\n",
      "Requirement already satisfied: marshmallow-enum<2.0.0,>=1.5.1 in /Users/chang/Documents/dev/git/gratia/03_system/datapipeilne/scaling-machine-learning-course/venv/lib/python3.8/site-packages (from dataclasses-json<0.6.0,>=0.5.7->langchain) (1.5.1)\n",
      "Requirement already satisfied: typing-inspect>=0.4.0 in /Users/chang/Documents/dev/git/gratia/03_system/datapipeilne/scaling-machine-learning-course/venv/lib/python3.8/site-packages (from dataclasses-json<0.6.0,>=0.5.7->langchain) (0.8.0)\n",
      "Requirement already satisfied: starlette<0.27.0,>=0.26.1 in /Users/chang/Documents/dev/git/gratia/03_system/datapipeilne/scaling-machine-learning-course/venv/lib/python3.8/site-packages (from fastapi>=0.85.1->chromadb) (0.26.1)\n",
      "Requirement already satisfied: python-dateutil>=2.8.2 in /Users/chang/Documents/dev/git/gratia/03_system/datapipeilne/scaling-machine-learning-course/venv/lib/python3.8/site-packages (from pandas>=1.3->chromadb) (2.8.2)\n",
      "Requirement already satisfied: tzdata>=2022.1 in /Users/chang/Documents/dev/git/gratia/03_system/datapipeilne/scaling-machine-learning-course/venv/lib/python3.8/site-packages (from pandas>=1.3->chromadb) (2023.3)\n"
     ]
    },
    {
     "name": "stdout",
     "output_type": "stream",
     "text": [
      "Requirement already satisfied: six>=1.5 in /Users/chang/Documents/dev/git/gratia/03_system/datapipeilne/scaling-machine-learning-course/venv/lib/python3.8/site-packages (from posthog>=2.4.0->chromadb) (1.16.0)\n",
      "Requirement already satisfied: monotonic>=1.5 in /Users/chang/Documents/dev/git/gratia/03_system/datapipeilne/scaling-machine-learning-course/venv/lib/python3.8/site-packages (from posthog>=2.4.0->chromadb) (1.6)\n",
      "Requirement already satisfied: backoff>=1.10.0 in /Users/chang/Documents/dev/git/gratia/03_system/datapipeilne/scaling-machine-learning-course/venv/lib/python3.8/site-packages (from posthog>=2.4.0->chromadb) (2.2.1)\n",
      "Requirement already satisfied: typing-extensions>=4.2.0 in /Users/chang/Documents/dev/git/gratia/03_system/datapipeilne/scaling-machine-learning-course/venv/lib/python3.8/site-packages (from pydantic<2,>=1->langchain) (4.5.0)\n",
      "Requirement already satisfied: idna<4,>=2.5 in /Users/chang/Documents/dev/git/gratia/03_system/datapipeilne/scaling-machine-learning-course/venv/lib/python3.8/site-packages (from requests<3,>=2->langchain) (3.4)\n",
      "Requirement already satisfied: transformers<5.0.0,>=4.6.0 in /Users/chang/Documents/dev/git/gratia/03_system/datapipeilne/scaling-machine-learning-course/venv/lib/python3.8/site-packages (from sentence-transformers>=2.2.2->chromadb) (4.28.1)\n",
      "Requirement already satisfied: torch>=1.6.0 in /Users/chang/Documents/dev/git/gratia/03_system/datapipeilne/scaling-machine-learning-course/venv/lib/python3.8/site-packages (from sentence-transformers>=2.2.2->chromadb) (2.0.0)\n",
      "Requirement already satisfied: torchvision in /Users/chang/Documents/dev/git/gratia/03_system/datapipeilne/scaling-machine-learning-course/venv/lib/python3.8/site-packages (from sentence-transformers>=2.2.2->chromadb) (0.15.1)\n",
      "Requirement already satisfied: scikit-learn in /Users/chang/Documents/dev/git/gratia/03_system/datapipeilne/scaling-machine-learning-course/venv/lib/python3.8/site-packages (from sentence-transformers>=2.2.2->chromadb) (1.2.2)\n",
      "Requirement already satisfied: scipy in /Users/chang/Documents/dev/git/gratia/03_system/datapipeilne/scaling-machine-learning-course/venv/lib/python3.8/site-packages (from sentence-transformers>=2.2.2->chromadb) (1.10.1)\n",
      "Requirement already satisfied: nltk in /Users/chang/Documents/dev/git/gratia/03_system/datapipeilne/scaling-machine-learning-course/venv/lib/python3.8/site-packages (from sentence-transformers>=2.2.2->chromadb) (3.8.1)\n",
      "Requirement already satisfied: sentencepiece in /Users/chang/Documents/dev/git/gratia/03_system/datapipeilne/scaling-machine-learning-course/venv/lib/python3.8/site-packages (from sentence-transformers>=2.2.2->chromadb) (0.1.99)\n",
      "Requirement already satisfied: huggingface-hub>=0.4.0 in /Users/chang/Documents/dev/git/gratia/03_system/datapipeilne/scaling-machine-learning-course/venv/lib/python3.8/site-packages (from sentence-transformers>=2.2.2->chromadb) (0.14.1)\n",
      "Requirement already satisfied: greenlet!=0.4.17 in /Users/chang/Documents/dev/git/gratia/03_system/datapipeilne/scaling-machine-learning-course/venv/lib/python3.8/site-packages (from SQLAlchemy<3,>=1.3->langchain) (2.0.2)\n",
      "Requirement already satisfied: click>=7.0 in /Users/chang/Documents/dev/git/gratia/03_system/datapipeilne/scaling-machine-learning-course/venv/lib/python3.8/site-packages (from uvicorn[standard]>=0.18.3->chromadb) (8.1.3)\n",
      "Requirement already satisfied: h11>=0.8 in /Users/chang/Documents/dev/git/gratia/03_system/datapipeilne/scaling-machine-learning-course/venv/lib/python3.8/site-packages (from uvicorn[standard]>=0.18.3->chromadb) (0.14.0)\n",
      "Requirement already satisfied: httptools>=0.5.0 in /Users/chang/Documents/dev/git/gratia/03_system/datapipeilne/scaling-machine-learning-course/venv/lib/python3.8/site-packages (from uvicorn[standard]>=0.18.3->chromadb) (0.5.0)\n",
      "Requirement already satisfied: python-dotenv>=0.13 in /Users/chang/Documents/dev/git/gratia/03_system/datapipeilne/scaling-machine-learning-course/venv/lib/python3.8/site-packages (from uvicorn[standard]>=0.18.3->chromadb) (1.0.0)\n",
      "Requirement already satisfied: uvloop!=0.15.0,!=0.15.1,>=0.14.0 in /Users/chang/Documents/dev/git/gratia/03_system/datapipeilne/scaling-machine-learning-course/venv/lib/python3.8/site-packages (from uvicorn[standard]>=0.18.3->chromadb) (0.17.0)\n",
      "Requirement already satisfied: watchfiles>=0.13 in /Users/chang/Documents/dev/git/gratia/03_system/datapipeilne/scaling-machine-learning-course/venv/lib/python3.8/site-packages (from uvicorn[standard]>=0.18.3->chromadb) (0.19.0)\n",
      "Requirement already satisfied: websockets>=10.4 in /Users/chang/Documents/dev/git/gratia/03_system/datapipeilne/scaling-machine-learning-course/venv/lib/python3.8/site-packages (from uvicorn[standard]>=0.18.3->chromadb) (11.0.2)\n",
      "Requirement already satisfied: filelock in /Users/chang/Documents/dev/git/gratia/03_system/datapipeilne/scaling-machine-learning-course/venv/lib/python3.8/site-packages (from huggingface-hub>=0.4.0->sentence-transformers>=2.2.2->chromadb) (3.12.0)\n",
      "Requirement already satisfied: fsspec in /Users/chang/Documents/dev/git/gratia/03_system/datapipeilne/scaling-machine-learning-course/venv/lib/python3.8/site-packages (from huggingface-hub>=0.4.0->sentence-transformers>=2.2.2->chromadb) (2023.4.0)\n",
      "Requirement already satisfied: packaging>=20.9 in /Users/chang/Documents/dev/git/gratia/03_system/datapipeilne/scaling-machine-learning-course/venv/lib/python3.8/site-packages (from huggingface-hub>=0.4.0->sentence-transformers>=2.2.2->chromadb) (23.1)\n",
      "Requirement already satisfied: anyio<5,>=3.4.0 in /Users/chang/Documents/dev/git/gratia/03_system/datapipeilne/scaling-machine-learning-course/venv/lib/python3.8/site-packages (from starlette<0.27.0,>=0.26.1->fastapi>=0.85.1->chromadb) (3.6.2)\n",
      "Requirement already satisfied: sympy in /Users/chang/Documents/dev/git/gratia/03_system/datapipeilne/scaling-machine-learning-course/venv/lib/python3.8/site-packages (from torch>=1.6.0->sentence-transformers>=2.2.2->chromadb) (1.11.1)\n",
      "Requirement already satisfied: networkx in /Users/chang/Documents/dev/git/gratia/03_system/datapipeilne/scaling-machine-learning-course/venv/lib/python3.8/site-packages (from torch>=1.6.0->sentence-transformers>=2.2.2->chromadb) (3.1)\n",
      "Requirement already satisfied: jinja2 in /Users/chang/Documents/dev/git/gratia/03_system/datapipeilne/scaling-machine-learning-course/venv/lib/python3.8/site-packages (from torch>=1.6.0->sentence-transformers>=2.2.2->chromadb) (3.1.2)\n",
      "Requirement already satisfied: regex!=2019.12.17 in /Users/chang/Documents/dev/git/gratia/03_system/datapipeilne/scaling-machine-learning-course/venv/lib/python3.8/site-packages (from transformers<5.0.0,>=4.6.0->sentence-transformers>=2.2.2->chromadb) (2023.5.4)\n",
      "Requirement already satisfied: tokenizers!=0.11.3,<0.14,>=0.11.1 in /Users/chang/Documents/dev/git/gratia/03_system/datapipeilne/scaling-machine-learning-course/venv/lib/python3.8/site-packages (from transformers<5.0.0,>=4.6.0->sentence-transformers>=2.2.2->chromadb) (0.13.3)\n",
      "Requirement already satisfied: mypy-extensions>=0.3.0 in /Users/chang/Documents/dev/git/gratia/03_system/datapipeilne/scaling-machine-learning-course/venv/lib/python3.8/site-packages (from typing-inspect>=0.4.0->dataclasses-json<0.6.0,>=0.5.7->langchain) (1.0.0)\n",
      "Requirement already satisfied: joblib in /Users/chang/Documents/dev/git/gratia/03_system/datapipeilne/scaling-machine-learning-course/venv/lib/python3.8/site-packages (from nltk->sentence-transformers>=2.2.2->chromadb) (1.2.0)\n",
      "Requirement already satisfied: threadpoolctl>=2.0.0 in /Users/chang/Documents/dev/git/gratia/03_system/datapipeilne/scaling-machine-learning-course/venv/lib/python3.8/site-packages (from scikit-learn->sentence-transformers>=2.2.2->chromadb) (3.1.0)\n",
      "Requirement already satisfied: pillow!=8.3.*,>=5.3.0 in /Users/chang/Documents/dev/git/gratia/03_system/datapipeilne/scaling-machine-learning-course/venv/lib/python3.8/site-packages (from torchvision->sentence-transformers>=2.2.2->chromadb) (9.5.0)\n",
      "Requirement already satisfied: sniffio>=1.1 in /Users/chang/Documents/dev/git/gratia/03_system/datapipeilne/scaling-machine-learning-course/venv/lib/python3.8/site-packages (from anyio<5,>=3.4.0->starlette<0.27.0,>=0.26.1->fastapi>=0.85.1->chromadb) (1.3.0)\n"
     ]
    },
    {
     "name": "stdout",
     "output_type": "stream",
     "text": [
      "Requirement already satisfied: MarkupSafe>=2.0 in /Users/chang/Documents/dev/git/gratia/03_system/datapipeilne/scaling-machine-learning-course/venv/lib/python3.8/site-packages (from jinja2->torch>=1.6.0->sentence-transformers>=2.2.2->chromadb) (2.1.2)\n",
      "Requirement already satisfied: mpmath>=0.19 in /Users/chang/Documents/dev/git/gratia/03_system/datapipeilne/scaling-machine-learning-course/venv/lib/python3.8/site-packages (from sympy->torch>=1.6.0->sentence-transformers>=2.2.2->chromadb) (1.3.0)\n",
      "Note: you may need to restart the kernel to use updated packages.\n"
     ]
    }
   ],
   "source": [
    "%pip install langchain chromadb\n"
   ]
  },
  {
   "cell_type": "code",
   "execution_count": 30,
   "id": "4ab7663d",
   "metadata": {},
   "outputs": [
    {
     "name": "stdout",
     "output_type": "stream",
     "text": [
      "DONE\n"
     ]
    }
   ],
   "source": [
    "from sentence_transformers import SentenceTransformer\n",
    "\n",
    "from langchain.document_loaders import DataFrameLoader\n",
    "from langchain.embeddings import HuggingFaceEmbeddings\n",
    "from langchain.vectorstores import Chroma\n",
    "\n",
    "import mlflow\n",
    "\n",
    "import pandas as pd\n",
    "print('DONE')"
   ]
  },
  {
   "cell_type": "markdown",
   "id": "1660655b",
   "metadata": {},
   "source": [
    "## 4.1 Aggregate Data"
   ]
  },
  {
   "cell_type": "code",
   "execution_count": 31,
   "id": "fa297ac1",
   "metadata": {},
   "outputs": [
    {
     "data": {
      "text/html": [
       "<div>\n",
       "<style scoped>\n",
       "    .dataframe tbody tr th:only-of-type {\n",
       "        vertical-align: middle;\n",
       "    }\n",
       "\n",
       "    .dataframe tbody tr th {\n",
       "        vertical-align: top;\n",
       "    }\n",
       "\n",
       "    .dataframe thead th {\n",
       "        text-align: right;\n",
       "    }\n",
       "</style>\n",
       "<table border=\"1\" class=\"dataframe\">\n",
       "  <thead>\n",
       "    <tr style=\"text-align: right;\">\n",
       "      <th></th>\n",
       "      <th>product_id</th>\n",
       "      <th>product_name</th>\n",
       "      <th>product_text</th>\n",
       "    </tr>\n",
       "  </thead>\n",
       "  <tbody>\n",
       "    <tr>\n",
       "      <th>0</th>\n",
       "      <td>0</td>\n",
       "      <td>solid wood platform bed</td>\n",
       "      <td>good , deep sleep can be quite difficult to ha...</td>\n",
       "    </tr>\n",
       "    <tr>\n",
       "      <th>1</th>\n",
       "      <td>1</td>\n",
       "      <td>all-clad 7 qt . slow cooker</td>\n",
       "      <td>create delicious slow-cooked meals , from tend...</td>\n",
       "    </tr>\n",
       "    <tr>\n",
       "      <th>2</th>\n",
       "      <td>2</td>\n",
       "      <td>all-clad electrics 6.5 qt . slow cooker</td>\n",
       "      <td>prepare home-cooked meals on any schedule with...</td>\n",
       "    </tr>\n",
       "    <tr>\n",
       "      <th>3</th>\n",
       "      <td>3</td>\n",
       "      <td>all-clad all professional tools pizza cutter</td>\n",
       "      <td>this original stainless tool was designed to c...</td>\n",
       "    </tr>\n",
       "    <tr>\n",
       "      <th>4</th>\n",
       "      <td>4</td>\n",
       "      <td>baldwin prestige alcott passage knob with roun...</td>\n",
       "      <td>the hardware has a rich heritage of delivering...</td>\n",
       "    </tr>\n",
       "    <tr>\n",
       "      <th>...</th>\n",
       "      <td>...</td>\n",
       "      <td>...</td>\n",
       "      <td>...</td>\n",
       "    </tr>\n",
       "    <tr>\n",
       "      <th>42989</th>\n",
       "      <td>42989</td>\n",
       "      <td>malibu pressure balanced diverter fixed shower...</td>\n",
       "      <td>the malibu pressure balanced diverter fixed sh...</td>\n",
       "    </tr>\n",
       "    <tr>\n",
       "      <th>42990</th>\n",
       "      <td>42990</td>\n",
       "      <td>emmeline 5 piece breakfast dining set</td>\n",
       "      <td>emmeline 5 piece breakfast dining set</td>\n",
       "    </tr>\n",
       "    <tr>\n",
       "      <th>42991</th>\n",
       "      <td>42991</td>\n",
       "      <td>maloney 3 piece pub table set</td>\n",
       "      <td>this pub table set includes 1 counter height t...</td>\n",
       "    </tr>\n",
       "    <tr>\n",
       "      <th>42992</th>\n",
       "      <td>42992</td>\n",
       "      <td>fletcher 27.5 '' wide polyester armchair</td>\n",
       "      <td>bring iconic , modern style to your space in a...</td>\n",
       "    </tr>\n",
       "    <tr>\n",
       "      <th>42993</th>\n",
       "      <td>42993</td>\n",
       "      <td>griffin 29 '' bar stool</td>\n",
       "      <td>this set of two barstools features a minimalis...</td>\n",
       "    </tr>\n",
       "  </tbody>\n",
       "</table>\n",
       "<p>42994 rows × 3 columns</p>\n",
       "</div>"
      ],
      "text/plain": [
       "       product_id                                       product_name   \n",
       "0               0                            solid wood platform bed  \\\n",
       "1               1                        all-clad 7 qt . slow cooker   \n",
       "2               2            all-clad electrics 6.5 qt . slow cooker   \n",
       "3               3       all-clad all professional tools pizza cutter   \n",
       "4               4  baldwin prestige alcott passage knob with roun...   \n",
       "...           ...                                                ...   \n",
       "42989       42989  malibu pressure balanced diverter fixed shower...   \n",
       "42990       42990              emmeline 5 piece breakfast dining set   \n",
       "42991       42991                      maloney 3 piece pub table set   \n",
       "42992       42992           fletcher 27.5 '' wide polyester armchair   \n",
       "42993       42993                            griffin 29 '' bar stool   \n",
       "\n",
       "                                            product_text  \n",
       "0      good , deep sleep can be quite difficult to ha...  \n",
       "1      create delicious slow-cooked meals , from tend...  \n",
       "2      prepare home-cooked meals on any schedule with...  \n",
       "3      this original stainless tool was designed to c...  \n",
       "4      the hardware has a rich heritage of delivering...  \n",
       "...                                                  ...  \n",
       "42989  the malibu pressure balanced diverter fixed sh...  \n",
       "42990              emmeline 5 piece breakfast dining set  \n",
       "42991  this pub table set includes 1 counter height t...  \n",
       "42992  bring iconic , modern style to your space in a...  \n",
       "42993  this set of two barstools features a minimalis...  \n",
       "\n",
       "[42994 rows x 3 columns]"
      ]
     },
     "metadata": {},
     "output_type": "display_data"
    }
   ],
   "source": [
    "product_text_pd = (\n",
    "  spark\n",
    "    .table('products')\n",
    "    .selectExpr(\n",
    "      'product_id',\n",
    "      'product_name',\n",
    "      'COALESCE(product_description, product_name) as product_text' # use product description if available, otherwise name\n",
    "      )\n",
    "  ).toPandas()\n",
    "\n",
    "display(product_text_pd)"
   ]
  },
  {
   "cell_type": "markdown",
   "id": "5fa44b44",
   "metadata": {},
   "source": [
    "## 4.2 Convert product_text into embeddings\n",
    "- We will now convert our product text into embeddings.  The instructions for converting text into an embedding is captured in a language model.  The [*all-MiniLM-L12-v2* model](https://huggingface.co/sentence-transformers/all-MiniLM-L12-v2) is a *mini language model* (in contrast to a large language model) which has been trained on a large, well-rounded corpus of input text for good, balanced performance in a variety of document search scenarios.  The benefit of the *mini* language model as compared to a *large* language is that the *mini* model generates a more succinct embedding structure that facilitates faster search and lower overall resource utilization.  Given the limited breadth of the content in a product catalog, this is the best option of our needs:"
   ]
  },
  {
   "cell_type": "code",
   "execution_count": 33,
   "id": "f39f15cb",
   "metadata": {},
   "outputs": [
    {
     "data": {
      "application/vnd.jupyter.widget-view+json": {
       "model_id": "cd91bac3890c4389b3468b87c9f7764d",
       "version_major": 2,
       "version_minor": 0
      },
      "text/plain": [
       "Downloading (…)5dded/.gitattributes:   0%|          | 0.00/1.18k [00:00<?, ?B/s]"
      ]
     },
     "metadata": {},
     "output_type": "display_data"
    },
    {
     "data": {
      "application/vnd.jupyter.widget-view+json": {
       "model_id": "738f6189a22a42ebaa9e0d47ce8ccd9a",
       "version_major": 2,
       "version_minor": 0
      },
      "text/plain": [
       "Downloading (…)_Pooling/config.json:   0%|          | 0.00/190 [00:00<?, ?B/s]"
      ]
     },
     "metadata": {},
     "output_type": "display_data"
    },
    {
     "data": {
      "application/vnd.jupyter.widget-view+json": {
       "model_id": "ecd65e2d478e4b9b90dd13d7864cf7cf",
       "version_major": 2,
       "version_minor": 0
      },
      "text/plain": [
       "Downloading (…)4d81d5dded/README.md:   0%|          | 0.00/10.6k [00:00<?, ?B/s]"
      ]
     },
     "metadata": {},
     "output_type": "display_data"
    },
    {
     "data": {
      "application/vnd.jupyter.widget-view+json": {
       "model_id": "46a7122af46e41328a32404026a5141f",
       "version_major": 2,
       "version_minor": 0
      },
      "text/plain": [
       "Downloading (…)81d5dded/config.json:   0%|          | 0.00/573 [00:00<?, ?B/s]"
      ]
     },
     "metadata": {},
     "output_type": "display_data"
    },
    {
     "data": {
      "application/vnd.jupyter.widget-view+json": {
       "model_id": "51d7a7cdca0d4508aa3fcb90e7462015",
       "version_major": 2,
       "version_minor": 0
      },
      "text/plain": [
       "Downloading (…)ce_transformers.json:   0%|          | 0.00/116 [00:00<?, ?B/s]"
      ]
     },
     "metadata": {},
     "output_type": "display_data"
    },
    {
     "data": {
      "application/vnd.jupyter.widget-view+json": {
       "model_id": "2feab315097e49d983a8517e714361aa",
       "version_major": 2,
       "version_minor": 0
      },
      "text/plain": [
       "Downloading (…)ded/data_config.json:   0%|          | 0.00/39.3k [00:00<?, ?B/s]"
      ]
     },
     "metadata": {},
     "output_type": "display_data"
    },
    {
     "data": {
      "application/vnd.jupyter.widget-view+json": {
       "model_id": "78a2a69f2e454ccbbf64fb99461ece09",
       "version_major": 2,
       "version_minor": 0
      },
      "text/plain": [
       "Downloading pytorch_model.bin:   0%|          | 0.00/134M [00:00<?, ?B/s]"
      ]
     },
     "metadata": {},
     "output_type": "display_data"
    },
    {
     "data": {
      "application/vnd.jupyter.widget-view+json": {
       "model_id": "66c221c9a4b945998cdc5206c656bffd",
       "version_major": 2,
       "version_minor": 0
      },
      "text/plain": [
       "Downloading (…)nce_bert_config.json:   0%|          | 0.00/53.0 [00:00<?, ?B/s]"
      ]
     },
     "metadata": {},
     "output_type": "display_data"
    },
    {
     "data": {
      "application/vnd.jupyter.widget-view+json": {
       "model_id": "5c241c6b16254574aeab0efa31bd5c53",
       "version_major": 2,
       "version_minor": 0
      },
      "text/plain": [
       "Downloading (…)cial_tokens_map.json:   0%|          | 0.00/112 [00:00<?, ?B/s]"
      ]
     },
     "metadata": {},
     "output_type": "display_data"
    },
    {
     "data": {
      "application/vnd.jupyter.widget-view+json": {
       "model_id": "8f64dbf698de40aaa770c6fef393b9f3",
       "version_major": 2,
       "version_minor": 0
      },
      "text/plain": [
       "Downloading (…)5dded/tokenizer.json:   0%|          | 0.00/466k [00:00<?, ?B/s]"
      ]
     },
     "metadata": {},
     "output_type": "display_data"
    },
    {
     "data": {
      "application/vnd.jupyter.widget-view+json": {
       "model_id": "5cfff87e495241bba567a4a7539abf18",
       "version_major": 2,
       "version_minor": 0
      },
      "text/plain": [
       "Downloading (…)okenizer_config.json:   0%|          | 0.00/352 [00:00<?, ?B/s]"
      ]
     },
     "metadata": {},
     "output_type": "display_data"
    },
    {
     "data": {
      "application/vnd.jupyter.widget-view+json": {
       "model_id": "59e2b9f962ce4ce3bf9a699e307c67cd",
       "version_major": 2,
       "version_minor": 0
      },
      "text/plain": [
       "Downloading (…)dded/train_script.py:   0%|          | 0.00/13.2k [00:00<?, ?B/s]"
      ]
     },
     "metadata": {},
     "output_type": "display_data"
    },
    {
     "data": {
      "application/vnd.jupyter.widget-view+json": {
       "model_id": "41e6c6277e1e4684bed72f180b1b8841",
       "version_major": 2,
       "version_minor": 0
      },
      "text/plain": [
       "Downloading (…)4d81d5dded/vocab.txt:   0%|          | 0.00/232k [00:00<?, ?B/s]"
      ]
     },
     "metadata": {},
     "output_type": "display_data"
    },
    {
     "data": {
      "application/vnd.jupyter.widget-view+json": {
       "model_id": "c300bafdbf344e128d52f88d22fe7876",
       "version_major": 2,
       "version_minor": 0
      },
      "text/plain": [
       "Downloading (…)1d5dded/modules.json:   0%|          | 0.00/349 [00:00<?, ?B/s]"
      ]
     },
     "metadata": {},
     "output_type": "display_data"
    }
   ],
   "source": [
    "original_model = SentenceTransformer('all-MiniLM-L12-v2')\n"
   ]
  },
  {
   "cell_type": "code",
   "execution_count": 54,
   "id": "132a50f4",
   "metadata": {},
   "outputs": [
    {
     "name": "stdout",
     "output_type": "stream",
     "text": [
      "embedding_model_path=/Users/chang/Documents/dev/git/gratia/03_system/datapipeilne/scaling-machine-learning-course/db-product-search/work-dir/models/embedding_model\n"
     ]
    }
   ],
   "source": [
    "embedding_model_path = f\"{config['WANDS_MODEL_PATH']}/embedding_model\"\n",
    "print(f'embedding_model_path={embedding_model_path}')\n",
    "\n",
    "#!rm -rf {embedding_model_path}/*\n",
    "#!mkdir -p {embedding_model_path}\n",
    "\n",
    "original_model.save(embedding_model_path)\n"
   ]
  },
  {
   "cell_type": "markdown",
   "id": "4dd01079",
   "metadata": {},
   "source": [
    "## 4.3 Ingest into Vector DB"
   ]
  },
  {
   "cell_type": "markdown",
   "id": "242b9a2a",
   "metadata": {},
   "source": [
    "#### Reload the orignal sentence transformer using langchain wrapper"
   ]
  },
  {
   "cell_type": "code",
   "execution_count": 55,
   "id": "134723ed",
   "metadata": {},
   "outputs": [],
   "source": [
    "embedding_model = HuggingFaceEmbeddings(model_name=embedding_model_path)\n"
   ]
  },
  {
   "cell_type": "code",
   "execution_count": 60,
   "id": "a1ed7fcb",
   "metadata": {},
   "outputs": [
    {
     "data": {
      "text/plain": [
       "'/Users/chang/Documents/dev/git/gratia/03_system/datapipeilne/scaling-machine-learning-course/db-product-search/work-dir/wands/chromadb'"
      ]
     },
     "execution_count": 60,
     "metadata": {},
     "output_type": "execute_result"
    }
   ],
   "source": [
    "chromadb_path = f\"{config['dbfs_path']}/chromadb\"\n",
    "!mkdir -p {chromadb_path}\n",
    "chromadb_path"
   ]
  },
  {
   "cell_type": "code",
   "execution_count": 65,
   "id": "4bc16fde",
   "metadata": {},
   "outputs": [],
   "source": [
    "# Creat langcahin DataFrameLoader object\n",
    "documents = (\n",
    "  DataFrameLoader( #langchain.document_loaders.dataframe.DataFrameLoader\n",
    "    product_text_pd,\n",
    "    page_content_column='product_text'\n",
    "    )\n",
    "    .load()\n",
    "  )"
   ]
  },
  {
   "cell_type": "code",
   "execution_count": 66,
   "id": "ee897f92",
   "metadata": {},
   "outputs": [
    {
     "name": "stderr",
     "output_type": "stream",
     "text": [
      "WARNING:chromadb:Using embedded DuckDB with persistence: data will be stored in: /Users/chang/Documents/dev/git/gratia/03_system/datapipeilne/scaling-machine-learning-course/db-product-search/work-dir/wands/chromadb\n",
      "WARNING:chromadb.api.models.Collection:No embedding_function provided, using default embedding function: SentenceTransformerEmbeddingFunction\n"
     ]
    },
    {
     "data": {
      "application/vnd.jupyter.widget-view+json": {
       "model_id": "bcf78ac6ac544e93912edea05b9069c3",
       "version_major": 2,
       "version_minor": 0
      },
      "text/plain": [
       "Downloading (…)e9125/.gitattributes:   0%|          | 0.00/1.18k [00:00<?, ?B/s]"
      ]
     },
     "metadata": {},
     "output_type": "display_data"
    },
    {
     "data": {
      "application/vnd.jupyter.widget-view+json": {
       "model_id": "c8ec4bac7d3b41b18d431d6e23539314",
       "version_major": 2,
       "version_minor": 0
      },
      "text/plain": [
       "Downloading (…)_Pooling/config.json:   0%|          | 0.00/190 [00:00<?, ?B/s]"
      ]
     },
     "metadata": {},
     "output_type": "display_data"
    },
    {
     "data": {
      "application/vnd.jupyter.widget-view+json": {
       "model_id": "e006f5896f2e4cfa980b2809de8a1aad",
       "version_major": 2,
       "version_minor": 0
      },
      "text/plain": [
       "Downloading (…)7e55de9125/README.md:   0%|          | 0.00/10.6k [00:00<?, ?B/s]"
      ]
     },
     "metadata": {},
     "output_type": "display_data"
    },
    {
     "data": {
      "application/vnd.jupyter.widget-view+json": {
       "model_id": "568f0ef64e784ceaae3853420fd2edd0",
       "version_major": 2,
       "version_minor": 0
      },
      "text/plain": [
       "Downloading (…)55de9125/config.json:   0%|          | 0.00/612 [00:00<?, ?B/s]"
      ]
     },
     "metadata": {},
     "output_type": "display_data"
    },
    {
     "data": {
      "application/vnd.jupyter.widget-view+json": {
       "model_id": "a3ad5e9d53474e94a4180e1557bef8a6",
       "version_major": 2,
       "version_minor": 0
      },
      "text/plain": [
       "Downloading (…)ce_transformers.json:   0%|          | 0.00/116 [00:00<?, ?B/s]"
      ]
     },
     "metadata": {},
     "output_type": "display_data"
    },
    {
     "data": {
      "application/vnd.jupyter.widget-view+json": {
       "model_id": "2c8579f7dc4e4d8e9721fa4ba62c84d5",
       "version_major": 2,
       "version_minor": 0
      },
      "text/plain": [
       "Downloading (…)125/data_config.json:   0%|          | 0.00/39.3k [00:00<?, ?B/s]"
      ]
     },
     "metadata": {},
     "output_type": "display_data"
    },
    {
     "data": {
      "application/vnd.jupyter.widget-view+json": {
       "model_id": "d7d2ef944fa147078b130d76ad227da9",
       "version_major": 2,
       "version_minor": 0
      },
      "text/plain": [
       "Downloading pytorch_model.bin:   0%|          | 0.00/90.9M [00:00<?, ?B/s]"
      ]
     },
     "metadata": {},
     "output_type": "display_data"
    },
    {
     "data": {
      "application/vnd.jupyter.widget-view+json": {
       "model_id": "9cd971f72078406dbea60179e566c70f",
       "version_major": 2,
       "version_minor": 0
      },
      "text/plain": [
       "Downloading (…)nce_bert_config.json:   0%|          | 0.00/53.0 [00:00<?, ?B/s]"
      ]
     },
     "metadata": {},
     "output_type": "display_data"
    },
    {
     "data": {
      "application/vnd.jupyter.widget-view+json": {
       "model_id": "8a0fa55224f146dd9364afe9d72e99bb",
       "version_major": 2,
       "version_minor": 0
      },
      "text/plain": [
       "Downloading (…)cial_tokens_map.json:   0%|          | 0.00/112 [00:00<?, ?B/s]"
      ]
     },
     "metadata": {},
     "output_type": "display_data"
    },
    {
     "data": {
      "application/vnd.jupyter.widget-view+json": {
       "model_id": "b6c791bead6b41a78725accfea8de189",
       "version_major": 2,
       "version_minor": 0
      },
      "text/plain": [
       "Downloading (…)e9125/tokenizer.json:   0%|          | 0.00/466k [00:00<?, ?B/s]"
      ]
     },
     "metadata": {},
     "output_type": "display_data"
    },
    {
     "data": {
      "application/vnd.jupyter.widget-view+json": {
       "model_id": "f4f2cefeb2f041618baa60354495ccb5",
       "version_major": 2,
       "version_minor": 0
      },
      "text/plain": [
       "Downloading (…)okenizer_config.json:   0%|          | 0.00/350 [00:00<?, ?B/s]"
      ]
     },
     "metadata": {},
     "output_type": "display_data"
    },
    {
     "data": {
      "application/vnd.jupyter.widget-view+json": {
       "model_id": "5272a359875047639a96152c134738fd",
       "version_major": 2,
       "version_minor": 0
      },
      "text/plain": [
       "Downloading (…)9125/train_script.py:   0%|          | 0.00/13.2k [00:00<?, ?B/s]"
      ]
     },
     "metadata": {},
     "output_type": "display_data"
    },
    {
     "data": {
      "application/vnd.jupyter.widget-view+json": {
       "model_id": "3292221e200c41298d8a6ffeb986db7f",
       "version_major": 2,
       "version_minor": 0
      },
      "text/plain": [
       "Downloading (…)7e55de9125/vocab.txt:   0%|          | 0.00/232k [00:00<?, ?B/s]"
      ]
     },
     "metadata": {},
     "output_type": "display_data"
    },
    {
     "data": {
      "application/vnd.jupyter.widget-view+json": {
       "model_id": "d216842e0bdb4a2b8f68ac970f0f1b48",
       "version_major": 2,
       "version_minor": 0
      },
      "text/plain": [
       "Downloading (…)5de9125/modules.json:   0%|          | 0.00/349 [00:00<?, ?B/s]"
      ]
     },
     "metadata": {},
     "output_type": "display_data"
    }
   ],
   "source": [
    "# Generate Embeddings from Product Info\n",
    "# define logic for embeddings storage\n",
    "vectordb = Chroma.from_documents(\n",
    "  documents=documents, \n",
    "  embedding_model=embedding_model, \n",
    "  persist_directory=chromadb_path\n",
    "  )\n"
   ]
  },
  {
   "cell_type": "code",
   "execution_count": null,
   "id": "82b27770",
   "metadata": {},
   "outputs": [],
   "source": []
  },
  {
   "cell_type": "code",
   "execution_count": 67,
   "id": "8d17d0a1",
   "metadata": {},
   "outputs": [
    {
     "data": {
      "application/vnd.jupyter.widget-view+json": {
       "model_id": "692a0be8ec5945d694fae6a576a09392",
       "version_major": 2,
       "version_minor": 0
      },
      "text/plain": [
       "FloatProgress(value=0.0, layout=Layout(width='100%'), style=ProgressStyle(bar_color='black'))"
      ]
     },
     "metadata": {},
     "output_type": "display_data"
    },
    {
     "data": {
      "text/plain": [
       "42994"
      ]
     },
     "execution_count": 67,
     "metadata": {},
     "output_type": "execute_result"
    }
   ],
   "source": [
    "# persist vector db to storage\n",
    "# creates 2 parquet file; before we just had an index folder\n",
    "vectordb.persist()\n",
    "\n",
    "# DBTITLE 1,Count Items in Vector DB\n",
    "vectordb._collection.count()"
   ]
  },
  {
   "cell_type": "code",
   "execution_count": 68,
   "id": "7b950961",
   "metadata": {},
   "outputs": [
    {
     "name": "stdout",
     "output_type": "stream",
     "text": [
      "Metadatas:   [{'product_id': 41976, 'product_name': 'bradleigh 2 - drawer end table'}]\n",
      "Documents:   ['large countertops , clear storage : spacious countertops for everyday ornaments , cups , books , etc . thick and stable load plate : made of durable and durable plates , the load is more secure . firmly edge-sealing , carefully built : edge-sealing fit , not easy to lift , creating a rich home atmosphere . lifting table : creative design , change if you want , you can also use it as a desk , read books , play games , extraordinary experience . bring four wheels : move freely , save effort , and go wherever you want .']\n",
      "ids:         ['c2d0edc4-e9d1-11ed-a6bb-1e00d20ee484']\n",
      "embeddings:  [[-0.0447920486330986, 0.008601327426731586, -0.018501171842217445, 0.02558579109609127, -0.047929875552654266, -0.022731784731149673, 0.00840948149561882, 0.07353478670120239, 0.012087791226804256, 0.052916303277015686, -0.0822484940290451, -0.027594074606895447, -0.02226649969816208, 0.027811164036393166, -0.03621983900666237, -0.0614473931491375, 0.029041975736618042, -0.040896132588386536, 0.013593398965895176, 0.05129982903599739, 0.01811254769563675, -0.04356937110424042, 0.044909484684467316, -0.007932079024612904, 0.026058414950966835, 0.08857745677232742, -0.11833725869655609, 0.08540748804807663, 0.09297975897789001, -0.04759269952774048, 0.03171306103467941, -0.0358053520321846, -0.020945832133293152, -0.0018150944961234927, -0.028294924646615982, 0.04589180648326874, 0.03559399023652077, -0.0030388678424060345, -0.017530549317598343, -0.03687107935547829, -0.04297393187880516, -0.015060330741107464, 0.07241582125425339, 0.06825152784585953, -0.04553942382335663, 0.025569098070263863, -0.0188909862190485, 0.00641419505700469, -0.04165436699986458, -0.05177130177617073, 0.0903220921754837, 0.023348242044448853, 0.01091865636408329, -0.010444825515151024, -0.042401544749736786, 0.07573667168617249, 0.03655552491545677, -0.04931234195828438, -0.006966628599911928, 0.029056845232844353, 0.02485947124660015, 0.026445696130394936, 0.036941174417734146, 0.003654129570350051, -0.013335979543626308, 0.05392725020647049, -0.10113972425460815, 0.012791786342859268, -0.03073008358478546, 0.06007213145494461, 0.049957748502492905, -0.010735108517110348, -0.0335586778819561, 0.02005387470126152, -0.026675216853618622, -0.16254575550556183, -0.01083954144269228, -0.12915468215942383, -0.08296818286180496, 0.02302008680999279, -0.02878594771027565, 0.04098008573055267, -0.00014643989561591297, 0.0043644956313073635, -0.09838452935218811, -0.03416765481233597, -0.000592192227486521, -0.060663703829050064, -0.05625710263848305, -0.017957285046577454, 0.11425240337848663, 0.04616390913724899, -0.017858203500509262, 0.044048987329006195, -0.05863115191459656, 0.03198365494608879, -0.006316863000392914, 0.017243217676877975, -0.015146289020776749, 0.015239409171044827, 0.018275920301675797, 0.06901827454566956, 0.09536255896091461, 0.09673700481653214, -0.10422473400831223, -0.026054585352540016, 0.009260755963623524, -0.02831215411424637, -0.0481339767575264, -0.03290466591715813, -0.03393162041902542, -0.047585710883140564, -0.10512636601924896, 0.004848796874284744, -0.0986395925283432, -0.04897354170680046, -0.029403701424598694, -0.04786955192685127, 0.002221198519691825, -0.01674194261431694, 0.022573865950107574, -0.023515447974205017, -0.026094086468219757, -0.01169615238904953, 0.00028421645401977, 0.039709679782390594, 0.0831127017736435, -1.553297867834586e-33, -0.06039169803261757, 0.033636145293712616, -0.021872445940971375, 0.060978543013334274, 0.03532020375132561, -0.002247340977191925, 0.10250268876552582, 0.07686536014080048, -0.01903080940246582, 0.10902737826108932, 0.02946638874709606, 0.015997912734746933, -0.05186532065272331, 0.10303177684545517, 0.05693160742521286, 0.08605881035327911, -0.0182057972997427, 0.041982658207416534, -0.02979629673063755, -0.06394137442111969, -0.006252314895391464, 0.0020925106946378946, 0.07074077427387238, 0.03532944992184639, 0.03623431175947189, -0.07678450644016266, 0.011007634922862053, 0.04752996936440468, -0.011100894771516323, -0.006689735688269138, 0.06677883863449097, -0.03921718895435333, -0.0043732961639761925, -0.06530462950468063, -0.0306292325258255, 0.018032072111964226, -0.06799907237291336, -0.06988219916820526, 0.07258060574531555, -0.046005330979824066, -0.042424000799655914, 0.04598875716328621, 0.042076170444488525, 0.07917039096355438, 0.01974606141448021, 0.0010603879345580935, 0.055339328944683075, 0.011563846841454506, -0.10677609592676163, -0.026836883276700974, 0.0244442131370306, -0.008425205945968628, -0.022271696478128433, 0.048748552799224854, 0.0044486080296337605, -0.04746367037296295, -0.009819270111620426, -0.03540000692009926, 0.021978212520480156, 0.025774534791707993, 0.06585627049207687, 0.008560162037611008, -0.04881958290934563, 0.01982157677412033, 0.031114961951971054, 0.047807615250349045, 0.021563207730650902, 0.034551337361335754, 0.025248486548662186, -0.010167887434363365, -0.021370580419898033, -0.08822479099035263, 0.025414587929844856, 0.037232354283332825, 0.024609066545963287, 0.024762606248259544, -0.07495268434286118, -0.09958536922931671, -0.044639844447374344, -0.029923534020781517, 0.013014866039156914, 0.0023107430897653103, -0.05338166654109955, -0.023436088114976883, -0.037700995802879333, 0.00967228040099144, 0.05345696210861206, -0.08425769209861755, 0.05964917317032814, 0.018186036497354507, -0.008905057795345783, -0.02120952308177948, 0.03188583627343178, -0.004393585026264191, -0.12124133110046387, -5.424947295840647e-34, 0.020918186753988266, 0.022792404517531395, -0.10230254381895065, 0.012346316128969193, 0.028923841193318367, -0.013031317852437496, -0.09083829075098038, -0.0605795755982399, -0.022036070004105568, -0.00934950914233923, -0.051260195672512054, -0.015130573883652687, 0.03729495406150818, -0.02356952242553234, 0.0048279170878231525, -0.03478693589568138, 0.005810198839753866, 0.0019081317586824298, -0.0427684485912323, 0.005531316623091698, 0.089229516685009, 0.007456837687641382, -0.11891895532608032, 0.070212721824646, -0.03292492777109146, -0.040750619024038315, -0.14078779518604279, -0.08671752363443375, 0.08335106819868088, 0.09255523234605789, -0.107950858771801, -0.11391893029212952, 0.08147095888853073, 0.04537082463502884, -0.005167640279978514, -0.012114944867789745, 0.0326809287071228, 0.02687608264386654, 0.03159169480204582, 0.01604303903877735, 0.01072196289896965, 0.03472033143043518, 0.01226877048611641, 0.04097679257392883, 0.007799236103892326, -0.01361873373389244, -0.0717901661992073, 0.10934244841337204, 0.005010584834963083, -0.05082302540540695, 0.019039317965507507, 0.014711214229464531, 0.0062443953938782215, -0.014502312056720257, 0.07546519488096237, -0.005644344724714756, -0.005929637234658003, -0.04067445918917656, 0.02329985983669758, 0.0019292498473078012, -0.025160804390907288, 0.022731905803084373, 0.00662694126367569, 0.0735354796051979, 0.022618014365434647, -0.044044964015483856, -0.014836806803941727, -0.03407752886414528, -0.11731113493442535, 0.007040469907224178, -0.1333552747964859, -0.039674218744039536, 0.044981274753808975, 0.01932598277926445, -0.07075746357440948, 0.0026940021198242903, 0.018805619329214096, -0.03404820337891579, -0.024413160979747772, 0.04087011143565178, -0.03285977616906166, -0.05762190371751785, 0.07141005992889404, -0.0367216058075428, 0.01712700165808201, 0.08865606784820557, -0.030654342845082283, -0.015346839092671871, -0.01375417597591877, 0.0495745874941349, 0.031128033995628357, -0.0016256892122328281, -0.03295304253697395, 0.01811460591852665, 0.0228533074259758, -4.315868551429958e-08, 0.03282894939184189, -0.02372795157134533, 0.05800439044833183, -0.10380823165178299, -0.07240741699934006, -0.05224037542939186, 0.1121133416891098, 0.0729546844959259, 0.04499392211437225, 0.013626099564135075, 0.004061538726091385, 0.042783789336681366, -0.014430093578994274, 0.025270327925682068, 0.002795236650854349, 0.1105150356888771, -0.020920656621456146, 0.0517386756837368, -0.008957315236330032, 0.001399543252773583, 0.03785300999879837, -0.04815144091844559, 0.06842415034770966, -0.02565126307308674, -0.000727397738955915, -0.00864720344543457, -0.061319347470998764, 0.022198742255568504, 0.011092100292444229, 0.05813971534371376, 0.06447380781173706, -0.007354201283305883, 0.10503073036670685, 0.030971363186836243, 0.11390630900859833, 0.09707041084766388, -0.07673858851194382, -0.047730039805173874, -0.022430505603551865, -0.015038334764540195, -0.015508998185396194, 0.0002945900778286159, -0.08763395994901657, 0.006340084131807089, 0.04956900328397751, 0.009832292795181274, -0.08229230344295502, 0.06003464013338089, -0.05290452018380165, 0.05212012305855751, -0.04328659921884537, -0.07345481216907501, 0.011079434305429459, 0.023155605420470238, 0.023881101980805397, 0.0818895772099495, -0.024157730862498283, -0.027856452390551567, 0.06083265691995621, 0.07187563180923462, 0.09574208408594131, 0.006859058514237404, -0.009719045832753181, 0.035894595086574554]]\n"
     ]
    }
   ],
   "source": [
    "# Examine a Vector DB record\n",
    "rec= vectordb._collection.peek(1)\n",
    "\n",
    "print('Metadatas:  ', rec['metadatas'])\n",
    "print('Documents:  ', rec['documents'])\n",
    "print('ids:        ', rec['ids'])\n",
    "print('embeddings: ', rec['embeddings'])"
   ]
  },
  {
   "cell_type": "code",
   "execution_count": 69,
   "id": "640999eb",
   "metadata": {},
   "outputs": [
    {
     "data": {
      "text/plain": [
       "[(Document(page_content=\"children 's nylon educational and play area rug .\", metadata={'product_id': 42543, 'product_name': 'hartland abc barnyard power loomed green/red area rug'}),\n",
       "  0.4518544673919678),\n",
       " (Document(page_content='this modern and convenient rug combines contemporary colors , an elegant medallion pattern , a wood floor safe backing , and durable construction . the kid and pet safe materials easy to spot clean , making these rugs ideal for a busy family .', metadata={'product_id': 41810, 'product_name': 'nile tarifa bohemian medallion red area rug'}),\n",
       "  0.5379310846328735),\n",
       " (Document(page_content='this modern and convenient rug combines contemporary colors , an elegant medallion pattern , a wood floor safe backing , and durable construction . the kid and pet safe materials easy to spot clean , making these rugs ideal for a busy family .', metadata={'product_id': 41811, 'product_name': 'nile tarifa bohemian medallion yellow area rug'}),\n",
       "  0.5379310846328735),\n",
       " (Document(page_content='this modern and convenient rug combines contemporary colors , an elegant medallion pattern , a wood floor safe backing , and durable construction . the kid and pet safe materials are easy to spot clean , making these rugs ideal for a busy family .', metadata={'product_id': 41813, 'product_name': 'nile tarifa bohemian medallion gray area rug'}),\n",
       "  0.5403841733932495)]"
      ]
     },
     "execution_count": 69,
     "metadata": {},
     "output_type": "execute_result"
    }
   ],
   "source": [
    "# Perform Simple Search\n",
    "vectordb.similarity_search_with_score(\"kid-proof rug\")"
   ]
  },
  {
   "cell_type": "code",
   "execution_count": 70,
   "id": "289f630a",
   "metadata": {},
   "outputs": [
    {
     "data": {
      "text/plain": [
       "[(Document(page_content='decorative motorcycle', metadata={'product_id': 17819, 'product_name': 'decorative motorcycle'}),\n",
       "  1.1318777799606323),\n",
       " (Document(page_content=\"minimalist design that 's almost invisible features : smart , simple cycle storage for all bike styles . ideal for all bikes : children 's , ladies ' , gents ' and tandems . versatile - store bikes horizontally in left or right orientations . facility to lock the bike in place . perfect for the home , office or retail display . make efficient use of space with a tiered installation . suitable for clipless or platform pedals . discreet wheel rests protect walls from dirt and damage .\", metadata={'product_id': 8767, 'product_name': 'hero bicycle wall mount bike rack'}),\n",
       "  1.1497584581375122),\n",
       " (Document(page_content=\"minimalist design that 's almost invisible features : smart , simple cycle storage for all bike styles versatile - store bikes horizontally in left or right orientations . perfect for the home , office or retail display . make efficient use of space with a tiered installation . suitable for speedplay , look , and spd . compatible with speedplay zero , ultra light , pave and syzr . compatible with most clipless road and mtb pedals . not recommended for use with eggbeater pedals . discreet wheel rests protect walls from dirt and damage .\", metadata={'product_id': 8768, 'product_name': 'super hero bicycle wall mount bike rack'}),\n",
       "  1.1759713888168335),\n",
       " (Document(page_content=\"dirt bike rider on his bike getting ready to take off ! one of our many hobbies related ornaments perfect for kids and adults who enjoy different activities both indoor and outside ! do n't forget to customize with a name and the year !\", metadata={'product_id': 19136, 'product_name': 'dirt bike hanging figurine ornament'}),\n",
       "  1.2028961181640625)]"
      ]
     },
     "execution_count": 70,
     "metadata": {},
     "output_type": "execute_result"
    }
   ],
   "source": [
    "vectordb.similarity_search_with_score(\"bicyclist\")"
   ]
  },
  {
   "cell_type": "markdown",
   "id": "a4971c5f",
   "metadata": {},
   "source": [
    "## 4.4 Deploy Model Via MLFlow"
   ]
  },
  {
   "cell_type": "markdown",
   "id": "d9be6c0e",
   "metadata": {},
   "source": [
    "#### Define Environment Requirements\n"
   ]
  },
  {
   "cell_type": "code",
   "execution_count": 71,
   "id": "8d204720",
   "metadata": {},
   "outputs": [
    {
     "name": "stdout",
     "output_type": "stream",
     "text": [
      "{'name': 'mlflow-env', 'channels': ['conda-forge'], 'dependencies': ['python=3.8.3', 'pip<=23.1.2', {'pip': ['mlflow', 'cloudpickle==2.2.1', 'pandas==2.0.1', 'langchain==0.0.157', 'chromadb==0.3.21']}]}\n"
     ]
    }
   ],
   "source": [
    "import pandas\n",
    "import langchain\n",
    "import chromadb\n",
    "\n",
    "# get base environment configuration\n",
    "conda_env = mlflow.pyfunc.get_default_conda_env()\n",
    "\n",
    "# define packages required by model\n",
    "packages = [\n",
    "  f'pandas=={pandas.__version__}',\n",
    "  f'langchain=={langchain.__version__}',\n",
    "  f'chromadb=={chromadb.__version__}'\n",
    "  ]\n",
    "\n",
    "# add required packages to environment configuration\n",
    "conda_env['dependencies'][-1]['pip'] += packages\n",
    "\n",
    "print(\n",
    "  conda_env\n",
    "  )"
   ]
  },
  {
   "cell_type": "markdown",
   "id": "e2fadd99",
   "metadata": {},
   "source": [
    "#### Define artifacts\n",
    "1. Artifacts are assets stored with the model as it is logged with MLflow.  Using keys assigned to these artifacts, those assets can be retrieved for utilization at various points in the model's logic. \n",
    "\n",
    "2. The two artifacts needed for our model are the path to the saved model and the Chroma database, both of which were persisted to storage in previous steps.  Please note that these objects were saved to the *Databricks Filesystem* which MLflow understands how to reference.  As a result, we need to alter the paths to these items by replacing the local */dbfs* to *dbfs:*"
   ]
  },
  {
   "cell_type": "code",
   "execution_count": 72,
   "id": "aa26398b",
   "metadata": {},
   "outputs": [
    {
     "name": "stdout",
     "output_type": "stream",
     "text": [
      "{'embedding_model': '/Users/chang/Documents/dev/git/gratia/03_system/datapipeilne/scaling-machine-learning-course/db-product-search/work-dir/models/embedding_model', 'chromadb': '/Users/chang/Documents/dev/git/gratia/03_system/datapipeilne/scaling-machine-learning-course/db-product-search/work-dir/wands/chromadb'}\n"
     ]
    }
   ],
   "source": [
    "#Identify Model Artifacts\n",
    "artifacts = {\n",
    "  'embedding_model': embedding_model_path,#.replace('/dbfs','dbfs:'), \n",
    "  'chromadb': chromadb_path#.replace('/dbfs','dbfs:')\n",
    "  }\n",
    "\n",
    "print(\n",
    "  artifacts\n",
    "  )"
   ]
  },
  {
   "cell_type": "markdown",
   "id": "ea67a897",
   "metadata": {},
   "source": [
    "#### Define Model Wrapper class\n",
    "- In the Databricks environment, deployment typically takes place using [MLflow](https://www.databricks.com/product/managed-mlflow), which has the ability to build a containerized service from our model as one of its deployment patterns.  Generic Python models deployed with MLflow typically support a standard API with a *predict* method that's called for inference.  We will need to write a custom wrapper to map a standard interface to our model as follows:"
   ]
  },
  {
   "cell_type": "code",
   "execution_count": 73,
   "id": "1890a791",
   "metadata": {},
   "outputs": [],
   "source": [
    "class ProductSearchWrapper(mlflow.pyfunc.PythonModel):\n",
    "\n",
    "  # define steps to initialize model\n",
    "  # addresses the steps that need to take place at model initialization. Two of those steps make reference to artifacts within the model's context.\n",
    "  def load_context(self, context):\n",
    "\n",
    "    # import required libraries\n",
    "    import pandas as pd\n",
    "    from langchain.embeddings import HuggingFaceEmbeddings\n",
    "    from langchain.vectorstores import Chroma\n",
    "\n",
    "    # retrieve embedding model\n",
    "    embedding_model = HuggingFaceEmbeddings(model_name=context.artifacts['embedding_model'])\n",
    "\n",
    "    # retrieve vectordb contents\n",
    "    self._vectordb = Chroma(\n",
    "      persist_directory=context.artifacts['chromadb'],\n",
    "      embedding_function=embedding_model\n",
    "      )\n",
    "\n",
    "    # set number of results to return\n",
    "    self._max_results = 5\n",
    "\n",
    "\n",
    "  # define steps to generate results\n",
    "  # note: query_df expects only one query\n",
    "  def predict(self, context, query_df):\n",
    "\n",
    "    # import required libraries\n",
    "    import pandas as pd \n",
    "\n",
    "    # perform search on embeddings\n",
    "    raw_results = self._vectordb.similarity_search_with_score(\n",
    "      query_df['query'].values[0], # only expecting one value at a time \n",
    "      k=self._max_results\n",
    "      )\n",
    "\n",
    "    # get lists of of scores, descriptions and ids from raw results\n",
    "    scores, descriptions, names, ids = zip(\n",
    "      *[(r[1], r[0].page_content, r[0].metadata['product_name'], r[0].metadata['product_id']) for r in raw_results]\n",
    "      )\n",
    "\n",
    "    # reorganized results as a pandas df, sorted on score\n",
    "    results_pd = pd.DataFrame({\n",
    "      'product_id':ids,\n",
    "      'product_name':names,\n",
    "      'product_description':descriptions,\n",
    "      'score':scores\n",
    "      }).sort_values(axis=0, by='score', ascending=True)\n",
    "    \n",
    "    # set return value\n",
    "    return results_pd\n"
   ]
  },
  {
   "cell_type": "markdown",
   "id": "97fb92aa",
   "metadata": {},
   "source": [
    "#### Persist Model to MLFlow\n",
    "1. Notice that in this scenario, our embedding model and Chroma database are being loaded as artifacts and that our *python_model* is just the class definition that provides the logic for hydrating a model from those artifacts:\n",
    "\n",
    "2. If we use the experiments UI (accessible by clicking the flask icon in the right-hand navigation of your workspace), we can access the details surrounding the model we just logged.  By expanding the folder structure behind the model, we can see the model and vector store assets loaded into MLflow:\n",
    "\n"
   ]
  },
  {
   "cell_type": "code",
   "execution_count": null,
   "id": "7e9df3fc",
   "metadata": {},
   "outputs": [],
   "source": []
  },
  {
   "cell_type": "code",
   "execution_count": 78,
   "id": "d8a4d17f",
   "metadata": {},
   "outputs": [
    {
     "name": "stderr",
     "output_type": "stream",
     "text": [
      "Registered model 'wands_basic_search' already exists. Creating a new version of this model...\n",
      "2023/05/03 10:34:58 INFO mlflow.tracking._model_registry.client: Waiting up to 300 seconds for model version to finish creation. Model name: wands_basic_search, version 3\n",
      "Created version '3' of model 'wands_basic_search'.\n"
     ]
    }
   ],
   "source": [
    "# serialize the model to mlruns/models/version_*\n",
    "#.   each time I run the cmd below, it will create a new wands_basic_search versopm\n",
    "with mlflow.start_run() as run:\n",
    "\n",
    "    mlflow.pyfunc.log_model(\n",
    "        artifact_path='model',\n",
    "        python_model=ProductSearchWrapper(),\n",
    "        conda_env=conda_env,\n",
    "        artifacts=artifacts, # items at artifact path will be loaded into mlflow repository\n",
    "        registered_model_name=config['basic_model_name']\n",
    "    )"
   ]
  },
  {
   "cell_type": "markdown",
   "id": "c8dc6d4d",
   "metadata": {},
   "source": [
    "#### Elevate to production\n",
    "- In mlruns/models/wands_basic_search/version-*/meta.yaml. \n",
    "```\n",
    "    current_stage: None | Production\n",
    "```\n",
    "    * the models directory appears to be the \"model\" repository\n",
    "- The next command will update this meta.yaml file's stage to production\n",
    "\n",
    "- Loading our model, we can perform a simple test to see results from a sample search. \n",
    "\n"
   ]
  },
  {
   "cell_type": "code",
   "execution_count": 94,
   "id": "130efbf9",
   "metadata": {},
   "outputs": [
    {
     "data": {
      "text/plain": [
       "<ModelVersion: aliases=[], creation_timestamp=1683135298551, current_stage='Production', description=None, last_updated_timestamp=1683136187082, name='wands_basic_search', run_id='4602daae68fc4f7fa4a86a0397f40dcf', run_link=None, source='file:///Users/chang/Documents/dev/git/gratia/03_system/datapipeilne/scaling-machine-learning-course/db-product-search/mlruns/625849527336453425/4602daae68fc4f7fa4a86a0397f40dcf/artifacts/model', status='READY', status_message=None, tags={}, user_id=None, version=3>"
      ]
     },
     "execution_count": 94,
     "metadata": {},
     "output_type": "execute_result"
    }
   ],
   "source": [
    "client = mlflow.MlflowClient()\n",
    "\n",
    "latest_version = client.get_latest_versions(config['basic_model_name'], stages=['None'])[0].version\n",
    "\n",
    "client.transition_model_version_stage(\n",
    "    name=config['basic_model_name'],\n",
    "    version=latest_version,\n",
    "    stage='Production',\n",
    "    archive_existing_versions=True\n",
    ")\n"
   ]
  },
  {
   "cell_type": "markdown",
   "id": "40f5b686",
   "metadata": {},
   "source": [
    "#### Retrieve model from registry\n"
   ]
  },
  {
   "cell_type": "code",
   "execution_count": 95,
   "id": "86cf650e",
   "metadata": {},
   "outputs": [
    {
     "name": "stderr",
     "output_type": "stream",
     "text": [
      "WARNING:chromadb:Using embedded DuckDB with persistence: data will be stored in: /Users/chang/Documents/dev/git/gratia/03_system/datapipeilne/scaling-machine-learning-course/db-product-search/mlruns/625849527336453425/4602daae68fc4f7fa4a86a0397f40dcf/artifacts/model/artifacts/chromadb\n"
     ]
    }
   ],
   "source": [
    "# appears load_model has a context directory of your current experiment, probably set by mlflow.pyfunc.log_model\n",
    "model = mlflow.pyfunc.load_model(f\"models:/{config['basic_model_name']}/Production\")\n"
   ]
  },
  {
   "cell_type": "code",
   "execution_count": 96,
   "id": "22e1a347",
   "metadata": {},
   "outputs": [
    {
     "data": {
      "text/html": [
       "<div>\n",
       "<style scoped>\n",
       "    .dataframe tbody tr th:only-of-type {\n",
       "        vertical-align: middle;\n",
       "    }\n",
       "\n",
       "    .dataframe tbody tr th {\n",
       "        vertical-align: top;\n",
       "    }\n",
       "\n",
       "    .dataframe thead th {\n",
       "        text-align: right;\n",
       "    }\n",
       "</style>\n",
       "<table border=\"1\" class=\"dataframe\">\n",
       "  <thead>\n",
       "    <tr style=\"text-align: right;\">\n",
       "      <th></th>\n",
       "      <th>product_id</th>\n",
       "      <th>product_name</th>\n",
       "      <th>product_description</th>\n",
       "      <th>score</th>\n",
       "    </tr>\n",
       "  </thead>\n",
       "  <tbody>\n",
       "    <tr>\n",
       "      <th>0</th>\n",
       "      <td>14562</td>\n",
       "      <td>rustic dining table</td>\n",
       "      <td>rustic dining table</td>\n",
       "      <td>1.022571</td>\n",
       "    </tr>\n",
       "    <tr>\n",
       "      <th>1</th>\n",
       "      <td>14783</td>\n",
       "      <td>industrial solid wood dining table</td>\n",
       "      <td>gather family and friends for good food and go...</td>\n",
       "      <td>1.030153</td>\n",
       "    </tr>\n",
       "    <tr>\n",
       "      <th>2</th>\n",
       "      <td>22297</td>\n",
       "      <td>norman dining table</td>\n",
       "      <td>norman dining table</td>\n",
       "      <td>1.064149</td>\n",
       "    </tr>\n",
       "    <tr>\n",
       "      <th>3</th>\n",
       "      <td>23646</td>\n",
       "      <td>lockard extendable dining table</td>\n",
       "      <td>anchor your dining room in modern farmhouse st...</td>\n",
       "      <td>1.092422</td>\n",
       "    </tr>\n",
       "    <tr>\n",
       "      <th>4</th>\n",
       "      <td>13935</td>\n",
       "      <td>marceline 40 '' console table</td>\n",
       "      <td>farmhouse inspired design will add a charming ...</td>\n",
       "      <td>1.094104</td>\n",
       "    </tr>\n",
       "  </tbody>\n",
       "</table>\n",
       "</div>"
      ],
      "text/plain": [
       "   product_id                        product_name   \n",
       "0       14562                 rustic dining table  \\\n",
       "1       14783  industrial solid wood dining table   \n",
       "2       22297                 norman dining table   \n",
       "3       23646     lockard extendable dining table   \n",
       "4       13935       marceline 40 '' console table   \n",
       "\n",
       "                                 product_description     score  \n",
       "0                                rustic dining table  1.022571  \n",
       "1  gather family and friends for good food and go...  1.030153  \n",
       "2                                norman dining table  1.064149  \n",
       "3  anchor your dining room in modern farmhouse st...  1.092422  \n",
       "4  farmhouse inspired design will add a charming ...  1.094104  "
      ]
     },
     "metadata": {},
     "output_type": "display_data"
    }
   ],
   "source": [
    "# Test Persisted Model with Sample Search\n",
    "search = pd.DataFrame({'query':['farmhouse dining room table']})\n",
    "\n",
    "# call model\n",
    "display(model.predict(search))"
   ]
  },
  {
   "cell_type": "code",
   "execution_count": null,
   "id": "b98520e7",
   "metadata": {},
   "outputs": [],
   "source": []
  },
  {
   "cell_type": "markdown",
   "id": "98ab9dd4",
   "metadata": {},
   "source": [
    "# 5 Fine Tune\n",
    "- Based on 03_Fine_Tune_Model.py\n",
    "- Having demonstrated the basics of assembling a model and supporting data to enable a semantic search, we will now focus on fine-tuning the model.  During fine-tuning, the model is fit against a set of data specific to a particular domain, such as our product catalog.  The original knowledge accumulated by our model from its pre-training remains intact but is supplemented with information gleaned from the additional data provided.  Once the model has been tuned to our satisfaction, it is packaged and persisted just like as before."
   ]
  },
  {
   "cell_type": "code",
   "execution_count": 97,
   "id": "67842c00",
   "metadata": {},
   "outputs": [],
   "source": [
    "from sentence_transformers import SentenceTransformer, util, InputExample, losses, evaluation\n",
    "import torch\n",
    "from torch.utils.data import DataLoader\n",
    "\n",
    "from langchain.document_loaders import DataFrameLoader\n",
    "from langchain.embeddings import HuggingFaceEmbeddings\n",
    "from langchain.vectorstores import Chroma\n",
    "\n",
    "import numpy as np\n",
    "import pandas as pd\n",
    "\n",
    "import mlflow"
   ]
  },
  {
   "cell_type": "markdown",
   "id": "201b561c",
   "metadata": {},
   "source": [
    "## 5.1 Aggregate product, labels, and query"
   ]
  },
  {
   "cell_type": "code",
   "execution_count": 100,
   "id": "355865ec",
   "metadata": {},
   "outputs": [
    {
     "data": {
      "text/html": [
       "<div>\n",
       "<style scoped>\n",
       "    .dataframe tbody tr th:only-of-type {\n",
       "        vertical-align: middle;\n",
       "    }\n",
       "\n",
       "    .dataframe tbody tr th {\n",
       "        vertical-align: top;\n",
       "    }\n",
       "\n",
       "    .dataframe thead th {\n",
       "        text-align: right;\n",
       "    }\n",
       "</style>\n",
       "<table border=\"1\" class=\"dataframe\">\n",
       "  <thead>\n",
       "    <tr style=\"text-align: right;\">\n",
       "      <th></th>\n",
       "      <th>query</th>\n",
       "      <th>product_text</th>\n",
       "      <th>score</th>\n",
       "    </tr>\n",
       "  </thead>\n",
       "  <tbody>\n",
       "    <tr>\n",
       "      <th>0</th>\n",
       "      <td>hardwood beds</td>\n",
       "      <td>good , deep sleep can be quite difficult to ha...</td>\n",
       "      <td>1.00</td>\n",
       "    </tr>\n",
       "    <tr>\n",
       "      <th>1</th>\n",
       "      <td>jennie tufted upholstered low profile platform...</td>\n",
       "      <td>good , deep sleep can be quite difficult to ha...</td>\n",
       "      <td>0.75</td>\n",
       "    </tr>\n",
       "    <tr>\n",
       "      <th>2</th>\n",
       "      <td>platform bed side table</td>\n",
       "      <td>good , deep sleep can be quite difficult to ha...</td>\n",
       "      <td>0.75</td>\n",
       "    </tr>\n",
       "    <tr>\n",
       "      <th>3</th>\n",
       "      <td>floating bed</td>\n",
       "      <td>good , deep sleep can be quite difficult to ha...</td>\n",
       "      <td>0.75</td>\n",
       "    </tr>\n",
       "    <tr>\n",
       "      <th>4</th>\n",
       "      <td>upholstered bed</td>\n",
       "      <td>good , deep sleep can be quite difficult to ha...</td>\n",
       "      <td>0.75</td>\n",
       "    </tr>\n",
       "    <tr>\n",
       "      <th>...</th>\n",
       "      <td>...</td>\n",
       "      <td>...</td>\n",
       "      <td>...</td>\n",
       "    </tr>\n",
       "    <tr>\n",
       "      <th>233443</th>\n",
       "      <td>wood bar stools</td>\n",
       "      <td>this set of two barstools features a minimalis...</td>\n",
       "      <td>0.75</td>\n",
       "    </tr>\n",
       "    <tr>\n",
       "      <th>233444</th>\n",
       "      <td>wine bar</td>\n",
       "      <td>this set of two barstools features a minimalis...</td>\n",
       "      <td>0.00</td>\n",
       "    </tr>\n",
       "    <tr>\n",
       "      <th>233445</th>\n",
       "      <td>bar stool 24 inches height</td>\n",
       "      <td>this set of two barstools features a minimalis...</td>\n",
       "      <td>0.75</td>\n",
       "    </tr>\n",
       "    <tr>\n",
       "      <th>233446</th>\n",
       "      <td>bar stool with backrest</td>\n",
       "      <td>this set of two barstools features a minimalis...</td>\n",
       "      <td>0.75</td>\n",
       "    </tr>\n",
       "    <tr>\n",
       "      <th>233447</th>\n",
       "      <td>overstreet rustic pub stools</td>\n",
       "      <td>this set of two barstools features a minimalis...</td>\n",
       "      <td>0.75</td>\n",
       "    </tr>\n",
       "  </tbody>\n",
       "</table>\n",
       "<p>233448 rows × 3 columns</p>\n",
       "</div>"
      ],
      "text/plain": [
       "                                                    query   \n",
       "0                                           hardwood beds  \\\n",
       "1       jennie tufted upholstered low profile platform...   \n",
       "2                                 platform bed side table   \n",
       "3                                            floating bed   \n",
       "4                                         upholstered bed   \n",
       "...                                                   ...   \n",
       "233443                                    wood bar stools   \n",
       "233444                                           wine bar   \n",
       "233445                         bar stool 24 inches height   \n",
       "233446                            bar stool with backrest   \n",
       "233447                       overstreet rustic pub stools   \n",
       "\n",
       "                                             product_text  score  \n",
       "0       good , deep sleep can be quite difficult to ha...   1.00  \n",
       "1       good , deep sleep can be quite difficult to ha...   0.75  \n",
       "2       good , deep sleep can be quite difficult to ha...   0.75  \n",
       "3       good , deep sleep can be quite difficult to ha...   0.75  \n",
       "4       good , deep sleep can be quite difficult to ha...   0.75  \n",
       "...                                                   ...    ...  \n",
       "233443  this set of two barstools features a minimalis...   0.75  \n",
       "233444  this set of two barstools features a minimalis...   0.00  \n",
       "233445  this set of two barstools features a minimalis...   0.75  \n",
       "233446  this set of two barstools features a minimalis...   0.75  \n",
       "233447  this set of two barstools features a minimalis...   0.75  \n",
       "\n",
       "[233448 rows x 3 columns]"
      ]
     },
     "metadata": {},
     "output_type": "display_data"
    }
   ],
   "source": [
    "search_pd = (\n",
    "  spark   \n",
    "    .table('products')\n",
    "    .selectExpr(\n",
    "      'product_id',\n",
    "      'product_name',\n",
    "      'COALESCE(product_description, product_name) as product_text' # use product description if available, otherwise name\n",
    "      )\n",
    "    .join(\n",
    "        df_label, #spark.table('labels'),\n",
    "        on='product_id'\n",
    "      )\n",
    "    .join(\n",
    "      spark\n",
    "        .table('queries'),\n",
    "        on='query_id'\n",
    "      )\n",
    "      .selectExpr('query','product_text','label_score as score')\n",
    "  ).toPandas()\n",
    "\n",
    "display(search_pd)"
   ]
  },
  {
   "cell_type": "markdown",
   "id": "bc6aa7d9",
   "metadata": {},
   "source": [
    "## 5.2 Embed product, query, and label"
   ]
  },
  {
   "cell_type": "code",
   "execution_count": null,
   "id": "5cb83c85",
   "metadata": {},
   "outputs": [],
   "source": [
    "original_model = SentenceTransformer('all-MiniLM-L12-v2')\n",
    "\n",
    "\n"
   ]
  },
  {
   "cell_type": "code",
   "execution_count": null,
   "id": "80a05751",
   "metadata": {},
   "outputs": [],
   "source": [
    "query_embeddings = (\n",
    "  original_model\n",
    "    .encode(\n",
    "      search_pd['query'].tolist()\n",
    "      )\n",
    "  )\n"
   ]
  },
  {
   "cell_type": "code",
   "execution_count": null,
   "id": "f43917b8",
   "metadata": {},
   "outputs": [],
   "source": [
    "product_embeddings = (\n",
    "  original_model\n",
    "    .encode(\n",
    "      search_pd['product_text'].tolist()\n",
    "      )\n",
    "  )\n"
   ]
  },
  {
   "cell_type": "markdown",
   "id": "893a680b",
   "metadata": {},
   "source": [
    "#### Calculate cosine similarity between Queries and Products"
   ]
  },
  {
   "cell_type": "code",
   "execution_count": null,
   "id": "f2aedebb",
   "metadata": {},
   "outputs": [],
   "source": [
    "original_cos_sim_scores = (\n",
    "  util.pairwise_cos_sim(\n",
    "    query_embeddings, \n",
    "    product_embeddings\n",
    "    )\n",
    "  )\n",
    "print(original_cos_sim_score)\n"
   ]
  },
  {
   "cell_type": "markdown",
   "id": "2bf8ff64",
   "metadata": {},
   "source": [
    "#### Analyze correlation between cosine similarity and human relevancy score"
   ]
  },
  {
   "cell_type": "code",
   "execution_count": null,
   "id": "12e4e2a7",
   "metadata": {},
   "outputs": [],
   "source": [
    "original_corr_coef_score = (\n",
    "  np.corrcoef(\n",
    "    original_cos_sim_scores,\n",
    "    search_pd['score'].values\n",
    "  )[0][1]\n",
    ") \n",
    "# print results\n",
    "print(original_corr_coef_score)"
   ]
  },
  {
   "cell_type": "code",
   "execution_count": null,
   "id": "0233d979",
   "metadata": {},
   "outputs": [],
   "source": []
  },
  {
   "cell_type": "markdown",
   "id": "8093a039",
   "metadata": {},
   "source": [
    "## 5.3 Fine Tune Model\n",
    "- With a baseline measurement of the original model's performance in-hand, we can now fine-tune it using our annotated search result data.  We will start by restructuring our query results into a list of inputs as required by the model:"
   ]
  },
  {
   "cell_type": "markdown",
   "id": "2f5a86c2",
   "metadata": {},
   "source": [
    "#### Restructure Data for Model Input"
   ]
  },
  {
   "cell_type": "code",
   "execution_count": null,
   "id": "e189b894",
   "metadata": {},
   "outputs": [],
   "source": [
    "# define function to assemble an input\n",
    "def create_input(doc1, doc2, score):\n",
    "  return InputExample(texts=[doc1, doc2], label=score)\n",
    "\n",
    "# convert each search result into an input\n",
    "inputs = search_pd.apply(\n",
    "  lambda s: create_input(s['query'], s['product_text'], s['score']), axis=1\n",
    "  ).to_list()\n",
    "\n",
    "inputs"
   ]
  },
  {
   "cell_type": "markdown",
   "id": "16c193cd",
   "metadata": {},
   "source": [
    "#### Train and tune a new model\n",
    "- During model fitting, you will notice we are setting the model to perform just one pass (epoch) over the data.  We will actually see pretty sizeable improvements from this process, but we may wish to increase that value to get multiple passes if we want to explore getting more.  The setting for *warmup_steps* is just a common one used in this space.  Feel free to experiment with other values or take the default."
   ]
  },
  {
   "cell_type": "code",
   "execution_count": null,
   "id": "060727e8",
   "metadata": {},
   "outputs": [],
   "source": [
    "tuned_model = SentenceTransformer('all-MiniLM-L12-v2')\n",
    "\n",
    "# define instructions for feeding inputs to model\n",
    "input_dataloader = DataLoader(inputs, shuffle=True, batch_size=16) # feed 16 records at a time to the model\n",
    "\n",
    "# define loss metric to optimize for\n",
    "loss = losses.CosineSimilarityLoss(tuned_model)\n",
    "\n",
    "# tune the model on the input data\n",
    "tuned_model.fit(\n",
    "  train_objectives=[(input_dataloader, loss)],\n",
    "  epochs=1, # just make 1 pass over data\n",
    "  warmup_steps=100 # controls how many steps over which learning rate increases to max before descending back to zero\n",
    "  )\n"
   ]
  },
  {
   "cell_type": "markdown",
   "id": "dffaeea1",
   "metadata": {},
   "source": [
    "#### Estimate Tune Model Performance"
   ]
  },
  {
   "cell_type": "code",
   "execution_count": null,
   "id": "d6484909",
   "metadata": {},
   "outputs": [],
   "source": [
    "query_embeddings = (\n",
    "  tuned_model\n",
    "    .encode(\n",
    "      search_pd['query'].tolist()\n",
    "      )\n",
    "  )\n",
    "\n",
    "product_embeddings = (\n",
    "  tuned_model\n",
    "    .encode(\n",
    "      search_pd['product_text'].tolist()\n",
    "      )\n",
    "  )\n",
    "\n",
    "# determine cosine similarity for each query-product pair\n",
    "tuned_cos_sim_scores = (\n",
    "  util.pairwise_cos_sim(\n",
    "    query_embeddings, \n",
    "    product_embeddings\n",
    "    )\n",
    "  )\n",
    "\n",
    "tuned_cos_sim_score = torch.mean(tuned_cos_sim_scores).item()\n",
    "\n",
    "# display result\n",
    "print(f\"With tuning, avg cosine similarity went from {original_cos_sim_score} to {tuned_cos_sim_score}\")\n"
   ]
  },
  {
   "cell_type": "markdown",
   "id": "bc2b9259",
   "metadata": {},
   "source": [
    "## 5.4 Deploy Fine Tuned Model"
   ]
  },
  {
   "cell_type": "code",
   "execution_count": null,
   "id": "b06f2be6",
   "metadata": {},
   "outputs": [],
   "source": []
  },
  {
   "cell_type": "code",
   "execution_count": null,
   "id": "0cbadabb",
   "metadata": {},
   "outputs": [],
   "source": []
  }
 ],
 "metadata": {
  "kernelspec": {
   "display_name": "Python 3 (ipykernel)",
   "language": "python",
   "name": "python3"
  },
  "language_info": {
   "codemirror_mode": {
    "name": "ipython",
    "version": 3
   },
   "file_extension": ".py",
   "mimetype": "text/x-python",
   "name": "python",
   "nbconvert_exporter": "python",
   "pygments_lexer": "ipython3",
   "version": "3.8.3"
  }
 },
 "nbformat": 4,
 "nbformat_minor": 5
}
